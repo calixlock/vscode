{
 "cells": [
  {
   "cell_type": "code",
   "execution_count": 12,
   "source": [
    "n=3\r\n",
    "l=[1,2,3]\r\n",
    "r=[3]\r\n",
    "def solution(n,l,r):\r\n",
    "    lost = set(l)-set(r)\r\n",
    "    reserve = set(r)-set(l)\r\n",
    "    # print(\"lost = {0} , reserve = {1}\".format(lost,reserve))\r\n",
    "    for i in reserve:\r\n",
    "        if i-1 in lost:\r\n",
    "            lost.remove(i-1)\r\n",
    "            # print(i-1)\r\n",
    "        elif i+1 in lost:\r\n",
    "            lost.remove(i+1)\r\n",
    "            # print(i+1)\r\n",
    "    # print(\"lost = {0} , reserve = {1}\".format(lost,reserve))\r\n",
    "    return n-len(lost)\r\n",
    "\r\n",
    "solution(n,l,r)\r\n",
    "\r\n",
    "# def solution(n,l,r):\r\n",
    "#     a = n-len(l)+len(r)\r\n",
    "#     if a >= n:\r\n",
    "#         a = n\r\n",
    "#     return a\r\n",
    "# solution(n,l,r)"
   ],
   "outputs": [
    {
     "output_type": "execute_result",
     "data": {
      "text/plain": [
       "1"
      ]
     },
     "metadata": {},
     "execution_count": 12
    }
   ],
   "metadata": {}
  }
 ],
 "metadata": {
  "orig_nbformat": 4,
  "language_info": {
   "name": "python",
   "version": "3.9.6",
   "mimetype": "text/x-python",
   "codemirror_mode": {
    "name": "ipython",
    "version": 3
   },
   "pygments_lexer": "ipython3",
   "nbconvert_exporter": "python",
   "file_extension": ".py"
  },
  "kernelspec": {
   "name": "python3",
   "display_name": "Python 3.9.6 64-bit"
  },
  "interpreter": {
   "hash": "5e6cf233532fef7a60818365bc09bf646f1631a7b8364b595673d05f90179487"
  }
 },
 "nbformat": 4,
 "nbformat_minor": 2
}