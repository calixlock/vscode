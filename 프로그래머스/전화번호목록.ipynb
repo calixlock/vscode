{
 "cells": [
  {
   "cell_type": "code",
   "execution_count": 21,
   "source": [
    "p0 = [\"119\", \"97674223\", \"1195524421\"]\t\r\n",
    "p1 = [\"123\",\"456\",\"789\"]\r\n",
    "p2 = [\"12\",\"123\",\"1235\",\"567\",\"88\"]\r\n",
    "# for i in range(len(p0)):\r\n",
    "# for i in p0:"
   ],
   "outputs": [
    {
     "output_type": "execute_result",
     "data": {
      "text/plain": [
       "['12', '123', '1235', '133', '567', '88']"
      ]
     },
     "metadata": {},
     "execution_count": 21
    }
   ],
   "metadata": {}
  },
  {
   "cell_type": "code",
   "execution_count": 25,
   "source": [
    "def s(phone):\r\n",
    "    for i in range(len(phone)):\r\n",
    "        a = len(phone[i])\r\n",
    "        \r\n",
    "        for j in range(i+1, len(phone)):\r\n",
    "            b = len(phone[j])\r\n",
    "            if phone[i] in phone[j][:a] or phone[j] in phone[i][:b] :\r\n",
    "                return False\r\n",
    "    return True    \r\n",
    "\r\n",
    "s(p2)\r\n"
   ],
   "outputs": [
    {
     "output_type": "execute_result",
     "data": {
      "text/plain": [
       "False"
      ]
     },
     "metadata": {},
     "execution_count": 25
    }
   ],
   "metadata": {}
  },
  {
   "cell_type": "code",
   "execution_count": null,
   "source": [
    "def s(p):\r\n",
    "    p = sorted(p, key)"
   ],
   "outputs": [],
   "metadata": {}
  },
  {
   "cell_type": "code",
   "execution_count": null,
   "source": [],
   "outputs": [],
   "metadata": {}
  }
 ],
 "metadata": {
  "orig_nbformat": 4,
  "language_info": {
   "name": "python",
   "version": "3.9.6",
   "mimetype": "text/x-python",
   "codemirror_mode": {
    "name": "ipython",
    "version": 3
   },
   "pygments_lexer": "ipython3",
   "nbconvert_exporter": "python",
   "file_extension": ".py"
  },
  "kernelspec": {
   "name": "python3",
   "display_name": "Python 3.9.6 64-bit"
  },
  "interpreter": {
   "hash": "5e6cf233532fef7a60818365bc09bf646f1631a7b8364b595673d05f90179487"
  }
 },
 "nbformat": 4,
 "nbformat_minor": 2
}