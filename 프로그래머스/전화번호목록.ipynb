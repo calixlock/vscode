{
 "cells": [
  {
   "cell_type": "code",
   "execution_count": 19,
   "source": [
    "p0 = [\"119\", \"97674223\", \"1195524421\"]\t\r\n",
    "p1 = [\"123\",\"456\",\"789\"]\r\n",
    "p2 = [\"12\",\"123\",\"1235\",\"567\",\"88\"]\r\n",
    "\r\n",
    "p0[1].split(p0[0])"
   ],
   "outputs": [
    {
     "output_type": "execute_result",
     "data": {
      "text/plain": [
       "['97674223']"
      ]
     },
     "metadata": {},
     "execution_count": 19
    }
   ],
   "metadata": {}
  }
 ],
 "metadata": {
  "orig_nbformat": 4,
  "language_info": {
   "name": "python",
   "version": "3.9.5",
   "mimetype": "text/x-python",
   "codemirror_mode": {
    "name": "ipython",
    "version": 3
   },
   "pygments_lexer": "ipython3",
   "nbconvert_exporter": "python",
   "file_extension": ".py"
  },
  "kernelspec": {
   "name": "python3",
   "display_name": "Python 3.9.5 64-bit"
  },
  "interpreter": {
   "hash": "5e6cf233532fef7a60818365bc09bf646f1631a7b8364b595673d05f90179487"
  }
 },
 "nbformat": 4,
 "nbformat_minor": 2
}