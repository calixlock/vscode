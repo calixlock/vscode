{
 "cells": [
  {
   "cell_type": "code",
   "execution_count": 67,
   "source": [
    "import numpy as np\r\n",
    "a = [1, 5, 2, 6, 3, 7, 4]\r\n",
    "c = [[2, 5, 3], [4, 4, 1], [1, 7, 3]]\r\n",
    "t = []\r\n",
    "answer=[]\r\n",
    "# c1,c2,c3 = c[0],c[1],c[2]\r\n",
    "\r\n",
    "for i in range(len(c)):\r\n",
    "    c1, c2, c3 = c[i]\r\n",
    "    t = a[(c1-1):c2]\r\n",
    "    t.sort()\r\n",
    "    answer.append(t[c3-1])\r\n",
    "    print(\"c1={0},c2={1},c3={2}\".format(c1,c2,c3))\r\n",
    "    print(\"t={0}\".format(t))\r\n",
    "    print(\"answer={0}\".format(answer))\r\n",
    "    \r\n",
    "# for i in c:\r\n"
   ],
   "outputs": [
    {
     "output_type": "stream",
     "name": "stdout",
     "text": [
      "c1=2,c2=5,c3=3\n",
      "t=[2, 3, 5, 6]\n",
      "answer=[5]\n",
      "c1=4,c2=4,c3=1\n",
      "t=[6]\n",
      "answer=[5, 6]\n",
      "c1=1,c2=7,c3=3\n",
      "t=[1, 2, 3, 4, 5, 6, 7]\n",
      "answer=[5, 6, 3]\n"
     ]
    }
   ],
   "metadata": {}
  },
  {
   "cell_type": "code",
   "execution_count": 68,
   "source": [
    "def solution(a, c):\r\n",
    "    t=[]\r\n",
    "    answer = []\r\n",
    "    for i in range(len(c)):\r\n",
    "        c1, c2, c3 = c[i]\r\n",
    "        t = a[(c1-1):c2]\r\n",
    "        t.sort()\r\n",
    "        answer.append(t[c3-1])    \r\n",
    "    return answer\r\n",
    "    \r\n",
    "a = [1, 5, 2, 6, 3, 7, 4]\r\n",
    "c = [[2, 5, 3], [4, 4, 1], [1, 7, 3]]\r\n",
    "solution(a,c)"
   ],
   "outputs": [
    {
     "output_type": "execute_result",
     "data": {
      "text/plain": [
       "[5, 6, 3]"
      ]
     },
     "metadata": {},
     "execution_count": 68
    }
   ],
   "metadata": {}
  },
  {
   "cell_type": "markdown",
   "source": [],
   "metadata": {}
  }
 ],
 "metadata": {
  "orig_nbformat": 4,
  "language_info": {
   "name": "python",
   "version": "3.9.5"
  },
  "kernelspec": {
   "name": "python3",
   "display_name": "Python 3.9.5 64-bit"
  },
  "interpreter": {
   "hash": "5e6cf233532fef7a60818365bc09bf646f1631a7b8364b595673d05f90179487"
  }
 },
 "nbformat": 4,
 "nbformat_minor": 2
}