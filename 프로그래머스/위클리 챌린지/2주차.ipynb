{
 "cells": [
  {
   "cell_type": "code",
   "execution_count": 8,
   "source": [
    "import numpy as np\r\n",
    "import pandas as pd\r\n",
    "\r\n",
    "a = [[100,90,98,88,65],[50,45,99,85,77],[47,88,95,80,67],[61,57,100,80,65],[24,90,94,75,65]]\r\n",
    "b = [[50,90],[50,87]]\r\n",
    "s = [[70,49,90],[68,50,38],[73,31,100]]\r\n",
    "# c = np.array(c)\r\n",
    "max(s[0])"
   ],
   "outputs": [
    {
     "output_type": "execute_result",
     "data": {
      "text/plain": [
       "90"
      ]
     },
     "metadata": {},
     "execution_count": 8
    }
   ],
   "metadata": {}
  },
  {
   "cell_type": "code",
   "execution_count": 4,
   "source": [
    "for i in range(len(s)):\r\n",
    "    for j in range(len(s)):\r\n",
    "        max_value = max(s[i])\r\n",
    "        min_value = min(s[i])\r\n",
    "        if s[i][i] == max_value : "
   ],
   "outputs": [
    {
     "output_type": "execute_result",
     "data": {
      "text/plain": [
       "[[50, 90], [50, 87]]"
      ]
     },
     "metadata": {},
     "execution_count": 4
    }
   ],
   "metadata": {}
  },
  {
   "cell_type": "code",
   "execution_count": 12,
   "source": [
    "def grade(num):\r\n",
    "    if num >= 90 :return 'A'\r\n",
    "    elif num >= 80 :return 'B'\r\n",
    "    elif num >= 70 :return 'C'\r\n",
    "    elif num >= 50 :return 'D'\r\n",
    "    else :return 'F'\r\n",
    "# grade(3)"
   ],
   "outputs": [
    {
     "output_type": "execute_result",
     "data": {
      "text/plain": [
       "'F'"
      ]
     },
     "metadata": {},
     "execution_count": 12
    }
   ],
   "metadata": {}
  }
 ],
 "metadata": {
  "orig_nbformat": 4,
  "language_info": {
   "name": "python",
   "version": "3.9.6",
   "mimetype": "text/x-python",
   "codemirror_mode": {
    "name": "ipython",
    "version": 3
   },
   "pygments_lexer": "ipython3",
   "nbconvert_exporter": "python",
   "file_extension": ".py"
  },
  "kernelspec": {
   "name": "python3",
   "display_name": "Python 3.9.6 64-bit"
  },
  "interpreter": {
   "hash": "5e6cf233532fef7a60818365bc09bf646f1631a7b8364b595673d05f90179487"
  }
 },
 "nbformat": 4,
 "nbformat_minor": 2
}