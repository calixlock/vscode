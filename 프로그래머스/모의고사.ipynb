{
 "cells": [
  {
   "cell_type": "code",
   "execution_count": 26,
   "source": [
    "# a=[1,2,3,1,1,1,1,5,3,2,1,2,4]\r\n",
    "def sol(a):\r\n",
    "    a1=[1,2,3,4,5]\r\n",
    "    a2=[2,1,2,3,2,4,2,5]\r\n",
    "    a3=[3,3,1,1,2,2,4,4,5,5]\r\n",
    "    c1=c2=c3=0\r\n",
    "    for i in range(len(a)):\r\n",
    "        if a[i] == a1[i%5]:\r\n",
    "            c1 += 1\r\n",
    "            # print(\"i={0}\".format(i))\r\n",
    "        if a[i] == a2[i%8]:\r\n",
    "            c2 += 1\r\n",
    "        if a[i] == a3[i%10]:\r\n",
    "            c3 += 1\r\n",
    "\r\n",
    "    # print(\"c1 = {0} \\tc2 = {1} \\tc3 = {2}\".format(c1,c2,c3))  \r\n",
    "    t = max(c1,c2,c3)\r\n",
    "    answer=[]\r\n",
    "    if t == c1:\r\n",
    "        answer.append(1)\r\n",
    "    if t == c2:\r\n",
    "        answer.append(2)\r\n",
    "    if t == c3:\r\n",
    "        answer.append(3)\r\n",
    "    return answer\r\n",
    "sol(a=[1,3,2,4,2])"
   ],
   "outputs": [
    {
     "output_type": "stream",
     "name": "stdout",
     "text": [
      "c1 = 2 \tc2 = 2 \tc3 = 2\n"
     ]
    },
    {
     "output_type": "execute_result",
     "data": {
      "text/plain": [
       "[1, 2, 3]"
      ]
     },
     "metadata": {},
     "execution_count": 26
    }
   ],
   "metadata": {}
  },
  {
   "cell_type": "code",
   "execution_count": 13,
   "source": [
    "5 % 5"
   ],
   "outputs": [
    {
     "output_type": "execute_result",
     "data": {
      "text/plain": [
       "0"
      ]
     },
     "metadata": {},
     "execution_count": 13
    }
   ],
   "metadata": {}
  }
 ],
 "metadata": {
  "orig_nbformat": 4,
  "language_info": {
   "name": "python",
   "version": "3.9.6",
   "mimetype": "text/x-python",
   "codemirror_mode": {
    "name": "ipython",
    "version": 3
   },
   "pygments_lexer": "ipython3",
   "nbconvert_exporter": "python",
   "file_extension": ".py"
  },
  "kernelspec": {
   "name": "python3",
   "display_name": "Python 3.9.6 64-bit"
  },
  "interpreter": {
   "hash": "5e6cf233532fef7a60818365bc09bf646f1631a7b8364b595673d05f90179487"
  }
 },
 "nbformat": 4,
 "nbformat_minor": 2
}