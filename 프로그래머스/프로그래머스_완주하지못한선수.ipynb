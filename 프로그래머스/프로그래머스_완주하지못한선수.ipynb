{
 "cells": [
  {
   "cell_type": "code",
   "execution_count": 2,
   "source": [
    "import collections as col"
   ],
   "outputs": [],
   "metadata": {}
  },
  {
   "cell_type": "code",
   "execution_count": 15,
   "source": [
    "def sol(p,c):\r\n",
    "   answer = col.Counter(p) - col.Counter(c)\r\n",
    "   return list(answer)"
   ],
   "outputs": [],
   "metadata": {}
  },
  {
   "cell_type": "code",
   "execution_count": 36,
   "source": [
    "\r\n",
    "p = [\"leo\", \"kiki\", \"eden\",\"eden\"]\r\n",
    "c = [\"eden\",\"leo\", \"kiki\"]\r\n",
    "# print(col.Counter(p),\"\\n\",col.Counter(c))\r\n",
    "# answer = col.Counter(p) - col.Counter(c)\r\n",
    "# a = answer.values()\r\n",
    "\r\n"
   ],
   "outputs": [
    {
     "output_type": "stream",
     "name": "stdout",
     "text": [
      "Counter({'eden': 2, 'leo': 1, 'kiki': 1}) \n",
      " Counter({'eden': 1, 'leo': 1, 'kiki': 1})\n"
     ]
    },
    {
     "output_type": "execute_result",
     "data": {
      "text/plain": [
       "[1]"
      ]
     },
     "metadata": {},
     "execution_count": 36
    }
   ],
   "metadata": {}
  },
  {
   "cell_type": "code",
   "execution_count": null,
   "source": [
    "# 풀이 1 : collections 모듈의 Counter 이용\r\n",
    "import collections as col\r\n",
    "\r\n",
    "def solution(p,c):\r\n",
    "    answer = col.Counter(p) - col.Counter(c)\r\n",
    "    return list(answer)[0]\r\n",
    "    \r\n",
    "#---------------------------------------------------------------\r\n",
    "# 프로그래머스 풀이 1\r\n",
    "def sol1(participant, completion):\r\n",
    "    answer = col.Counter(participant) - col.Counter(completion)\r\n",
    "    return list(answer.keys())[0]\r\n",
    "\r\n",
    "#---------------------------------------------------------------\r\n",
    "# 프로그래머스 풀이 2\r\n",
    "def sol2(participant, completion):\r\n",
    "    answer = ''\r\n",
    "    temp = 0\r\n",
    "    dic = {}\r\n",
    "    for part in participant:\r\n",
    "        dic[hash(part)] = part\r\n",
    "        temp += int(hash(part))\r\n",
    "    for com in completion:\r\n",
    "        temp -= hash(com)\r\n",
    "    answer = dic[temp]\r\n",
    "\r\n",
    "    return answer"
   ],
   "outputs": [],
   "metadata": {}
  },
  {
   "cell_type": "code",
   "execution_count": 10,
   "source": [
    "p = [\"leo\", \"kiki\", \"eden\",\"eden\"]\r\n",
    "c = [\"eden\",\"leo\", \"kiki\"]\r\n",
    "\r\n",
    "answer = ''\r\n",
    "temp = 0\r\n",
    "dic = {}\r\n",
    "\r\n",
    "for i in p:\r\n",
    "    dic[hash(i)] = i\r\n",
    "    temp += int(hash(i))\r\n",
    "    print(dic)\r\n",
    "    print(\"temp : {0}\".format(temp))\r\n",
    "    print(\"*\"*20)\r\n",
    "for j in c:\r\n",
    "    temp -= hash(j)\r\n",
    "    print(\"temp : {0}\".format(temp))\r\n",
    "    "
   ],
   "outputs": [
    {
     "output_type": "stream",
     "name": "stdout",
     "text": [
      "{1014887776178201706: 'leo'}\n",
      "temp : 1014887776178201706\n",
      "********************\n",
      "{1014887776178201706: 'leo', -6615759400214349930: 'kiki'}\n",
      "temp : -5600871624036148224\n",
      "********************\n",
      "{1014887776178201706: 'leo', -6615759400214349930: 'kiki', 6303987744183276972: 'eden'}\n",
      "temp : 703116120147128748\n",
      "********************\n",
      "{1014887776178201706: 'leo', -6615759400214349930: 'kiki', 6303987744183276972: 'eden'}\n",
      "temp : 7007103864330405720\n",
      "********************\n",
      "temp : 703116120147128748\n",
      "temp : -311771656031072958\n",
      "temp : 6303987744183276972\n"
     ]
    }
   ],
   "metadata": {}
  },
  {
   "cell_type": "code",
   "execution_count": 13,
   "source": [
    "hash(\"kim\")\r\n",
    "hash(\"kmi\")"
   ],
   "outputs": [
    {
     "output_type": "execute_result",
     "data": {
      "text/plain": [
       "6999259062479820238"
      ]
     },
     "metadata": {},
     "execution_count": 13
    }
   ],
   "metadata": {}
  }
 ],
 "metadata": {
  "orig_nbformat": 4,
  "language_info": {
   "name": "python",
   "version": "3.9.5",
   "mimetype": "text/x-python",
   "codemirror_mode": {
    "name": "ipython",
    "version": 3
   },
   "pygments_lexer": "ipython3",
   "nbconvert_exporter": "python",
   "file_extension": ".py"
  },
  "kernelspec": {
   "name": "python3",
   "display_name": "Python 3.9.5 64-bit"
  },
  "interpreter": {
   "hash": "5e6cf233532fef7a60818365bc09bf646f1631a7b8364b595673d05f90179487"
  }
 },
 "nbformat": 4,
 "nbformat_minor": 2
}