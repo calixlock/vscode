{
 "cells": [
  {
   "cell_type": "code",
   "execution_count": null,
   "source": [
    "x,y = input().split()\r\n"
   ],
   "outputs": [],
   "metadata": {}
  },
  {
   "cell_type": "code",
   "execution_count": 10,
   "source": [
    "n = 2\r\n",
    "t = []\r\n",
    "for i in range(n):\r\n",
    "    x,y = input().split()\r\n",
    "    z = ''\r\n",
    "    for i in range(len(y)):\r\n",
    "        z += y[i]*int(x)\r\n",
    "    t.append(z)\r\n",
    "for i in t:\r\n",
    "    print(i)"
   ],
   "outputs": [
    {
     "output_type": "stream",
     "name": "stdout",
     "text": [
      "aaabbbccc\n",
      "/////hhhhhtttttppppp\n"
     ]
    }
   ],
   "metadata": {}
  },
  {
   "cell_type": "markdown",
   "source": [],
   "metadata": {}
  }
 ],
 "metadata": {
  "orig_nbformat": 4,
  "language_info": {
   "name": "python",
   "version": "3.9.6",
   "mimetype": "text/x-python",
   "codemirror_mode": {
    "name": "ipython",
    "version": 3
   },
   "pygments_lexer": "ipython3",
   "nbconvert_exporter": "python",
   "file_extension": ".py"
  },
  "kernelspec": {
   "name": "python3",
   "display_name": "Python 3.9.6 64-bit"
  },
  "interpreter": {
   "hash": "5e6cf233532fef7a60818365bc09bf646f1631a7b8364b595673d05f90179487"
  }
 },
 "nbformat": 4,
 "nbformat_minor": 2
}