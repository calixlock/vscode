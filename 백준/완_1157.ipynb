{
 "cells": [
  {
   "cell_type": "code",
   "execution_count": 4,
   "source": [
    "\r\n"
   ],
   "outputs": [
    {
     "output_type": "execute_result",
     "data": {
      "text/plain": [
       "2"
      ]
     },
     "metadata": {},
     "execution_count": 4
    }
   ],
   "metadata": {}
  },
  {
   "cell_type": "code",
   "execution_count": 35,
   "source": [
    "# 받은 문자 분리시켜 리스트로 받기 + 소문자 대문자로 전환(upper)\r\n",
    "letter = list(str(input().upper()))\r\n",
    "\r\n",
    "# 딕셔너리 형태로 받기\r\n",
    "lst={}\r\n",
    "for i in letter:\r\n",
    "    if i not in lst:\r\n",
    "        lst[i] = 1\r\n",
    "    else : lst[i] += 1\r\n",
    "\r\n",
    "n = max(lst.values())\r\n",
    "max_value = []\r\n",
    "for k,v in lst.items():\r\n",
    "    if v == n:\r\n",
    "        max_value.append(k)\r\n",
    "if len(max_value) == 1:\r\n",
    "    print(max_value[0]) \r\n",
    "else : print(\"?\")\r\n"
   ],
   "outputs": [
    {
     "output_type": "stream",
     "name": "stdout",
     "text": [
      "A\n"
     ]
    }
   ],
   "metadata": {}
  },
  {
   "cell_type": "code",
   "execution_count": null,
   "source": [],
   "outputs": [],
   "metadata": {}
  }
 ],
 "metadata": {
  "orig_nbformat": 4,
  "language_info": {
   "name": "python",
   "version": "3.9.6",
   "mimetype": "text/x-python",
   "codemirror_mode": {
    "name": "ipython",
    "version": 3
   },
   "pygments_lexer": "ipython3",
   "nbconvert_exporter": "python",
   "file_extension": ".py"
  },
  "kernelspec": {
   "name": "python3",
   "display_name": "Python 3.9.6 64-bit"
  },
  "interpreter": {
   "hash": "5e6cf233532fef7a60818365bc09bf646f1631a7b8364b595673d05f90179487"
  }
 },
 "nbformat": 4,
 "nbformat_minor": 2
}