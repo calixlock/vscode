{
 "cells": [
  {
   "cell_type": "code",
   "execution_count": 19,
   "source": [
    "n = int(input())\r\n",
    "d=[]\r\n",
    "for i in range(n):\r\n",
    "\r\n",
    "    a,*b = map(int,input().split())\r\n",
    "    avg = sum(b) / a\r\n",
    "    c=[]\r\n",
    "    for i in range(a):\r\n",
    "        if b[i] > avg:\r\n",
    "            c.append(round(b[i],3)) \r\n",
    "    d.append(len(c)/len(b)*100)\r\n",
    "    # print(\"a={} ,b={},avg={},c={},d={}\".format(a,b,avg,c,d))\r\n",
    "\r\n",
    "for i in d :\r\n",
    "    print( \"%0.3f%%\" % i)\r\n"
   ],
   "outputs": [
    {
     "output_type": "stream",
     "name": "stdout",
     "text": [
      "a=3 ,b=[70, 90, 80],avg=80.0,c=[90],d=[33.33333333333333]\n",
      "a=3 ,b=[70, 90, 80],avg=80.0,c=[90],d=[33.33333333333333, 33.33333333333333]\n",
      "a=3 ,b=[70, 90, 80],avg=80.0,c=[90],d=[33.33333333333333, 33.33333333333333, 33.33333333333333]\n",
      "33.333%\n",
      "33.333%\n",
      "33.333%\n"
     ]
    }
   ],
   "metadata": {}
  },
  {
   "cell_type": "code",
   "execution_count": null,
   "source": [
    "a = [1,2,3,4,5]\r\n",
    "if a >= 1:\r\n",
    "    print[a]"
   ],
   "outputs": [],
   "metadata": {}
  },
  {
   "cell_type": "code",
   "execution_count": 10,
   "source": [
    "p = 84.26112121\r\n",
    "a = [1,2,3,4]\r\n",
    "for i in a :\r\n",
    "    print( \"%0.3f%%\" % i)\r\n"
   ],
   "outputs": [
    {
     "output_type": "stream",
     "name": "stdout",
     "text": [
      "1.000%\n",
      "2.000%\n",
      "3.000%\n",
      "4.000%\n"
     ]
    }
   ],
   "metadata": {}
  },
  {
   "cell_type": "code",
   "execution_count": 21,
   "source": [
    "rate = 40\r\n",
    "print(f'{rate:.3f}%')"
   ],
   "outputs": [
    {
     "output_type": "stream",
     "name": "stdout",
     "text": [
      "40.000%\n"
     ]
    }
   ],
   "metadata": {}
  }
 ],
 "metadata": {
  "orig_nbformat": 4,
  "language_info": {
   "name": "python",
   "version": "3.9.6",
   "mimetype": "text/x-python",
   "codemirror_mode": {
    "name": "ipython",
    "version": 3
   },
   "pygments_lexer": "ipython3",
   "nbconvert_exporter": "python",
   "file_extension": ".py"
  },
  "kernelspec": {
   "name": "python3",
   "display_name": "Python 3.9.6 64-bit"
  },
  "interpreter": {
   "hash": "5e6cf233532fef7a60818365bc09bf646f1631a7b8364b595673d05f90179487"
  }
 },
 "nbformat": 4,
 "nbformat_minor": 2
}