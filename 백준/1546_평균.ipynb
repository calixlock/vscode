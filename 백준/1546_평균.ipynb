{
 "cells": [
  {
   "cell_type": "code",
   "execution_count": 23,
   "source": [
    "\r\n",
    "def fun(a):\r\n",
    "    n= int(input())\r\n",
    "    a = list(map(int,input().split()))\r\n",
    "    return sum(a)/(n*max(a))*100\r\n",
    "\r\n",
    "fun(a)"
   ],
   "outputs": [
    {
     "output_type": "execute_result",
     "data": {
      "text/plain": [
       "75.25"
      ]
     },
     "metadata": {},
     "execution_count": 23
    }
   ],
   "metadata": {}
  },
  {
   "cell_type": "code",
   "execution_count": 32,
   "source": [
    "# 나의 제출 코드\r\n",
    "\r\n",
    "n= int(input())\r\n",
    "a = list(map(int,input().split()))\r\n",
    "# lambda 방법\r\n",
    "t = lambda n,a : sum(a)/(n*max(a))*100\r\n",
    "print(t(n,a))\r\n",
    "# 함수 방법\r\n",
    "# def fun(n,a):\r\n",
    "#     return print(sum(a)/(n*max(a))*100)\r\n",
    "# fun(n,a)"
   ],
   "outputs": [
    {
     "output_type": "stream",
     "name": "stdout",
     "text": [
      "62.5\n"
     ]
    }
   ],
   "metadata": {}
  },
  {
   "cell_type": "code",
   "execution_count": 31,
   "source": [
    "# 여러개와 한개의 리스트로 나누는 방법\r\n",
    "*a,=map(int,input().split())\r\n"
   ],
   "outputs": [
    {
     "output_type": "error",
     "ename": "SyntaxError",
     "evalue": "multiple starred expressions in assignment (<ipython-input-31-f941b3bb4638>, line 1)",
     "traceback": [
      "\u001b[1;36m  File \u001b[1;32m\"<ipython-input-31-f941b3bb4638>\"\u001b[1;36m, line \u001b[1;32m1\u001b[0m\n\u001b[1;33m    *a,*b=map(int,input().split())\u001b[0m\n\u001b[1;37m    ^\u001b[0m\n\u001b[1;31mSyntaxError\u001b[0m\u001b[1;31m:\u001b[0m multiple starred expressions in assignment\n"
     ]
    }
   ],
   "metadata": {}
  }
 ],
 "metadata": {
  "orig_nbformat": 4,
  "language_info": {
   "name": "python",
   "version": "3.9.6",
   "mimetype": "text/x-python",
   "codemirror_mode": {
    "name": "ipython",
    "version": 3
   },
   "pygments_lexer": "ipython3",
   "nbconvert_exporter": "python",
   "file_extension": ".py"
  },
  "kernelspec": {
   "name": "python3",
   "display_name": "Python 3.9.6 64-bit"
  },
  "interpreter": {
   "hash": "5e6cf233532fef7a60818365bc09bf646f1631a7b8364b595673d05f90179487"
  }
 },
 "nbformat": 4,
 "nbformat_minor": 2
}