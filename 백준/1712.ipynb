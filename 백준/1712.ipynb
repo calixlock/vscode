{
 "cells": [
  {
   "cell_type": "code",
   "execution_count": 7,
   "source": [
    "a,b,c = map(int,input().split())\r\n",
    "# zero divsion Error 제외\r\n",
    "if c == b :\r\n",
    "    print(-1)\r\n",
    "# 일반적인 계산 \r\n",
    "elif a/(c-b) >= 0 :\r\n",
    "    n = a/(c-b)\r\n",
    "    print(int(n)+1)\r\n",
    "# 이 외의 경우 \r\n",
    "else : print(-1)"
   ],
   "outputs": [
    {
     "output_type": "stream",
     "name": "stdout",
     "text": [
      "2100000001\n"
     ]
    }
   ],
   "metadata": {}
  }
 ],
 "metadata": {
  "orig_nbformat": 4,
  "language_info": {
   "name": "python",
   "version": "3.9.6",
   "mimetype": "text/x-python",
   "codemirror_mode": {
    "name": "ipython",
    "version": 3
   },
   "pygments_lexer": "ipython3",
   "nbconvert_exporter": "python",
   "file_extension": ".py"
  },
  "kernelspec": {
   "name": "python3",
   "display_name": "Python 3.9.6 64-bit"
  },
  "interpreter": {
   "hash": "5e6cf233532fef7a60818365bc09bf646f1631a7b8364b595673d05f90179487"
  }
 },
 "nbformat": 4,
 "nbformat_minor": 2
}