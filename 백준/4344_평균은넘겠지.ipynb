{
 "cells": [
  {
   "cell_type": "code",
   "execution_count": 3,
   "source": [
    "# n = int(input())\r\n",
    "a,*b = map(int,input().split())\r\n",
    "avg = sum(b) / a\r\n",
    "c=[]\r\n",
    "for i in range(a):\r\n",
    "    if b[i] > avg:\r\n",
    "        count += 1\r\n",
    "\r\n",
    "print(\"a={} ,b={},avg={}\".format(a,b,avg))"
   ],
   "outputs": [
    {
     "output_type": "stream",
     "name": "stdout",
     "text": [
      "a=5 ,b=[50, 50, 70, 80, 100],avg=70.0\n"
     ]
    }
   ],
   "metadata": {}
  },
  {
   "cell_type": "code",
   "execution_count": null,
   "source": [
    "a = [1,2,3,4,5]\r\n",
    "if a >= 1:\r\n",
    "    print[a]"
   ],
   "outputs": [],
   "metadata": {}
  }
 ],
 "metadata": {
  "orig_nbformat": 4,
  "language_info": {
   "name": "python",
   "version": "3.9.6",
   "mimetype": "text/x-python",
   "codemirror_mode": {
    "name": "ipython",
    "version": 3
   },
   "pygments_lexer": "ipython3",
   "nbconvert_exporter": "python",
   "file_extension": ".py"
  },
  "kernelspec": {
   "name": "python3",
   "display_name": "Python 3.9.6 64-bit"
  },
  "interpreter": {
   "hash": "5e6cf233532fef7a60818365bc09bf646f1631a7b8364b595673d05f90179487"
  }
 },
 "nbformat": 4,
 "nbformat_minor": 2
}