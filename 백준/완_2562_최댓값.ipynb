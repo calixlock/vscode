{
 "cells": [
  {
   "cell_type": "code",
   "execution_count": 8,
   "source": [
    "# import sys\r\n",
    "# input = sys.stdin.readline\r\n",
    "\r\n",
    "# 몇개 던 계속 받을 수 있게 고쳐봐야함\r\n",
    "a = []\r\n",
    "# for i in range(9):\r\n",
    "for i in range(1,10):\r\n",
    "    a.append(int(input()))\r\n",
    "    \r\n",
    "print(\"{0}\\n{1}\".format(max(a) , a.index(max(a)+1)))\r\n",
    "\r\n"
   ],
   "outputs": [
    {
     "output_type": "stream",
     "name": "stdout",
     "text": [
      "9\n",
      "8\n"
     ]
    }
   ],
   "metadata": {}
  }
 ],
 "metadata": {
  "orig_nbformat": 4,
  "language_info": {
   "name": "python",
   "version": "3.9.6",
   "mimetype": "text/x-python",
   "codemirror_mode": {
    "name": "ipython",
    "version": 3
   },
   "pygments_lexer": "ipython3",
   "nbconvert_exporter": "python",
   "file_extension": ".py"
  },
  "kernelspec": {
   "name": "python3",
   "display_name": "Python 3.9.6 64-bit"
  },
  "interpreter": {
   "hash": "5e6cf233532fef7a60818365bc09bf646f1631a7b8364b595673d05f90179487"
  }
 },
 "nbformat": 4,
 "nbformat_minor": 2
}