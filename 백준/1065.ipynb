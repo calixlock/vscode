{
 "cells": [
  {
   "cell_type": "code",
   "execution_count": 1,
   "source": [
    "# 한수\r\n",
    "n = int(input())\r\n",
    "count = 0\r\n",
    "for i in range(1,n+1) :\r\n",
    "    # 한수 99까지는 모두 한수\r\n",
    "    if n <=99 :\r\n",
    "        count += 1\r\n",
    "    else :\r\n",
    "        m = list(map(int,str(n)))\r\n",
    "        if m[0] - m[1] == m[1] - m[2]:\r\n",
    "            count += 1"
   ],
   "outputs": [
    {
     "output_type": "stream",
     "name": "stdout",
     "text": [
      "1\n",
      "2\n",
      "3\n"
     ]
    }
   ],
   "metadata": {}
  },
  {
   "cell_type": "code",
   "execution_count": 5,
   "source": [
    "# 함수로 만들 경우\r\n",
    "def hansu(num) :\r\n",
    "    hansu_cnt = 0\r\n",
    "    for i in range(1, num+1):\r\n",
    "        num_list = list(map(int,str(i)))\r\n",
    "        if i < 100:\r\n",
    "            hansu_cnt += 1  # 100보다 작으면 모두 한수\r\n",
    "        elif num_list[0]-num_list[1] == num_list[1]-num_list[2]:\r\n",
    "            hansu_cnt += 1  # x의 각 자리가 등차수열이면 한수\r\n",
    "    return hansu_cnt\r\n",
    "\r\n",
    "num = int(input())\r\n",
    "print(hansu(num))"
   ],
   "outputs": [
    {
     "output_type": "stream",
     "name": "stdout",
     "text": [
      "1\n",
      "2\n",
      "3\n"
     ]
    }
   ],
   "metadata": {}
  },
  {
   "cell_type": "code",
   "execution_count": null,
   "source": [
    "# 다른 사람 풀이 \r\n",
    "\r\n",
    "def get_hansu_num(N): \r\n",
    "    if N < 100: \r\n",
    "        hansu = N \r\n",
    "    else: \r\n",
    "        hansu = 99 \r\n",
    "        for i in range(100, N+1): \r\n",
    "            num_list = list(map(int, str(i))) \r\n",
    "            \r\n",
    "            if num_list[0] - num_list[1] == num_list[1] - num_list[2]: \r\n",
    "                hansu += 1 \r\n",
    "    return hansu \r\n",
    "\r\n",
    "if __name__ == \"__main__\": \r\n",
    "    input_num = int(input()) \r\n",
    "    \r\n",
    "    print(get_hansu_num(input_num))"
   ],
   "outputs": [],
   "metadata": {}
  }
 ],
 "metadata": {
  "orig_nbformat": 4,
  "language_info": {
   "name": "python",
   "version": "3.9.6",
   "mimetype": "text/x-python",
   "codemirror_mode": {
    "name": "ipython",
    "version": 3
   },
   "pygments_lexer": "ipython3",
   "nbconvert_exporter": "python",
   "file_extension": ".py"
  },
  "kernelspec": {
   "name": "python3",
   "display_name": "Python 3.9.6 64-bit"
  },
  "interpreter": {
   "hash": "5e6cf233532fef7a60818365bc09bf646f1631a7b8364b595673d05f90179487"
  }
 },
 "nbformat": 4,
 "nbformat_minor": 2
}