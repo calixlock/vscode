{
 "cells": [
  {
   "cell_type": "code",
   "execution_count": 8,
   "source": [
    "a = list(str(input()))\r\n",
    "num = 0\r\n",
    "for i in a:\r\n",
    "    if i in [1]:\r\n",
    "        num +=1\r\n",
    "    elif i in ['A','B','C']:\r\n",
    "        num += 2\r\n",
    "    elif i in ['D','E','F']:\r\n",
    "        num += 3\r\n",
    "    elif i in ['G','H','I']:\r\n",
    "        num += 4        \r\n",
    "    elif i in ['J','K','L']:\r\n",
    "        num += 5\r\n",
    "    elif i in ['M','N','O']:\r\n",
    "        num += 6\r\n",
    "    elif i in ['P','Q','R','S']:\r\n",
    "        num += 7\r\n",
    "    elif i in ['T','U','V']:\r\n",
    "        num += 8\r\n",
    "    elif i in ['W','X','Y','Z']:\r\n",
    "        num += 9\r\n",
    "print(num+len(a))"
   ],
   "outputs": [
    {
     "output_type": "stream",
     "name": "stdout",
     "text": [
      "6\n"
     ]
    }
   ],
   "metadata": {}
  },
  {
   "cell_type": "code",
   "execution_count": 20,
   "source": [
    "a = ['ABC','DEF','GHI','JKL','MNO','PQRS','TUV','WXYZ']\r\n",
    "x = list(input())\r\n",
    "count = 0\r\n",
    "for i in x:\r\n",
    "    for j in range(len(a)):\r\n",
    "        if i in a[j]:\r\n",
    "            count += (j+3)\r\n",
    "print(count)\r\n",
    "    \r\n",
    "    "
   ],
   "outputs": [
    {
     "output_type": "stream",
     "name": "stdout",
     "text": [
      "9\n"
     ]
    }
   ],
   "metadata": {}
  },
  {
   "cell_type": "code",
   "execution_count": 4,
   "source": [
    "# 다른사람 풀이\r\n",
    "dial = ['ABC', 'DEF', 'GHI', 'JKL', 'MNO', 'PQRS', 'TUV', 'WXYZ']\r\n",
    "a = input()\r\n",
    "ret = 0\r\n",
    "for j in range(len(a)):\r\n",
    "    for i in dial:\r\n",
    "        if a[j] in i:\r\n",
    "            ret += dial.index(i)+3\r\n",
    "print(ret)\r\n"
   ],
   "outputs": [
    {
     "output_type": "execute_result",
     "data": {
      "text/plain": [
       "['w', 'a']"
      ]
     },
     "metadata": {},
     "execution_count": 4
    }
   ],
   "metadata": {}
  },
  {
   "cell_type": "code",
   "execution_count": 19,
   "source": [
    "list(input())"
   ],
   "outputs": [
    {
     "output_type": "execute_result",
     "data": {
      "text/plain": [
       "['S', 'A']"
      ]
     },
     "metadata": {},
     "execution_count": 19
    }
   ],
   "metadata": {}
  }
 ],
 "metadata": {
  "orig_nbformat": 4,
  "language_info": {
   "name": "python",
   "version": "3.9.6",
   "mimetype": "text/x-python",
   "codemirror_mode": {
    "name": "ipython",
    "version": 3
   },
   "pygments_lexer": "ipython3",
   "nbconvert_exporter": "python",
   "file_extension": ".py"
  },
  "kernelspec": {
   "name": "python3",
   "display_name": "Python 3.9.6 64-bit"
  },
  "interpreter": {
   "hash": "5e6cf233532fef7a60818365bc09bf646f1631a7b8364b595673d05f90179487"
  }
 },
 "nbformat": 4,
 "nbformat_minor": 2
}