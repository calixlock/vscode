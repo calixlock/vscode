{
 "cells": [
  {
   "cell_type": "code",
   "execution_count": null,
   "source": [],
   "outputs": [],
   "metadata": {}
  },
  {
   "cell_type": "code",
   "execution_count": 1,
   "source": [
    "#서든어택3\r\n",
    "# import sys\r\n",
    "# input = sys.stdin.readline\r\n",
    "\r\n",
    "n = int(input())\r\n",
    "b = list(map(int,(input().split())))\r\n",
    "a = b.pop(0)\r\n",
    "b = sorted(b)\r\n",
    "# f = 0\r\n",
    "for i in range(len(b)):\r\n",
    "    if a > b[i]: \r\n",
    "        a += b[i]\r\n",
    "        # print(a, b[i])\r\n",
    "    else : \r\n",
    "        print(\"No\") \r\n",
    "        break\r\n",
    "else :\r\n",
    "    print(\"Yes\")"
   ],
   "outputs": [
    {
     "output_type": "stream",
     "name": "stdout",
     "text": [
      "No\n"
     ]
    }
   ],
   "metadata": {}
  },
  {
   "cell_type": "code",
   "execution_count": 2,
   "source": [
    "# 비슷한 풀이 깔끔\r\n",
    "input()\r\n",
    "j, *player = map(int, input().split())\r\n",
    "\r\n",
    "for a in sorted(player):\r\n",
    "    if j > a:\r\n",
    "        j += a\r\n",
    "    else:\r\n",
    "        print(\"No\")\r\n",
    "        break\r\n",
    "else:\r\n",
    "    print(\"Yes\")"
   ],
   "outputs": [
    {
     "output_type": "stream",
     "name": "stdout",
     "text": [
      "No\n"
     ]
    }
   ],
   "metadata": {}
  },
  {
   "cell_type": "code",
   "execution_count": null,
   "source": [
    "# 다른 풀이\r\n",
    "import sys\r\n",
    "\r\n",
    "def main() : \r\n",
    "    n = int(sys.stdin.readline())\r\n",
    "    a = list(map(int, sys.stdin.readline().split()))\r\n",
    "    na = a[0]\r\n",
    "    while True :\r\n",
    "        a = sorted(a)\r\n",
    "        idx = a.index(na)\r\n",
    "        if len(a) == 1 :\r\n",
    "            print(\"Yes\")\r\n",
    "            break\r\n",
    "        if idx == 0 :\r\n",
    "            print(\"No\")\r\n",
    "            break\r\n",
    "        a[idx] = sum(a[:idx+1])\r\n",
    "        del a[:idx]\r\n",
    "        na = a[0]\r\n",
    "        # print(a)\r\n",
    "\r\n",
    "\r\n",
    "if __name__==\"__main__\" :\r\n",
    "    main()"
   ],
   "outputs": [],
   "metadata": {}
  }
 ],
 "metadata": {
  "orig_nbformat": 4,
  "language_info": {
   "name": "python",
   "version": "3.9.6",
   "mimetype": "text/x-python",
   "codemirror_mode": {
    "name": "ipython",
    "version": 3
   },
   "pygments_lexer": "ipython3",
   "nbconvert_exporter": "python",
   "file_extension": ".py"
  },
  "kernelspec": {
   "name": "python3",
   "display_name": "Python 3.9.6 64-bit"
  },
  "interpreter": {
   "hash": "5e6cf233532fef7a60818365bc09bf646f1631a7b8364b595673d05f90179487"
  }
 },
 "nbformat": 4,
 "nbformat_minor": 2
}