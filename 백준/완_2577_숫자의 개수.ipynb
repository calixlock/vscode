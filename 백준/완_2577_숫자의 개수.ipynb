{
 "cells": [
  {
   "cell_type": "code",
   "execution_count": 1,
   "source": [
    "\r\n",
    "a = []\r\n",
    "for i in range(3) :\r\n",
    "    a.append(int(input()))\r\n",
    "sum(a)"
   ],
   "outputs": [
    {
     "output_type": "execute_result",
     "data": {
      "text/plain": [
       "[1, 2, 3]"
      ]
     },
     "metadata": {},
     "execution_count": 1
    }
   ],
   "metadata": {}
  },
  {
   "cell_type": "code",
   "execution_count": 27,
   "source": [
    "#내가 푼 답\r\n",
    "from functools import reduce\r\n",
    "num=[]\r\n",
    "for i in range(3):\r\n",
    "    num.append(int(input()))\r\n",
    "def factorial(a) :\r\n",
    "    return reduce(lambda x,y : x*y , a)\r\n",
    "t = factorial(num)\r\n",
    "t1 = []\r\n",
    "for i in str(t):\r\n",
    "     t1.append(int(i))\r\n",
    "for l in range(10):\r\n",
    "    print(t1.count(l))\r\n"
   ],
   "outputs": [
    {
     "output_type": "stream",
     "name": "stdout",
     "text": [
      "1\n",
      "0\n",
      "1\n",
      "0\n",
      "0\n",
      "2\n",
      "1\n",
      "0\n",
      "0\n",
      "2\n"
     ]
    }
   ],
   "metadata": {}
  },
  {
   "cell_type": "code",
   "execution_count": 3,
   "source": [
    "a,b,c =[101, 230, 321]\r\n",
    "d =a*b*c\r\n",
    "list(str(d))"
   ],
   "outputs": [
    {
     "output_type": "execute_result",
     "data": {
      "text/plain": [
       "['7', '4', '5', '6', '8', '3', '0']"
      ]
     },
     "metadata": {},
     "execution_count": 3
    }
   ],
   "metadata": {}
  },
  {
   "cell_type": "code",
   "execution_count": 4,
   "source": [
    "A = int(input())\r\n",
    "B = int(input())\r\n",
    "C = int(input())\r\n",
    "\r\n",
    "output = A * B * C\r\n",
    "# 0~9까지의 리스트 \r\n",
    "lst = [0,0,0,0,0,0,0,0,0,0]\r\n",
    "# 각 자리수에 해당되는 값에 업데이트\r\n",
    "for s in str(output):\r\n",
    "    lst[int(s)] += 1\r\n",
    "\r\n",
    "print(lst,\"\\n\",output)\r\n",
    "# for i in lst:\r\n",
    "#     print(i)"
   ],
   "outputs": [
    {
     "output_type": "stream",
     "name": "stdout",
     "text": [
      "[3, 0, 0, 0, 0, 0, 1, 0, 0, 0] \n",
      " 6000\n"
     ]
    }
   ],
   "metadata": {}
  }
 ],
 "metadata": {
  "orig_nbformat": 4,
  "language_info": {
   "name": "python",
   "version": "3.9.6",
   "mimetype": "text/x-python",
   "codemirror_mode": {
    "name": "ipython",
    "version": 3
   },
   "pygments_lexer": "ipython3",
   "nbconvert_exporter": "python",
   "file_extension": ".py"
  },
  "kernelspec": {
   "name": "python3",
   "display_name": "Python 3.9.6 64-bit"
  },
  "interpreter": {
   "hash": "5e6cf233532fef7a60818365bc09bf646f1631a7b8364b595673d05f90179487"
  }
 },
 "nbformat": 4,
 "nbformat_minor": 2
}