{
 "cells": [
  {
   "cell_type": "code",
   "execution_count": 23,
   "source": [
    "c_alphabet = ['c=','c-','dz=','d-','lj','nj','s=','z=']\r\n",
    "# voca = input()\r\n",
    "voca = 'ljes=njak'\r\n",
    "for i in c_alphabet:\r\n",
    "    trans_voca = voca.replace({}.format(),'!')\r\n",
    "print(list(trans_voca),len(list(trans_voca)))"
   ],
   "outputs": [
    {
     "output_type": "stream",
     "name": "stdout",
     "text": [
      "['l', 'j', 'e', 's', '=', 'n', 'j', 'a', 'k'] 9\n"
     ]
    }
   ],
   "metadata": {}
  },
  {
   "cell_type": "code",
   "execution_count": 8,
   "source": [
    "voca = input()\r\n",
    "trans = ['c=','c-','dz=','d-','lj','nj','s=','z=']\r\n",
    "for i in trans:\r\n",
    "    # if i in voca:\r\n",
    "        voca = voca.replace(i,'!')\r\n",
    "print(len(voca))\r\n",
    "\r\n"
   ],
   "outputs": [
    {
     "output_type": "stream",
     "name": "stdout",
     "text": [
      "6\n"
     ]
    }
   ],
   "metadata": {}
  }
 ],
 "metadata": {
  "orig_nbformat": 4,
  "language_info": {
   "name": "python",
   "version": "3.9.6",
   "mimetype": "text/x-python",
   "codemirror_mode": {
    "name": "ipython",
    "version": 3
   },
   "pygments_lexer": "ipython3",
   "nbconvert_exporter": "python",
   "file_extension": ".py"
  },
  "kernelspec": {
   "name": "python3",
   "display_name": "Python 3.9.6 64-bit"
  },
  "interpreter": {
   "hash": "5e6cf233532fef7a60818365bc09bf646f1631a7b8364b595673d05f90179487"
  }
 },
 "nbformat": 4,
 "nbformat_minor": 2
}