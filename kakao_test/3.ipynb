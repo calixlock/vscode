{
 "cells": [
  {
   "cell_type": "code",
   "execution_count": 9,
   "source": [
    "f = [180, 5000, 10, 600]\r\n",
    "r = [\"05:34 5961 IN\", \"18:59 0000 IN\", \"07:59 5961 OUT\"]\r\n",
    "\r\n",
    "def se(txt,lst):\r\n",
    "    for i in range(len(lst)):  # 리스트 a의 모든 값을 차레로\r\n",
    "        if txt == lst[i]:   # x 값과 비교하여\r\n",
    "            return i\r\n",
    "        else : print(\"없음\")\r\n",
    "se(5961,r)"
   ],
   "outputs": [
    {
     "output_type": "stream",
     "name": "stdout",
     "text": [
      "없음\n",
      "없음\n",
      "없음\n"
     ]
    }
   ],
   "metadata": {}
  },
  {
   "cell_type": "code",
   "execution_count": 11,
   "source": [
    "some_list = ['abc-123', 'def-456', 'ghi-789', 'abc-456']\r\n",
    "\r\n",
    "resultlist = []\r\n",
    "for s in some_list:\r\n",
    "    if \"abc\" in s:\r\n",
    "        resultlist.append(s)\r\n",
    "\r\n",
    "resultlist"
   ],
   "outputs": [
    {
     "output_type": "execute_result",
     "data": {
      "text/plain": [
       "['abc-123', 'abc-456']"
      ]
     },
     "metadata": {},
     "execution_count": 11
    }
   ],
   "metadata": {}
  }
 ],
 "metadata": {
  "orig_nbformat": 4,
  "language_info": {
   "name": "python",
   "version": "3.9.6",
   "mimetype": "text/x-python",
   "codemirror_mode": {
    "name": "ipython",
    "version": 3
   },
   "pygments_lexer": "ipython3",
   "nbconvert_exporter": "python",
   "file_extension": ".py"
  },
  "kernelspec": {
   "name": "python3",
   "display_name": "Python 3.9.6 64-bit"
  },
  "interpreter": {
   "hash": "5e6cf233532fef7a60818365bc09bf646f1631a7b8364b595673d05f90179487"
  }
 },
 "nbformat": 4,
 "nbformat_minor": 2
}