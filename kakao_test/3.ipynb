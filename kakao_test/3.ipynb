{
 "cells": [
  {
   "cell_type": "code",
   "execution_count": 9,
   "source": [
    "f = [180, 5000, 10, 600]\r\n",
    "r = [\"05:34 5961 IN\", \"18:59 0000 IN\", \"07:59 5961 OUT\"]\r\n",
    "\r\n",
    "def se(txt,lst):\r\n",
    "    for i in range(len(lst)):  # 리스트 a의 모든 값을 차레로\r\n",
    "        if txt == lst[i]:   # x 값과 비교하여\r\n",
    "            return i\r\n",
    "        else : print(\"없음\")\r\n",
    "se(5961,r)"
   ],
   "outputs": [
    {
     "output_type": "stream",
     "name": "stdout",
     "text": [
      "없음\n",
      "없음\n",
      "없음\n"
     ]
    }
   ],
   "metadata": {}
  },
  {
   "cell_type": "code",
   "execution_count": 14,
   "source": [
    "records = [\"05:34 5961 IN\", \"06:00 0000 IN\", \"06:34 0000 OUT\", \"07:59 5961 OUT\", \"07:59 0148 IN\", \"18:59 0000 IN\", \"19:09 0148 OUT\", \"22:59 5961 IN\", \"23:00 5961 OUT\"]\r\n",
    "\r\n",
    "result = []\r\n",
    "for x in records:\r\n",
    "    if \"0000\" in x:\r\n",
    "        result.append(x)\r\n",
    "\r\n",
    "result"
   ],
   "outputs": [
    {
     "output_type": "execute_result",
     "data": {
      "text/plain": [
       "['06:00 0000 IN', '06:34 0000 OUT', '18:59 0000 IN']"
      ]
     },
     "metadata": {},
     "execution_count": 14
    }
   ],
   "metadata": {}
  },
  {
   "cell_type": "markdown",
   "source": [],
   "metadata": {}
  }
 ],
 "metadata": {
  "orig_nbformat": 4,
  "language_info": {
   "name": "python",
   "version": "3.9.6",
   "mimetype": "text/x-python",
   "codemirror_mode": {
    "name": "ipython",
    "version": 3
   },
   "pygments_lexer": "ipython3",
   "nbconvert_exporter": "python",
   "file_extension": ".py"
  },
  "kernelspec": {
   "name": "python3",
   "display_name": "Python 3.9.6 64-bit"
  },
  "interpreter": {
   "hash": "5e6cf233532fef7a60818365bc09bf646f1631a7b8364b595673d05f90179487"
  }
 },
 "nbformat": 4,
 "nbformat_minor": 2
}