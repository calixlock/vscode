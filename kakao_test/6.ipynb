{
 "cells": [
  {
   "cell_type": "code",
   "execution_count": 13,
   "source": [
    "import pandas as pd\r\n",
    "import numpy as np\r\n",
    "b = [[5,5,5,5,5],[5,5,5,5,5],[5,5,5,5,5],[5,5,5,5,5]]\r\n",
    "b = np.array(b)\r\n",
    "s = [[1,0,0,3,4,4],[1,2,0,2,3,2],[2,1,0,3,1,2],[1,0,1,3,3,1]]\r\n",
    "t =s[0][0]\r\n",
    "if t == 1:\r\n",
    "    c1 = s[0][1]\r\n",
    "    r1 = s[0][2]\r\n",
    "    c2 = s[0][3]\r\n",
    "    r2 = s[0][4]\r\n",
    "    x  = s[0][5] * -1\r\n",
    "    s1 = [[-4,-4,-4,-4,-4],[5,5,5,5,5],[5,5,5,5,5],[5,5,5,5,5]]\r\n",
    "b[]\r\n",
    "# b1 = pd.DataFrame(b)\r\n",
    "# b1\r\n"
   ],
   "outputs": [
    {
     "output_type": "execute_result",
     "data": {
      "text/plain": [
       "[0, 0]"
      ]
     },
     "metadata": {},
     "execution_count": 13
    }
   ],
   "metadata": {}
  },
  {
   "cell_type": "code",
   "execution_count": null,
   "source": [],
   "outputs": [],
   "metadata": {}
  },
  {
   "cell_type": "code",
   "execution_count": 183,
   "source": [
    "import pandas as pd\r\n",
    "import numpy as np\r\n",
    "b = [[1,2,3],[4,5,6],[7,8,9]]\r\n",
    "s = [[1,1,1,2,2,4],[1,0,0,1,1,2],[2,2,0,2,0,100]]\r\n",
    "\r\n",
    "b = pd.DataFrame(b)\r\n",
    "skill = pd.DataFrame(np.zeros(b.shape,int))\r\n",
    "for i in range(len(s)) :\r\n",
    "    b1 = pd.DataFrame(np.zeros(b.shape,int))\r\n",
    "    if s[i][0] == 1:\r\n",
    "        x  = s[i][5] * -1\r\n",
    "    else : \r\n",
    "        x  = s[i][5] \r\n",
    "    c1 = s[i][1]\r\n",
    "    r1 = s[i][2]\r\n",
    "    c2 = s[i][3]\r\n",
    "    r2 = s[i][4]\r\n",
    "    \r\n",
    "    b1.iloc[c1:c2+1,r1:r2+1] = x\r\n",
    "    skill += b1\r\n",
    "answer = b + skill\r\n",
    "answer = answer > 0\r\n",
    "answer.sum().sum()"
   ],
   "outputs": [
    {
     "output_type": "execute_result",
     "data": {
      "text/plain": [
       "6"
      ]
     },
     "metadata": {},
     "execution_count": 183
    }
   ],
   "metadata": {}
  },
  {
   "cell_type": "code",
   "execution_count": 192,
   "source": [
    "def solution(board, skill):\r\n",
    "    b = pd.DataFrame(board)\r\n",
    "    s = skill\r\n",
    "    skill = pd.DataFrame(np.zeros(b.shape))\r\n",
    "    for i in range(len(s)) :\r\n",
    "        b1 = pd.DataFrame(np.zeros(b.shape))\r\n",
    "        if s[i][0] == 1:\r\n",
    "            x  = s[i][5] * -1\r\n",
    "        else : \r\n",
    "            x  = s[i][5] \r\n",
    "        c1 = s[i][1]\r\n",
    "        r1 = s[i][2]\r\n",
    "        c2 = s[i][3]\r\n",
    "        r2 = s[i][4]\r\n",
    "\r\n",
    "        b1.iloc[c1:c2+1,r1:r2+1] = x\r\n",
    "        skill += b1\r\n",
    "    answer = b + skill\r\n",
    "    answer = answer > 0\r\n",
    "    answer = answer.sum().sum()\r\n",
    "    return answer\r\n",
    "# solution([[5,5,5,5,5],[5,5,5,5,5],[5,5,5,5,5],[5,5,5,5,5]],[[1,0,0,3,4,4],[1,2,0,2,3,2],[2,1,0,3,1,2],[1,0,1,3,3,1]])\r\n",
    "solution([[1,2,3],[4,5,6],[7,8,9]],[[1,1,1,2,2,4],[1,0,0,1,1,2],[2,2,0,2,0,100]])\r\n",
    "\r\n"
   ],
   "outputs": [
    {
     "output_type": "execute_result",
     "data": {
      "text/plain": [
       "6"
      ]
     },
     "metadata": {},
     "execution_count": 192
    }
   ],
   "metadata": {}
  },
  {
   "cell_type": "code",
   "execution_count": 197,
   "source": [
    "import pandas as pd\r\n",
    "import numpy as np\r\n",
    "import json\r\n",
    "\r\n",
    "def solution(board, skill):\r\n",
    "    b = pd.DataFrame(board)\r\n",
    "    s = skill\r\n",
    "    skill = pd.DataFrame(np.zeros(b.shape))\r\n",
    "    for i in range(len(s)) :\r\n",
    "        b1 = pd.DataFrame(np.zeros(b.shape))\r\n",
    "        if s[i][0] == 1:\r\n",
    "            x  = s[i][5] * -1\r\n",
    "        else : \r\n",
    "            x  = s[i][5] \r\n",
    "        c1 = s[i][1]\r\n",
    "        r1 = s[i][2]\r\n",
    "        c2 = s[i][3]\r\n",
    "        r2 = s[i][4]\r\n",
    "\r\n",
    "        b1.iloc[c1:c2+1,r1:r2+1] = x\r\n",
    "        skill += b1\r\n",
    "    answer = b + skill\r\n",
    "    answer = answer > 0\r\n",
    "    answer = answer.sum().sum()\r\n",
    "\r\n",
    "    return int(answer)\r\n",
    "solution([[1,2,3],[4,5,6],[7,8,9]],[[1,1,1,2,2,4],[1,0,0,1,1,2],[2,2,0,2,0,100]])\r\n"
   ],
   "outputs": [
    {
     "output_type": "execute_result",
     "data": {
      "text/plain": [
       "6"
      ]
     },
     "metadata": {},
     "execution_count": 197
    }
   ],
   "metadata": {}
  }
 ],
 "metadata": {
  "orig_nbformat": 4,
  "language_info": {
   "name": "python",
   "version": "3.9.6",
   "mimetype": "text/x-python",
   "codemirror_mode": {
    "name": "ipython",
    "version": 3
   },
   "pygments_lexer": "ipython3",
   "nbconvert_exporter": "python",
   "file_extension": ".py"
  },
  "kernelspec": {
   "name": "python3",
   "display_name": "Python 3.9.6 64-bit"
  },
  "interpreter": {
   "hash": "5e6cf233532fef7a60818365bc09bf646f1631a7b8364b595673d05f90179487"
  }
 },
 "nbformat": 4,
 "nbformat_minor": 2
}