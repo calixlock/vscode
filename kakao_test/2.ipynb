{
 "cells": [
  {
   "cell_type": "code",
   "execution_count": 7,
   "source": [
    "def solution(n, k):\r\n",
    "    pk = []\r\n",
    "    re = ''\r\n",
    "    while n > 0:\r\n",
    "        n, m = divmod(n, k)\r\n",
    "        re += str(m)\r\n",
    "    re = re[::-1] # k진수 변환 값\r\n",
    "    \r\n",
    "    a = re.index(\"0\") # 첫 0\r\n",
    "    pk.append(re[:a])\r\n",
    "    t = re[a+3]\r\n",
    "\r\n",
    "    return t\r\n",
    "solution(437674,3)"
   ],
   "outputs": [
    {
     "output_type": "execute_result",
     "data": {
      "text/plain": [
       "'1'"
      ]
     },
     "metadata": {},
     "execution_count": 7
    }
   ],
   "metadata": {}
  }
 ],
 "metadata": {
  "orig_nbformat": 4,
  "language_info": {
   "name": "python",
   "version": "3.9.6",
   "mimetype": "text/x-python",
   "codemirror_mode": {
    "name": "ipython",
    "version": 3
   },
   "pygments_lexer": "ipython3",
   "nbconvert_exporter": "python",
   "file_extension": ".py"
  },
  "kernelspec": {
   "name": "python3",
   "display_name": "Python 3.9.6 64-bit"
  },
  "interpreter": {
   "hash": "5e6cf233532fef7a60818365bc09bf646f1631a7b8364b595673d05f90179487"
  }
 },
 "nbformat": 4,
 "nbformat_minor": 2
}