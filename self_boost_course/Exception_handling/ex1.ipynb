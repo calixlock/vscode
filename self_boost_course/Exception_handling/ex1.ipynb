{
 "cells": [
  {
   "cell_type": "code",
   "execution_count": 2,
   "metadata": {},
   "outputs": [
    {
     "name": "stdout",
     "output_type": "stream",
     "text": [
      "0로 나눌수 없다\n",
      "10.0\n",
      "5.0\n",
      "3.3333333333333335\n",
      "2.5\n",
      "2.0\n",
      "1.6666666666666667\n",
      "1.4285714285714286\n",
      "1.25\n",
      "1.1111111111111112\n"
     ]
    }
   ],
   "source": [
    "for i in range(10):\n",
    "    try:\n",
    "        print(10/i)\n",
    "    except ZeroDivisionError:\n",
    "        print(f\"{i}로 나눌수 없다\")\n"
   ]
  },
  {
   "cell_type": "code",
   "execution_count": 11,
   "metadata": {},
   "outputs": [
    {
     "name": "stdout",
     "output_type": "stream",
     "text": [
      "Error , Not divided by 0\n",
      "1 10\n",
      "i = 1 , a = [1, 2, 3, 4, 5]\n",
      "2 5\n",
      "i = 2 , a = [1, 2, 3, 4, 5]\n",
      "3 3\n",
      "i = 3 , a = [1, 2, 3, 4, 5]\n",
      "4 2\n",
      "i = 4 , a = [1, 2, 3, 4, 5]\n",
      "5 2\n",
      "i = 5 , a = [1, 2, 3, 4, 5]\n",
      "6 1\n",
      "i = 6 , a = [1, 2, 3, 4, 5]\n",
      "7 1\n",
      "i = 7 , a = [1, 2, 3, 4, 5]\n",
      "8 1\n",
      "i = 8 , a = [1, 2, 3, 4, 5]\n",
      "9 1\n",
      "i = 9 , a = [1, 2, 3, 4, 5]\n"
     ]
    }
   ],
   "source": [
    "a = list(range(1,6))\n",
    "for i in range(10):\n",
    "    try :\n",
    "        print(i,10//i)\n",
    "        print(f'i = {i} , a = {a}')\n",
    "    except ZeroDivisionError:\n",
    "        print('Error , Not divided by 0')\n",
    "    # except IndexError as e :\n",
    "        # print(e)\n",
    "    except Exception as e : # 일반적인 exception을 잡지만 코드가 길 경우 무슨 에러인지 위치를 알기 어렵다.\n",
    "         print(e)"
   ]
  }
 ],
 "metadata": {
  "interpreter": {
   "hash": "5e6cf233532fef7a60818365bc09bf646f1631a7b8364b595673d05f90179487"
  },
  "kernelspec": {
   "display_name": "Python 3.9.6 64-bit",
   "name": "python3"
  },
  "language_info": {
   "codemirror_mode": {
    "name": "ipython",
    "version": 3
   },
   "file_extension": ".py",
   "mimetype": "text/x-python",
   "name": "python",
   "nbconvert_exporter": "python",
   "pygments_lexer": "ipython3",
   "version": "3.9.6"
  },
  "orig_nbformat": 4
 },
 "nbformat": 4,
 "nbformat_minor": 2
}
