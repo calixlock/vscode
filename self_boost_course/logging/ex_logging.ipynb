{
 "cells": [
  {
   "cell_type": "code",
   "execution_count": null,
   "metadata": {},
   "outputs": [],
   "source": [
    "import logging\n",
    "\n",
    "# 개발 시점\n",
    "logging.debug(\"틀린것, 오류 확인\") \n",
    "# 운영 시점 / 처리가 진행되는 동안의 정보 알림\n",
    "logging.info(\"정보를 주는 것, 확인\") \n",
    "# 사용자의 잘못 입력한 정보처리 / 개발시 의도치 않은 정보가 들어왔을 때 / 사용자에게 알려줌 \n",
    "logging.warning(\"조심을 해라 exception 발생\") \n",
    "# 잘못된 처리로 인해 에러남 , 프로그램은 동작 가능할 수 있음\n",
    "logging.error(\"에러남\")\n",
    "logging.critical(\"프로그램 종료됨, 최악상황 발생\")"
   ]
  }
 ],
 "metadata": {
  "language_info": {
   "name": "python"
  },
  "orig_nbformat": 4
 },
 "nbformat": 4,
 "nbformat_minor": 2
}
