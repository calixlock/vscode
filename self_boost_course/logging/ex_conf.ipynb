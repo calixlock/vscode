{
 "cells": [
  {
   "cell_type": "code",
   "execution_count": 16,
   "metadata": {},
   "outputs": [
    {
     "name": "stdout",
     "output_type": "stream",
     "text": [
      "['SectionOne', 'SectionTwo', 'SectionThree']\n",
      "[SectionOne]\n",
      "status : Single\n",
      "name : Derek\n",
      "value : Yes\n",
      "age : 30\n",
      "single : True\n",
      "[SectionTwo]\n",
      "favoritecolor : Green\n",
      "[SectionThree]\n",
      "familyname : Johnson\n"
     ]
    }
   ],
   "source": [
    "import configparser\n",
    "config = configparser.ConfigParser()\n",
    "# config.sections()\n",
    "config.read('example.cfg')\n",
    "print(config.sections())\n",
    "for k1 in config.sections():\n",
    "    print(f'[{k1}]')\n",
    "    for k2 in config[k1]:\n",
    "        v = config[k1][k2]\n",
    "        \n",
    "        print(f'{k2} : {v}')\n"
   ]
  }
 ],
 "metadata": {
  "interpreter": {
   "hash": "5e6cf233532fef7a60818365bc09bf646f1631a7b8364b595673d05f90179487"
  },
  "kernelspec": {
   "display_name": "Python 3.9.6 64-bit",
   "name": "python3"
  },
  "language_info": {
   "codemirror_mode": {
    "name": "ipython",
    "version": 3
   },
   "file_extension": ".py",
   "mimetype": "text/x-python",
   "name": "python",
   "nbconvert_exporter": "python",
   "pygments_lexer": "ipython3",
   "version": "3.9.6"
  },
  "orig_nbformat": 4
 },
 "nbformat": 4,
 "nbformat_minor": 2
}
