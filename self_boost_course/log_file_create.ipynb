{
 "cells": [
  {
   "cell_type": "code",
   "execution_count": 6,
   "metadata": {},
   "outputs": [],
   "source": [
    "import os, random, datetime , time\n",
    "\n",
    "if not os.path.isdir('log'): # log 디렉토리 있는지 확인\n",
    "    os.mkdir('log')\n",
    "if not os.path.exists('log/count_log.txt'): # log 디렉토리 속 count_log 파일 유무 확인\n",
    "    with open ('log/count_log.txt','w', encoding='utf8') as f:\n",
    "        f.write(\"기록이 시작됩니다.\\n\")\n",
    "\n",
    "with open ('log/count_log.txt','a', encoding='utf8') as f:\n",
    "        for i in range(1,11):\n",
    "            stamp = str(datetime.datetime.now())\n",
    "            value = random.random() * 1000000\n",
    "            log_line = f'{stamp}\\t{str(value)} 값이 생성되었습니다.\\n'\n",
    "            f.write(log_line)\n",
    "            time.sleep(0.1)\n"
   ]
  },
  {
   "cell_type": "code",
   "execution_count": 4,
   "metadata": {},
   "outputs": [],
   "source": [
    "import time"
   ]
  }
 ],
 "metadata": {
  "interpreter": {
   "hash": "5e6cf233532fef7a60818365bc09bf646f1631a7b8364b595673d05f90179487"
  },
  "kernelspec": {
   "display_name": "Python 3.9.6 64-bit",
   "name": "python3"
  },
  "language_info": {
   "codemirror_mode": {
    "name": "ipython",
    "version": 3
   },
   "file_extension": ".py",
   "mimetype": "text/x-python",
   "name": "python",
   "nbconvert_exporter": "python",
   "pygments_lexer": "ipython3",
   "version": "3.9.6"
  },
  "orig_nbformat": 4
 },
 "nbformat": 4,
 "nbformat_minor": 2
}
