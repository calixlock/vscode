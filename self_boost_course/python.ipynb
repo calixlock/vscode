{
 "cells": [
  {
   "cell_type": "code",
   "execution_count": 6,
   "metadata": {},
   "outputs": [],
   "source": [
    "# class example\n",
    "\n",
    "class SP(object):\n",
    "    def __init__ (self, name : str , position : str, back_number : int) :\n",
    "        self.name = name\n",
    "        self.position = position\n",
    "        self.back_number = back_number\n",
    "        print(f\"이선수의 이름은 {name}, 포지션은 {position}, 등번호는 {back_number} 입니다.\")\n",
    "\n",
    "abc = SP(\"kim\",\"fw\",7)\n",
    "ddd = SP(\"0\",21,5)\n"
   ]
  },
  {
   "cell_type": "code",
   "execution_count": 13,
   "metadata": {},
   "outputs": [],
   "source": [
    "# [ex] notebook scheme\n",
    "\n",
    "class Note(object):\n",
    "    def __init__(self, content = None) :\n",
    "        self.content = content\n",
    "    def __add__(self, other):\n",
    "        return self.content + other.content\n",
    "    def __str__(self):\n",
    "        return self.content\n",
    "    def write_content(self,content):\n",
    "        self.content = content\n",
    "    def remove_all(self):\n",
    "        self.content = \"\"\n",
    "\n",
    "class NoteBook(object):\n",
    "    def __init__(self,title) :\n",
    "        self.title = title\n",
    "        self.page_number = 1\n",
    "        self.notes = {}\n",
    "\n",
    "    def add_note(self, note, page = 0):\n",
    "        if self.page_number < 300:\n",
    "            if page == 0:\n",
    "                self.notes[self.page_number] = note\n",
    "                self.page_number += 1\n",
    "            else:\n",
    "                self.notes = {page : note}\n",
    "                self.page_number += 1\n",
    "        else :\n",
    "            print(\"page가 모두 채워졌습니다.\")\n",
    "    def remove_note(self, page_number):\n",
    "        if page_number in self.notes.keys():\n",
    "            return self.notes.pop(page_number)\n",
    "        else:\n",
    "            print(\"해당 페이지는 존재하지 않습니다.\")\n",
    "\n",
    "    def get_number_of_pages(self):\n",
    "        return len(self.notes.keys())\n",
    "\n",
    "    "
   ]
  },
  {
   "cell_type": "code",
   "execution_count": null,
   "metadata": {},
   "outputs": [],
   "source": []
  },
  {
   "cell_type": "code",
   "execution_count": 11,
   "metadata": {},
   "outputs": [
    {
     "name": "stdout",
     "output_type": "stream",
     "text": [
      "이선수의 이름은 kim, 포지션은 fw, 등번호는 7 입니다.\n",
      "이선수의 이름은 0, 포지션은 21, 등번호는 5 입니다.\n"
     ]
    }
   ],
   "source": []
  }
 ],
 "metadata": {
  "interpreter": {
   "hash": "5e6cf233532fef7a60818365bc09bf646f1631a7b8364b595673d05f90179487"
  },
  "kernelspec": {
   "display_name": "Python 3.9.6 64-bit",
   "name": "python3"
  },
  "language_info": {
   "codemirror_mode": {
    "name": "ipython",
    "version": 3
   },
   "file_extension": ".py",
   "mimetype": "text/x-python",
   "name": "python",
   "nbconvert_exporter": "python",
   "pygments_lexer": "ipython3",
   "version": "3.9.6"
  },
  "orig_nbformat": 4
 },
 "nbformat": 4,
 "nbformat_minor": 2
}
