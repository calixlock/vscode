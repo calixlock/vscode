{
 "cells": [
  {
   "cell_type": "code",
   "execution_count": 1,
   "metadata": {},
   "outputs": [
    {
     "data": {
      "text/plain": [
       "'4.5.2'"
      ]
     },
     "execution_count": 1,
     "metadata": {},
     "output_type": "execute_result"
    }
   ],
   "source": [
    "import cv2\n",
    "cv2.__version__"
   ]
  },
  {
   "cell_type": "code",
   "execution_count": 5,
   "metadata": {},
   "outputs": [],
   "source": [
    "# 이미지 불러오기 # 이미지 무료 사이트 : pixabay\n",
    "\n",
    "img = cv2.imread('img.jpg')\n",
    "\n",
    "cv2.imshow('window_name',img)\n",
    "cv2.waitKey(1000) # 0는 무한정 대기 + 입력값 나올때까지 대기  // 지정된 시긴동한 대기\n",
    "cv2.destroyAllWindows() # 모든창 닫기"
   ]
  },
  {
   "cell_type": "code",
   "execution_count": null,
   "metadata": {},
   "outputs": [],
   "source": [
    "# 읽기 옵션\n",
    "\n",
    "# cv2.IMREAD_COLOR: 컬러 이미지 투명 무시 (default 값)\n",
    "# cv2.IMREAD_GRAYSCALE : 흑백\n",
    "# cs2.IMREAD_UNCHANGED : 투명 영역 포함"
   ]
  },
  {
   "cell_type": "code",
   "execution_count": null,
   "metadata": {},
   "outputs": [],
   "source": [
    "img_color = cv2.imread('img.jpg',cv2.IMREAD_COLOR)\n",
    "img_gray = cv2.imread('img.jpg',cv2.IMREAD_GRAYSCALE)\n",
    "img_unchanged = cv2.imread('img.jpg',cv2.IMREAD_UNCHANGED)\n",
    "\n",
    "cv2.imshow('window_name',img_color)\n",
    "cv2.imshow('window_name',img_gray)\n",
    "cv2.imshow('window_name',img_unchanged)\n",
    "\n",
    "cv2.waitKey(1000) # 0는 무한정 대기 + 입력값 나올때까지 대기  // 지정된 시긴동한 대기\n",
    "cv2.destroyAllWindows() # 모든창 닫기\n",
    "\n"
   ]
  }
 ],
 "metadata": {
  "interpreter": {
   "hash": "5e6cf233532fef7a60818365bc09bf646f1631a7b8364b595673d05f90179487"
  },
  "kernelspec": {
   "display_name": "Python 3.9.6 64-bit",
   "language": "python",
   "name": "python3"
  },
  "language_info": {
   "codemirror_mode": {
    "name": "ipython",
    "version": 3
   },
   "file_extension": ".py",
   "mimetype": "text/x-python",
   "name": "python",
   "nbconvert_exporter": "python",
   "pygments_lexer": "ipython3",
   "version": "3.9.6"
  },
  "orig_nbformat": 4
 },
 "nbformat": 4,
 "nbformat_minor": 2
}
