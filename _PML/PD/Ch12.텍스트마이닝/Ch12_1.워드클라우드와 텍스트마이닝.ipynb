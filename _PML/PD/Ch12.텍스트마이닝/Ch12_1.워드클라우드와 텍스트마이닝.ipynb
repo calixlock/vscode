{
 "cells": [
  {
   "cell_type": "markdown",
   "metadata": {},
   "source": [
    "# Ch12_1.워드클라우드와 텍스트마이닝"
   ]
  },
  {
   "cell_type": "markdown",
   "metadata": {},
   "source": [
    "## 1.기본 package 설정\n",
    "- 한글을 사용하기 위해 세종사전을 이용\n",
    "- 세종사전이 세팅되지 않을 때는 JAVA jdk를 설치해야 함\n",
    "- pip install konlpy\n",
    "- pip install wordcloud\n"
   ]
  },
  {
   "cell_type": "code",
   "execution_count": 1,
   "metadata": {},
   "outputs": [],
   "source": [
    "## 기본\n",
    "import numpy as np  # numpy 패키지 가져오기\n",
    "import pandas as pd # pandas 패키지 가져오기\n",
    "import matplotlib.pyplot as plt # 시각화 패키지 가져오기\n",
    "\n",
    "## 데이터 전처리\n",
    "from konlpy.tag import Twitter\n",
    "from collections import Counter\n",
    "from wordcloud import WordCloud"
   ]
  },
  {
   "cell_type": "markdown",
   "metadata": {},
   "source": [
    "## 2.데이터 가져오기"
   ]
  },
  {
   "cell_type": "markdown",
   "metadata": {},
   "source": [
    "### 2.1 원본데이터(csv)를 dataframe 형태로 가져오기(pandas)"
   ]
  },
  {
   "cell_type": "code",
   "execution_count": 2,
   "metadata": {},
   "outputs": [
    {
     "data": {
      "text/html": [
       "<div>\n",
       "<style scoped>\n",
       "    .dataframe tbody tr th:only-of-type {\n",
       "        vertical-align: middle;\n",
       "    }\n",
       "\n",
       "    .dataframe tbody tr th {\n",
       "        vertical-align: top;\n",
       "    }\n",
       "\n",
       "    .dataframe thead th {\n",
       "        text-align: right;\n",
       "    }\n",
       "</style>\n",
       "<table border=\"1\" class=\"dataframe\">\n",
       "  <thead>\n",
       "    <tr style=\"text-align: right;\">\n",
       "      <th></th>\n",
       "      <th>번호</th>\n",
       "      <th>재학생구분</th>\n",
       "      <th>학년/학기</th>\n",
       "      <th>학과</th>\n",
       "      <th>성별</th>\n",
       "      <th>text</th>\n",
       "    </tr>\n",
       "  </thead>\n",
       "  <tbody>\n",
       "    <tr>\n",
       "      <td>0</td>\n",
       "      <td>65</td>\n",
       "      <td>대학</td>\n",
       "      <td>1</td>\n",
       "      <td>인문계열</td>\n",
       "      <td>여</td>\n",
       "      <td>1학기 때 책 읽으려고 갔는데 먼지가 있었어요. 그래서 책상에 먼지가 없었으면 좋겠어요.</td>\n",
       "    </tr>\n",
       "    <tr>\n",
       "      <td>1</td>\n",
       "      <td>78</td>\n",
       "      <td>대학</td>\n",
       "      <td>3</td>\n",
       "      <td>사회계열</td>\n",
       "      <td>여</td>\n",
       "      <td>KC대학교도서관 재건축해주세요</td>\n",
       "    </tr>\n",
       "    <tr>\n",
       "      <td>2</td>\n",
       "      <td>100</td>\n",
       "      <td>대학</td>\n",
       "      <td>1</td>\n",
       "      <td>사회계열</td>\n",
       "      <td>여</td>\n",
       "      <td>개인스터디할공간이 필요</td>\n",
       "    </tr>\n",
       "    <tr>\n",
       "      <td>3</td>\n",
       "      <td>129</td>\n",
       "      <td>대학</td>\n",
       "      <td>4</td>\n",
       "      <td>인문계열</td>\n",
       "      <td>여</td>\n",
       "      <td>건물 재건축 및 교체, 내부 리모델링</td>\n",
       "    </tr>\n",
       "    <tr>\n",
       "      <td>4</td>\n",
       "      <td>37</td>\n",
       "      <td>대학</td>\n",
       "      <td>2</td>\n",
       "      <td>인문계열</td>\n",
       "      <td>남</td>\n",
       "      <td>공부를 할 수 있는 시설이 개선되었으면 좋겠습니다</td>\n",
       "    </tr>\n",
       "  </tbody>\n",
       "</table>\n",
       "</div>"
      ],
      "text/plain": [
       "    번호 재학생구분  학년/학기    학과 성별  \\\n",
       "0   65    대학      1  인문계열  여   \n",
       "1   78    대학      3  사회계열  여   \n",
       "2  100    대학      1  사회계열  여   \n",
       "3  129    대학      4  인문계열  여   \n",
       "4   37    대학      2  인문계열  남   \n",
       "\n",
       "                                                text  \n",
       "0  1학기 때 책 읽으려고 갔는데 먼지가 있었어요. 그래서 책상에 먼지가 없었으면 좋겠어요.  \n",
       "1                                   KC대학교도서관 재건축해주세요  \n",
       "2                                       개인스터디할공간이 필요  \n",
       "3                               건물 재건축 및 교체, 내부 리모델링  \n",
       "4                        공부를 할 수 있는 시설이 개선되었으면 좋겠습니다  "
      ]
     },
     "execution_count": 2,
     "metadata": {},
     "output_type": "execute_result"
    }
   ],
   "source": [
    "df = pd.read_csv('data.csv', encoding = 'cp949')\n",
    "df.head()"
   ]
  },
  {
   "cell_type": "markdown",
   "metadata": {},
   "source": [
    "## 3.명사단어 추출"
   ]
  },
  {
   "cell_type": "markdown",
   "metadata": {},
   "source": [
    "### 3.1 세종사전 실행"
   ]
  },
  {
   "cell_type": "code",
   "execution_count": 3,
   "metadata": {},
   "outputs": [
    {
     "name": "stderr",
     "output_type": "stream",
     "text": [
      "C:\\Users\\leecho\\Anaconda3\\lib\\site-packages\\konlpy\\tag\\_okt.py:16: UserWarning: \"Twitter\" has changed to \"Okt\" since KoNLPy v0.4.5.\n",
      "  warn('\"Twitter\" has changed to \"Okt\" since KoNLPy v0.4.5.')\n",
      "C:\\Users\\leecho\\Anaconda3\\lib\\site-packages\\jpype\\_core.py:210: UserWarning: \n",
      "-------------------------------------------------------------------------------\n",
      "Deprecated: convertStrings was not specified when starting the JVM. The default\n",
      "behavior in JPype will be False starting in JPype 0.8. The recommended setting\n",
      "for new code is convertStrings=False.  The legacy value of True was assumed for\n",
      "this session. If you are a user of an application that reported this warning,\n",
      "please file a ticket with the developer.\n",
      "-------------------------------------------------------------------------------\n",
      "\n",
      "  \"\"\")\n"
     ]
    }
   ],
   "source": [
    "from konlpy.tag import Twitter\n",
    "twitter = Twitter()"
   ]
  },
  {
   "cell_type": "markdown",
   "metadata": {},
   "source": [
    "### 3.2 단어 리스트 만들기"
   ]
  },
  {
   "cell_type": "code",
   "execution_count": 4,
   "metadata": {},
   "outputs": [],
   "source": [
    "word_list = []\n",
    "word_list =df['text']"
   ]
  },
  {
   "cell_type": "markdown",
   "metadata": {},
   "source": [
    "### 3.3 형태소 분리"
   ]
  },
  {
   "cell_type": "code",
   "execution_count": 5,
   "metadata": {},
   "outputs": [
    {
     "name": "stdout",
     "output_type": "stream",
     "text": [
      "[('해당', 'Noun'), ('학기', 'Noun'), ('에', 'Josa'), ('쓰는', 'Verb'), ('전', 'Modifier'), ('공책', 'Noun'), ('등', 'Noun'), ('을', 'Josa'), ('구비', 'Noun'), ('하고', 'Josa'), (',', 'Punctuation'), ('그', 'Noun'), ('외', 'Noun'), ('에도', 'Josa'), ('최신', 'Noun'), ('도서', 'Noun'), ('들', 'Suffix'), ('이', 'Josa'), ('들어왔으면', 'Verb'), ('좋겠다', 'Adjective')]\n"
     ]
    }
   ],
   "source": [
    "sentences_tag = []\n",
    "\n",
    "for sentence in word_list:\n",
    "    morph = twitter.pos(sentence)\n",
    "    sentences_tag.append(morph)\n",
    "\n",
    "print(morph)"
   ]
  },
  {
   "cell_type": "markdown",
   "metadata": {},
   "source": [
    "### 3.4. 명사만 추출"
   ]
  },
  {
   "cell_type": "code",
   "execution_count": 6,
   "metadata": {},
   "outputs": [],
   "source": [
    "noun_list = []\n",
    "for sentence in sentences_tag:\n",
    "    for word, tag in sentence:\n",
    "        if tag in ['Noun']:\n",
    "            noun_list.append(word)"
   ]
  },
  {
   "cell_type": "markdown",
   "metadata": {},
   "source": [
    "### 3.5 두 단어 이상만 추출"
   ]
  },
  {
   "cell_type": "code",
   "execution_count": 7,
   "metadata": {},
   "outputs": [
    {
     "data": {
      "text/plain": [
       "['학기',\n",
       " '먼지',\n",
       " '책상',\n",
       " '먼지',\n",
       " '대학교',\n",
       " '도서관',\n",
       " '재건축',\n",
       " '개인',\n",
       " '스터디',\n",
       " '공간',\n",
       " '필요',\n",
       " '건물',\n",
       " '재건축',\n",
       " '교체',\n",
       " '내부',\n",
       " '모델링',\n",
       " '공부',\n",
       " '시설',\n",
       " '개선',\n",
       " '공부',\n",
       " '공간',\n",
       " '마련',\n",
       " '공간',\n",
       " '차서',\n",
       " '공간',\n",
       " '보통',\n",
       " '다른',\n",
       " '대학',\n",
       " '모든',\n",
       " '학생',\n",
       " '공부',\n",
       " '저희',\n",
       " '고등학교',\n",
       " '저희',\n",
       " '학교',\n",
       " '자부심',\n",
       " '논문',\n",
       " '열람',\n",
       " '사이트',\n",
       " '학교',\n",
       " '계해',\n",
       " '학생',\n",
       " '이용',\n",
       " '또한',\n",
       " '도서관',\n",
       " '독서실',\n",
       " '시설',\n",
       " '변경',\n",
       " '제발',\n",
       " '대출',\n",
       " '불가',\n",
       " '도서',\n",
       " '대여',\n",
       " '복사기',\n",
       " '대여',\n",
       " '복사',\n",
       " '복사',\n",
       " '대학원',\n",
       " '전공',\n",
       " '관련',\n",
       " '국내외',\n",
       " '참고도서',\n",
       " '구비',\n",
       " '도서관',\n",
       " '도서관',\n",
       " '컴퓨터',\n",
       " '공간',\n",
       " '다른',\n",
       " '공간',\n",
       " '공기',\n",
       " '조금',\n",
       " '기침',\n",
       " '정도',\n",
       " '먼지털이',\n",
       " '걸레',\n",
       " '한번',\n",
       " '청소',\n",
       " '공기청정기',\n",
       " '설치',\n",
       " '도서관',\n",
       " '건물',\n",
       " '시설',\n",
       " '개설',\n",
       " '도서관',\n",
       " '모델링',\n",
       " '낙후',\n",
       " '도서관',\n",
       " '책장',\n",
       " '도서관',\n",
       " '공간',\n",
       " '경우',\n",
       " '사람',\n",
       " '생각',\n",
       " '우리',\n",
       " '학교',\n",
       " '도서관',\n",
       " '매우',\n",
       " '우리',\n",
       " '학교',\n",
       " '도서관']"
      ]
     },
     "execution_count": 7,
     "metadata": {},
     "output_type": "execute_result"
    }
   ],
   "source": [
    "len(noun_list)\n",
    "\n",
    "noun_list = [n for n in noun_list if len(n) > 1]\n",
    "noun_list[:100]"
   ]
  },
  {
   "cell_type": "markdown",
   "metadata": {},
   "source": [
    "### 3.6 단어 카운트"
   ]
  },
  {
   "cell_type": "code",
   "execution_count": 8,
   "metadata": {},
   "outputs": [
    {
     "data": {
      "text/plain": [
       "[('도서관', 36),\n",
       " ('공간', 28),\n",
       " ('공부', 17),\n",
       " ('시설', 12),\n",
       " ('학교', 12),\n",
       " ('학생', 11),\n",
       " ('도서', 11),\n",
       " ('이용', 10),\n",
       " ('환경', 9),\n",
       " ('최신', 9),\n",
       " ('생각', 8),\n",
       " ('자료', 8),\n",
       " ('열람', 7),\n",
       " ('조금', 7),\n",
       " ('학습', 6),\n",
       " ('개선', 5),\n",
       " ('다른', 5),\n",
       " ('먼지', 4),\n",
       " ('개인', 4),\n",
       " ('건물', 4),\n",
       " ('관련', 4),\n",
       " ('우리', 4),\n",
       " ('부분', 4),\n",
       " ('학기', 3),\n",
       " ('스터디', 3),\n",
       " ('모델링', 3),\n",
       " ('마련', 3),\n",
       " ('대학', 3),\n",
       " ('저희', 3),\n",
       " ('전공', 3)]"
      ]
     },
     "execution_count": 8,
     "metadata": {},
     "output_type": "execute_result"
    }
   ],
   "source": [
    "counts = Counter(noun_list)\n",
    "tags = counts.most_common(30)\n",
    "tags"
   ]
  },
  {
   "cell_type": "markdown",
   "metadata": {},
   "source": [
    "## 4.WordCloud생성"
   ]
  },
  {
   "cell_type": "code",
   "execution_count": 9,
   "metadata": {},
   "outputs": [
    {
     "name": "stdout",
     "output_type": "stream",
     "text": [
      "{'도서관': 36, '공간': 28, '공부': 17, '시설': 12, '학교': 12, '학생': 11, '도서': 11, '이용': 10, '환경': 9, '최신': 9, '생각': 8, '자료': 8, '열람': 7, '조금': 7, '학습': 6, '개선': 5, '다른': 5, '먼지': 4, '개인': 4, '건물': 4, '관련': 4, '우리': 4, '부분': 4, '학기': 3, '스터디': 3, '모델링': 3, '마련': 3, '대학': 3, '저희': 3, '전공': 3}\n"
     ]
    },
    {
     "data": {
      "image/png": "[encoded data removed]",
      "text/plain": [
       "<Figure size 720x576 with 1 Axes>"
      ]
     },
     "metadata": {
      "needs_background": "light"
     },
     "output_type": "display_data"
    }
   ],
   "source": [
    "wordcloud = WordCloud(font_path='C:/Windows/Fonts/malgun.ttf',\n",
    "                      background_color='white',\n",
    "                      width=800,\n",
    "                      height=600)\n",
    "\n",
    "print(dict(tags))\n",
    "\n",
    "cloud = wordcloud.generate_from_frequencies(dict(tags))\n",
    "plt.figure(figsize=(10, 8))\n",
    "plt.axis('off')\n",
    "plt.imshow(cloud)\n",
    "plt.show()"
   ]
  },
  {
   "cell_type": "code",
   "execution_count": null,
   "metadata": {},
   "outputs": [],
   "source": []
  },
  {
   "cell_type": "code",
   "execution_count": null,
   "metadata": {},
   "outputs": [],
   "source": []
  }
 ],
 "metadata": {
  "kernelspec": {
   "display_name": "Python 3",
   "language": "python",
   "name": "python3"
  },
  "language_info": {
   "codemirror_mode": {
    "name": "ipython",
    "version": 3
   },
   "file_extension": ".py",
   "mimetype": "text/x-python",
   "name": "python",
   "nbconvert_exporter": "python",
   "pygments_lexer": "ipython3",
   "version": "3.7.3"
  }
 },
 "nbformat": 4,
 "nbformat_minor": 2
}
