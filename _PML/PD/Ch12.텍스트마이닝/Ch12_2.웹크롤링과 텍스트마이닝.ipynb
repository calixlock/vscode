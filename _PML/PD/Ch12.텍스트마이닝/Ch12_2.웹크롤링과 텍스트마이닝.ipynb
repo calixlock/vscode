{
 "cells": [
  {
   "cell_type": "markdown",
   "metadata": {},
   "source": [
    "# Ch12_2.웹크롤링과 텍스트마이닝"
   ]
  },
  {
   "cell_type": "markdown",
   "metadata": {},
   "source": [
    "## 1.기본 package 설정\n",
    "- pip install beautifulSoup\n",
    "- 참고문헌\n",
    "- https://bumcrush.tistory.com/116\n",
    "- https://myjamong.tistory.com/48"
   ]
  },
  {
   "cell_type": "code",
   "execution_count": 1,
   "metadata": {},
   "outputs": [],
   "source": [
    "## 기본\n",
    "import numpy as np  # numpy 패키지 가져오기\n",
    "import pandas as pd # pandas 패키지 가져오기\n",
    "import matplotlib.pyplot as plt # 시각화 패키지 가져오기\n",
    "\n",
    "## 데이터 전처리\n",
    "from konlpy.tag import Twitter\n",
    "from collections import Counter\n",
    "from wordcloud import WordCloud\n",
    "\n",
    "from bs4 import BeautifulSoup\n",
    "import requests"
   ]
  },
  {
   "cell_type": "markdown",
   "metadata": {},
   "source": [
    "## 2.크롤링"
   ]
  },
  {
   "cell_type": "code",
   "execution_count": 2,
   "metadata": {},
   "outputs": [],
   "source": [
    "search = \"빅데이터\"  # 검색어 지정\n",
    "title_list = []"
   ]
  },
  {
   "cell_type": "code",
   "execution_count": 3,
   "metadata": {},
   "outputs": [],
   "source": [
    "def crawler(start, end):\n",
    "    while 1:\n",
    "\n",
    "        if start > end: # 페이지 번호\n",
    "            break        \n",
    "        \n",
    "        url = 'https://search.naver.com/search.naver?where=news&sm=tab_jum&query={}&start={}'.format(search,start)\n",
    "        req = requests.get(url)\n",
    " \n",
    "        html = req.text\n",
    "        soup = BeautifulSoup(html, 'html.parser')\n",
    "\n",
    "        titles = soup.select(\n",
    "                'ul.type01 > li > dl > dt > a')\n",
    "\n",
    "        for title in titles:\n",
    "            title_list.append(title['title'])\n",
    "        start += 10\n",
    "\n",
    "        print(titles)"
   ]
  },
  {
   "cell_type": "code",
   "execution_count": 4,
   "metadata": {},
   "outputs": [
    {
     "name": "stdout",
     "output_type": "stream",
     "text": [
      "[<a class=\"_sp_each_title\" href=\"https://www.hankyung.com/politics/article/2019111856941\" onclick=\"return goOtherCR(this, 'a=nws*a.tit&amp;r=1&amp;i=88000107_000000000000000004243430&amp;g=015.0004243430&amp;u='+urlencode(this.href));\" target=\"_blank\" title=\"'빅데이터 3법' 19일 처리한다더니…지각 심사로 무산\">'<strong class=\"hl\">빅데이터</strong> 3법' 19일 처리한다더니…지각 심사로 무산</a>, <a class=\"_sp_each_title\" href=\"http://news.mk.co.kr/newsRead.php?year=2019&amp;no=958109\" onclick=\"return goOtherCR(this, 'a=nws*j.tit&amp;r=3&amp;i=880000BC_000000000000000004466106&amp;g=009.0004466106&amp;u='+urlencode(this.href));\" target=\"_blank\" title='빅데이터가 `콕`…\"종각 떡볶이·여의도 꽃집 창업유망\"'><strong class=\"hl\">빅데이터</strong>가 `콕`…\"종각 떡볶이·여의도 꽃집 창업유망\"</a>, <a class=\"_sp_each_url _sp_each_title\" href=\"http://www.datanet.co.kr/news/articleView.html?idxno=139332\" onclick=\"return goOtherCR(this, 'a=nws*b.tit&amp;r=4&amp;i=880005C7_000000000000000000093751&amp;g=5096.0000093751&amp;u='+urlencode(this.href));\" target=\"_blank\" title=\"엑셈, 경기도 지역경제 빅데이터 플랫폼 용역 계약 체결\">엑셈, 경기도 지역경제 <strong class=\"hl\">빅데이터</strong> 플랫폼 용역 계약 체결</a>, <a class=\"_sp_each_title\" href=\"http://www.etnews.com/20191118000099\" onclick=\"return goOtherCR(this, 'a=nws*a.tit&amp;r=6&amp;i=880000EA_000000000000000002852166&amp;g=030.0002852166&amp;u='+urlencode(this.href));\" target=\"_blank\" title=\"엑셈, 경기도 지역경제 빅데이터 사업 수주\">엑셈, 경기도 지역경제 <strong class=\"hl\">빅데이터</strong> 사업 수주</a>, <a class=\"_sp_each_url _sp_each_title\" href=\"http://www.thebigdata.co.kr/view.php?ud=20191118073452431507d270612f_23\" onclick=\"return goOtherCR(this, 'a=nws*b.tit&amp;r=8&amp;i=881843ee_000000000000000000052191&amp;g=5645.0000052191&amp;u='+urlencode(this.href));\" target=\"_blank\" title=\"저축은행 브랜드평판 11월 빅데이터 분석 1위는 'SBI저축은행'\">저축은행 브랜드평판 11월 <strong class=\"hl\">빅데이터</strong> 분석 1위는 'SBI저축은행'</a>, <a class=\"_sp_each_url _sp_each_title\" href=\"http://www.idomin.com/news/articleView.html?idxno=713044\" onclick=\"return goOtherCR(this, 'a=nws*b.tit&amp;r=13&amp;i=8811CF2E_000000000000000000202732&amp;g=5163.0000202732&amp;u='+urlencode(this.href));\" target=\"_blank\" title=\"경남대 LINC+사업단 빅데이터 대회 장려\">경남대 LINC+사업단 <strong class=\"hl\">빅데이터</strong> 대회 장려</a>, <a class=\"_sp_each_url _sp_each_title\" href=\"http://www.newskr.kr/news/articleView.html?idxno=33236\" onclick=\"return goOtherCR(this, 'a=nws*b.tit&amp;r=15&amp;i=8817ca55_000000000000000000014955&amp;g=5555.0000014955&amp;u='+urlencode(this.href));\" target=\"_blank\" title=\"[ 빅데이터분석 ] 캐피탈 2019년 11월 브랜드평판... 1위 현대캐피탈, 2위 하나캐피탈, 3위 한국캐피탈\">[ <strong class=\"hl\">빅데이터</strong>분석 ] 캐피탈 2019년 11월 브랜드평판... 1위 현대캐피탈, 2위 하...</a>, <a class=\"_sp_each_title\" href=\"http://www.newsis.com/view/?id=NISX20191118_0000833085&amp;cID=10812&amp;pID=10800\" onclick=\"return goOtherCR(this, 'a=nws*a.tit&amp;r=20&amp;i=88000127_000000000000000009562684&amp;g=003.0009562684&amp;u='+urlencode(this.href));\" target=\"_blank\" title='김경수 경남지사 \"공간정보는 데이터기반 행정의 필수\"'>김경수 경남지사 \"공간정보는 <strong class=\"hl\">데이터</strong>기반 행정의 필수\"</a>, <a class=\"_sp_each_url _sp_each_title\" href=\"http://www.aitimes.com/news/articleView.html?idxno=121817\" onclick=\"return goOtherCR(this, 'a=nws*f.tit&amp;r=22&amp;i=88195287_000000000000000000072321&amp;g=5746.0000072321&amp;u='+urlencode(this.href));\" target=\"_blank\" title=\"오산시, 빅데이터·IoT 활용 생활편의 '업'\">오산시, <strong class=\"hl\">빅데이터</strong>·IoT 활용 생활편의 '업'</a>, <a class=\"_sp_each_title\" href=\"http://www.etnews.com/20191118000257\" onclick=\"return goOtherCR(this, 'a=nws*e.tit&amp;r=23&amp;i=880000EA_000000000000000002852294&amp;g=030.0002852294&amp;u='+urlencode(this.href));\" target=\"_blank\" title='이주열 총재 \"AI·빅데이터·블록체인 등 변화 외면하면 국민 신뢰 잃어\"'>이주열 총재 \"AI·<strong class=\"hl\">빅데이터</strong>·블록체인 등 변화 외면하면 국민 신뢰 잃어\"</a>]\n",
      "[<a class=\"_sp_each_url _sp_each_title\" href=\"http://www.datanet.co.kr/news/articleView.html?idxno=139315\" onclick=\"return goOtherCR(this, 'a=nws*f.tit&amp;r=1&amp;i=880005C7_000000000000000000093734&amp;g=5096.0000093734&amp;u='+urlencode(this.href));\" target=\"_blank\" title='\"내부 인력 육성해 자체 빅데이터 프로젝트 역량 확보\"'>\"내부 인력 육성해 자체 <strong class=\"hl\">빅데이터</strong> 프로젝트 역량 확보\"</a>, <a class=\"_sp_each_url _sp_each_title\" href=\"http://hellodd.com/?md=news&amp;mt=view&amp;pid=70327\" onclick=\"return goOtherCR(this, 'a=nws*b.tit&amp;r=2&amp;i=88166513_000000000000000000009810&amp;g=5409.0000009810&amp;u='+urlencode(this.href));\" target=\"_blank\" title=\"ETRI, 빅데이터 유통 활성화 돕는 국제표준 개발\">ETRI, <strong class=\"hl\">빅데이터</strong> 유통 활성화 돕는 국제표준 개발</a>, <a class=\"_sp_each_url _sp_each_title\" href=\"http://www.thebigdata.co.kr/view.php?ud=20191118170414288207d270612f_23\" onclick=\"return goOtherCR(this, 'a=nws*b.tit&amp;r=4&amp;i=881843ee_000000000000000000052253&amp;g=5645.0000052253&amp;u='+urlencode(this.href));\" target=\"_blank\" title=\"정부기관 브랜드평판 11월 빅데이터 분석 결과 공정거래위원회 '톱'\">정부기관 브랜드평판 11월 <strong class=\"hl\">빅데이터</strong> 분석 결과 공정거래위원회 '톱'</a>, <a class=\"_sp_each_title\" href=\"http://www.fnnews.com/news/201911160009487866\" onclick=\"return goOtherCR(this, 'a=nws*h.tit&amp;r=8&amp;i=880000FF_000000000000000004328605&amp;g=014.0004328605&amp;u='+urlencode(this.href));\" target=\"_blank\" title=\"한국, OECD 국가 중 공공데이터 정책 가장 잘한다...'3회 연속 1위 달성'\">한국, OECD 국가 중 공공<strong class=\"hl\">데이터</strong> 정책 가장 잘한다...'3회 연속 1위 달성'</a>, <a class=\"_sp_each_url _sp_each_title\" href=\"http://www.aitimes.com/news/articleView.html?idxno=121817\" onclick=\"return goOtherCR(this, 'a=nws*f.tit&amp;r=13&amp;i=88195287_000000000000000000072321&amp;g=5746.0000072321&amp;u='+urlencode(this.href));\" target=\"_blank\" title=\"오산시, 빅데이터·IoT 활용 생활편의 '업'\">오산시, <strong class=\"hl\">빅데이터</strong>·IoT 활용 생활편의 '업'</a>, <a class=\"_sp_each_url _sp_each_title\" href=\"http://www.wikitree.co.kr/main/news_view.php?id=481313\" onclick=\"return goOtherCR(this, 'a=nws*b.tit&amp;r=14&amp;i=88135209_000000000000000000244046&amp;g=5239.0000244046&amp;u='+urlencode(this.href));\" target=\"_blank\" title=\"경남대 LINC+사업단, ‘학생 빅데이터 분석 경진대회’ 장려상 수상\">경남대 LINC+사업단, ‘학생 <strong class=\"hl\">빅데이터</strong> 분석 경진대회’ 장려상 수상</a>, <a class=\"_sp_each_url _sp_each_title\" href=\"http://www.kgnews.co.kr/news/articleView.html?idxno=566950\" onclick=\"return goOtherCR(this, 'a=nws*b.tit&amp;r=16&amp;i=88124FE2_000000000000000000251741&amp;g=5199.0000251741&amp;u='+urlencode(this.href));\" target=\"_blank\" title=\"오산시, 빅데이터·IoT 활용 생활편의 '업'\">오산시, <strong class=\"hl\">빅데이터</strong>·IoT 활용 생활편의 '업'</a>, <a class=\"_sp_each_title\" href=\"http://news.mk.co.kr/newsRead.php?year=2019&amp;no=955923\" onclick=\"return goOtherCR(this, 'a=nws*e.tit&amp;r=18&amp;i=880000BC_000000000000000004465669&amp;g=009.0004465669&amp;u='+urlencode(this.href));\" target=\"_blank\" title='녹십자헬스케어 \"건강관리 빅데이터 기반 서비스 추가하자 신규가입자 7배↑\"'>녹십자헬스케어 \"건강관리 <strong class=\"hl\">빅데이터</strong> 기반 서비스 추가하자 신규가입자 7배↑\"</a>, <a class=\"_sp_each_title\" href=\"http://www.dailian.co.kr/news/view/843758/?sc=naver\" onclick=\"return goOtherCR(this, 'a=nws*j.tit&amp;r=19&amp;i=8812A0A8_000000000000000002364915&amp;g=119.0002364915&amp;u='+urlencode(this.href));\" target=\"_blank\" title=\"'데이터3법' 통과 초읽기…카드사들, 신용평가 등 데이터산업 채비 '분주'\">'<strong class=\"hl\">데이터</strong>3법' 통과 초읽기…카드사들, 신용평가 등 <strong class=\"hl\">데이터</strong>산업 채비 '분주'</a>, <a class=\"_sp_each_title\" href=\"http://www.newsis.com/view/?id=NISX20191118_0000833085&amp;cID=10812&amp;pID=10800\" onclick=\"return goOtherCR(this, 'a=nws*a.tit&amp;r=20&amp;i=88000127_000000000000000009562684&amp;g=003.0009562684&amp;u='+urlencode(this.href));\" target=\"_blank\" title='김경수 경남지사 \"공간정보는 데이터기반 행정의 필수\"'>김경수 경남지사 \"공간정보는 <strong class=\"hl\">데이터</strong>기반 행정의 필수\"</a>]\n",
      "[<a class=\"_sp_each_url _sp_each_title\" href=\"http://www.shinailbo.co.kr/news/articleView.html?idxno=1224328\" onclick=\"return goOtherCR(this, 'a=nws*b.tit&amp;r=1&amp;i=88155e65_000000000000000000348586&amp;g=5364.0000348586&amp;u='+urlencode(this.href));\" target=\"_blank\" title=\"인천, 지자체 최초 ‘코리아빅데이터어워드’ 대상 수상\">인천, 지자체 최초 ‘코리아<strong class=\"hl\">빅데이터</strong>어워드’ 대상 수상</a>, <a class=\"_sp_each_url _sp_each_title\" href=\"http://www.greened.kr/news/articleView.html?idxno=223918\" onclick=\"return goOtherCR(this, 'a=nws*f.tit&amp;r=5&amp;i=8817ca90_000000000000000000085586&amp;g=5499.0000085586&amp;u='+urlencode(this.href));\" target=\"_blank\" title=\"AI·빅데이터·유합보안 등 IT기술력 겨룬다...KISA, 'K-사이버 시큐리티 챌린지' 개최\">AI·<strong class=\"hl\">빅데이터</strong>·유합보안 등 IT기술력 겨룬다...KISA, 'K-사이버 시큐리티 챌린...</a>, <a class=\"_sp_each_title\" href=\"http://www.newsis.com/view/?id=NISX20191118_0000832393&amp;cID=10401&amp;pID=10400\" onclick=\"return goOtherCR(this, 'a=nws*a.tit&amp;r=6&amp;i=88000127_000000000000000009561695&amp;g=003.0009561695&amp;u='+urlencode(this.href));\" target=\"_blank\" title=\"[빅데이터MSI]18일 오전 주식시장 심리 4단계 '보통'\">[<strong class=\"hl\">빅데이터</strong>MSI]18일 오전 주식시장 심리 4단계 '보통'</a>, <a class=\"_sp_each_url _sp_each_title\" href=\"http://www.thebigdata.co.kr/view.php?ud=201911180818246362d0a8833aad_23\" onclick=\"return goOtherCR(this, 'a=nws*f.tit&amp;r=8&amp;i=881843ee_000000000000000000052193&amp;g=5645.0000052193&amp;u='+urlencode(this.href));\" target=\"_blank\" title=\"[빅데이터·上] 소비자들, 8K TV 관심 저조…LG·삼성 '8K 논쟁'이후 4K 정보량 되레 급증\">[<strong class=\"hl\">빅데이터</strong>·上] 소비자들, 8K TV 관심 저조…LG·삼성 '8K 논쟁'이후 4K 정보...</a>, <a class=\"_sp_each_title\" href=\"http://www.etnews.com/20191118000182\" onclick=\"return goOtherCR(this, 'a=nws*a.tit&amp;r=9&amp;i=880000EA_000000000000000002852372&amp;g=030.0002852372&amp;u='+urlencode(this.href));\" target=\"_blank\" title=\"[ET단상]OECD 공공데이터 평가 3회 연속 1위 의미\">[ET단상]OECD 공공<strong class=\"hl\">데이터</strong> 평가 3회 연속 1위 의미</a>, <a class=\"_sp_each_url _sp_each_title\" href=\"http://www.todaykorea.co.kr/news/view.php?no=265823\" onclick=\"return goOtherCR(this, 'a=nws*f.tit&amp;r=11&amp;i=8818438d_000000000000000000012897&amp;g=5616.0000012897&amp;u='+urlencode(this.href));\" target=\"_blank\" title=\"커피베이, KT와 ‘빅데이터 활용한 ’전문적인 상권분석 시스템’ 개발\">커피베이, KT와 ‘<strong class=\"hl\">빅데이터</strong> 활용한 ’전문적인 상권분석 시스템’ 개발</a>, <a class=\"_sp_each_title\" href=\"http://news.mk.co.kr/newsRead.php?year=2019&amp;no=953906\" onclick=\"return goOtherCR(this, 'a=nws*j.tit&amp;r=12&amp;i=880000BC_000000000000000004465312&amp;g=009.0004465312&amp;u='+urlencode(this.href));\" target=\"_blank\" title=\"`빅데이터로 꿈꾸는 세상` 데이터 매직 콘퍼런스 열려요\">`<strong class=\"hl\">빅데이터</strong>로 꿈꾸는 세상` 데이터 매직 콘퍼런스 열려요</a>, <a class=\"_sp_each_title\" href=\"https://www.gamemeca.com/mv.php?inflow=naver_s&amp;gid=1602006\" onclick=\"return goOtherCR(this, 'a=nws*e.tit&amp;r=13&amp;i=88156f79_000000000000000000037012&amp;g=356.0000037012&amp;u='+urlencode(this.href));\" target=\"_blank\" title=\"[주간 빅데이터 게임순위] 10월 3주차, ‘달빛조각사’ 모바일 부문 1위 등극\">[주간 <strong class=\"hl\">빅데이터</strong> 게임순위] 10월 3주차, ‘달빛조각사’ 모바일 부문 1위 등극</a>, <a class=\"_sp_each_url _sp_each_title\" href=\"http://mbnmoney.mbn.co.kr/news/view?news_no=MM1003783379\" onclick=\"return goOtherCR(this, 'a=nws*f.tit&amp;r=14&amp;i=8817c9f8_000000000000000000081099&amp;g=5274.0000081099&amp;u='+urlencode(this.href));\" target=\"_blank\" title=\"카페24 &quot;AI·빅데이터로 '똑똑하게' 쇼핑몰 운영해 드려요&quot;\">카페24 \"AI·<strong class=\"hl\">빅데이터</strong>로 '똑똑하게' 쇼핑몰 운영해 드려요\"</a>, <a class=\"_sp_each_url _sp_each_title\" href=\"http://www.incheonilbo.com/news/articleView.html?idxno=1002317\" onclick=\"return goOtherCR(this, 'a=nws*f.tit&amp;r=15&amp;i=88123FBD_000000000000000000329740&amp;g=5193.0000329740&amp;u='+urlencode(this.href));\" target=\"_blank\" title=\"진화하는 오산시 … 빅데이터로 생활편의 UP\">진화하는 오산시 … <strong class=\"hl\">빅데이터</strong>로 생활편의 UP</a>]\n"
     ]
    },
    {
     "name": "stdout",
     "output_type": "stream",
     "text": [
      "[<a class=\"_sp_each_title\" href=\"https://biz.chosun.com/site/data/html_dir/2019/11/17/2019111700344.html?utm_source=naver&amp;utm_medium=original&amp;utm_campaign=biz\" onclick=\"return goOtherCR(this, 'a=nws*j.tit&amp;r=1&amp;i=88127058_000000000000000000450183&amp;g=366.0000450183&amp;u='+urlencode(this.href));\" target=\"_blank\" title=\"금융판도 흔드는 빅테크 합종연횡\">금융판도 흔드는 빅테크 합종연횡</a>, <a class=\"_sp_each_title\" href=\"http://www.sportsseoul.com/news/read/849825\" onclick=\"return goOtherCR(this, 'a=nws*e.tit&amp;r=2&amp;i=88156f78_000000000000000000592934&amp;g=468.0000592934&amp;u='+urlencode(this.href));\" target=\"_blank\" title=\"한국감정원, '한중일 국제 심포지엄'에서 빅데이터 AI 논의\">한국감정원, '한중일 국제 심포지엄'에서 <strong class=\"hl\">빅데이터</strong> AI 논의</a>, <a class=\"_sp_each_url _sp_each_title\" href=\"http://www.thebigdata.co.kr/view.php?ud=201911181255422800d0a8833aad_23\" onclick=\"return goOtherCR(this, 'a=nws*f.tit&amp;r=3&amp;i=881843ee_000000000000000000052242&amp;g=5645.0000052242&amp;u='+urlencode(this.href));\" target=\"_blank\" title=\"[빅데이터·上] 유통업계, 소비자 관심 '지각 변동'…쿠팡 중심 '오픈 마켓' 대폭발\">[<strong class=\"hl\">빅데이터</strong>·上] 유통업계, 소비자 관심 '지각 변동'…쿠팡 중심 '오픈 마켓' ...</a>, <a class=\"_sp_each_url _sp_each_title\" href=\"http://www.enewstoday.co.kr/news/articleView.html?idxno=1349793\" onclick=\"return goOtherCR(this, 'a=nws*f.tit&amp;r=4&amp;i=880003FD_000000000000000000533140&amp;g=5038.0000533140&amp;u='+urlencode(this.href));\" target=\"_blank\" title=\"인천시, 지자체 최초 코리아빅데이터어워드 수상\">인천시, 지자체 최초 코리아<strong class=\"hl\">빅데이터</strong>어워드 수상</a>, <a class=\"_sp_each_title\" href=\"http://yna.kr/AKR20191118140100848?did=1195m\" onclick=\"return goOtherCR(this, 'a=nws*e.tit&amp;r=5&amp;i=880000D8_000000000000000011220312&amp;g=001.0011220312&amp;u='+urlencode(this.href));\" target=\"_blank\" title='한국폴리텍대학 \"스마트금융과 8명 데이터스트림즈 입사 확정\"'>한국폴리텍대학 \"스마트금융과 8명 <strong class=\"hl\">데이터</strong>스트림즈 입사 확정\"</a>, <a class=\"_sp_each_url _sp_each_title\" href=\"http://www.boannews.com/media/view.asp?idx=84555&amp;kind=\" onclick=\"return goOtherCR(this, 'a=nws*f.tit&amp;r=6&amp;i=880003DA_000000000000000000077655&amp;g=5016.0000077655&amp;u='+urlencode(this.href));\" target=\"_blank\" title=\"은수미 성남시장, 자율주행 빅데이터 구축 공식화\">은수미 성남시장, 자율주행 <strong class=\"hl\">빅데이터</strong> 구축 공식화</a>, <a class=\"_sp_each_url _sp_each_title\" href=\"http://www.thebigdata.co.kr/view.php?ud=201911180946576135d0a8833aad_23\" onclick=\"return goOtherCR(this, 'a=nws*f.tit&amp;r=7&amp;i=881843ee_000000000000000000052206&amp;g=5645.0000052206&amp;u='+urlencode(this.href));\" target=\"_blank\" title=\"[빅데이터·上] 햄버거병 논란 맥도날드 정보량 '톱'…맘스터치 소비자 관심 최하위\">[<strong class=\"hl\">빅데이터</strong>·上] 햄버거병 논란 맥도날드 정보량 '톱'…맘스터치 소비자 관심 ...</a>, <a class=\"_sp_each_title\" href=\"http://news.mk.co.kr/newsRead.php?year=2019&amp;no=953918\" onclick=\"return goOtherCR(this, 'a=nws*j.tit&amp;r=8&amp;i=880000BC_000000000000000004465316&amp;g=009.0004465316&amp;u='+urlencode(this.href));\" target=\"_blank\" title='\"암 확률 높으니 검진을\"…에스토니아, 全국민 DNA 빅데이터화'>\"암 확률 높으니 검진을\"…에스토니아, 全국민 DNA <strong class=\"hl\">빅데이터</strong>화</a>, <a class=\"_sp_each_title\" href=\"http://www.edaily.co.kr/news/newspath.asp?newsid=01826966622687032\" onclick=\"return goOtherCR(this, 'a=nws*e.tit&amp;r=9&amp;i=880000E7_000000000000000004518776&amp;g=018.0004518776&amp;u='+urlencode(this.href));\" target=\"_blank\" title='인천공항 스마트협의체 발족 \"빅데이터 기반 서비스 개선\"'>인천공항 스마트협의체 발족 \"<strong class=\"hl\">빅데이터</strong> 기반 서비스 개선\"</a>, <a class=\"_sp_each_title\" href=\"http://www.inews24.com/view/1223024\" onclick=\"return goOtherCR(this, 'a=nws*e.tit&amp;r=10&amp;i=880000D6_000000000000000000515938&amp;g=031.0000515938&amp;u='+urlencode(this.href));\" target=\"_blank\" title=\"카드사에 데이터는 넘친다…'신용평가' 개척 나선 카드업계\">카드사에 <strong class=\"hl\">데이터</strong>는 넘친다…'신용평가' 개척 나선 카드업계</a>]\n",
      "[<a class=\"_sp_each_url _sp_each_title\" href=\"http://www.ujeil.com/news/articleView.html?idxno=243476\" onclick=\"return goOtherCR(this, 'a=nws*f.tit&amp;r=1&amp;i=881843aa_000000000000000000043992&amp;g=5583.0000043992&amp;u='+urlencode(this.href));\" target=\"_blank\" title=\"경남은행, AI·빅데이터 등 접목한 디지털 금융 혁신에 '총력'\">경남은행, AI·<strong class=\"hl\">빅데이터</strong> 등 접목한 디지털 금융 혁신에 '총력'</a>, <a class=\"_sp_each_title\" href=\"http://news.mk.co.kr/v2/economy/view.php?year=2019&amp;no=956919\" onclick=\"return goOtherCR(this, 'a=nws*e.tit&amp;r=2&amp;i=880000BC_000000000000000000063914&amp;g=024.0000063914&amp;u='+urlencode(this.href));\" target=\"_blank\" title=\"[BOOK] 데이터를 지배하는 자가 세계를 지배한다 | 실리콘밸리 위협하는 알리바바·텐센트\">[BOOK] <strong class=\"hl\">데이터</strong>를 지배하는 자가 세계를 지배한다 | 실리콘밸리 위협하는 알리...</a>, <a class=\"_sp_each_url _sp_each_title\" href=\"http://kr.aving.net/news/view.php?articleId=1539671&amp;Branch_ID=kr&amp;rssid=naver&amp;mn_name=news\" onclick=\"return goOtherCR(this, 'a=nws*f.tit&amp;r=3&amp;i=880003CB_000000000000000000149144&amp;g=5015.0000149144&amp;u='+urlencode(this.href));\" target=\"_blank\" title=\"[2019 G-FAIR KOREA X MIK] Nr2, 데이터 분석을 위한 '툴'로 중국시장을 분석하다.\">[2019 G-FAIR KOREA X MIK] Nr2, <strong class=\"hl\">데이터</strong> 분석을 위한 '툴'로 중국시장을 분석...</a>, <a class=\"_sp_each_url _sp_each_title\" href=\"http://www.boannews.com/media/view.asp?idx=84556&amp;kind=\" onclick=\"return goOtherCR(this, 'a=nws*b.tit&amp;r=4&amp;i=880003DA_000000000000000000077656&amp;g=5016.0000077656&amp;u='+urlencode(this.href));\" target=\"_blank\" title=\"인천시, 코리아빅데이터어워드 지자체 최초 수상 영예\">인천시, 코리아<strong class=\"hl\">빅데이터</strong>어워드 지자체 최초 수상 영예</a>, <a class=\"_sp_each_url _sp_each_title\" href=\"http://www.thebigdata.co.kr/view.php?ud=20191117101745562607d270612f_23\" onclick=\"return goOtherCR(this, 'a=nws*b.tit&amp;r=6&amp;i=881843ee_000000000000000000052183&amp;g=5645.0000052183&amp;u='+urlencode(this.href));\" target=\"_blank\" title=\"걸그룹 개인 브랜드평판 11월 빅데이터 분석 1위는 '마마무 화사'\">걸그룹 개인 브랜드평판 11월 <strong class=\"hl\">빅데이터</strong> 분석 1위는 '마마무 화사'</a>, <a class=\"_sp_each_title\" href=\"http://news.mk.co.kr/newsRead.php?year=2019&amp;no=953923\" onclick=\"return goOtherCR(this, 'a=nws*j.tit&amp;r=10&amp;i=880000BC_000000000000000004465318&amp;g=009.0004465318&amp;u='+urlencode(this.href));\" target=\"_blank\" title='\"숫자만으론 미래예측 안돼…인문학적 상상력 더해서 데이터 이면의 뜻 찾아야\"'>\"숫자만으론 미래예측 안돼…인문학적 상상력 더해서 <strong class=\"hl\">데이터</strong> 이면의 뜻 찾아야...</a>, <a class=\"_sp_each_url _sp_each_title\" href=\"http://www.iusm.co.kr/news/articleView.html?idxno=861428\" onclick=\"return goOtherCR(this, 'a=nws*f.tit&amp;r=11&amp;i=88123FC6_000000000000000000233294&amp;g=5184.0000233294&amp;u='+urlencode(this.href));\" target=\"_blank\" title='\"국가 바이오 빅데이터 예비사업 울산이 주도해야\"'>\"국가 바이오 <strong class=\"hl\">빅데이터</strong> 예비사업 울산이 주도해야\"</a>, <a class=\"_sp_each_url _sp_each_title\" href=\"http://theleader.mt.co.kr/articleView.html?no=2019111822317862256\" onclick=\"return goOtherCR(this, 'a=nws*f.tit&amp;r=12&amp;i=8817ca8f_000000000000000000054207&amp;g=5500.0000054207&amp;u='+urlencode(this.href));\" target=\"_blank\" title=\"은수미 성남시장, 자율주행 빅데이터 구축 공식화\">은수미 성남시장, 자율주행 <strong class=\"hl\">빅데이터</strong> 구축 공식화</a>, <a class=\"_sp_each_url _sp_each_title\" href=\"http://www.dgmbc.com/new/news/view2.do?nav=news&amp;selectedId=225976&amp;class_code1=030000&amp;news_cate=\" onclick=\"return goOtherCR(this, 'a=nws*f.tit&amp;r=13&amp;i=88155e52_000000000000000000046386&amp;g=5382.0000046386&amp;u='+urlencode(this.href));\" target=\"_blank\" title=\"R]빅데이터를 활용해 보행등 설치\">R]<strong class=\"hl\">빅데이터</strong>를 활용해 보행등 설치</a>, <a class=\"_sp_each_url _sp_each_title\" href=\"http://www.mediapen.com/news/view/477498\" onclick=\"return goOtherCR(this, 'a=nws*f.tit&amp;r=14&amp;i=88135205_000000000000000000274664&amp;g=5244.0000274664&amp;u='+urlencode(this.href));\" target=\"_blank\" title='[금융포럼 2019] 김종석 의원 \"데이터3법 통과 노력 규제혁파 힘쓸 것\"'>[금융포럼 2019] 김종석 의원 \"<strong class=\"hl\">데이터</strong>3법 통과 노력 규제혁파 힘쓸 것\"</a>]\n",
      "[<a class=\"_sp_each_url _sp_each_title\" href=\"http://www.boannews.com/media/view.asp?idx=84558&amp;kind=\" onclick=\"return goOtherCR(this, 'a=nws*f.tit&amp;r=1&amp;i=880003DA_000000000000000000077658&amp;g=5016.0000077658&amp;u='+urlencode(this.href));\" target=\"_blank\" title=\"ETRI, 빅데이터 유통 활성화 돕는 국제표준 개발\">ETRI, <strong class=\"hl\">빅데이터</strong> 유통 활성화 돕는 국제표준 개발</a>, <a class=\"_sp_each_url _sp_each_title\" href=\"https://www.dailysecu.com/news/articleView.html?idxno=79765\" onclick=\"return goOtherCR(this, 'a=nws*f.tit&amp;r=2&amp;i=88155e72_000000000000000000060507&amp;g=5350.0000060507&amp;u='+urlencode(this.href));\" target=\"_blank\" title=\"한국장학진흥원, 빅데이터전문가 및 코딩지도사 자격증 교육 무료인강 제공 이벤트…눈길\">한국장학진흥원, <strong class=\"hl\">빅데이터</strong>전문가 및 코딩지도사 자격증 교육 무료인강 제공 이...</a>, <a class=\"_sp_each_url _sp_each_title\" href=\"http://www.ilyoseoul.co.kr/news/articleView.html?idxno=348130\" onclick=\"return goOtherCR(this, 'a=nws*f.tit&amp;r=3&amp;i=8813C2DF_000000000000000000223014&amp;g=5279.0000223014&amp;u='+urlencode(this.href));\" target=\"_blank\" title=\"경남대 LINC+사업단, '학생 빅데이터 분석 경진대회' 장려상 수상\">경남대 LINC+사업단, '학생 <strong class=\"hl\">빅데이터</strong> 분석 경진대회' 장려상 수상</a>, <a class=\"_sp_each_url _sp_each_title\" href=\"http://www.thebigdata.co.kr/view.php?ud=201911172139377232d0a8833aad_23\" onclick=\"return goOtherCR(this, 'a=nws*f.tit&amp;r=4&amp;i=881843ee_000000000000000000052182&amp;g=5645.0000052182&amp;u='+urlencode(this.href));\" target=\"_blank\" title=\"[빅데이터] 국민 여론 '이재용 부회장 선처'로 쏠림 가속…10명당 7명 '미래 견인' 희망\">[<strong class=\"hl\">빅데이터</strong>] 국민 여론 '이재용 부회장 선처'로 쏠림 가속…10명당 7명 '미래 ...</a>, <a class=\"_sp_each_url _sp_each_title\" href=\"http://www.econovill.com/news/articleView.html?idxno=377748\" onclick=\"return goOtherCR(this, 'a=nws*f.tit&amp;r=5&amp;i=880000E8_000000000000000000188869&amp;g=5097.0000188869&amp;u='+urlencode(this.href));\" target=\"_blank\" title=\"[한눈 중국경제] 中, 숙박 업계 빅데이터 보고서 첫 발표\">[한눈 중국경제] 中, 숙박 업계 <strong class=\"hl\">빅데이터</strong> 보고서 첫 발표</a>, <a class=\"_sp_each_title\" href=\"https://www.hankyung.com/economy/article/2019111726611\" onclick=\"return goOtherCR(this, 'a=nws*e.tit&amp;r=6&amp;i=88000107_000000000000000004242795&amp;g=015.0004242795&amp;u='+urlencode(this.href));\" target=\"_blank\" title=\"가명정보 활용해 마케팅 업그레이드…프랜차이즈 미래, 빅데이터에 달렸다\">가명정보 활용해 마케팅 업그레이드…프랜차이즈 미래, <strong class=\"hl\">빅데이터</strong>에 달렸다</a>, <a class=\"_sp_each_url _sp_each_title\" href=\"http://www.hkbs.co.kr/news/articleView.html?idxno=541907\" onclick=\"return goOtherCR(this, 'a=nws*f.tit&amp;r=7&amp;i=8811CF2D_000000000000000000275527&amp;g=5164.0000275527&amp;u='+urlencode(this.href));\" target=\"_blank\" title=\"공공데이터 정책 3회 연속 OECD 1위\">공공<strong class=\"hl\">데이터</strong> 정책 3회 연속 OECD 1위</a>, <a class=\"_sp_each_title\" href=\"http://www.edaily.co.kr/news/newspath.asp?newsid=01308726622687032\" onclick=\"return goOtherCR(this, 'a=nws*e.tit&amp;r=8&amp;i=880000E7_000000000000000004518605&amp;g=018.0004518605&amp;u='+urlencode(this.href));\" target=\"_blank\" title=\"[미래기술25]①수백만개 데이터 병렬연산 양자컴퓨터..'1억배 빠른' 속도\">[미래기술25]①수백만개 <strong class=\"hl\">데이터</strong> 병렬연산 양자컴퓨터..'1억배 빠른' 속도</a>, <a class=\"_sp_each_url _sp_each_title\" href=\"http://www.sportsq.co.kr/news/articleView.html?idxno=409110\" onclick=\"return goOtherCR(this, 'a=nws*f.tit&amp;r=9&amp;i=88155e40_000000000000000000176333&amp;g=5400.0000176333&amp;u='+urlencode(this.href));\" target=\"_blank\" title=\"'데이터의 중요성' 스포츠산업 컨퍼런스 29일, 라리가-아스날 참석\">'<strong class=\"hl\">데이터</strong>의 중요성' 스포츠산업 컨퍼런스 29일, 라리가-아스날 참석</a>, <a class=\"_sp_each_title\" href=\"https://news.imaeil.com/ITCar/2019111802125776981\" onclick=\"return goOtherCR(this, 'a=nws*e.tit&amp;r=10&amp;i=880000C1_000000000000000000621000&amp;g=088.0000621000&amp;u='+urlencode(this.href));\" target=\"_blank\" title=\"[빅데이터로 본 한 주]대학수학능력시험과 빼빼로데이\">[<strong class=\"hl\">빅데이터</strong>로 본 한 주]대학수학능력시험과 빼빼로데이</a>]\n"
     ]
    },
    {
     "name": "stdout",
     "output_type": "stream",
     "text": [
      "[<a class=\"_sp_each_url _sp_each_title\" href=\"http://www.dailybizon.com/news/articleView.html?idxno=14521\" onclick=\"return goOtherCR(this, 'a=nws*f.tit&amp;r=1&amp;i=88199af1_000000000000000000000371&amp;g=5766.0000000371&amp;u='+urlencode(this.href));\" target=\"_blank\" title=\"[스마트 건설업체 '빅3'의 혁신 행보] ③ 볼보건설기계코리아\">[스마트 건설업체 '빅3'의 혁신 행보] ③ 볼보건설기계코리아</a>, <a class=\"_sp_each_url _sp_each_title\" href=\"http://www.kmaeil.com/news/articleView.html?idxno=204115\" onclick=\"return goOtherCR(this, 'a=nws*b.tit&amp;r=2&amp;i=8819br35_000000000000000000000371&amp;g=5764.0000000371&amp;u='+urlencode(this.href));\" target=\"_blank\" title=\"인천시, 코리아빅데이터어워드 지자체 최초 수상 영예\">인천시, 코리아<strong class=\"hl\">빅데이터</strong>어워드 지자체 최초 수상 영예</a>, <a class=\"_sp_each_url _sp_each_title\" href=\"http://www.weeklytoday.com/news/articleView.html?idxno=104501\" onclick=\"return goOtherCR(this, 'a=nws*b.tit&amp;r=7&amp;i=8813C2D2_000000000000000000058707&amp;g=5294.0000058707&amp;u='+urlencode(this.href));\" target=\"_blank\" title=\"'빅데이터와 IoT' 오산시민 생활편의 대폭 높인다\">'<strong class=\"hl\">빅데이터</strong>와 IoT' 오산시민 생활편의 대폭 높인다</a>, <a class=\"_sp_each_title\" href=\"http://www.donga.com/news/article/all/20191114/98365449/1\" onclick=\"return goOtherCR(this, 'a=nws*h.tit&amp;r=12&amp;i=880000A9_000000000000000003253369&amp;g=020.0003253369&amp;u='+urlencode(this.href));\" target=\"_blank\" title=\"특허청, ‘특허 빅데이터’로 소재·부품·장비 산업 기술자립 지원\">특허청, ‘특허 <strong class=\"hl\">빅데이터</strong>’로 소재·부품·장비 산업 기술자립 지원</a>, <a class=\"_sp_each_url _sp_each_title\" href=\"http://www.klnews.co.kr/news/articleView.html?idxno=120349\" onclick=\"return goOtherCR(this, 'a=nws*b.tit&amp;r=17&amp;i=8811AD9B_000000000000000000015871&amp;g=5148.0000015871&amp;u='+urlencode(this.href));\" target=\"_blank\" title=\"서평/세상을 읽는 새로운 언어, 빅데이터 : 삶을 바꾸고 미래를 혁신하는 빅데이터의 모든 것\">서평/세상을 읽는 새로운 언어, <strong class=\"hl\">빅데이터</strong> : 삶을 바꾸고 미래를 혁신하는 빅데...</a>, <a class=\"_sp_each_url _sp_each_title\" href=\"http://www.outsourcing.co.kr/news/articleView.html?idxno=86314\" onclick=\"return goOtherCR(this, 'a=nws*b.tit&amp;r=22&amp;i=881830fb_000000000000000000004074&amp;g=5564.0000004074&amp;u='+urlencode(this.href));\" target=\"_blank\" title=\"전국 최초 자율주행 빅데이터 센터 개소\">전국 최초 자율주행 <strong class=\"hl\">빅데이터</strong> 센터 개소</a>, <a class=\"_sp_each_url _sp_each_title\" href=\"http://www.thebigdata.co.kr/view.php?ud=20191116105152661907d270612f_23\" onclick=\"return goOtherCR(this, 'a=nws*b.tit&amp;r=27&amp;i=881843ee_000000000000000000052170&amp;g=5645.0000052170&amp;u='+urlencode(this.href));\" target=\"_blank\" title=\"보이그룹 개인 브랜드평판 11월 빅데이터 분석 1위는 방탄소년단 '지민'\">보이그룹 개인 브랜드평판 11월 <strong class=\"hl\">빅데이터</strong> 분석 1위는 방탄소년단 '지민'</a>, <a class=\"_sp_each_url _sp_each_title\" href=\"http://www.boannews.com/media/view.asp?idx=84542&amp;kind=\" onclick=\"return goOtherCR(this, 'a=nws*b.tit&amp;r=30&amp;i=880003DA_000000000000000000077633&amp;g=5016.0000077633&amp;u='+urlencode(this.href));\" target=\"_blank\" title=\"특허 빅데이터 활용한 소재·부품·장비 기술 자립 가속화된다\">특허 <strong class=\"hl\">빅데이터</strong> 활용한 소재·부품·장비 기술 자립 가속화된다</a>, <a class=\"_sp_each_title\" href=\"https://www.sedaily.com/NewsView/1VQUHQGMDV\" onclick=\"return goOtherCR(this, 'a=nws*e.tit&amp;r=35&amp;i=88000108_000000000000000003653223&amp;g=011.0003653223&amp;u='+urlencode(this.href));\" target=\"_blank\" title=\"[코스닥 3분기 실적]바이오주 뒤흔든 3인방...영업적자도 '빅3'\">[코스닥 3분기 실적]바이오주 뒤흔든 3인방...영업적자도 '빅3'</a>, <a class=\"_sp_each_url _sp_each_title\" href=\"http://www.ajunews.com/view/20191117131911502\" onclick=\"return goOtherCR(this, 'a=nws*f.tit&amp;r=36&amp;i=8800058B_000000000000000001805242&amp;g=5090.0001805242&amp;u='+urlencode(this.href));\" target=\"_blank\" title=\"데이터 경제 시대의 마중물 '데이터 3법' 19일 국회 통과 예정... 국내 AI·금융 산업 숨통 터\"><strong class=\"hl\">데이터</strong> 경제 시대의 마중물 '<strong class=\"hl\">데이터</strong> 3법' 19일 국회 통과 예정... 국내 AI·금...</a>]\n",
      "[<a class=\"_sp_each_title\" href=\"http://www.dailian.co.kr/news/view/843798/?sc=naver\" onclick=\"return goOtherCR(this, 'a=nws*j.tit&amp;r=1&amp;i=8812A0A8_000000000000000002364691&amp;g=119.0002364691&amp;u='+urlencode(this.href));\" target=\"_blank\" title=\"'위기 혹은 기회' 빅테크 영토 확장에 은행들 '촉각'\">'위기 혹은 기회' 빅테크 영토 확장에 은행들 '촉각'</a>, <a class=\"_sp_each_url _sp_each_title\" href=\"http://news.unn.net/news/articleView.html?idxno=222597\" onclick=\"return goOtherCR(this, 'a=nws*b.tit&amp;r=2&amp;i=88123FC1_000000000000000000088352&amp;g=5189.0000088352&amp;u='+urlencode(this.href));\" target=\"_blank\" title=\"SBA-한양대, 혁신주도 빅데이터 인재 육성\">SBA-한양대, 혁신주도 <strong class=\"hl\">빅데이터</strong> 인재 육성</a>, <a class=\"_sp_each_title\" href=\"https://biz.chosun.com/site/data/html_dir/2019/11/15/2019111502036.html?utm_source=naver&amp;utm_medium=original&amp;utm_campaign=biz\" onclick=\"return goOtherCR(this, 'a=nws*a.tit&amp;r=5&amp;i=88127058_000000000000000000450131&amp;g=366.0000450131&amp;u='+urlencode(this.href));\" target=\"_blank\" title=\"비글, 트래킹 빅데이터 센터 구축\">비글, 트래킹 <strong class=\"hl\">빅데이터</strong> 센터 구축</a>, <a class=\"_sp_each_url _sp_each_title\" href=\"https://asiatime.co.kr/news/newsview.php?ncode=1065588535200940\" onclick=\"return goOtherCR(this, 'a=nws*f.tit&amp;r=7&amp;i=8817ca9c_000000000000000000112742&amp;g=5492.0000112742&amp;u='+urlencode(this.href));\" target=\"_blank\" title=\"'데이터3법' 통과 청신호…소비지형 변화 바람 분다\">'<strong class=\"hl\">데이터</strong>3법' 통과 청신호…소비지형 변화 바람 분다</a>, <a class=\"_sp_each_url _sp_each_title\" href=\"http://www.viva100.com/main/view.php?key=20191118000929365\" onclick=\"return goOtherCR(this, 'a=nws*f.tit&amp;r=8&amp;i=88155e46_000000000000000000578500&amp;g=5394.0000578500&amp;u='+urlencode(this.href));\" target=\"_blank\" title=\"와이즈인컴퍼니 김원표 대표 직강, ‘데이터사이언스 마스터’ 과정 수강생 모집\">와이즈인컴퍼니 김원표 대표 직강, ‘<strong class=\"hl\">데이터</strong>사이언스 마스터’ 과정 수강생 모...</a>, <a class=\"_sp_each_url _sp_each_title\" href=\"http://www.namdonews.com/news/articleView.html?idxno=549666\" onclick=\"return goOtherCR(this, 'a=nws*b.tit&amp;r=9&amp;i=8817ca66_000000000000000000090557&amp;g=5539.0000090557&amp;u='+urlencode(this.href));\" target=\"_blank\" title=\"20대 국회 19일 '데이터 3법' 등 법안 120건 처리\">20대 국회 19일 '<strong class=\"hl\">데이터</strong> 3법' 등 법안 120건 처리</a>, <a class=\"_sp_each_url _sp_each_title\" href=\"http://www.ajunews.com/view/20191117151436592\" onclick=\"return goOtherCR(this, 'a=nws*f.tit&amp;r=11&amp;i=8800058B_000000000000000001805243&amp;g=5090.0001805243&amp;u='+urlencode(this.href));\" target=\"_blank\" title=\"미국, 일본 뛰는데.... 시민단체는 데이터 3법 발목 잡아\">미국, 일본 뛰는데.... 시민단체는 <strong class=\"hl\">데이터</strong> 3법 발목 잡아</a>, <a class=\"_sp_each_url _sp_each_title\" href=\"http://www.newskr.kr/news/articleView.html?idxno=33186\" onclick=\"return goOtherCR(this, 'a=nws*b.tit&amp;r=12&amp;i=8817ca55_000000000000000000014928&amp;g=5555.0000014928&amp;u='+urlencode(this.href));\" target=\"_blank\" title=\"[ 빅데이터분석 ] 대학교 2019년 11월 브랜드평판... 1위 연세대, 2위 경희대, 3위 성균관대\">[ <strong class=\"hl\">빅데이터</strong>분석 ] 대학교 2019년 11월 브랜드평판... 1위 연세대, 2위 경희대...</a>, <a class=\"_sp_each_url _sp_each_title\" href=\"https://www.tfmedia.co.kr/news/article.html?no=75941\" onclick=\"return goOtherCR(this, 'a=nws*f.tit&amp;r=17&amp;i=88166516_000000000000000000040884&amp;g=5412.0000040884&amp;u='+urlencode(this.href));\" target=\"_blank\" title=\"[프로필] 권태윤 국세청 전산정보관리관 빅데이터센터 빅데이터총괄계장\">[프로필] 권태윤 국세청 전산정보관리관 <strong class=\"hl\">빅데이터</strong>센터 <strong class=\"hl\">빅데이터</strong>총괄계장</a>, <a class=\"_sp_each_url _sp_each_title\" href=\"http://www.ksg.co.kr/news/main_newsView.jsp?bbsID=news&amp;bbsCategory=KSG&amp;categoryCode=all&amp;backUrl=main_news&amp;pNum=124216\" onclick=\"return goOtherCR(this, 'a=nws*f.tit&amp;r=18&amp;i=88155e42_000000000000000000022370&amp;g=5398.0000022370&amp;u='+urlencode(this.href));\" target=\"_blank\" title=\"BPA, 해양수산 빅데이터 활용 경진대회 우수상\">BPA, 해양수산 <strong class=\"hl\">빅데이터</strong> 활용 경진대회 우수상</a>]\n",
      "[<a class=\"_sp_each_url _sp_each_title\" href=\"http://www.getnews.co.kr/view.php?ud=20191115133957697141d0c69529_16\" onclick=\"return goOtherCR(this, 'a=nws*f.tit&amp;r=1&amp;i=88166599_000000000000000000170033&amp;g=5445.0000170033&amp;u='+urlencode(this.href));\" target=\"_blank\" title=\"[이슈 분석]빅데이터 3법 적용, '스마트헬스케어’ 속도낸다\">[이슈 분석]<strong class=\"hl\">빅데이터</strong> 3법 적용, '스마트헬스케어’ 속도낸다</a>, <a class=\"_sp_each_title\" href=\"http://www.inews24.com/view/1222655\" onclick=\"return goOtherCR(this, 'a=nws*e.tit&amp;r=2&amp;i=880000D6_000000000000000000515774&amp;g=031.0000515774&amp;u='+urlencode(this.href));\" target=\"_blank\" title='[인터뷰]KT넥스알 \"토종 빅데이터 솔루션 강점으로 승부\"'>[인터뷰]KT넥스알 \"토종 <strong class=\"hl\">빅데이터</strong> 솔루션 강점으로 승부\"</a>, <a class=\"_sp_each_url _sp_each_title\" href=\"http://www.fintechpost.co.kr/news/articleView.html?idxno=84927\" onclick=\"return goOtherCR(this, 'a=nws*f.tit&amp;r=3&amp;i=8818981a_000000000000000000075453&amp;g=5703.0000075453&amp;u='+urlencode(this.href));\" target=\"_blank\" title='[빅데이터 분석]\"걸그룹 브랜드평판 2019년 10월 빅데이터 분석결과...1위 (여자)아이들, 2위 트와이스, 3위 레드벨벳\"'>[<strong class=\"hl\">빅데이터</strong> 분석]\"걸그룹 브랜드평판 2019년 10월 <strong class=\"hl\">빅데이터</strong> 분석결과...1위 (여...</a>, <a class=\"_sp_each_url _sp_each_title\" href=\"http://www.idaegu.com/newsView/idg201911110126\" onclick=\"return goOtherCR(this, 'a=nws*f.tit&amp;r=4&amp;i=8813C2D9_000000000000000000131544&amp;g=5287.0000131544&amp;u='+urlencode(this.href));\" target=\"_blank\" title=\"4차 산업혁명과 빅데이터 교육\">4차 산업혁명과 <strong class=\"hl\">빅데이터</strong> 교육</a>, <a class=\"_sp_each_title\" href=\"http://www.newsis.com/view/?id=NISX20191115_0000830861&amp;cID=10812&amp;pID=10800\" onclick=\"return goOtherCR(this, 'a=nws*a.tit&amp;r=5&amp;i=88000127_000000000000000009559068&amp;g=003.0009559068&amp;u='+urlencode(this.href));\" target=\"_blank\" title=\"BNK경남은행, AI·빅데이터 등 접목 금융혁신 '총력'\">BNK경남은행, AI·<strong class=\"hl\">빅데이터</strong> 등 접목 금융혁신 '총력'</a>, <a class=\"_sp_each_title\" href=\"https://biz.chosun.com/site/data/html_dir/2019/11/13/2019111302240.html?utm_source=naver&amp;utm_medium=original&amp;utm_campaign=biz\" onclick=\"return goOtherCR(this, 'a=nws*j.tit&amp;r=7&amp;i=88127058_000000000000000000449284&amp;g=366.0000449284&amp;u='+urlencode(this.href));\" target=\"_blank\" title=\"[인터뷰] “빅데이터 분석으로 미래 예측… 의사결정도 자동화될 것”\">[인터뷰] “<strong class=\"hl\">빅데이터</strong> 분석으로 미래 예측… 의사결정도 자동화될 것”</a>, <a class=\"_sp_each_url _sp_each_title\" href=\"http://news.einfomax.co.kr/news/articleView.html?idxno=4056810\" onclick=\"return goOtherCR(this, 'a=nws*b.tit&amp;r=8&amp;i=88131147_000000000000000000336764&amp;g=5227.0000336764&amp;u='+urlencode(this.href));\" target=\"_blank\" title=\"금융결제원, 은행권과 빅데이터 활용 'CD·ATM' 운용진단\">금융결제원, 은행권과 <strong class=\"hl\">빅데이터</strong> 활용 'CD·ATM' 운용진단</a>, <a class=\"_sp_each_url _sp_each_title\" href=\"http://www.lawleader.co.kr/news/articleView.html?idxno=3496\" onclick=\"return goOtherCR(this, 'a=nws*b.tit&amp;r=13&amp;i=88199dae_000000000000000000000333&amp;g=5775.0000000333&amp;u='+urlencode(this.href));\" target=\"_blank\" title=\"권익위ㆍ선관위, 국민 목소리 담긴 민원 빅데이터 활용 정책공약 개발\">권익위ㆍ선관위, 국민 목소리 담긴 민원 <strong class=\"hl\">빅데이터</strong> 활용 정책공약 개발</a>, <a class=\"_sp_each_url _sp_each_title\" href=\"http://www.thebell.co.kr/front/free/contents/news/article_view.asp?key=201911140100026480001643\" onclick=\"return goOtherCR(this, 'a=nws*f.tit&amp;r=18&amp;i=8813C2F4_000000000000000000090619&amp;g=5254.0000090619&amp;u='+urlencode(this.href));\" target=\"_blank\" title=\"[더벨]해줌의 코어 밸류 '태양광 IT 빅데이터'\">[더벨]해줌의 코어 밸류 '태양광 IT <strong class=\"hl\">빅데이터</strong>'</a>, <a class=\"_sp_each_url _sp_each_title\" href=\"http://www.dailybizon.com/news/articleView.html?idxno=14440\" onclick=\"return goOtherCR(this, 'a=nws*b.tit&amp;r=19&amp;i=88199af1_000000000000000000000327&amp;g=5766.0000000327&amp;u='+urlencode(this.href));\" target=\"_blank\" title=\"여·야, '데이터 3법' 합의…빅데이터 활성화 마중물\">여·야, '데이터 3법' 합의…<strong class=\"hl\">빅데이터</strong> 활성화 마중물</a>]\n"
     ]
    },
    {
     "name": "stdout",
     "output_type": "stream",
     "text": [
      "[<a class=\"_sp_each_title\" href=\"http://yna.kr/AKR20191114100900062?did=1195m\" onclick=\"return goOtherCR(this, 'a=nws*a.tit&amp;r=1&amp;i=880000D8_000000000000000011212221&amp;g=001.0011212221&amp;u='+urlencode(this.href));\" target=\"_blank\" title=\"해수욕장 빅데이터 분석…강원도, 맞춤형 관광정책 추진\">해수욕장 <strong class=\"hl\">빅데이터</strong> 분석…강원도, 맞춤형 관광정책 추진</a>, <a class=\"_sp_each_title\" href=\"http://www.edaily.co.kr/news/newspath.asp?newsid=02538726622686048\" onclick=\"return goOtherCR(this, 'a=nws*e.tit&amp;r=6&amp;i=880000E7_000000000000000004517484&amp;g=018.0004517484&amp;u='+urlencode(this.href));\" target=\"_blank\" title=\"[30th SRE][Cover]④'빅데이터 데스노트' 워스트레이팅 오명 어디 어디?\">[30th SRE][Cover]④'<strong class=\"hl\">빅데이터</strong> 데스노트' 워스트레이팅 오명 어디 어디?</a>, <a class=\"_sp_each_title\" href=\"http://www.dt.co.kr/contents.html?article_no=2019111502109931731002&amp;ref=naver\" onclick=\"return goOtherCR(this, 'a=nws*e.tit&amp;r=7&amp;i=880000AD_000000000000000002567468&amp;g=029.0002567468&amp;u='+urlencode(this.href));\" target=\"_blank\" title=\"ETRI, 빅데이터 시장 활성화 할 `국제표준` 승인받아\">ETRI, <strong class=\"hl\">빅데이터</strong> 시장 활성화 할 `국제표준` 승인받아</a>, <a class=\"_sp_each_url _sp_each_title\" href=\"http://www.viva100.com/main/view.php?key=20191117010005673\" onclick=\"return goOtherCR(this, 'a=nws*f.tit&amp;r=8&amp;i=88155e46_000000000000000000578358&amp;g=5394.0000578358&amp;u='+urlencode(this.href));\" target=\"_blank\" title=\"CJ·롯데 웃고, GS 울고… 홈쇼핑 '빅3' 3Q 실적 희비 엇갈려\">CJ·롯데 웃고, GS 울고… 홈쇼핑 '빅3' 3Q 실적 희비 엇갈려</a>, <a class=\"_sp_each_title\" href=\"http://www.donga.com/news/article/all/20191114/98368549/1\" onclick=\"return goOtherCR(this, 'a=nws*e.tit&amp;r=9&amp;i=880000A9_000000000000000003253518&amp;g=020.0003253518&amp;u='+urlencode(this.href));\" target=\"_blank\" title=\"조선대, 세계 최대 ‘치매 유전체 빅데이터’ 구축\">조선대, 세계 최대 ‘치매 유전체 <strong class=\"hl\">빅데이터</strong>’ 구축</a>, <a class=\"_sp_each_url _sp_each_title\" href=\"http://www.fintechpost.co.kr/news/articleView.html?idxno=84928\" onclick=\"return goOtherCR(this, 'a=nws*f.tit&amp;r=10&amp;i=8818981a_000000000000000000075681&amp;g=5703.0000075681&amp;u='+urlencode(this.href));\" target=\"_blank\" title='[빅데이터 분석]\"생명보험 브랜드평판 2019년 10월 빅데이터 분석결과...1위 삼성생명, 2위 한화생명, 3위 교보생명\" '>[<strong class=\"hl\">빅데이터</strong> 분석]\"생명보험 브랜드평판 2019년 10월 <strong class=\"hl\">빅데이터</strong> 분석결과...1위 ...</a>, <a class=\"_sp_each_url _sp_each_title\" href=\"http://www.danbinews.com/news/articleView.html?idxno=12408\" onclick=\"return goOtherCR(this, 'a=nws*b.tit&amp;r=11&amp;i=88199cb2_000000000000000000000232&amp;g=5750.0000000232&amp;u='+urlencode(this.href));\" target=\"_blank\" title=\"BTS 응원 메시지가 빅데이터인 이유\">BTS 응원 메시지가 <strong class=\"hl\">빅데이터</strong>인 이유</a>, <a class=\"_sp_each_url _sp_each_title\" href=\"http://www.aitimes.com/news/articleView.html?idxno=121786\" onclick=\"return goOtherCR(this, 'a=nws*f.tit&amp;r=13&amp;i=88195287_000000000000000000072252&amp;g=5746.0000072252&amp;u='+urlencode(this.href));\" target=\"_blank\" title=\"[칼럼] 빅데이터 3법, 조속히 통과되어야 한다.\">[칼럼] <strong class=\"hl\">빅데이터</strong> 3법, 조속히 통과되어야 한다.</a>, <a class=\"_sp_each_url _sp_each_title\" href=\"http://www.newspim.com/news/view/20191115001396\" onclick=\"return goOtherCR(this, 'a=nws*f.tit&amp;r=14&amp;i=88000394_000000000000000001373006&amp;g=5002.0001373006&amp;u='+urlencode(this.href));\" target=\"_blank\" title=\"[데이터3법] 쿠팡·위메프, 아마존·알리바바 되는 길 열린다\">[<strong class=\"hl\">데이터</strong>3법] 쿠팡·위메프, 아마존·알리바바 되는 길 열린다</a>, <a class=\"_sp_each_title\" href=\"http://www.bloter.net/archives/360909\" onclick=\"return goOtherCR(this, 'a=nws*j.tit&amp;r=15&amp;i=880003A5_000000000000000000025608&amp;g=293.0000025608&amp;u='+urlencode(this.href));\" target=\"_blank\" title=\"'빅스마일데이' G마켓이 웃었다... 누적판매량 1억개 돌파\">'빅스마일데이' G마켓이 웃었다... 누적판매량 1억개 돌파</a>]\n"
     ]
    }
   ],
   "source": [
    "crawler(1,100)"
   ]
  },
  {
   "cell_type": "markdown",
   "metadata": {},
   "source": [
    "## 3.명사단어 추출"
   ]
  },
  {
   "cell_type": "markdown",
   "metadata": {},
   "source": [
    "### 3.1 세종사전 실행"
   ]
  },
  {
   "cell_type": "code",
   "execution_count": 5,
   "metadata": {},
   "outputs": [
    {
     "name": "stderr",
     "output_type": "stream",
     "text": [
      "C:\\Users\\leecho\\Anaconda3\\lib\\site-packages\\konlpy\\tag\\_okt.py:16: UserWarning: \"Twitter\" has changed to \"Okt\" since KoNLPy v0.4.5.\n",
      "  warn('\"Twitter\" has changed to \"Okt\" since KoNLPy v0.4.5.')\n",
      "C:\\Users\\leecho\\Anaconda3\\lib\\site-packages\\jpype\\_core.py:210: UserWarning: \n",
      "-------------------------------------------------------------------------------\n",
      "Deprecated: convertStrings was not specified when starting the JVM. The default\n",
      "behavior in JPype will be False starting in JPype 0.8. The recommended setting\n",
      "for new code is convertStrings=False.  The legacy value of True was assumed for\n",
      "this session. If you are a user of an application that reported this warning,\n",
      "please file a ticket with the developer.\n",
      "-------------------------------------------------------------------------------\n",
      "\n",
      "  \"\"\")\n"
     ]
    }
   ],
   "source": [
    "from konlpy.tag import Twitter\n",
    "twitter = Twitter()"
   ]
  },
  {
   "cell_type": "markdown",
   "metadata": {},
   "source": [
    "### 3.2 단어 리스트 만들기"
   ]
  },
  {
   "cell_type": "code",
   "execution_count": 6,
   "metadata": {},
   "outputs": [],
   "source": [
    "word_list = title_list"
   ]
  },
  {
   "cell_type": "markdown",
   "metadata": {},
   "source": [
    "### 3.3 형태소 분리"
   ]
  },
  {
   "cell_type": "code",
   "execution_count": 7,
   "metadata": {},
   "outputs": [
    {
     "name": "stdout",
     "output_type": "stream",
     "text": [
      "[(\"'\", 'Punctuation'), ('빅스', 'Noun'), ('마일', 'Noun'), ('데이', 'Noun'), (\"'\", 'Punctuation'), ('G', 'Alpha'), ('마켓', 'Noun'), ('이', 'Josa'), ('웃었다', 'Verb'), ('...', 'Punctuation'), ('누적', 'Noun'), ('판매량', 'Noun'), ('1억', 'Number'), ('개', 'Foreign'), ('돌파', 'Noun')]\n"
     ]
    }
   ],
   "source": [
    "sentences_tag = []\n",
    "\n",
    "for sentence in word_list:\n",
    "    morph = twitter.pos(sentence)\n",
    "    sentences_tag.append(morph)\n",
    "\n",
    "print(morph)"
   ]
  },
  {
   "cell_type": "markdown",
   "metadata": {},
   "source": [
    "### 3.4. 명사만 추출"
   ]
  },
  {
   "cell_type": "code",
   "execution_count": 8,
   "metadata": {},
   "outputs": [],
   "source": [
    "noun_list = []\n",
    "for sentence in sentences_tag:\n",
    "    for word, tag in sentence:\n",
    "        if tag in ['Noun']:\n",
    "            noun_list.append(word)"
   ]
  },
  {
   "cell_type": "markdown",
   "metadata": {},
   "source": [
    "### 3.5 두 단어 이상만 추출"
   ]
  },
  {
   "cell_type": "code",
   "execution_count": 9,
   "metadata": {},
   "outputs": [
    {
     "data": {
      "text/plain": [
       "['빅데이터',\n",
       " '처리',\n",
       " '지각',\n",
       " '심사',\n",
       " '무산',\n",
       " '빅데이터',\n",
       " '종각',\n",
       " '떡볶이',\n",
       " '여의도',\n",
       " '꽃집',\n",
       " '창업',\n",
       " '유망',\n",
       " '경기도',\n",
       " '지역',\n",
       " '경제',\n",
       " '빅데이터',\n",
       " '플랫폼',\n",
       " '용역',\n",
       " '계약',\n",
       " '체결',\n",
       " '경기도',\n",
       " '지역',\n",
       " '경제',\n",
       " '빅데이터',\n",
       " '사업',\n",
       " '수주',\n",
       " '저축은행',\n",
       " '브랜드',\n",
       " '평판',\n",
       " '빅데이터',\n",
       " '분석',\n",
       " '저축은행',\n",
       " '경남대',\n",
       " '사업',\n",
       " '빅데이터',\n",
       " '대회',\n",
       " '장려',\n",
       " '빅데이터',\n",
       " '분석',\n",
       " '캐피탈',\n",
       " '브랜드',\n",
       " '평판',\n",
       " '현대',\n",
       " '캐피탈',\n",
       " '하나',\n",
       " '캐피탈',\n",
       " '한국',\n",
       " '캐피탈',\n",
       " '김경수',\n",
       " '경남',\n",
       " '지사',\n",
       " '공간',\n",
       " '정보',\n",
       " '데이터',\n",
       " '기반',\n",
       " '행정',\n",
       " '필수',\n",
       " '오산시',\n",
       " '빅데이터',\n",
       " '활용',\n",
       " '생활',\n",
       " '편의',\n",
       " '이주열',\n",
       " '총재',\n",
       " '빅데이터',\n",
       " '블록',\n",
       " '체인',\n",
       " '변화',\n",
       " '외면',\n",
       " '국민',\n",
       " '신뢰',\n",
       " '내부',\n",
       " '인력',\n",
       " '육성',\n",
       " '자체',\n",
       " '빅데이터',\n",
       " '프로젝트',\n",
       " '역량',\n",
       " '확보',\n",
       " '빅데이터',\n",
       " '유통',\n",
       " '활성화',\n",
       " '국제',\n",
       " '표준',\n",
       " '개발',\n",
       " '정부',\n",
       " '기관',\n",
       " '브랜드',\n",
       " '평판',\n",
       " '빅데이터',\n",
       " '분석',\n",
       " '결과',\n",
       " '공정',\n",
       " '거래',\n",
       " '위원회',\n",
       " '한국',\n",
       " '국가',\n",
       " '데이터',\n",
       " '정책',\n",
       " '가장']"
      ]
     },
     "execution_count": 9,
     "metadata": {},
     "output_type": "execute_result"
    }
   ],
   "source": [
    "len(noun_list)\n",
    "\n",
    "noun_list = [n for n in noun_list if len(n) > 1]\n",
    "noun_list[:100]"
   ]
  },
  {
   "cell_type": "markdown",
   "metadata": {},
   "source": [
    "### 3.6 단어 카운트"
   ]
  },
  {
   "cell_type": "code",
   "execution_count": 10,
   "metadata": {
    "scrolled": true
   },
   "outputs": [
    {
     "data": {
      "text/plain": [
       "[('빅데이터', 78),\n",
       " ('데이터', 23),\n",
       " ('분석', 18),\n",
       " ('활용', 10),\n",
       " ('브랜드', 8),\n",
       " ('평판', 8),\n",
       " ('정보', 6),\n",
       " ('수상', 6),\n",
       " ('금융', 6),\n",
       " ('미래', 6),\n",
       " ('사업', 5),\n",
       " ('한국', 5),\n",
       " ('생활', 5),\n",
       " ('편의', 5),\n",
       " ('통과', 5),\n",
       " ('최초', 5),\n",
       " ('코리아', 5),\n",
       " ('혁신', 5),\n",
       " ('경제', 4),\n",
       " ('대회', 4),\n",
       " ('캐피탈', 4),\n",
       " ('경남', 4),\n",
       " ('기반', 4),\n",
       " ('오산시', 4),\n",
       " ('국민', 4),\n",
       " ('활성화', 4),\n",
       " ('국제', 4),\n",
       " ('개발', 4),\n",
       " ('정책', 4),\n",
       " ('산업', 4)]"
      ]
     },
     "execution_count": 10,
     "metadata": {},
     "output_type": "execute_result"
    }
   ],
   "source": [
    "counts = Counter(noun_list)\n",
    "tags = counts.most_common(30)\n",
    "tags"
   ]
  },
  {
   "cell_type": "markdown",
   "metadata": {},
   "source": [
    "## 4.WordCloud생성"
   ]
  },
  {
   "cell_type": "code",
   "execution_count": 11,
   "metadata": {},
   "outputs": [
    {
     "name": "stdout",
     "output_type": "stream",
     "text": [
      "{'빅데이터': 78, '데이터': 23, '분석': 18, '활용': 10, '브랜드': 8, '평판': 8, '정보': 6, '수상': 6, '금융': 6, '미래': 6, '사업': 5, '한국': 5, '생활': 5, '편의': 5, '통과': 5, '최초': 5, '코리아': 5, '혁신': 5, '경제': 4, '대회': 4, '캐피탈': 4, '경남': 4, '기반': 4, '오산시': 4, '국민': 4, '활성화': 4, '국제': 4, '개발': 4, '정책': 4, '산업': 4}\n"
     ]
    },
    {
     "data": {
      "image/png": "[encoded data removed]",
      "text/plain": [
       "<Figure size 720x576 with 1 Axes>"
      ]
     },
     "metadata": {
      "needs_background": "light"
     },
     "output_type": "display_data"
    }
   ],
   "source": [
    "wordcloud = WordCloud(font_path='C:/Windows/Fonts/malgun.ttf',\n",
    "                      background_color='white',\n",
    "                      width=800,\n",
    "                      height=600)\n",
    "\n",
    "print(dict(tags))\n",
    "\n",
    "cloud = wordcloud.generate_from_frequencies(dict(tags))\n",
    "plt.figure(figsize=(10, 8))\n",
    "plt.axis('off')\n",
    "plt.imshow(cloud)\n",
    "plt.show()"
   ]
  }
 ],
 "metadata": {
  "kernelspec": {
   "display_name": "Python 3",
   "language": "python",
   "name": "python3"
  },
  "language_info": {
   "codemirror_mode": {
    "name": "ipython",
    "version": 3
   },
   "file_extension": ".py",
   "mimetype": "text/x-python",
   "name": "python",
   "nbconvert_exporter": "python",
   "pygments_lexer": "ipython3",
   "version": "3.7.3"
  }
 },
 "nbformat": 4,
 "nbformat_minor": 2
}
