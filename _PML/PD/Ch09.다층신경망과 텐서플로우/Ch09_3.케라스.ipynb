{
 "cells": [
  {
   "cell_type": "markdown",
   "metadata": {},
   "source": [
    "# Ch09_3.케라스"
   ]
  },
  {
   "cell_type": "markdown",
   "metadata": {},
   "source": [
    "## 1.기본 package 설정"
   ]
  },
  {
   "cell_type": "code",
   "execution_count": 1,
   "metadata": {},
   "outputs": [
    {
     "name": "stderr",
     "output_type": "stream",
     "text": [
      "Using TensorFlow backend.\n"
     ]
    }
   ],
   "source": [
    "## 1.기본\n",
    "from keras import models, layers\n",
    "import numpy as np\n",
    "import matplotlib.pyplot as plt\n",
    "\n",
    "from keras.datasets import mnist"
   ]
  },
  {
   "cell_type": "markdown",
   "metadata": {},
   "source": [
    "## 2.데이터 가져오기"
   ]
  },
  {
   "cell_type": "code",
   "execution_count": 2,
   "metadata": {},
   "outputs": [],
   "source": [
    "(X_train, y_train),(X_test, y_test) = mnist.load_data()"
   ]
  },
  {
   "cell_type": "code",
   "execution_count": 3,
   "metadata": {},
   "outputs": [
    {
     "data": {
      "image/png": "[encoded data removed]",
      "text/plain": [
       "<Figure size 432x288 with 10 Axes>"
      ]
     },
     "metadata": {},
     "output_type": "display_data"
    }
   ],
   "source": [
    "fig, ax = plt.subplots(nrows=2, ncols=5, sharex=True, sharey=True,)\n",
    "ax = ax.flatten()\n",
    "for i in range(10):\n",
    "    img = X_train[y_train == i][0]\n",
    "    ax[i].imshow(img, cmap='Greys')\n",
    "\n",
    "ax[0].set_xticks([])\n",
    "ax[0].set_yticks([])\n",
    "plt.tight_layout()\n",
    "plt.show()"
   ]
  },
  {
   "cell_type": "code",
   "execution_count": 4,
   "metadata": {},
   "outputs": [
    {
     "data": {
      "text/plain": [
       "(60000, 28, 28)"
      ]
     },
     "execution_count": 4,
     "metadata": {},
     "output_type": "execute_result"
    }
   ],
   "source": [
    "X_train.shape"
   ]
  },
  {
   "cell_type": "code",
   "execution_count": 5,
   "metadata": {},
   "outputs": [
    {
     "data": {
      "text/plain": [
       "dtype('uint8')"
      ]
     },
     "execution_count": 5,
     "metadata": {},
     "output_type": "execute_result"
    }
   ],
   "source": [
    "X_train.dtype"
   ]
  },
  {
   "cell_type": "markdown",
   "metadata": {},
   "source": [
    "## 3.데이터 전처리"
   ]
  },
  {
   "cell_type": "markdown",
   "metadata": {},
   "source": [
    "### 3.1 data(X) 레이블 인코딩\n",
    "- 0과 1사이의 값으로 변환\n",
    "- 0 ~ 255값을 0~1사이의 값으로 표준화 시키기 위해 data/255로 나누어 줌"
   ]
  },
  {
   "cell_type": "code",
   "execution_count": 6,
   "metadata": {},
   "outputs": [
    {
     "name": "stdout",
     "output_type": "stream",
     "text": [
      "(60000, 784) float32\n",
      "(10000, 784) float32\n"
     ]
    }
   ],
   "source": [
    "X_train = X_train.reshape(60000, 28 * 28).astype('float32') / 255.0\n",
    "X_test = X_test.reshape(10000, 28 * 28).astype('float32') / 255.0\n",
    "print(X_train.shape, X_train.dtype)\n",
    "print(X_test.shape, X_test.dtype)"
   ]
  },
  {
   "cell_type": "code",
   "execution_count": 7,
   "metadata": {},
   "outputs": [
    {
     "data": {
      "text/plain": [
       "array([[0., 0., 0., ..., 0., 0., 0.],\n",
       "       [0., 0., 0., ..., 0., 0., 0.],\n",
       "       [0., 0., 0., ..., 0., 0., 0.],\n",
       "       ...,\n",
       "       [0., 0., 0., ..., 0., 0., 0.],\n",
       "       [0., 0., 0., ..., 0., 0., 0.],\n",
       "       [0., 0., 0., ..., 0., 0., 0.]], dtype=float32)"
      ]
     },
     "execution_count": 7,
     "metadata": {},
     "output_type": "execute_result"
    }
   ],
   "source": [
    "X_train"
   ]
  },
  {
   "cell_type": "markdown",
   "metadata": {},
   "source": [
    "### 3.2 Class(target) 레이블 인코딩\n",
    "- class를 각각 나누어서 10개로 분류"
   ]
  },
  {
   "cell_type": "code",
   "execution_count": 8,
   "metadata": {},
   "outputs": [
    {
     "data": {
      "text/plain": [
       "array([5, 0, 4, ..., 5, 6, 8], dtype=uint8)"
      ]
     },
     "execution_count": 8,
     "metadata": {},
     "output_type": "execute_result"
    }
   ],
   "source": [
    "y_train"
   ]
  },
  {
   "cell_type": "code",
   "execution_count": 9,
   "metadata": {},
   "outputs": [],
   "source": [
    "from keras.utils import to_categorical\n",
    "\n",
    "y_train_c = to_categorical(y_train)\n",
    "y_test_c = to_categorical(y_test)"
   ]
  },
  {
   "cell_type": "code",
   "execution_count": 10,
   "metadata": {},
   "outputs": [
    {
     "name": "stdout",
     "output_type": "stream",
     "text": [
      "(60000, 10) (10000, 10)\n"
     ]
    }
   ],
   "source": [
    "print(y_train_c.shape, y_test_c.shape)"
   ]
  },
  {
   "cell_type": "code",
   "execution_count": 11,
   "metadata": {},
   "outputs": [
    {
     "data": {
      "text/plain": [
       "array([[0., 0., 0., ..., 0., 0., 0.],\n",
       "       [1., 0., 0., ..., 0., 0., 0.],\n",
       "       [0., 0., 0., ..., 0., 0., 0.],\n",
       "       ...,\n",
       "       [0., 0., 0., ..., 0., 0., 0.],\n",
       "       [0., 0., 0., ..., 0., 0., 0.],\n",
       "       [0., 0., 0., ..., 0., 1., 0.]], dtype=float32)"
      ]
     },
     "execution_count": 11,
     "metadata": {},
     "output_type": "execute_result"
    }
   ],
   "source": [
    "y_train_c"
   ]
  },
  {
   "cell_type": "code",
   "execution_count": 12,
   "metadata": {},
   "outputs": [
    {
     "data": {
      "text/plain": [
       "array([[0., 0., 0., ..., 1., 0., 0.],\n",
       "       [0., 0., 1., ..., 0., 0., 0.],\n",
       "       [0., 1., 0., ..., 0., 0., 0.],\n",
       "       ...,\n",
       "       [0., 0., 0., ..., 0., 0., 0.],\n",
       "       [0., 0., 0., ..., 0., 0., 0.],\n",
       "       [0., 0., 0., ..., 0., 0., 0.]], dtype=float32)"
      ]
     },
     "execution_count": 12,
     "metadata": {},
     "output_type": "execute_result"
    }
   ],
   "source": [
    "y_test_c"
   ]
  },
  {
   "cell_type": "markdown",
   "metadata": {},
   "source": [
    "## 4.훈련/검증용 데이터 분할\n",
    "- test_size: 검증데이터 30%\n",
    "- random_state : random seed 번호 = 1\n",
    "- stratify : y(클래스)의 비율에 따라 분할"
   ]
  },
  {
   "cell_type": "markdown",
   "metadata": {},
   "source": [
    "## 5.모델구축"
   ]
  },
  {
   "cell_type": "markdown",
   "metadata": {},
   "source": [
    "### 5.1 신경망 구성"
   ]
  },
  {
   "cell_type": "code",
   "execution_count": 13,
   "metadata": {},
   "outputs": [],
   "source": [
    "np.random.seed(1)\n",
    "\n",
    "model = models.Sequential()\n",
    "\n",
    "# tensorflow: Dense,          input_dim=X_train.shape[1], \n",
    "# keras:      layer.Dense     input_shape=(X_train.shape[1],) \n",
    "\n",
    "model.add(layers.Dense(50,\n",
    "                       input_shape=(X_train.shape[1],), # input_shape = (X, )으로 입력\n",
    "                       activation=\"relu\"))\n",
    "\n",
    "model.add(layers.Dense(50,\n",
    "                       activation=\"relu\"))\n",
    "\n",
    "model.add(layers.Dense(y_test_c.shape[1],\n",
    "                       activation=\"softmax\"))"
   ]
  },
  {
   "cell_type": "code",
   "execution_count": 14,
   "metadata": {},
   "outputs": [
    {
     "name": "stdout",
     "output_type": "stream",
     "text": [
      "Model: \"sequential_1\"\n",
      "_________________________________________________________________\n",
      "Layer (type)                 Output Shape              Param #   \n",
      "=================================================================\n",
      "dense_1 (Dense)              (None, 50)                39250     \n",
      "_________________________________________________________________\n",
      "dense_2 (Dense)              (None, 50)                2550      \n",
      "_________________________________________________________________\n",
      "dense_3 (Dense)              (None, 10)                510       \n",
      "=================================================================\n",
      "Total params: 42,310\n",
      "Trainable params: 42,310\n",
      "Non-trainable params: 0\n",
      "_________________________________________________________________\n"
     ]
    }
   ],
   "source": [
    "model.summary()"
   ]
  },
  {
   "cell_type": "markdown",
   "metadata": {},
   "source": [
    "### 5.2 신경망 훈련\n",
    "- 이진 분류 : binary_crossentropy\n",
    "- 다중 분류 : categorical_crossentropy\n",
    "- 다양한 최적화 옵션은 keras 창시자에게 배우는 딥러닝을 참조"
   ]
  },
  {
   "cell_type": "code",
   "execution_count": 15,
   "metadata": {},
   "outputs": [],
   "source": [
    "model.compile(optimizer='rmsprop',\n",
    "              loss='categorical_crossentropy',\n",
    "              metrics=[\"accuracy\"])"
   ]
  },
  {
   "cell_type": "code",
   "execution_count": 16,
   "metadata": {},
   "outputs": [
    {
     "name": "stdout",
     "output_type": "stream",
     "text": [
      "Train on 60000 samples, validate on 10000 samples\n",
      "Epoch 1/30\n",
      "60000/60000 [==============================] - 2s 40us/step - loss: 0.3378 - accuracy: 0.9028 - val_loss: 0.1968 - val_accuracy: 0.9403\n",
      "Epoch 2/30\n",
      "60000/60000 [==============================] - 2s 36us/step - loss: 0.1628 - accuracy: 0.9525 - val_loss: 0.1404 - val_accuracy: 0.9584\n",
      "Epoch 3/30\n",
      "60000/60000 [==============================] - 2s 36us/step - loss: 0.1207 - accuracy: 0.9646 - val_loss: 0.1153 - val_accuracy: 0.9639\n",
      "Epoch 4/30\n",
      "60000/60000 [==============================] - 2s 35us/step - loss: 0.0988 - accuracy: 0.9704 - val_loss: 0.1080 - val_accuracy: 0.9671\n",
      "Epoch 5/30\n",
      "60000/60000 [==============================] - 2s 38us/step - loss: 0.0835 - accuracy: 0.9751 - val_loss: 0.1025 - val_accuracy: 0.9693\n",
      "Epoch 6/30\n",
      "60000/60000 [==============================] - 3s 42us/step - loss: 0.0743 - accuracy: 0.9781 - val_loss: 0.0941 - val_accuracy: 0.9716\n",
      "Epoch 7/30\n",
      "60000/60000 [==============================] - 3s 43us/step - loss: 0.0647 - accuracy: 0.9805 - val_loss: 0.0942 - val_accuracy: 0.9740\n",
      "Epoch 8/30\n",
      "60000/60000 [==============================] - 3s 52us/step - loss: 0.0586 - accuracy: 0.9818 - val_loss: 0.0959 - val_accuracy: 0.9733\n",
      "Epoch 9/30\n",
      "60000/60000 [==============================] - 3s 53us/step - loss: 0.0527 - accuracy: 0.9840 - val_loss: 0.0960 - val_accuracy: 0.9738\n",
      "Epoch 10/30\n",
      "60000/60000 [==============================] - 3s 42us/step - loss: 0.0480 - accuracy: 0.9855 - val_loss: 0.1157 - val_accuracy: 0.9675\n",
      "Epoch 11/30\n",
      "60000/60000 [==============================] - 3s 44us/step - loss: 0.0447 - accuracy: 0.9868 - val_loss: 0.0983 - val_accuracy: 0.9747\n",
      "Epoch 12/30\n",
      "60000/60000 [==============================] - 3s 47us/step - loss: 0.0406 - accuracy: 0.9876 - val_loss: 0.0951 - val_accuracy: 0.9765\n",
      "Epoch 13/30\n",
      "60000/60000 [==============================] - 3s 44us/step - loss: 0.0366 - accuracy: 0.9893 - val_loss: 0.1047 - val_accuracy: 0.9728\n",
      "Epoch 14/30\n",
      "60000/60000 [==============================] - 2s 39us/step - loss: 0.0344 - accuracy: 0.9896 - val_loss: 0.0985 - val_accuracy: 0.9772\n",
      "Epoch 15/30\n",
      "60000/60000 [==============================] - 2s 35us/step - loss: 0.0318 - accuracy: 0.9909 - val_loss: 0.1071 - val_accuracy: 0.9732\n",
      "Epoch 16/30\n",
      "60000/60000 [==============================] - 2s 36us/step - loss: 0.0296 - accuracy: 0.9910 - val_loss: 0.1148 - val_accuracy: 0.9748\n",
      "Epoch 17/30\n",
      "60000/60000 [==============================] - 2s 35us/step - loss: 0.0273 - accuracy: 0.9921 - val_loss: 0.1143 - val_accuracy: 0.9735\n",
      "Epoch 18/30\n",
      "60000/60000 [==============================] - 2s 37us/step - loss: 0.0262 - accuracy: 0.9922 - val_loss: 0.1178 - val_accuracy: 0.9733\n",
      "Epoch 19/30\n",
      "60000/60000 [==============================] - 2s 41us/step - loss: 0.0233 - accuracy: 0.9929 - val_loss: 0.1206 - val_accuracy: 0.9749\n",
      "Epoch 20/30\n",
      "60000/60000 [==============================] - 2s 37us/step - loss: 0.0223 - accuracy: 0.9936 - val_loss: 0.1187 - val_accuracy: 0.9753\n",
      "Epoch 21/30\n",
      "60000/60000 [==============================] - 2s 34us/step - loss: 0.0204 - accuracy: 0.9939 - val_loss: 0.1338 - val_accuracy: 0.9752\n",
      "Epoch 22/30\n",
      "60000/60000 [==============================] - 2s 33us/step - loss: 0.0194 - accuracy: 0.9942 - val_loss: 0.1390 - val_accuracy: 0.9726\n",
      "Epoch 23/30\n",
      "60000/60000 [==============================] - 2s 38us/step - loss: 0.0176 - accuracy: 0.9942 - val_loss: 0.1306 - val_accuracy: 0.9760\n",
      "Epoch 24/30\n",
      "60000/60000 [==============================] - 2s 33us/step - loss: 0.0164 - accuracy: 0.9951 - val_loss: 0.1543 - val_accuracy: 0.9718\n",
      "Epoch 25/30\n",
      "60000/60000 [==============================] - 2s 36us/step - loss: 0.0158 - accuracy: 0.9955 - val_loss: 0.1475 - val_accuracy: 0.9732\n",
      "Epoch 26/30\n",
      "60000/60000 [==============================] - 2s 33us/step - loss: 0.0141 - accuracy: 0.9959 - val_loss: 0.1500 - val_accuracy: 0.9730\n",
      "Epoch 27/30\n",
      "60000/60000 [==============================] - 2s 33us/step - loss: 0.0142 - accuracy: 0.9956 - val_loss: 0.1573 - val_accuracy: 0.9732\n",
      "Epoch 28/30\n",
      "60000/60000 [==============================] - 2s 35us/step - loss: 0.0127 - accuracy: 0.9962 - val_loss: 0.1548 - val_accuracy: 0.9761\n",
      "Epoch 29/30\n",
      "60000/60000 [==============================] - 2s 35us/step - loss: 0.0121 - accuracy: 0.9962 - val_loss: 0.1617 - val_accuracy: 0.9742\n",
      "Epoch 30/30\n",
      "60000/60000 [==============================] - 2s 35us/step - loss: 0.0112 - accuracy: 0.9965 - val_loss: 0.1716 - val_accuracy: 0.9734\n"
     ]
    }
   ],
   "source": [
    "history = model.fit(X_train, \n",
    "                    y_train_c,\n",
    "                    batch_size=64, \n",
    "                    epochs=30,\n",
    "                    validation_data=(X_test, y_test_c),             \n",
    "                    verbose=1)"
   ]
  },
  {
   "cell_type": "markdown",
   "metadata": {},
   "source": [
    "## 6. 모델검정"
   ]
  },
  {
   "cell_type": "markdown",
   "metadata": {},
   "source": [
    "### 6.1 훈련데이터 정확도"
   ]
  },
  {
   "cell_type": "code",
   "execution_count": 29,
   "metadata": {},
   "outputs": [
    {
     "name": "stdout",
     "output_type": "stream",
     "text": [
      "60000/60000 [==============================] - 1s 24us/step\n",
      "훈련 비용: 0.0098%\n",
      "훈련 정확도: 0.9969%\n"
     ]
    }
   ],
   "source": [
    "train_loss, train_acc = model.evaluate(X_train, y_train_c)\n",
    "print('훈련 비용: %.4f%%' % (train_loss))\n",
    "print('훈련 정확도: %.4f%%' % (train_acc))"
   ]
  },
  {
   "cell_type": "markdown",
   "metadata": {},
   "source": [
    "### 6.2 검증 데이터 정확도"
   ]
  },
  {
   "cell_type": "code",
   "execution_count": 27,
   "metadata": {},
   "outputs": [
    {
     "name": "stdout",
     "output_type": "stream",
     "text": [
      "10000/10000 [==============================] - 0s 26us/step\n",
      "테스트 비용: 17.16%\n",
      "테스트 정확도: 97.34%\n"
     ]
    }
   ],
   "source": [
    "test_loss, test_acc = model.evaluate(X_test, y_test_c)\n",
    "print('테스트 비용: %.2f%%' % (test_loss * 100))\n",
    "print('테스트 정확도: %.2f%%' % (test_acc * 100))"
   ]
  },
  {
   "cell_type": "markdown",
   "metadata": {},
   "source": [
    "### 6.2 검증 데이터 정확도"
   ]
  },
  {
   "cell_type": "code",
   "execution_count": 17,
   "metadata": {},
   "outputs": [
    {
     "data": {
      "image/png": "[encoded data removed]",
      "text/plain": [
       "<Figure size 864x288 with 2 Axes>"
      ]
     },
     "metadata": {
      "needs_background": "light"
     },
     "output_type": "display_data"
    }
   ],
   "source": [
    "loss = history.history['loss']\n",
    "val_loss = history.history['val_loss']\n",
    "accuracy = history.history['accuracy']\n",
    "val_accuracy = history.history['val_accuracy']\n",
    "\n",
    "epochs = range(1, len(loss)+1)\n",
    "\n",
    "\n",
    "plt.figure(figsize=(12, 4))\n",
    "\n",
    "# 비용함수\n",
    "plt.subplot(1, 2, 1)\n",
    "plt.title(\"Loss\")\n",
    "plt.xlabel('epochs')\n",
    "plt.ylabel('loss')\n",
    "plt.plot(epochs, loss, 'b-', label='training loss')\n",
    "plt.plot(epochs, val_loss, 'r:', label='validation loss')\n",
    "plt.legend()\n",
    "\n",
    "# 정확도\n",
    "plt.subplot(1, 2, 2)\n",
    "plt.title(\"Accuracy\")\n",
    "plt.ylabel(\"accuracy\")\n",
    "plt.xlabel('epochs')\n",
    "plt.plot(epochs, accuracy, 'b-', label=\" training accuracy\")\n",
    "plt.plot(epochs, val_accuracy, 'r:', label=\"validation accuracy\")\n",
    "plt.legend()\n",
    "\n",
    "plt.tight_layout()\n",
    "plt.show()"
   ]
  },
  {
   "cell_type": "code",
   "execution_count": null,
   "metadata": {},
   "outputs": [],
   "source": []
  }
 ],
 "metadata": {
  "kernelspec": {
   "display_name": "Python 3",
   "language": "python",
   "name": "python3"
  },
  "language_info": {
   "codemirror_mode": {
    "name": "ipython",
    "version": 3
   },
   "file_extension": ".py",
   "mimetype": "text/x-python",
   "name": "python",
   "nbconvert_exporter": "python",
   "pygments_lexer": "ipython3",
   "version": "3.7.3"
  }
 },
 "nbformat": 4,
 "nbformat_minor": 2
}
