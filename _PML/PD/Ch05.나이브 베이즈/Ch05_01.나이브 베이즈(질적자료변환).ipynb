{
 "cells": [
  {
   "cell_type": "markdown",
   "metadata": {},
   "source": [
    "# Ch05_01.나이브 베이즈(질적자료변환)"
   ]
  },
  {
   "cell_type": "markdown",
   "metadata": {},
   "source": [
    "## 1.기본 package 설정"
   ]
  },
  {
   "cell_type": "code",
   "execution_count": 1,
   "metadata": {},
   "outputs": [],
   "source": [
    "## 1.기본\n",
    "import numpy as np  # numpy 패키지 가져오기\n",
    "import matplotlib.pyplot as plt # 시각화 패키지 가져오기\n",
    "\n",
    "## 2.데이터 가져오기\n",
    "import pandas as pd # csv -> dataframe으로 전환\n",
    "from sklearn import datasets # python 저장 데이터 가져오기\n",
    "\n",
    "## 3.데이터 전처리\n",
    "from sklearn.preprocessing import StandardScaler # 연속변수의 표준화\n",
    "from sklearn.preprocessing import LabelEncoder # 범주형 변수 수치화\n",
    "\n",
    "# 4. 훈련/검증용 데이터 분리\n",
    "from sklearn.model_selection import train_test_split \n",
    "\n",
    "## 5.분류모델구축 (3장.p.83~130)\n",
    "# from sklearn.tree import DecisionTreeClassifier # 결정 트리\n",
    "from sklearn.naive_bayes import GaussianNB # 나이브 베이지안 (실수형)\n",
    "from sklearn.naive_bayes import MultinomialNB # 나이브 베이지안(정수형)\n",
    "from sklearn.naive_bayes import BernoulliNB # 나이브 베이지안(바이너리형(0,1))\n",
    "# from sklearn.neighbors import KNeighborsClassifier # K-최근접 이웃\n",
    "# from sklearn.ensemble import RandomForestClassifier # 랜덤 포레스트\n",
    "# from sklearn.ensemble import BaggingClassifier # 앙상블\n",
    "# from sklearn.linear_model import Perceptron # 퍼셉트론\n",
    "# from sklearn.linear_model import LogisticRegression # 로지스틱 회귀 모델\n",
    "# from sklearn.svm import SVC # 서포트 벡터 머신(SVM)\n",
    "# from sklearn.neural_network import MLPClassifier # 다층인공신경망\n",
    "\n",
    "## 6.모델검정\n",
    "from sklearn.metrics import confusion_matrix, classification_report # 정오분류표\n",
    "from sklearn.metrics import accuracy_score, precision_score, recall_score, f1_score, roc_auc_score # 정확도, 민감도 등\n",
    "from sklearn.metrics import roc_curve, auc # ROC 곡선 그리기\n",
    "\n",
    "## 7.최적화\n",
    "from sklearn.model_selection import cross_validate # 교차타당도\n",
    "from sklearn.pipeline import make_pipeline # 파이프라인 구축\n",
    "from sklearn.model_selection import learning_curve, validation_curve # 학습곡선, 검증곡선\n",
    "from sklearn.model_selection import GridSearchCV # 하이퍼파라미터 튜닝"
   ]
  },
  {
   "cell_type": "markdown",
   "metadata": {},
   "source": [
    "## 2.데이터 가져오기"
   ]
  },
  {
   "cell_type": "markdown",
   "metadata": {},
   "source": [
    "### 2.1 데이터프레임으로 저장\n",
    "- 원본데이터(csv)를 dataframe 형태로 가져오기(pandas)"
   ]
  },
  {
   "cell_type": "code",
   "execution_count": 2,
   "metadata": {},
   "outputs": [
    {
     "data": {
      "text/html": [
       "<div>\n",
       "<style scoped>\n",
       "    .dataframe tbody tr th:only-of-type {\n",
       "        vertical-align: middle;\n",
       "    }\n",
       "\n",
       "    .dataframe tbody tr th {\n",
       "        vertical-align: top;\n",
       "    }\n",
       "\n",
       "    .dataframe thead th {\n",
       "        text-align: right;\n",
       "    }\n",
       "</style>\n",
       "<table border=\"1\" class=\"dataframe\">\n",
       "  <thead>\n",
       "    <tr style=\"text-align: right;\">\n",
       "      <th></th>\n",
       "      <th>CRS_DEP_TIME</th>\n",
       "      <th>CARRIER</th>\n",
       "      <th>DEP_TIME</th>\n",
       "      <th>DEST</th>\n",
       "      <th>DISTANCE</th>\n",
       "      <th>FL_DATE</th>\n",
       "      <th>FL_NUM</th>\n",
       "      <th>ORIGIN</th>\n",
       "      <th>Weather</th>\n",
       "      <th>DAY_WEEK</th>\n",
       "      <th>DAY_OF_MONTH</th>\n",
       "      <th>TAIL_NUM</th>\n",
       "      <th>FlightStatus</th>\n",
       "    </tr>\n",
       "  </thead>\n",
       "  <tbody>\n",
       "    <tr>\n",
       "      <td>0</td>\n",
       "      <td>1455</td>\n",
       "      <td>OH</td>\n",
       "      <td>1455</td>\n",
       "      <td>JFK</td>\n",
       "      <td>184</td>\n",
       "      <td>01/01/2004</td>\n",
       "      <td>5935</td>\n",
       "      <td>BWI</td>\n",
       "      <td>0</td>\n",
       "      <td>THU</td>\n",
       "      <td>1</td>\n",
       "      <td>N940CA</td>\n",
       "      <td>ontime</td>\n",
       "    </tr>\n",
       "    <tr>\n",
       "      <td>1</td>\n",
       "      <td>1640</td>\n",
       "      <td>DH</td>\n",
       "      <td>1640</td>\n",
       "      <td>JFK</td>\n",
       "      <td>213</td>\n",
       "      <td>01/01/2004</td>\n",
       "      <td>6155</td>\n",
       "      <td>DCA</td>\n",
       "      <td>0</td>\n",
       "      <td>THU</td>\n",
       "      <td>1</td>\n",
       "      <td>N405FJ</td>\n",
       "      <td>ontime</td>\n",
       "    </tr>\n",
       "    <tr>\n",
       "      <td>2</td>\n",
       "      <td>1245</td>\n",
       "      <td>DH</td>\n",
       "      <td>1245</td>\n",
       "      <td>LGA</td>\n",
       "      <td>229</td>\n",
       "      <td>01/01/2004</td>\n",
       "      <td>7208</td>\n",
       "      <td>IAD</td>\n",
       "      <td>0</td>\n",
       "      <td>THU</td>\n",
       "      <td>1</td>\n",
       "      <td>N695BR</td>\n",
       "      <td>ontime</td>\n",
       "    </tr>\n",
       "    <tr>\n",
       "      <td>3</td>\n",
       "      <td>1715</td>\n",
       "      <td>DH</td>\n",
       "      <td>1709</td>\n",
       "      <td>LGA</td>\n",
       "      <td>229</td>\n",
       "      <td>01/01/2004</td>\n",
       "      <td>7215</td>\n",
       "      <td>IAD</td>\n",
       "      <td>0</td>\n",
       "      <td>THU</td>\n",
       "      <td>1</td>\n",
       "      <td>N662BR</td>\n",
       "      <td>ontime</td>\n",
       "    </tr>\n",
       "    <tr>\n",
       "      <td>4</td>\n",
       "      <td>1039</td>\n",
       "      <td>DH</td>\n",
       "      <td>1035</td>\n",
       "      <td>LGA</td>\n",
       "      <td>229</td>\n",
       "      <td>01/01/2004</td>\n",
       "      <td>7792</td>\n",
       "      <td>IAD</td>\n",
       "      <td>0</td>\n",
       "      <td>THU</td>\n",
       "      <td>1</td>\n",
       "      <td>N698BR</td>\n",
       "      <td>ontime</td>\n",
       "    </tr>\n",
       "  </tbody>\n",
       "</table>\n",
       "</div>"
      ],
      "text/plain": [
       "   CRS_DEP_TIME CARRIER  DEP_TIME DEST  DISTANCE     FL_DATE  FL_NUM ORIGIN  \\\n",
       "0          1455      OH      1455  JFK       184  01/01/2004    5935    BWI   \n",
       "1          1640      DH      1640  JFK       213  01/01/2004    6155    DCA   \n",
       "2          1245      DH      1245  LGA       229  01/01/2004    7208    IAD   \n",
       "3          1715      DH      1709  LGA       229  01/01/2004    7215    IAD   \n",
       "4          1039      DH      1035  LGA       229  01/01/2004    7792    IAD   \n",
       "\n",
       "   Weather DAY_WEEK  DAY_OF_MONTH TAIL_NUM FlightStatus  \n",
       "0        0      THU             1   N940CA       ontime  \n",
       "1        0      THU             1   N405FJ       ontime  \n",
       "2        0      THU             1   N695BR       ontime  \n",
       "3        0      THU             1   N662BR       ontime  \n",
       "4        0      THU             1   N698BR       ontime  "
      ]
     },
     "execution_count": 2,
     "metadata": {},
     "output_type": "execute_result"
    }
   ],
   "source": [
    "delays_df = pd.read_csv('FlightDelays.csv')\n",
    "delays_df.head()"
   ]
  },
  {
   "cell_type": "markdown",
   "metadata": {},
   "source": [
    "- 자료구조 살펴보기"
   ]
  },
  {
   "cell_type": "code",
   "execution_count": 3,
   "metadata": {},
   "outputs": [
    {
     "data": {
      "text/plain": [
       "(2201, 13)"
      ]
     },
     "execution_count": 3,
     "metadata": {},
     "output_type": "execute_result"
    }
   ],
   "source": [
    "delays_df.shape"
   ]
  },
  {
   "cell_type": "code",
   "execution_count": 4,
   "metadata": {},
   "outputs": [
    {
     "data": {
      "text/plain": [
       "Index(['CRS_DEP_TIME', 'CARRIER', 'DEP_TIME', 'DEST', 'DISTANCE', 'FL_DATE',\n",
       "       'FL_NUM', 'ORIGIN', 'Weather', 'DAY_WEEK', 'DAY_OF_MONTH', 'TAIL_NUM',\n",
       "       'FlightStatus'],\n",
       "      dtype='object')"
      ]
     },
     "execution_count": 4,
     "metadata": {},
     "output_type": "execute_result"
    }
   ],
   "source": [
    "# 자료구조 살펴보기\n",
    "delays_df.keys()"
   ]
  },
  {
   "cell_type": "markdown",
   "metadata": {},
   "source": [
    "### 2.2 data와 target으로 분리\n",
    "- 필요한 데이터만 추출\n",
    "- data: X, target: y 로 분리"
   ]
  },
  {
   "cell_type": "code",
   "execution_count": 5,
   "metadata": {},
   "outputs": [
    {
     "data": {
      "text/html": [
       "<div>\n",
       "<style scoped>\n",
       "    .dataframe tbody tr th:only-of-type {\n",
       "        vertical-align: middle;\n",
       "    }\n",
       "\n",
       "    .dataframe tbody tr th {\n",
       "        vertical-align: top;\n",
       "    }\n",
       "\n",
       "    .dataframe thead th {\n",
       "        text-align: right;\n",
       "    }\n",
       "</style>\n",
       "<table border=\"1\" class=\"dataframe\">\n",
       "  <thead>\n",
       "    <tr style=\"text-align: right;\">\n",
       "      <th></th>\n",
       "      <th>DAY_WEEK</th>\n",
       "      <th>CRS_DEP_TIME</th>\n",
       "      <th>ORIGIN</th>\n",
       "      <th>DEST</th>\n",
       "      <th>CARRIER</th>\n",
       "    </tr>\n",
       "  </thead>\n",
       "  <tbody>\n",
       "    <tr>\n",
       "      <td>0</td>\n",
       "      <td>THU</td>\n",
       "      <td>1455</td>\n",
       "      <td>BWI</td>\n",
       "      <td>JFK</td>\n",
       "      <td>OH</td>\n",
       "    </tr>\n",
       "    <tr>\n",
       "      <td>1</td>\n",
       "      <td>THU</td>\n",
       "      <td>1640</td>\n",
       "      <td>DCA</td>\n",
       "      <td>JFK</td>\n",
       "      <td>DH</td>\n",
       "    </tr>\n",
       "    <tr>\n",
       "      <td>2</td>\n",
       "      <td>THU</td>\n",
       "      <td>1245</td>\n",
       "      <td>IAD</td>\n",
       "      <td>LGA</td>\n",
       "      <td>DH</td>\n",
       "    </tr>\n",
       "    <tr>\n",
       "      <td>3</td>\n",
       "      <td>THU</td>\n",
       "      <td>1715</td>\n",
       "      <td>IAD</td>\n",
       "      <td>LGA</td>\n",
       "      <td>DH</td>\n",
       "    </tr>\n",
       "    <tr>\n",
       "      <td>4</td>\n",
       "      <td>THU</td>\n",
       "      <td>1039</td>\n",
       "      <td>IAD</td>\n",
       "      <td>LGA</td>\n",
       "      <td>DH</td>\n",
       "    </tr>\n",
       "  </tbody>\n",
       "</table>\n",
       "</div>"
      ],
      "text/plain": [
       "  DAY_WEEK  CRS_DEP_TIME ORIGIN DEST CARRIER\n",
       "0      THU          1455    BWI  JFK      OH\n",
       "1      THU          1640    DCA  JFK      DH\n",
       "2      THU          1245    IAD  LGA      DH\n",
       "3      THU          1715    IAD  LGA      DH\n",
       "4      THU          1039    IAD  LGA      DH"
      ]
     },
     "execution_count": 5,
     "metadata": {},
     "output_type": "execute_result"
    }
   ],
   "source": [
    "X=delays_df.iloc[:,[9,0,7,3,1]]\n",
    "X.head()"
   ]
  },
  {
   "cell_type": "code",
   "execution_count": 6,
   "metadata": {},
   "outputs": [
    {
     "data": {
      "text/html": [
       "<div>\n",
       "<style scoped>\n",
       "    .dataframe tbody tr th:only-of-type {\n",
       "        vertical-align: middle;\n",
       "    }\n",
       "\n",
       "    .dataframe tbody tr th {\n",
       "        vertical-align: top;\n",
       "    }\n",
       "\n",
       "    .dataframe thead th {\n",
       "        text-align: right;\n",
       "    }\n",
       "</style>\n",
       "<table border=\"1\" class=\"dataframe\">\n",
       "  <thead>\n",
       "    <tr style=\"text-align: right;\">\n",
       "      <th></th>\n",
       "      <th>FlightStatus</th>\n",
       "    </tr>\n",
       "  </thead>\n",
       "  <tbody>\n",
       "    <tr>\n",
       "      <td>0</td>\n",
       "      <td>ontime</td>\n",
       "    </tr>\n",
       "    <tr>\n",
       "      <td>1</td>\n",
       "      <td>ontime</td>\n",
       "    </tr>\n",
       "    <tr>\n",
       "      <td>2</td>\n",
       "      <td>ontime</td>\n",
       "    </tr>\n",
       "    <tr>\n",
       "      <td>3</td>\n",
       "      <td>ontime</td>\n",
       "    </tr>\n",
       "    <tr>\n",
       "      <td>4</td>\n",
       "      <td>ontime</td>\n",
       "    </tr>\n",
       "  </tbody>\n",
       "</table>\n",
       "</div>"
      ],
      "text/plain": [
       "  FlightStatus\n",
       "0       ontime\n",
       "1       ontime\n",
       "2       ontime\n",
       "3       ontime\n",
       "4       ontime"
      ]
     },
     "execution_count": 6,
     "metadata": {},
     "output_type": "execute_result"
    }
   ],
   "source": [
    "y=delays_df.iloc[:,[12]]\n",
    "y.head()"
   ]
  },
  {
   "cell_type": "markdown",
   "metadata": {},
   "source": [
    "## 3.데이터 전처리"
   ]
  },
  {
   "cell_type": "markdown",
   "metadata": {},
   "source": [
    "### 3.1 data(X) 레이블 인코딩\n",
    "- 문자형 자료를 숫자(범주형)로 인코딩\n",
    "- 숫자형 자료를 표준화\n",
    "- 결정나무, 랜덤 포레스트, 나이브 베이즈 분류 : 원본데이터 그대로 유지"
   ]
  },
  {
   "cell_type": "markdown",
   "metadata": {},
   "source": [
    "- 출발예정시간변환(18):6 = 6 AM ~ 22 = 10 PM"
   ]
  },
  {
   "cell_type": "code",
   "execution_count": 7,
   "metadata": {},
   "outputs": [
    {
     "name": "stderr",
     "output_type": "stream",
     "text": [
      "C:\\Users\\leecho\\Anaconda3\\lib\\site-packages\\ipykernel_launcher.py:1: SettingWithCopyWarning: \n",
      "A value is trying to be set on a copy of a slice from a DataFrame.\n",
      "Try using .loc[row_indexer,col_indexer] = value instead\n",
      "\n",
      "See the caveats in the documentation: http://pandas.pydata.org/pandas-docs/stable/user_guide/indexing.html#returning-a-view-versus-a-copy\n",
      "  \"\"\"Entry point for launching an IPython kernel.\n"
     ]
    }
   ],
   "source": [
    "X['CRS_DEP_TIME']=round(X['CRS_DEP_TIME']/100)"
   ]
  },
  {
   "cell_type": "code",
   "execution_count": 8,
   "metadata": {},
   "outputs": [
    {
     "data": {
      "text/html": [
       "<div>\n",
       "<style scoped>\n",
       "    .dataframe tbody tr th:only-of-type {\n",
       "        vertical-align: middle;\n",
       "    }\n",
       "\n",
       "    .dataframe tbody tr th {\n",
       "        vertical-align: top;\n",
       "    }\n",
       "\n",
       "    .dataframe thead th {\n",
       "        text-align: right;\n",
       "    }\n",
       "</style>\n",
       "<table border=\"1\" class=\"dataframe\">\n",
       "  <thead>\n",
       "    <tr style=\"text-align: right;\">\n",
       "      <th></th>\n",
       "      <th>DAY_WEEK</th>\n",
       "      <th>CRS_DEP_TIME</th>\n",
       "      <th>ORIGIN</th>\n",
       "      <th>DEST</th>\n",
       "      <th>CARRIER</th>\n",
       "    </tr>\n",
       "  </thead>\n",
       "  <tbody>\n",
       "    <tr>\n",
       "      <td>0</td>\n",
       "      <td>THU</td>\n",
       "      <td>15.0</td>\n",
       "      <td>BWI</td>\n",
       "      <td>JFK</td>\n",
       "      <td>OH</td>\n",
       "    </tr>\n",
       "    <tr>\n",
       "      <td>1</td>\n",
       "      <td>THU</td>\n",
       "      <td>16.0</td>\n",
       "      <td>DCA</td>\n",
       "      <td>JFK</td>\n",
       "      <td>DH</td>\n",
       "    </tr>\n",
       "    <tr>\n",
       "      <td>2</td>\n",
       "      <td>THU</td>\n",
       "      <td>12.0</td>\n",
       "      <td>IAD</td>\n",
       "      <td>LGA</td>\n",
       "      <td>DH</td>\n",
       "    </tr>\n",
       "    <tr>\n",
       "      <td>3</td>\n",
       "      <td>THU</td>\n",
       "      <td>17.0</td>\n",
       "      <td>IAD</td>\n",
       "      <td>LGA</td>\n",
       "      <td>DH</td>\n",
       "    </tr>\n",
       "    <tr>\n",
       "      <td>4</td>\n",
       "      <td>THU</td>\n",
       "      <td>10.0</td>\n",
       "      <td>IAD</td>\n",
       "      <td>LGA</td>\n",
       "      <td>DH</td>\n",
       "    </tr>\n",
       "  </tbody>\n",
       "</table>\n",
       "</div>"
      ],
      "text/plain": [
       "  DAY_WEEK  CRS_DEP_TIME ORIGIN DEST CARRIER\n",
       "0      THU          15.0    BWI  JFK      OH\n",
       "1      THU          16.0    DCA  JFK      DH\n",
       "2      THU          12.0    IAD  LGA      DH\n",
       "3      THU          17.0    IAD  LGA      DH\n",
       "4      THU          10.0    IAD  LGA      DH"
      ]
     },
     "execution_count": 8,
     "metadata": {},
     "output_type": "execute_result"
    }
   ],
   "source": [
    "X.head()"
   ]
  },
  {
   "cell_type": "markdown",
   "metadata": {},
   "source": [
    "- 출발예정시간을 범주형 변수로 변환"
   ]
  },
  {
   "cell_type": "code",
   "execution_count": 9,
   "metadata": {},
   "outputs": [
    {
     "name": "stderr",
     "output_type": "stream",
     "text": [
      "C:\\Users\\leecho\\Anaconda3\\lib\\site-packages\\ipykernel_launcher.py:1: SettingWithCopyWarning: \n",
      "A value is trying to be set on a copy of a slice from a DataFrame.\n",
      "Try using .loc[row_indexer,col_indexer] = value instead\n",
      "\n",
      "See the caveats in the documentation: http://pandas.pydata.org/pandas-docs/stable/user_guide/indexing.html#returning-a-view-versus-a-copy\n",
      "  \"\"\"Entry point for launching an IPython kernel.\n"
     ]
    }
   ],
   "source": [
    "X['CRS_DEP_TIME'] = X['CRS_DEP_TIME'].astype('category')"
   ]
  },
  {
   "cell_type": "code",
   "execution_count": 10,
   "metadata": {},
   "outputs": [
    {
     "data": {
      "text/plain": [
       "DAY_WEEK          object\n",
       "CRS_DEP_TIME    category\n",
       "ORIGIN            object\n",
       "DEST              object\n",
       "CARRIER           object\n",
       "dtype: object"
      ]
     },
     "execution_count": 10,
     "metadata": {},
     "output_type": "execute_result"
    }
   ],
   "source": [
    "X.dtypes"
   ]
  },
  {
   "cell_type": "markdown",
   "metadata": {},
   "source": [
    "- 범주형 변수 : One Hot Encording으로 변환\n",
    "- 변환기준점 및 변수 확인을 위해 변수 타입을 확인"
   ]
  },
  {
   "cell_type": "code",
   "execution_count": 11,
   "metadata": {},
   "outputs": [
    {
     "data": {
      "text/plain": [
       "DAY_WEEK\n",
       "FRI    391\n",
       "MON    308\n",
       "SAT    250\n",
       "SUN    253\n",
       "THU    372\n",
       "TUE    307\n",
       "WEN    320\n",
       "dtype: int64"
      ]
     },
     "execution_count": 11,
     "metadata": {},
     "output_type": "execute_result"
    }
   ],
   "source": [
    "X.groupby(\"DAY_WEEK\").size()"
   ]
  },
  {
   "cell_type": "code",
   "execution_count": 12,
   "metadata": {},
   "outputs": [
    {
     "data": {
      "text/plain": [
       "CRS_DEP_TIME\n",
       "6.0     126\n",
       "7.0     133\n",
       "8.0     164\n",
       "9.0     108\n",
       "10.0    100\n",
       "11.0     68\n",
       "12.0    142\n",
       "13.0    132\n",
       "14.0    123\n",
       "15.0    292\n",
       "16.0    178\n",
       "17.0    241\n",
       "18.0     85\n",
       "19.0    119\n",
       "20.0     53\n",
       "21.0    137\n",
       "dtype: int64"
      ]
     },
     "execution_count": 12,
     "metadata": {},
     "output_type": "execute_result"
    }
   ],
   "source": [
    "X.groupby(\"CRS_DEP_TIME\").size()"
   ]
  },
  {
   "cell_type": "code",
   "execution_count": 13,
   "metadata": {},
   "outputs": [
    {
     "data": {
      "text/plain": [
       "ORIGIN\n",
       "BWI     145\n",
       "DCA    1370\n",
       "IAD     686\n",
       "dtype: int64"
      ]
     },
     "execution_count": 13,
     "metadata": {},
     "output_type": "execute_result"
    }
   ],
   "source": [
    "X.groupby(\"ORIGIN\").size()"
   ]
  },
  {
   "cell_type": "code",
   "execution_count": 14,
   "metadata": {},
   "outputs": [
    {
     "data": {
      "text/plain": [
       "DEST\n",
       "EWR     665\n",
       "JFK     386\n",
       "LGA    1150\n",
       "dtype: int64"
      ]
     },
     "execution_count": 14,
     "metadata": {},
     "output_type": "execute_result"
    }
   ],
   "source": [
    "X.groupby(\"DEST\").size()"
   ]
  },
  {
   "cell_type": "code",
   "execution_count": 15,
   "metadata": {},
   "outputs": [
    {
     "data": {
      "text/plain": [
       "CARRIER\n",
       "CO     94\n",
       "DH    551\n",
       "DL    388\n",
       "MQ    295\n",
       "OH     30\n",
       "RU    408\n",
       "UA     31\n",
       "US    404\n",
       "dtype: int64"
      ]
     },
     "execution_count": 15,
     "metadata": {},
     "output_type": "execute_result"
    }
   ],
   "source": [
    "X.groupby(\"CARRIER\").size()"
   ]
  },
  {
   "cell_type": "markdown",
   "metadata": {},
   "source": [
    "- 판다스의 One Hot Encording 기능 사용 - get_dummies\n",
    "- drip_first = True : 기준변수는 제거함(기준변수는 0,0,0으로 표현가능하며, 다중공선성때문)"
   ]
  },
  {
   "cell_type": "code",
   "execution_count": 16,
   "metadata": {},
   "outputs": [],
   "source": [
    "X = pd.get_dummies(X[['DAY_WEEK', 'CRS_DEP_TIME', 'ORIGIN', 'DEST', 'CARRIER']], drop_first=True)"
   ]
  },
  {
   "cell_type": "code",
   "execution_count": 17,
   "metadata": {},
   "outputs": [
    {
     "data": {
      "text/html": [
       "<div>\n",
       "<style scoped>\n",
       "    .dataframe tbody tr th:only-of-type {\n",
       "        vertical-align: middle;\n",
       "    }\n",
       "\n",
       "    .dataframe tbody tr th {\n",
       "        vertical-align: top;\n",
       "    }\n",
       "\n",
       "    .dataframe thead th {\n",
       "        text-align: right;\n",
       "    }\n",
       "</style>\n",
       "<table border=\"1\" class=\"dataframe\">\n",
       "  <thead>\n",
       "    <tr style=\"text-align: right;\">\n",
       "      <th></th>\n",
       "      <th>DAY_WEEK_MON</th>\n",
       "      <th>DAY_WEEK_SAT</th>\n",
       "      <th>DAY_WEEK_SUN</th>\n",
       "      <th>DAY_WEEK_THU</th>\n",
       "      <th>DAY_WEEK_TUE</th>\n",
       "      <th>DAY_WEEK_WEN</th>\n",
       "      <th>CRS_DEP_TIME_7.0</th>\n",
       "      <th>CRS_DEP_TIME_8.0</th>\n",
       "      <th>CRS_DEP_TIME_9.0</th>\n",
       "      <th>CRS_DEP_TIME_10.0</th>\n",
       "      <th>...</th>\n",
       "      <th>ORIGIN_IAD</th>\n",
       "      <th>DEST_JFK</th>\n",
       "      <th>DEST_LGA</th>\n",
       "      <th>CARRIER_DH</th>\n",
       "      <th>CARRIER_DL</th>\n",
       "      <th>CARRIER_MQ</th>\n",
       "      <th>CARRIER_OH</th>\n",
       "      <th>CARRIER_RU</th>\n",
       "      <th>CARRIER_UA</th>\n",
       "      <th>CARRIER_US</th>\n",
       "    </tr>\n",
       "  </thead>\n",
       "  <tbody>\n",
       "    <tr>\n",
       "      <td>0</td>\n",
       "      <td>0</td>\n",
       "      <td>0</td>\n",
       "      <td>0</td>\n",
       "      <td>1</td>\n",
       "      <td>0</td>\n",
       "      <td>0</td>\n",
       "      <td>0</td>\n",
       "      <td>0</td>\n",
       "      <td>0</td>\n",
       "      <td>0</td>\n",
       "      <td>...</td>\n",
       "      <td>0</td>\n",
       "      <td>1</td>\n",
       "      <td>0</td>\n",
       "      <td>0</td>\n",
       "      <td>0</td>\n",
       "      <td>0</td>\n",
       "      <td>1</td>\n",
       "      <td>0</td>\n",
       "      <td>0</td>\n",
       "      <td>0</td>\n",
       "    </tr>\n",
       "    <tr>\n",
       "      <td>1</td>\n",
       "      <td>0</td>\n",
       "      <td>0</td>\n",
       "      <td>0</td>\n",
       "      <td>1</td>\n",
       "      <td>0</td>\n",
       "      <td>0</td>\n",
       "      <td>0</td>\n",
       "      <td>0</td>\n",
       "      <td>0</td>\n",
       "      <td>0</td>\n",
       "      <td>...</td>\n",
       "      <td>0</td>\n",
       "      <td>1</td>\n",
       "      <td>0</td>\n",
       "      <td>1</td>\n",
       "      <td>0</td>\n",
       "      <td>0</td>\n",
       "      <td>0</td>\n",
       "      <td>0</td>\n",
       "      <td>0</td>\n",
       "      <td>0</td>\n",
       "    </tr>\n",
       "    <tr>\n",
       "      <td>2</td>\n",
       "      <td>0</td>\n",
       "      <td>0</td>\n",
       "      <td>0</td>\n",
       "      <td>1</td>\n",
       "      <td>0</td>\n",
       "      <td>0</td>\n",
       "      <td>0</td>\n",
       "      <td>0</td>\n",
       "      <td>0</td>\n",
       "      <td>0</td>\n",
       "      <td>...</td>\n",
       "      <td>1</td>\n",
       "      <td>0</td>\n",
       "      <td>1</td>\n",
       "      <td>1</td>\n",
       "      <td>0</td>\n",
       "      <td>0</td>\n",
       "      <td>0</td>\n",
       "      <td>0</td>\n",
       "      <td>0</td>\n",
       "      <td>0</td>\n",
       "    </tr>\n",
       "    <tr>\n",
       "      <td>3</td>\n",
       "      <td>0</td>\n",
       "      <td>0</td>\n",
       "      <td>0</td>\n",
       "      <td>1</td>\n",
       "      <td>0</td>\n",
       "      <td>0</td>\n",
       "      <td>0</td>\n",
       "      <td>0</td>\n",
       "      <td>0</td>\n",
       "      <td>0</td>\n",
       "      <td>...</td>\n",
       "      <td>1</td>\n",
       "      <td>0</td>\n",
       "      <td>1</td>\n",
       "      <td>1</td>\n",
       "      <td>0</td>\n",
       "      <td>0</td>\n",
       "      <td>0</td>\n",
       "      <td>0</td>\n",
       "      <td>0</td>\n",
       "      <td>0</td>\n",
       "    </tr>\n",
       "    <tr>\n",
       "      <td>4</td>\n",
       "      <td>0</td>\n",
       "      <td>0</td>\n",
       "      <td>0</td>\n",
       "      <td>1</td>\n",
       "      <td>0</td>\n",
       "      <td>0</td>\n",
       "      <td>0</td>\n",
       "      <td>0</td>\n",
       "      <td>0</td>\n",
       "      <td>1</td>\n",
       "      <td>...</td>\n",
       "      <td>1</td>\n",
       "      <td>0</td>\n",
       "      <td>1</td>\n",
       "      <td>1</td>\n",
       "      <td>0</td>\n",
       "      <td>0</td>\n",
       "      <td>0</td>\n",
       "      <td>0</td>\n",
       "      <td>0</td>\n",
       "      <td>0</td>\n",
       "    </tr>\n",
       "  </tbody>\n",
       "</table>\n",
       "<p>5 rows × 32 columns</p>\n",
       "</div>"
      ],
      "text/plain": [
       "   DAY_WEEK_MON  DAY_WEEK_SAT  DAY_WEEK_SUN  DAY_WEEK_THU  DAY_WEEK_TUE  \\\n",
       "0             0             0             0             1             0   \n",
       "1             0             0             0             1             0   \n",
       "2             0             0             0             1             0   \n",
       "3             0             0             0             1             0   \n",
       "4             0             0             0             1             0   \n",
       "\n",
       "   DAY_WEEK_WEN  CRS_DEP_TIME_7.0  CRS_DEP_TIME_8.0  CRS_DEP_TIME_9.0  \\\n",
       "0             0                 0                 0                 0   \n",
       "1             0                 0                 0                 0   \n",
       "2             0                 0                 0                 0   \n",
       "3             0                 0                 0                 0   \n",
       "4             0                 0                 0                 0   \n",
       "\n",
       "   CRS_DEP_TIME_10.0  ...  ORIGIN_IAD  DEST_JFK  DEST_LGA  CARRIER_DH  \\\n",
       "0                  0  ...           0         1         0           0   \n",
       "1                  0  ...           0         1         0           1   \n",
       "2                  0  ...           1         0         1           1   \n",
       "3                  0  ...           1         0         1           1   \n",
       "4                  1  ...           1         0         1           1   \n",
       "\n",
       "   CARRIER_DL  CARRIER_MQ  CARRIER_OH  CARRIER_RU  CARRIER_UA  CARRIER_US  \n",
       "0           0           0           1           0           0           0  \n",
       "1           0           0           0           0           0           0  \n",
       "2           0           0           0           0           0           0  \n",
       "3           0           0           0           0           0           0  \n",
       "4           0           0           0           0           0           0  \n",
       "\n",
       "[5 rows x 32 columns]"
      ]
     },
     "execution_count": 17,
     "metadata": {},
     "output_type": "execute_result"
    }
   ],
   "source": [
    "X.head()"
   ]
  },
  {
   "cell_type": "markdown",
   "metadata": {},
   "source": [
    "### 3.2 Class(target) 레이블 인코딩\n",
    "- class(y)가 문자형으로 숫자로 변환\n",
    "- 연착을 중요변수로 설정 \n",
    "- 정상(1), 연착(0) --> 정상(1), 연착(0)"
   ]
  },
  {
   "cell_type": "code",
   "execution_count": 18,
   "metadata": {},
   "outputs": [
    {
     "data": {
      "text/html": [
       "<div>\n",
       "<style scoped>\n",
       "    .dataframe tbody tr th:only-of-type {\n",
       "        vertical-align: middle;\n",
       "    }\n",
       "\n",
       "    .dataframe tbody tr th {\n",
       "        vertical-align: top;\n",
       "    }\n",
       "\n",
       "    .dataframe thead th {\n",
       "        text-align: right;\n",
       "    }\n",
       "</style>\n",
       "<table border=\"1\" class=\"dataframe\">\n",
       "  <thead>\n",
       "    <tr style=\"text-align: right;\">\n",
       "      <th></th>\n",
       "      <th>FlightStatus</th>\n",
       "    </tr>\n",
       "  </thead>\n",
       "  <tbody>\n",
       "    <tr>\n",
       "      <td>0</td>\n",
       "      <td>0</td>\n",
       "    </tr>\n",
       "    <tr>\n",
       "      <td>1</td>\n",
       "      <td>0</td>\n",
       "    </tr>\n",
       "    <tr>\n",
       "      <td>2</td>\n",
       "      <td>0</td>\n",
       "    </tr>\n",
       "    <tr>\n",
       "      <td>3</td>\n",
       "      <td>0</td>\n",
       "    </tr>\n",
       "    <tr>\n",
       "      <td>4</td>\n",
       "      <td>0</td>\n",
       "    </tr>\n",
       "  </tbody>\n",
       "</table>\n",
       "</div>"
      ],
      "text/plain": [
       "   FlightStatus\n",
       "0             0\n",
       "1             0\n",
       "2             0\n",
       "3             0\n",
       "4             0"
      ]
     },
     "execution_count": 18,
     "metadata": {},
     "output_type": "execute_result"
    }
   ],
   "source": [
    "y = y.replace (['ontime','delayed'], [0,1])\n",
    "y.head()"
   ]
  },
  {
   "cell_type": "markdown",
   "metadata": {},
   "source": [
    "- 분석을 위해서는 데이터 프레임 형태를 배열형태로 변경해야 함"
   ]
  },
  {
   "cell_type": "code",
   "execution_count": 19,
   "metadata": {},
   "outputs": [
    {
     "name": "stderr",
     "output_type": "stream",
     "text": [
      "C:\\Users\\leecho\\Anaconda3\\lib\\site-packages\\sklearn\\preprocessing\\label.py:235: DataConversionWarning: A column-vector y was passed when a 1d array was expected. Please change the shape of y to (n_samples, ), for example using ravel().\n",
      "  y = column_or_1d(y, warn=True)\n"
     ]
    },
    {
     "data": {
      "text/plain": [
       "array([0, 0, 0, ..., 0, 0, 0], dtype=int64)"
      ]
     },
     "execution_count": 19,
     "metadata": {},
     "output_type": "execute_result"
    }
   ],
   "source": [
    "class_le = LabelEncoder()\n",
    "\n",
    "y = class_le.fit_transform(y)\n",
    "y"
   ]
  },
  {
   "cell_type": "markdown",
   "metadata": {},
   "source": [
    "## 4.훈련/검증용 데이터 분할\n",
    "- test_size: 검증데이터 30%\n",
    "- random_state : random seed 번호 = 1\n",
    "- stratify : y(클래스)의 비율에 따라 분할"
   ]
  },
  {
   "cell_type": "code",
   "execution_count": 20,
   "metadata": {},
   "outputs": [],
   "source": [
    "# \\ 이후에 space 없어야 함\n",
    "X_train, X_test, y_train, y_test = \\\n",
    "        train_test_split(X, y, \n",
    "                         test_size=0.3, \n",
    "                         random_state=1, \n",
    "                         stratify=y)"
   ]
  },
  {
   "cell_type": "markdown",
   "metadata": {},
   "source": [
    "## 5.모델구축\n",
    "- 실수형: GaussianNB (0.1, 0.9, 1.5)\n",
    "- 정수형: MultinomialNB (1, 3, 2)\n",
    "- 바이너리형: BernoulliNB (0,1,0)\n",
    "- alpha : smoothing"
   ]
  },
  {
   "cell_type": "code",
   "execution_count": 21,
   "metadata": {},
   "outputs": [
    {
     "data": {
      "text/plain": [
       "BernoulliNB(alpha=1.0, binarize=0.0, class_prior=None, fit_prior=True)"
      ]
     },
     "execution_count": 21,
     "metadata": {},
     "output_type": "execute_result"
    }
   ],
   "source": [
    "bnb = BernoulliNB(alpha=1.0, class_prior=None, fit_prior=True)\n",
    "bnb.fit(X_train, y_train)"
   ]
  },
  {
   "cell_type": "markdown",
   "metadata": {},
   "source": [
    "## 6. 모델검정"
   ]
  },
  {
   "cell_type": "markdown",
   "metadata": {},
   "source": [
    "### 6.1 검증용 데이터로 예측\n",
    "- predict (class로 표시)\n",
    "- predict_proba (확률값으로 표시)"
   ]
  },
  {
   "cell_type": "code",
   "execution_count": 22,
   "metadata": {},
   "outputs": [],
   "source": [
    "y_pred = bnb.predict(X_test)"
   ]
  },
  {
   "cell_type": "markdown",
   "metadata": {},
   "source": [
    "### 6.2 정오분류표로 검정"
   ]
  },
  {
   "cell_type": "code",
   "execution_count": 23,
   "metadata": {},
   "outputs": [
    {
     "data": {
      "text/html": [
       "<div>\n",
       "<style scoped>\n",
       "    .dataframe tbody tr th:only-of-type {\n",
       "        vertical-align: middle;\n",
       "    }\n",
       "\n",
       "    .dataframe tbody tr th {\n",
       "        vertical-align: top;\n",
       "    }\n",
       "\n",
       "    .dataframe thead th {\n",
       "        text-align: right;\n",
       "    }\n",
       "</style>\n",
       "<table border=\"1\" class=\"dataframe\">\n",
       "  <thead>\n",
       "    <tr style=\"text-align: right;\">\n",
       "      <th></th>\n",
       "      <th>Predict[0]</th>\n",
       "      <th>Predict[1]</th>\n",
       "    </tr>\n",
       "  </thead>\n",
       "  <tbody>\n",
       "    <tr>\n",
       "      <td>True[0]</td>\n",
       "      <td>480</td>\n",
       "      <td>52</td>\n",
       "    </tr>\n",
       "    <tr>\n",
       "      <td>True[1]</td>\n",
       "      <td>107</td>\n",
       "      <td>22</td>\n",
       "    </tr>\n",
       "  </tbody>\n",
       "</table>\n",
       "</div>"
      ],
      "text/plain": [
       "         Predict[0]  Predict[1]\n",
       "True[0]         480          52\n",
       "True[1]         107          22"
      ]
     },
     "execution_count": 23,
     "metadata": {},
     "output_type": "execute_result"
    }
   ],
   "source": [
    "confmat = pd.DataFrame(confusion_matrix(y_test, y_pred),\n",
    "                      index=['True[0]','True[1]'],\n",
    "                      columns=['Predict[0]', 'Predict[1]'])\n",
    "confmat"
   ]
  },
  {
   "cell_type": "code",
   "execution_count": 24,
   "metadata": {},
   "outputs": [
    {
     "name": "stdout",
     "output_type": "stream",
     "text": [
      "Classification Report\n",
      "              precision    recall  f1-score   support\n",
      "\n",
      "           0       0.82      0.90      0.86       532\n",
      "           1       0.30      0.17      0.22       129\n",
      "\n",
      "    accuracy                           0.76       661\n",
      "   macro avg       0.56      0.54      0.54       661\n",
      "weighted avg       0.72      0.76      0.73       661\n",
      "\n"
     ]
    }
   ],
   "source": [
    "print('Classification Report')\n",
    "print(classification_report(y_test, y_pred))"
   ]
  },
  {
   "cell_type": "markdown",
   "metadata": {},
   "source": [
    "### 6.3 정확도, 민감도 확인\n",
    "- 클래스가 2개일 경우에만 실행"
   ]
  },
  {
   "cell_type": "code",
   "execution_count": 25,
   "metadata": {},
   "outputs": [
    {
     "name": "stdout",
     "output_type": "stream",
     "text": [
      "잘못 분류된 샘플 개수: 159\n",
      "정확도: 0.759\n",
      "정밀도: 0.297\n",
      "재현율: 0.171\n",
      "F1: 0.217\n"
     ]
    }
   ],
   "source": [
    "print('잘못 분류된 샘플 개수: %d' % (y_test != y_pred).sum())\n",
    "print('정확도: %.3f' % accuracy_score(y_test, y_pred))\n",
    "print('정밀도: %.3f' % precision_score(y_true=y_test, y_pred=y_pred))\n",
    "print('재현율: %.3f' % recall_score(y_true=y_test, y_pred=y_pred))\n",
    "print('F1: %.3f' % f1_score(y_true=y_test, y_pred=y_pred))"
   ]
  },
  {
   "cell_type": "markdown",
   "metadata": {},
   "source": [
    "### 6.4 ROC 곡선 그리기\n",
    "- decision_function 사용가능한 모델일 경우: tree.decision_function(X_test)\n",
    "- decision_function 사용이 안되는 모델일 경우:tree.predict_proba(X_test)[:, 1]"
   ]
  },
  {
   "cell_type": "code",
   "execution_count": 26,
   "metadata": {},
   "outputs": [],
   "source": [
    "# fpr, tpr, thresholds = roc_curve(y_test, bnb.decision_function(X_test))\n",
    "fpr, tpr, thresholds = roc_curve(y_test, bnb.predict_proba(X_test)[:, 1])"
   ]
  },
  {
   "cell_type": "code",
   "execution_count": 27,
   "metadata": {},
   "outputs": [
    {
     "data": {
      "text/plain": [
       "(array([0.        , 0.0018797 , 0.0037594 , 0.0037594 , 0.0075188 ,\n",
       "        0.0112782 , 0.01503759, 0.01691729, 0.01879699, 0.01879699,\n",
       "        0.02631579, 0.02819549, 0.03195489, 0.03383459, 0.03947368,\n",
       "        0.04323308, 0.04323308, 0.04887218, 0.05263158, 0.05827068,\n",
       "        0.06390977, 0.06578947, 0.06954887, 0.06954887, 0.07142857,\n",
       "        0.07894737, 0.08082707, 0.08458647, 0.08646617, 0.08646617,\n",
       "        0.08646617, 0.09022556, 0.09022556, 0.09398496, 0.09398496,\n",
       "        0.09586466, 0.09774436, 0.09774436, 0.10526316, 0.10526316,\n",
       "        0.10714286, 0.10714286, 0.11278195, 0.11278195, 0.11842105,\n",
       "        0.12218045, 0.12406015, 0.12406015, 0.13157895, 0.13345865,\n",
       "        0.13721805, 0.14473684, 0.14849624, 0.15601504, 0.15789474,\n",
       "        0.16917293, 0.17293233, 0.17669173, 0.18045113, 0.18421053,\n",
       "        0.18421053, 0.18796992, 0.19548872, 0.20112782, 0.20300752,\n",
       "        0.20676692, 0.21240602, 0.21240602, 0.21616541, 0.21616541,\n",
       "        0.22180451, 0.22932331, 0.23684211, 0.2406015 , 0.2424812 ,\n",
       "        0.2424812 , 0.2462406 , 0.2481203 , 0.2481203 , 0.2537594 ,\n",
       "        0.2556391 , 0.2612782 , 0.26315789, 0.26315789, 0.26691729,\n",
       "        0.26691729, 0.26879699, 0.26879699, 0.27067669, 0.27067669,\n",
       "        0.27255639, 0.27631579, 0.28007519, 0.28007519, 0.28195489,\n",
       "        0.28571429, 0.28947368, 0.29323308, 0.29323308, 0.29511278,\n",
       "        0.29511278, 0.29699248, 0.29699248, 0.29887218, 0.30075188,\n",
       "        0.30451128, 0.31015038, 0.31203008, 0.31203008, 0.31578947,\n",
       "        0.31954887, 0.32142857, 0.32518797, 0.32706767, 0.32706767,\n",
       "        0.32894737, 0.33270677, 0.33270677, 0.33834586, 0.34022556,\n",
       "        0.34210526, 0.34962406, 0.34962406, 0.35526316, 0.35714286,\n",
       "        0.36278195, 0.36278195, 0.36654135, 0.37030075, 0.37593985,\n",
       "        0.37969925, 0.38345865, 0.38533835, 0.38909774, 0.39285714,\n",
       "        0.39661654, 0.39661654, 0.40037594, 0.40413534, 0.40413534,\n",
       "        0.40789474, 0.40977444, 0.41353383, 0.41353383, 0.41541353,\n",
       "        0.41541353, 0.41729323, 0.42293233, 0.42669173, 0.42669173,\n",
       "        0.42857143, 0.43233083, 0.43421053, 0.43609023, 0.44172932,\n",
       "        0.44360902, 0.44360902, 0.44548872, 0.44736842, 0.45112782,\n",
       "        0.45300752, 0.45488722, 0.45864662, 0.46616541, 0.46804511,\n",
       "        0.47180451, 0.47556391, 0.47932331, 0.47932331, 0.48308271,\n",
       "        0.4943609 , 0.4962406 , 0.5       , 0.5       , 0.5037594 ,\n",
       "        0.5112782 , 0.5112782 , 0.51503759, 0.52631579, 0.53007519,\n",
       "        0.53759398, 0.54135338, 0.54323308, 0.54511278, 0.55263158,\n",
       "        0.55639098, 0.55639098, 0.56015038, 0.56390977, 0.56766917,\n",
       "        0.56954887, 0.56954887, 0.57142857, 0.57894737, 0.58082707,\n",
       "        0.58458647, 0.58834586, 0.59586466, 0.60902256, 0.60902256,\n",
       "        0.62030075, 0.62593985, 0.62781955, 0.62969925, 0.63157895,\n",
       "        0.64097744, 0.65225564, 0.65977444, 0.66353383, 0.66353383,\n",
       "        0.66541353, 0.67293233, 0.67669173, 0.68233083, 0.68421053,\n",
       "        0.68421053, 0.68796992, 0.68984962, 0.69360902, 0.69736842,\n",
       "        0.69736842, 0.70112782, 0.70300752, 0.70676692, 0.71052632,\n",
       "        0.71240602, 0.72744361, 0.73120301, 0.73684211, 0.7406015 ,\n",
       "        0.7443609 , 0.7481203 , 0.75      , 0.7537594 , 0.7575188 ,\n",
       "        0.7612782 , 0.76503759, 0.77067669, 0.77443609, 0.78195489,\n",
       "        0.78383459, 0.78947368, 0.79135338, 0.79511278, 0.79887218,\n",
       "        0.80075188, 0.80451128, 0.80639098, 0.80827068, 0.81390977,\n",
       "        0.81766917, 0.81766917, 0.81954887, 0.81954887, 0.82330827,\n",
       "        0.82706767, 0.83270677, 0.83458647, 0.84210526, 0.84398496,\n",
       "        0.84774436, 0.85150376, 0.85526316, 0.85526316, 0.85714286,\n",
       "        0.86278195, 0.86654135, 0.87030075, 0.87969925, 0.88721805,\n",
       "        0.89097744, 0.89285714, 0.89849624, 0.90225564, 0.90977444,\n",
       "        0.92105263, 0.92293233, 0.92669173, 0.92857143, 0.93233083,\n",
       "        0.93984962, 0.94360902, 0.94548872, 0.94924812, 0.95112782,\n",
       "        0.95488722, 0.96052632, 0.96240602, 0.96616541, 0.97180451,\n",
       "        0.97932331, 0.98496241, 0.9906015 , 0.9981203 , 1.        ]),\n",
       " array([0.        , 0.00775194, 0.00775194, 0.01550388, 0.01550388,\n",
       "        0.01550388, 0.01550388, 0.01550388, 0.02325581, 0.03875969,\n",
       "        0.03875969, 0.03875969, 0.03875969, 0.03875969, 0.04651163,\n",
       "        0.05426357, 0.0620155 , 0.0620155 , 0.0620155 , 0.0620155 ,\n",
       "        0.0620155 , 0.0620155 , 0.06976744, 0.07751938, 0.07751938,\n",
       "        0.09302326, 0.09302326, 0.10852713, 0.10852713, 0.12403101,\n",
       "        0.13953488, 0.13953488, 0.14728682, 0.15503876, 0.1627907 ,\n",
       "        0.17054264, 0.17054264, 0.18604651, 0.18604651, 0.20155039,\n",
       "        0.20930233, 0.2248062 , 0.2248062 , 0.24031008, 0.24031008,\n",
       "        0.24031008, 0.24806202, 0.25581395, 0.25581395, 0.25581395,\n",
       "        0.25581395, 0.25581395, 0.25581395, 0.25581395, 0.25581395,\n",
       "        0.25581395, 0.25581395, 0.25581395, 0.25581395, 0.25581395,\n",
       "        0.27906977, 0.27906977, 0.27906977, 0.27906977, 0.27906977,\n",
       "        0.27906977, 0.27906977, 0.30232558, 0.31007752, 0.31782946,\n",
       "        0.31782946, 0.3255814 , 0.3255814 , 0.35658915, 0.35658915,\n",
       "        0.36434109, 0.36434109, 0.37209302, 0.3875969 , 0.3875969 ,\n",
       "        0.39534884, 0.39534884, 0.39534884, 0.41085271, 0.41085271,\n",
       "        0.41860465, 0.41860465, 0.42635659, 0.42635659, 0.43410853,\n",
       "        0.43410853, 0.43410853, 0.44186047, 0.45736434, 0.45736434,\n",
       "        0.45736434, 0.45736434, 0.45736434, 0.46511628, 0.48837209,\n",
       "        0.49612403, 0.49612403, 0.50387597, 0.50387597, 0.51162791,\n",
       "        0.51162791, 0.51162791, 0.51162791, 0.52713178, 0.53488372,\n",
       "        0.53488372, 0.53488372, 0.5503876 , 0.5503876 , 0.55813953,\n",
       "        0.55813953, 0.55813953, 0.56589147, 0.57364341, 0.58139535,\n",
       "        0.58139535, 0.58139535, 0.60465116, 0.60465116, 0.6124031 ,\n",
       "        0.6124031 , 0.62015504, 0.62015504, 0.62790698, 0.62790698,\n",
       "        0.64341085, 0.64341085, 0.65116279, 0.65116279, 0.65116279,\n",
       "        0.65116279, 0.65891473, 0.65891473, 0.65891473, 0.66666667,\n",
       "        0.6744186 , 0.6744186 , 0.6744186 , 0.68217054, 0.68217054,\n",
       "        0.68992248, 0.69767442, 0.70542636, 0.72093023, 0.72868217,\n",
       "        0.72868217, 0.73643411, 0.73643411, 0.75193798, 0.75193798,\n",
       "        0.75968992, 0.76744186, 0.76744186, 0.7751938 , 0.7751938 ,\n",
       "        0.7751938 , 0.78294574, 0.78294574, 0.78294574, 0.78294574,\n",
       "        0.78294574, 0.78294574, 0.78294574, 0.79069767, 0.79069767,\n",
       "        0.79069767, 0.79069767, 0.79069767, 0.79844961, 0.79844961,\n",
       "        0.79844961, 0.81395349, 0.81395349, 0.81395349, 0.81395349,\n",
       "        0.81395349, 0.81395349, 0.81395349, 0.82945736, 0.82945736,\n",
       "        0.82945736, 0.8372093 , 0.8372093 , 0.8372093 , 0.84496124,\n",
       "        0.84496124, 0.85271318, 0.85271318, 0.85271318, 0.85271318,\n",
       "        0.85271318, 0.85271318, 0.85271318, 0.85271318, 0.86046512,\n",
       "        0.86046512, 0.86046512, 0.86821705, 0.86821705, 0.87596899,\n",
       "        0.87596899, 0.87596899, 0.87596899, 0.87596899, 0.88372093,\n",
       "        0.89147287, 0.89147287, 0.89147287, 0.89147287, 0.89147287,\n",
       "        0.89922481, 0.89922481, 0.89922481, 0.89922481, 0.89922481,\n",
       "        0.90697674, 0.90697674, 0.90697674, 0.90697674, 0.90697674,\n",
       "        0.91472868, 0.91472868, 0.91472868, 0.91472868, 0.91472868,\n",
       "        0.91472868, 0.91472868, 0.93023256, 0.93023256, 0.93023256,\n",
       "        0.93023256, 0.9379845 , 0.9379845 , 0.9379845 , 0.9379845 ,\n",
       "        0.9379845 , 0.9379845 , 0.9379845 , 0.94573643, 0.94573643,\n",
       "        0.94573643, 0.94573643, 0.94573643, 0.95348837, 0.95348837,\n",
       "        0.95348837, 0.96899225, 0.96899225, 0.97674419, 0.97674419,\n",
       "        0.97674419, 0.97674419, 0.97674419, 0.97674419, 0.97674419,\n",
       "        0.97674419, 0.98449612, 0.98449612, 0.99224806, 0.99224806,\n",
       "        0.99224806, 0.99224806, 0.99224806, 0.99224806, 0.99224806,\n",
       "        0.99224806, 1.        , 1.        , 1.        , 1.        ,\n",
       "        1.        , 1.        , 1.        , 1.        , 1.        ,\n",
       "        1.        , 1.        , 1.        , 1.        , 1.        ,\n",
       "        1.        , 1.        , 1.        , 1.        , 1.        ,\n",
       "        1.        , 1.        , 1.        , 1.        , 1.        ]),\n",
       " array([1.7457306 , 0.7457306 , 0.72084451, 0.71908197, 0.69387691,\n",
       "        0.66424061, 0.65214847, 0.65137506, 0.64449421, 0.63129202,\n",
       "        0.62176908, 0.61931393, 0.61552208, 0.61345116, 0.60146017,\n",
       "        0.59909747, 0.59785654, 0.5725386 , 0.56844148, 0.55834119,\n",
       "        0.55618435, 0.55483663, 0.55464251, 0.5508683 , 0.53896049,\n",
       "        0.53753586, 0.53350968, 0.53248842, 0.52918037, 0.52083514,\n",
       "        0.51964662, 0.5190867 , 0.51770475, 0.51154362, 0.51070129,\n",
       "        0.50594455, 0.50274029, 0.49443792, 0.48971579, 0.48564628,\n",
       "        0.4842349 , 0.47982172, 0.47858175, 0.4769491 , 0.47103785,\n",
       "        0.47021091, 0.46246907, 0.46050573, 0.45825903, 0.45263719,\n",
       "        0.45184162, 0.44952878, 0.44014654, 0.43128327, 0.42421433,\n",
       "        0.41905905, 0.41829896, 0.41286592, 0.41128062, 0.4105097 ,\n",
       "        0.40277993, 0.39940686, 0.39354471, 0.39204441, 0.3909886 ,\n",
       "        0.39062965, 0.38227864, 0.37355383, 0.36923485, 0.36514665,\n",
       "        0.36495304, 0.36467574, 0.36281582, 0.35702125, 0.35655493,\n",
       "        0.35581647, 0.35522154, 0.35407938, 0.34749983, 0.34410964,\n",
       "        0.3438647 , 0.34300796, 0.34284251, 0.34020991, 0.33975394,\n",
       "        0.33548271, 0.32826568, 0.32797182, 0.32527675, 0.32511679,\n",
       "        0.324867  , 0.32470149, 0.31719008, 0.31625129, 0.31612172,\n",
       "        0.31601663, 0.3128755 , 0.31230107, 0.3084533 , 0.30587541,\n",
       "        0.30481599, 0.30438558, 0.30046731, 0.29978833, 0.29783908,\n",
       "        0.29288717, 0.28570767, 0.28546917, 0.2831809 , 0.28231334,\n",
       "        0.28227328, 0.27737206, 0.27036803, 0.26920012, 0.26776102,\n",
       "        0.26508221, 0.26091206, 0.2606723 , 0.2604729 , 0.25888195,\n",
       "        0.25856619, 0.25145883, 0.24945987, 0.24825353, 0.24688858,\n",
       "        0.23627637, 0.23334983, 0.23250146, 0.23236126, 0.2306603 ,\n",
       "        0.2263726 , 0.22382678, 0.22233745, 0.22092258, 0.2201521 ,\n",
       "        0.21902172, 0.21799562, 0.21725438, 0.21713044, 0.21476453,\n",
       "        0.21184074, 0.20770372, 0.20587697, 0.20017819, 0.19970262,\n",
       "        0.19929713, 0.1982111 , 0.19403843, 0.19353342, 0.19161329,\n",
       "        0.19095014, 0.19083755, 0.18858952, 0.1885861 , 0.18333411,\n",
       "        0.18312563, 0.18295559, 0.18228655, 0.18065417, 0.17830784,\n",
       "        0.1778744 , 0.17704811, 0.17314323, 0.17024224, 0.17011614,\n",
       "        0.16771667, 0.16502112, 0.16351   , 0.16062196, 0.15874951,\n",
       "        0.15273336, 0.1505784 , 0.15057762, 0.14931827, 0.14569419,\n",
       "        0.14389674, 0.13994859, 0.13824814, 0.13773267, 0.13678759,\n",
       "        0.12968872, 0.12837842, 0.12770056, 0.12725942, 0.11905064,\n",
       "        0.11836125, 0.11727754, 0.11488613, 0.11368016, 0.11295853,\n",
       "        0.11253299, 0.1088661 , 0.10826024, 0.10700972, 0.10643054,\n",
       "        0.10480471, 0.10177647, 0.09950496, 0.09326826, 0.09196784,\n",
       "        0.0888143 , 0.08726566, 0.08562533, 0.085276  , 0.08471756,\n",
       "        0.08157498, 0.07987513, 0.0781389 , 0.07744898, 0.07716843,\n",
       "        0.07665029, 0.0749909 , 0.0737542 , 0.07221944, 0.06963446,\n",
       "        0.06891073, 0.06828652, 0.06715317, 0.06663088, 0.06415206,\n",
       "        0.06371245, 0.06361702, 0.06341671, 0.06292604, 0.05920871,\n",
       "        0.05911577, 0.05641961, 0.05536454, 0.05294358, 0.05254885,\n",
       "        0.05199736, 0.05166222, 0.05093911, 0.04931681, 0.04860343,\n",
       "        0.04785659, 0.04745856, 0.04586221, 0.04528628, 0.04477423,\n",
       "        0.04459347, 0.0444611 , 0.04434538, 0.04364873, 0.0434641 ,\n",
       "        0.04328978, 0.04298852, 0.04210199, 0.04190594, 0.04180673,\n",
       "        0.04048775, 0.04041835, 0.04004338, 0.0390398 , 0.03878476,\n",
       "        0.03817474, 0.03790593, 0.03773968, 0.03708674, 0.03627391,\n",
       "        0.03534751, 0.03514093, 0.03506255, 0.03491044, 0.03463856,\n",
       "        0.03456139, 0.03439377, 0.03411629, 0.03394122, 0.03338575,\n",
       "        0.03264058, 0.03219045, 0.03157976, 0.03094396, 0.02963   ,\n",
       "        0.02863391, 0.02783739, 0.02769474, 0.02698131, 0.02689989,\n",
       "        0.02608489, 0.0259698 , 0.02530447, 0.02502816, 0.02502504,\n",
       "        0.0243912 , 0.02328063, 0.02290018, 0.02274808, 0.02120963,\n",
       "        0.02000181, 0.01625069, 0.01605935, 0.01139771, 0.00930893]))"
      ]
     },
     "execution_count": 27,
     "metadata": {},
     "output_type": "execute_result"
    }
   ],
   "source": [
    "fpr, tpr, thresholds"
   ]
  },
  {
   "cell_type": "code",
   "execution_count": 28,
   "metadata": {},
   "outputs": [
    {
     "data": {
      "image/png": "[encoded data removed]",
      "text/plain": [
       "<Figure size 432x288 with 1 Axes>"
      ]
     },
     "metadata": {
      "needs_background": "light"
     },
     "output_type": "display_data"
    }
   ],
   "source": [
    "plt.plot(fpr, tpr, '--', label=\"Decision Tree\")\n",
    "plt.plot([0, 1], [0, 1], 'k--', label=\"random guess\")\n",
    "plt.plot([fpr], [tpr], 'r-', ms=10)\n",
    "plt.xlabel('FPR')\n",
    "plt.ylabel('TPR')\n",
    "plt.title('ROC')\n",
    "plt.show()"
   ]
  },
  {
   "cell_type": "markdown",
   "metadata": {},
   "source": [
    "## 부록. 예측"
   ]
  },
  {
   "cell_type": "markdown",
   "metadata": {},
   "source": [
    "- 1~6: DAY_WEEK(FRI, MON, SAT, SUN, THU, TUE, WEN) = FRI(0,0,0,0,0,0), MON=(1,0,0,0,0,0)\n",
    "- 7~21: CRS_DEP_TIME: 6 ~ 21(0,0,0,0,0,0,0,0,0,0,0,0,0,0,0)\n",
    "- 22~23: ORIGIN(BWI, DCA, IAD)(0,0)\n",
    "- 24~25: DEST(EWR, JFK, LGA)(0,0)\n",
    "- 26~32: CARRIER(CO, DH, DL, MQ, OH, RU, UA, US)"
   ]
  },
  {
   "cell_type": "markdown",
   "metadata": {},
   "source": [
    "x_new = (FRI, 6, BWI, EWR, CO)"
   ]
  },
  {
   "cell_type": "code",
   "execution_count": 29,
   "metadata": {},
   "outputs": [
    {
     "data": {
      "text/plain": [
       "array([[0.76674036, 0.23325964]])"
      ]
     },
     "execution_count": 29,
     "metadata": {},
     "output_type": "execute_result"
    }
   ],
   "source": [
    "x_new = np.array([0,0,0,0,0,0,0,0,0,0,0,0,0,0,0,0,0,0,0,0,0,0,0,0,0,0,0,0,0,0,0,0])\n",
    "bnb.predict_proba([x_new])"
   ]
  },
  {
   "cell_type": "code",
   "execution_count": 30,
   "metadata": {},
   "outputs": [
    {
     "data": {
      "text/plain": [
       "array([0], dtype=int64)"
      ]
     },
     "execution_count": 30,
     "metadata": {},
     "output_type": "execute_result"
    }
   ],
   "source": [
    "x_new = np.array([0,0,0,0,0,0,0,0,0,0,0,0,0,0,0,0,0,0,0,0,0,0,0,0,0,0,0,0,0,0,0,0])\n",
    "bnb.predict([x_new])"
   ]
  },
  {
   "cell_type": "markdown",
   "metadata": {},
   "source": [
    "## 7.최적화\n",
    "- 교재 6장 (pp.218~250)"
   ]
  },
  {
   "cell_type": "markdown",
   "metadata": {},
   "source": [
    "### 7.1 교차검정\n",
    "- 5장, 6장의 default model 정확도= 0.758 과 비교\n",
    "- 7.3부터 최적화를 위해서 교차검정 방법을 사용"
   ]
  },
  {
   "cell_type": "code",
   "execution_count": 31,
   "metadata": {},
   "outputs": [
    {
     "name": "stdout",
     "output_type": "stream",
     "text": [
      "CV 정확도 점수: [0.8        0.76623377 0.76623377 0.81818182 0.77272727 0.77272727\n",
      " 0.75974026 0.76623377 0.78571429 0.77777778]\n",
      "CV 정확도: 0.779 +/- 0.017\n"
     ]
    }
   ],
   "source": [
    "scores = cross_validate(estimator=bnb, \n",
    "                        X=X_train, \n",
    "                        y=y_train, \n",
    "                        scoring=['accuracy'], \n",
    "                        cv=10, \n",
    "                        n_jobs=-1,\n",
    "                        return_train_score=False)\n",
    "print('CV 정확도 점수: %s' % scores['test_accuracy'])\n",
    "print('CV 정확도: %.3f +/- %.3f' % (np.mean(scores['test_accuracy']), \n",
    "                                 np.std(scores['test_accuracy'])))"
   ]
  },
  {
   "cell_type": "markdown",
   "metadata": {},
   "source": [
    "### 7.2 파이프라인 모델 만들기\n",
    "- 파이프라인을 이용하여 최적 모델 만들기\n",
    "- 기본모형은 아무 옵션이 없는 모델로 부터 시작\n",
    "- 파라미터 옵션 확인: pipe_tree.get_params().keys()"
   ]
  },
  {
   "cell_type": "code",
   "execution_count": 32,
   "metadata": {},
   "outputs": [],
   "source": [
    "pipe_bnb = make_pipeline(BernoulliNB())"
   ]
  },
  {
   "cell_type": "code",
   "execution_count": 33,
   "metadata": {},
   "outputs": [
    {
     "data": {
      "text/plain": [
       "dict_keys(['memory', 'steps', 'verbose', 'bernoullinb', 'bernoullinb__alpha', 'bernoullinb__binarize', 'bernoullinb__class_prior', 'bernoullinb__fit_prior'])"
      ]
     },
     "execution_count": 33,
     "metadata": {},
     "output_type": "execute_result"
    }
   ],
   "source": [
    "pipe_bnb.get_params().keys()"
   ]
  },
  {
   "cell_type": "markdown",
   "metadata": {},
   "source": [
    "### 7.3 학습 곡선으로 편향과 분산 문제 분석하기\n",
    "- 훈렴 샘플링 수를 이용하여 편향과 분산 검정\n",
    "- 편향: 정확도가 높은지 검정\n",
    "- 분산: 훈련/검정 데이터의 정확도의 차이가 적은지"
   ]
  },
  {
   "cell_type": "code",
   "execution_count": 34,
   "metadata": {},
   "outputs": [
    {
     "data": {
      "image/png": "[encoded data removed]",
      "text/plain": [
       "<Figure size 432x288 with 1 Axes>"
      ]
     },
     "metadata": {
      "needs_background": "light"
     },
     "output_type": "display_data"
    }
   ],
   "source": [
    "train_sizes, train_scores, test_scores =\\\n",
    "                learning_curve(estimator=pipe_bnb, # 수정\n",
    "                               X=X_train,\n",
    "                               y=y_train,\n",
    "                               train_sizes=np.linspace(0.1, 1.0, 10),\n",
    "                               cv=10,\n",
    "                               n_jobs=1)\n",
    "\n",
    "train_mean = np.mean(train_scores, axis=1)\n",
    "train_std = np.std(train_scores, axis=1)\n",
    "test_mean = np.mean(test_scores, axis=1)\n",
    "test_std = np.std(test_scores, axis=1)\n",
    "\n",
    "plt.plot(train_sizes, train_mean,\n",
    "         color='blue', marker='o',\n",
    "         markersize=5, label='training accuracy')\n",
    "\n",
    "plt.fill_between(train_sizes,\n",
    "                 train_mean + train_std,\n",
    "                 train_mean - train_std,\n",
    "                 alpha=0.15, color='blue')\n",
    "\n",
    "plt.plot(train_sizes, test_mean,\n",
    "         color='green', linestyle='--',\n",
    "         marker='s', markersize=5,\n",
    "         label='validation accuracy')\n",
    "\n",
    "plt.fill_between(train_sizes,\n",
    "                 test_mean + test_std,\n",
    "                 test_mean - test_std,\n",
    "                 alpha=0.15, color='green')\n",
    "\n",
    "plt.grid()\n",
    "plt.xlabel('Number of training samples')\n",
    "plt.ylabel('Accuracy')\n",
    "plt.legend(loc='lower right')\n",
    "plt.ylim([0.5, 1.0])  # 수정\n",
    "plt.tight_layout()\n",
    "plt.show()"
   ]
  },
  {
   "cell_type": "markdown",
   "metadata": {},
   "source": [
    "### 7.4 검증 곡선으로 과대적합과 과소적합 조사하기\n",
    "- 과대적합 : 파라미터가 많음 -> 파라미터 축소\n",
    "- 과소적합 : 파라미터가 적음 -> 파라미터 추가"
   ]
  },
  {
   "cell_type": "markdown",
   "metadata": {},
   "source": [
    "### 7.5 하이퍼파라미터 튜닝\n",
    "- 그리드 서치를 사용한 머신 러닝 모델 세부 튜닝\n",
    "- 기계학습 모델의 성능을 결정하는 하이퍼 파라미터 튜닝"
   ]
  },
  {
   "cell_type": "markdown",
   "metadata": {},
   "source": [
    "## 8.최적화 모델 검정"
   ]
  }
 ],
 "metadata": {
  "kernelspec": {
   "display_name": "Python 3",
   "language": "python",
   "name": "python3"
  },
  "language_info": {
   "codemirror_mode": {
    "name": "ipython",
    "version": 3
   },
   "file_extension": ".py",
   "mimetype": "text/x-python",
   "name": "python",
   "nbconvert_exporter": "python",
   "pygments_lexer": "ipython3",
   "version": "3.7.3"
  }
 },
 "nbformat": 4,
 "nbformat_minor": 2
}
