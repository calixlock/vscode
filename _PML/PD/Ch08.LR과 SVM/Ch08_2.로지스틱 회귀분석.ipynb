{
 "cells": [
  {
   "cell_type": "markdown",
   "metadata": {},
   "source": [
    "# Ch08_2.로지스틱 회귀분석"
   ]
  },
  {
   "cell_type": "markdown",
   "metadata": {},
   "source": [
    "## 1.기본 package 설정"
   ]
  },
  {
   "cell_type": "code",
   "execution_count": 1,
   "metadata": {},
   "outputs": [],
   "source": [
    "## 1.기본\n",
    "import numpy as np  # numpy 패키지 가져오기\n",
    "import matplotlib.pyplot as plt # 시각화 패키지 가져오기\n",
    "\n",
    "## 2.데이터 가져오기\n",
    "import pandas as pd # csv -> dataframe으로 전환\n",
    "from sklearn import datasets # python 저장 데이터 가져오기\n",
    "\n",
    "## 3.데이터 전처리\n",
    "from sklearn.preprocessing import StandardScaler # 연속변수의 표준화\n",
    "from sklearn.preprocessing import LabelEncoder # 범주형 변수 수치화\n",
    "\n",
    "# 4. 훈련/검증용 데이터 분리\n",
    "from sklearn.model_selection import train_test_split \n",
    "\n",
    "## 5.분류모델구축 (3장.p.83~130)\n",
    "# from sklearn.tree import DecisionTreeClassifier # 결정 트리\n",
    "# from sklearn.naive_bayes import GaussianNB # 나이브 베이즈\n",
    "# from sklearn.neighbors import KNeighborsClassifier # K-최근접 이웃\n",
    "# from sklearn.ensemble import RandomForestClassifier # 랜덤 포레스트\n",
    "# from sklearn.ensemble import BaggingClassifier # 앙상블\n",
    "# from sklearn.linear_model import Perceptron # 퍼셉트론\n",
    "from sklearn.linear_model import LogisticRegression # 로지스틱 회귀 모델\n",
    "# from sklearn.svm import SVC # 서포트 벡터 머신(SVM)\n",
    "# from sklearn.neural_network import MLPClassifier # 다층인공신경망\n",
    "\n",
    "## 6.모델검정\n",
    "from sklearn.metrics import confusion_matrix, classification_report # 정오분류표\n",
    "from sklearn.metrics import accuracy_score, precision_score, recall_score, f1_score, roc_auc_score # 정확도, 민감도 등\n",
    "from sklearn.metrics import roc_curve, auc # ROC 곡선 그리기\n",
    "\n",
    "## 7.최적화\n",
    "from sklearn.model_selection import cross_validate # 교차타당도\n",
    "from sklearn.pipeline import make_pipeline # 파이프라인 구축\n",
    "from sklearn.model_selection import learning_curve, validation_curve # 학습곡선, 검증곡선\n",
    "from sklearn.model_selection import GridSearchCV # 하이퍼파라미터 튜닝"
   ]
  },
  {
   "cell_type": "markdown",
   "metadata": {},
   "source": [
    "## 2.데이터 가져오기"
   ]
  },
  {
   "cell_type": "markdown",
   "metadata": {},
   "source": [
    "### 2.1 데이터프레임으로 저장\n",
    "- 원본데이터(csv)를 dataframe 형태로 가져오기(pandas)"
   ]
  },
  {
   "cell_type": "code",
   "execution_count": 2,
   "metadata": {},
   "outputs": [
    {
     "data": {
      "text/html": [
       "<div>\n",
       "<style scoped>\n",
       "    .dataframe tbody tr th:only-of-type {\n",
       "        vertical-align: middle;\n",
       "    }\n",
       "\n",
       "    .dataframe tbody tr th {\n",
       "        vertical-align: top;\n",
       "    }\n",
       "\n",
       "    .dataframe thead th {\n",
       "        text-align: right;\n",
       "    }\n",
       "</style>\n",
       "<table border=\"1\" class=\"dataframe\">\n",
       "  <thead>\n",
       "    <tr style=\"text-align: right;\">\n",
       "      <th></th>\n",
       "      <th>ID</th>\n",
       "      <th>Age</th>\n",
       "      <th>Experience</th>\n",
       "      <th>Income</th>\n",
       "      <th>ZIPCode</th>\n",
       "      <th>Family</th>\n",
       "      <th>CCAvg</th>\n",
       "      <th>Education</th>\n",
       "      <th>Mortgage</th>\n",
       "      <th>PersonalLoan</th>\n",
       "      <th>SecuritiesAccount</th>\n",
       "      <th>CDAccount</th>\n",
       "      <th>Online</th>\n",
       "      <th>CreditCard</th>\n",
       "    </tr>\n",
       "  </thead>\n",
       "  <tbody>\n",
       "    <tr>\n",
       "      <td>0</td>\n",
       "      <td>1</td>\n",
       "      <td>25</td>\n",
       "      <td>1</td>\n",
       "      <td>49</td>\n",
       "      <td>91107</td>\n",
       "      <td>4</td>\n",
       "      <td>1.6</td>\n",
       "      <td>1</td>\n",
       "      <td>0</td>\n",
       "      <td>0</td>\n",
       "      <td>1</td>\n",
       "      <td>0</td>\n",
       "      <td>0</td>\n",
       "      <td>0</td>\n",
       "    </tr>\n",
       "    <tr>\n",
       "      <td>1</td>\n",
       "      <td>2</td>\n",
       "      <td>45</td>\n",
       "      <td>19</td>\n",
       "      <td>34</td>\n",
       "      <td>90089</td>\n",
       "      <td>3</td>\n",
       "      <td>1.5</td>\n",
       "      <td>1</td>\n",
       "      <td>0</td>\n",
       "      <td>0</td>\n",
       "      <td>1</td>\n",
       "      <td>0</td>\n",
       "      <td>0</td>\n",
       "      <td>0</td>\n",
       "    </tr>\n",
       "    <tr>\n",
       "      <td>2</td>\n",
       "      <td>3</td>\n",
       "      <td>39</td>\n",
       "      <td>15</td>\n",
       "      <td>11</td>\n",
       "      <td>94720</td>\n",
       "      <td>1</td>\n",
       "      <td>1.0</td>\n",
       "      <td>1</td>\n",
       "      <td>0</td>\n",
       "      <td>0</td>\n",
       "      <td>0</td>\n",
       "      <td>0</td>\n",
       "      <td>0</td>\n",
       "      <td>0</td>\n",
       "    </tr>\n",
       "    <tr>\n",
       "      <td>3</td>\n",
       "      <td>4</td>\n",
       "      <td>35</td>\n",
       "      <td>9</td>\n",
       "      <td>100</td>\n",
       "      <td>94112</td>\n",
       "      <td>1</td>\n",
       "      <td>2.7</td>\n",
       "      <td>2</td>\n",
       "      <td>0</td>\n",
       "      <td>0</td>\n",
       "      <td>0</td>\n",
       "      <td>0</td>\n",
       "      <td>0</td>\n",
       "      <td>0</td>\n",
       "    </tr>\n",
       "    <tr>\n",
       "      <td>4</td>\n",
       "      <td>5</td>\n",
       "      <td>35</td>\n",
       "      <td>8</td>\n",
       "      <td>45</td>\n",
       "      <td>91330</td>\n",
       "      <td>4</td>\n",
       "      <td>1.0</td>\n",
       "      <td>2</td>\n",
       "      <td>0</td>\n",
       "      <td>0</td>\n",
       "      <td>0</td>\n",
       "      <td>0</td>\n",
       "      <td>0</td>\n",
       "      <td>1</td>\n",
       "    </tr>\n",
       "  </tbody>\n",
       "</table>\n",
       "</div>"
      ],
      "text/plain": [
       "   ID  Age  Experience  Income  ZIPCode  Family  CCAvg  Education  Mortgage  \\\n",
       "0   1   25           1      49    91107       4    1.6          1         0   \n",
       "1   2   45          19      34    90089       3    1.5          1         0   \n",
       "2   3   39          15      11    94720       1    1.0          1         0   \n",
       "3   4   35           9     100    94112       1    2.7          2         0   \n",
       "4   5   35           8      45    91330       4    1.0          2         0   \n",
       "\n",
       "   PersonalLoan  SecuritiesAccount  CDAccount  Online  CreditCard  \n",
       "0             0                  1          0       0           0  \n",
       "1             0                  1          0       0           0  \n",
       "2             0                  0          0       0           0  \n",
       "3             0                  0          0       0           0  \n",
       "4             0                  0          0       0           1  "
      ]
     },
     "execution_count": 2,
     "metadata": {},
     "output_type": "execute_result"
    }
   ],
   "source": [
    "bank_df = pd.read_csv('UniversalBank.csv')\n",
    "bank_df.head()"
   ]
  },
  {
   "cell_type": "markdown",
   "metadata": {},
   "source": [
    "- 자료구조 살펴보기"
   ]
  },
  {
   "cell_type": "code",
   "execution_count": 3,
   "metadata": {},
   "outputs": [
    {
     "data": {
      "text/plain": [
       "(5000, 14)"
      ]
     },
     "execution_count": 3,
     "metadata": {},
     "output_type": "execute_result"
    }
   ],
   "source": [
    "bank_df.shape"
   ]
  },
  {
   "cell_type": "code",
   "execution_count": 4,
   "metadata": {},
   "outputs": [
    {
     "data": {
      "text/plain": [
       "Index(['ID', 'Age', 'Experience', 'Income', 'ZIPCode', 'Family', 'CCAvg',\n",
       "       'Education', 'Mortgage', 'PersonalLoan', 'SecuritiesAccount',\n",
       "       'CDAccount', 'Online', 'CreditCard'],\n",
       "      dtype='object')"
      ]
     },
     "execution_count": 4,
     "metadata": {},
     "output_type": "execute_result"
    }
   ],
   "source": [
    "# 자료구조 살펴보기\n",
    "bank_df.keys()"
   ]
  },
  {
   "cell_type": "markdown",
   "metadata": {},
   "source": [
    "### 2.2 data와 target으로 분리\n",
    "- 필요한 데이터만 추출\n",
    "- data: X, target: y 로 분리"
   ]
  },
  {
   "cell_type": "code",
   "execution_count": 5,
   "metadata": {},
   "outputs": [
    {
     "data": {
      "text/html": [
       "<div>\n",
       "<style scoped>\n",
       "    .dataframe tbody tr th:only-of-type {\n",
       "        vertical-align: middle;\n",
       "    }\n",
       "\n",
       "    .dataframe tbody tr th {\n",
       "        vertical-align: top;\n",
       "    }\n",
       "\n",
       "    .dataframe thead th {\n",
       "        text-align: right;\n",
       "    }\n",
       "</style>\n",
       "<table border=\"1\" class=\"dataframe\">\n",
       "  <thead>\n",
       "    <tr style=\"text-align: right;\">\n",
       "      <th></th>\n",
       "      <th>Age</th>\n",
       "      <th>Experience</th>\n",
       "      <th>Income</th>\n",
       "      <th>Family</th>\n",
       "      <th>CCAvg</th>\n",
       "      <th>Education</th>\n",
       "      <th>Mortgage</th>\n",
       "      <th>SecuritiesAccount</th>\n",
       "      <th>CDAccount</th>\n",
       "      <th>Online</th>\n",
       "      <th>CreditCard</th>\n",
       "    </tr>\n",
       "  </thead>\n",
       "  <tbody>\n",
       "    <tr>\n",
       "      <td>0</td>\n",
       "      <td>25</td>\n",
       "      <td>1</td>\n",
       "      <td>49</td>\n",
       "      <td>4</td>\n",
       "      <td>1.6</td>\n",
       "      <td>1</td>\n",
       "      <td>0</td>\n",
       "      <td>1</td>\n",
       "      <td>0</td>\n",
       "      <td>0</td>\n",
       "      <td>0</td>\n",
       "    </tr>\n",
       "    <tr>\n",
       "      <td>1</td>\n",
       "      <td>45</td>\n",
       "      <td>19</td>\n",
       "      <td>34</td>\n",
       "      <td>3</td>\n",
       "      <td>1.5</td>\n",
       "      <td>1</td>\n",
       "      <td>0</td>\n",
       "      <td>1</td>\n",
       "      <td>0</td>\n",
       "      <td>0</td>\n",
       "      <td>0</td>\n",
       "    </tr>\n",
       "    <tr>\n",
       "      <td>2</td>\n",
       "      <td>39</td>\n",
       "      <td>15</td>\n",
       "      <td>11</td>\n",
       "      <td>1</td>\n",
       "      <td>1.0</td>\n",
       "      <td>1</td>\n",
       "      <td>0</td>\n",
       "      <td>0</td>\n",
       "      <td>0</td>\n",
       "      <td>0</td>\n",
       "      <td>0</td>\n",
       "    </tr>\n",
       "    <tr>\n",
       "      <td>3</td>\n",
       "      <td>35</td>\n",
       "      <td>9</td>\n",
       "      <td>100</td>\n",
       "      <td>1</td>\n",
       "      <td>2.7</td>\n",
       "      <td>2</td>\n",
       "      <td>0</td>\n",
       "      <td>0</td>\n",
       "      <td>0</td>\n",
       "      <td>0</td>\n",
       "      <td>0</td>\n",
       "    </tr>\n",
       "    <tr>\n",
       "      <td>4</td>\n",
       "      <td>35</td>\n",
       "      <td>8</td>\n",
       "      <td>45</td>\n",
       "      <td>4</td>\n",
       "      <td>1.0</td>\n",
       "      <td>2</td>\n",
       "      <td>0</td>\n",
       "      <td>0</td>\n",
       "      <td>0</td>\n",
       "      <td>0</td>\n",
       "      <td>1</td>\n",
       "    </tr>\n",
       "  </tbody>\n",
       "</table>\n",
       "</div>"
      ],
      "text/plain": [
       "   Age  Experience  Income  Family  CCAvg  Education  Mortgage  \\\n",
       "0   25           1      49       4    1.6          1         0   \n",
       "1   45          19      34       3    1.5          1         0   \n",
       "2   39          15      11       1    1.0          1         0   \n",
       "3   35           9     100       1    2.7          2         0   \n",
       "4   35           8      45       4    1.0          2         0   \n",
       "\n",
       "   SecuritiesAccount  CDAccount  Online  CreditCard  \n",
       "0                  1          0       0           0  \n",
       "1                  1          0       0           0  \n",
       "2                  0          0       0           0  \n",
       "3                  0          0       0           0  \n",
       "4                  0          0       0           1  "
      ]
     },
     "execution_count": 5,
     "metadata": {},
     "output_type": "execute_result"
    }
   ],
   "source": [
    "X = bank_df.drop (['ID','ZIPCode','PersonalLoan'], axis=1)\n",
    "X.head()"
   ]
  },
  {
   "cell_type": "code",
   "execution_count": 6,
   "metadata": {},
   "outputs": [
    {
     "data": {
      "text/plain": [
       "array([4520,  480], dtype=int64)"
      ]
     },
     "execution_count": 6,
     "metadata": {},
     "output_type": "execute_result"
    }
   ],
   "source": [
    "y = bank_df['PersonalLoan']\n",
    "np.bincount(y)"
   ]
  },
  {
   "cell_type": "markdown",
   "metadata": {},
   "source": [
    "## 3.데이터 전처리"
   ]
  },
  {
   "cell_type": "markdown",
   "metadata": {},
   "source": [
    "- 문자형 자료를 숫자(범주형)로 인코딩 -> 범주형 변수를 가변수로 처리 : One Hot Encording\n",
    "- 숫자형 자료를 표준화\n",
    "- 단, 결정나무, 랜덤 포레스트, 나이브 베이즈 분류 : 원본데이터 그대로 유지"
   ]
  },
  {
   "cell_type": "markdown",
   "metadata": {},
   "source": [
    "### 3.1 data(X) 수치형 데이터 표준화 \n",
    "- X.keys()에서 index 키를 가져옴 ['Age', 'Experience', 'Income', 'Family', 'CCAvg']"
   ]
  },
  {
   "cell_type": "code",
   "execution_count": 7,
   "metadata": {},
   "outputs": [],
   "source": [
    "stdsc = StandardScaler()\n",
    "X.iloc[:,[0,1,2,3,4,6]]= stdsc.fit_transform(X.iloc[:,[0,1,2,3,4,6]])"
   ]
  },
  {
   "cell_type": "code",
   "execution_count": 8,
   "metadata": {},
   "outputs": [
    {
     "data": {
      "text/html": [
       "<div>\n",
       "<style scoped>\n",
       "    .dataframe tbody tr th:only-of-type {\n",
       "        vertical-align: middle;\n",
       "    }\n",
       "\n",
       "    .dataframe tbody tr th {\n",
       "        vertical-align: top;\n",
       "    }\n",
       "\n",
       "    .dataframe thead th {\n",
       "        text-align: right;\n",
       "    }\n",
       "</style>\n",
       "<table border=\"1\" class=\"dataframe\">\n",
       "  <thead>\n",
       "    <tr style=\"text-align: right;\">\n",
       "      <th></th>\n",
       "      <th>Age</th>\n",
       "      <th>Experience</th>\n",
       "      <th>Income</th>\n",
       "      <th>Family</th>\n",
       "      <th>CCAvg</th>\n",
       "      <th>Education</th>\n",
       "      <th>Mortgage</th>\n",
       "      <th>SecuritiesAccount</th>\n",
       "      <th>CDAccount</th>\n",
       "      <th>Online</th>\n",
       "      <th>CreditCard</th>\n",
       "    </tr>\n",
       "  </thead>\n",
       "  <tbody>\n",
       "    <tr>\n",
       "      <td>0</td>\n",
       "      <td>-1.774417</td>\n",
       "      <td>-1.666078</td>\n",
       "      <td>-0.538229</td>\n",
       "      <td>1.397414</td>\n",
       "      <td>-0.193385</td>\n",
       "      <td>1</td>\n",
       "      <td>-0.555524</td>\n",
       "      <td>1</td>\n",
       "      <td>0</td>\n",
       "      <td>0</td>\n",
       "      <td>0</td>\n",
       "    </tr>\n",
       "    <tr>\n",
       "      <td>1</td>\n",
       "      <td>-0.029524</td>\n",
       "      <td>-0.096330</td>\n",
       "      <td>-0.864109</td>\n",
       "      <td>0.525991</td>\n",
       "      <td>-0.250611</td>\n",
       "      <td>1</td>\n",
       "      <td>-0.555524</td>\n",
       "      <td>1</td>\n",
       "      <td>0</td>\n",
       "      <td>0</td>\n",
       "      <td>0</td>\n",
       "    </tr>\n",
       "    <tr>\n",
       "      <td>2</td>\n",
       "      <td>-0.552992</td>\n",
       "      <td>-0.445163</td>\n",
       "      <td>-1.363793</td>\n",
       "      <td>-1.216855</td>\n",
       "      <td>-0.536736</td>\n",
       "      <td>1</td>\n",
       "      <td>-0.555524</td>\n",
       "      <td>0</td>\n",
       "      <td>0</td>\n",
       "      <td>0</td>\n",
       "      <td>0</td>\n",
       "    </tr>\n",
       "    <tr>\n",
       "      <td>3</td>\n",
       "      <td>-0.901970</td>\n",
       "      <td>-0.968413</td>\n",
       "      <td>0.569765</td>\n",
       "      <td>-1.216855</td>\n",
       "      <td>0.436091</td>\n",
       "      <td>2</td>\n",
       "      <td>-0.555524</td>\n",
       "      <td>0</td>\n",
       "      <td>0</td>\n",
       "      <td>0</td>\n",
       "      <td>0</td>\n",
       "    </tr>\n",
       "    <tr>\n",
       "      <td>4</td>\n",
       "      <td>-0.901970</td>\n",
       "      <td>-1.055621</td>\n",
       "      <td>-0.625130</td>\n",
       "      <td>1.397414</td>\n",
       "      <td>-0.536736</td>\n",
       "      <td>2</td>\n",
       "      <td>-0.555524</td>\n",
       "      <td>0</td>\n",
       "      <td>0</td>\n",
       "      <td>0</td>\n",
       "      <td>1</td>\n",
       "    </tr>\n",
       "  </tbody>\n",
       "</table>\n",
       "</div>"
      ],
      "text/plain": [
       "        Age  Experience    Income    Family     CCAvg  Education  Mortgage  \\\n",
       "0 -1.774417   -1.666078 -0.538229  1.397414 -0.193385          1 -0.555524   \n",
       "1 -0.029524   -0.096330 -0.864109  0.525991 -0.250611          1 -0.555524   \n",
       "2 -0.552992   -0.445163 -1.363793 -1.216855 -0.536736          1 -0.555524   \n",
       "3 -0.901970   -0.968413  0.569765 -1.216855  0.436091          2 -0.555524   \n",
       "4 -0.901970   -1.055621 -0.625130  1.397414 -0.536736          2 -0.555524   \n",
       "\n",
       "   SecuritiesAccount  CDAccount  Online  CreditCard  \n",
       "0                  1          0       0           0  \n",
       "1                  1          0       0           0  \n",
       "2                  0          0       0           0  \n",
       "3                  0          0       0           0  \n",
       "4                  0          0       0           1  "
      ]
     },
     "execution_count": 8,
     "metadata": {},
     "output_type": "execute_result"
    }
   ],
   "source": [
    "X.head()"
   ]
  },
  {
   "cell_type": "markdown",
   "metadata": {},
   "source": [
    "### 3.2 data(X) 레이블 인코딩\n",
    "- 질변변수 가변수화\n",
    "- 가변수 처리시 문자로 처리를 해야 변수명 구분이 쉬움"
   ]
  },
  {
   "cell_type": "code",
   "execution_count": 9,
   "metadata": {},
   "outputs": [],
   "source": [
    "X['Education'] = X['Education'].replace ([1,2,3], ['Under','Grad','Prof'])"
   ]
  },
  {
   "cell_type": "code",
   "execution_count": 10,
   "metadata": {},
   "outputs": [
    {
     "data": {
      "text/html": [
       "<div>\n",
       "<style scoped>\n",
       "    .dataframe tbody tr th:only-of-type {\n",
       "        vertical-align: middle;\n",
       "    }\n",
       "\n",
       "    .dataframe tbody tr th {\n",
       "        vertical-align: top;\n",
       "    }\n",
       "\n",
       "    .dataframe thead th {\n",
       "        text-align: right;\n",
       "    }\n",
       "</style>\n",
       "<table border=\"1\" class=\"dataframe\">\n",
       "  <thead>\n",
       "    <tr style=\"text-align: right;\">\n",
       "      <th></th>\n",
       "      <th>Age</th>\n",
       "      <th>Experience</th>\n",
       "      <th>Income</th>\n",
       "      <th>Family</th>\n",
       "      <th>CCAvg</th>\n",
       "      <th>Education</th>\n",
       "      <th>Mortgage</th>\n",
       "      <th>SecuritiesAccount</th>\n",
       "      <th>CDAccount</th>\n",
       "      <th>Online</th>\n",
       "      <th>CreditCard</th>\n",
       "    </tr>\n",
       "  </thead>\n",
       "  <tbody>\n",
       "    <tr>\n",
       "      <td>0</td>\n",
       "      <td>-1.774417</td>\n",
       "      <td>-1.666078</td>\n",
       "      <td>-0.538229</td>\n",
       "      <td>1.397414</td>\n",
       "      <td>-0.193385</td>\n",
       "      <td>Under</td>\n",
       "      <td>-0.555524</td>\n",
       "      <td>1</td>\n",
       "      <td>0</td>\n",
       "      <td>0</td>\n",
       "      <td>0</td>\n",
       "    </tr>\n",
       "    <tr>\n",
       "      <td>1</td>\n",
       "      <td>-0.029524</td>\n",
       "      <td>-0.096330</td>\n",
       "      <td>-0.864109</td>\n",
       "      <td>0.525991</td>\n",
       "      <td>-0.250611</td>\n",
       "      <td>Under</td>\n",
       "      <td>-0.555524</td>\n",
       "      <td>1</td>\n",
       "      <td>0</td>\n",
       "      <td>0</td>\n",
       "      <td>0</td>\n",
       "    </tr>\n",
       "    <tr>\n",
       "      <td>2</td>\n",
       "      <td>-0.552992</td>\n",
       "      <td>-0.445163</td>\n",
       "      <td>-1.363793</td>\n",
       "      <td>-1.216855</td>\n",
       "      <td>-0.536736</td>\n",
       "      <td>Under</td>\n",
       "      <td>-0.555524</td>\n",
       "      <td>0</td>\n",
       "      <td>0</td>\n",
       "      <td>0</td>\n",
       "      <td>0</td>\n",
       "    </tr>\n",
       "    <tr>\n",
       "      <td>3</td>\n",
       "      <td>-0.901970</td>\n",
       "      <td>-0.968413</td>\n",
       "      <td>0.569765</td>\n",
       "      <td>-1.216855</td>\n",
       "      <td>0.436091</td>\n",
       "      <td>Grad</td>\n",
       "      <td>-0.555524</td>\n",
       "      <td>0</td>\n",
       "      <td>0</td>\n",
       "      <td>0</td>\n",
       "      <td>0</td>\n",
       "    </tr>\n",
       "    <tr>\n",
       "      <td>4</td>\n",
       "      <td>-0.901970</td>\n",
       "      <td>-1.055621</td>\n",
       "      <td>-0.625130</td>\n",
       "      <td>1.397414</td>\n",
       "      <td>-0.536736</td>\n",
       "      <td>Grad</td>\n",
       "      <td>-0.555524</td>\n",
       "      <td>0</td>\n",
       "      <td>0</td>\n",
       "      <td>0</td>\n",
       "      <td>1</td>\n",
       "    </tr>\n",
       "  </tbody>\n",
       "</table>\n",
       "</div>"
      ],
      "text/plain": [
       "        Age  Experience    Income    Family     CCAvg Education  Mortgage  \\\n",
       "0 -1.774417   -1.666078 -0.538229  1.397414 -0.193385     Under -0.555524   \n",
       "1 -0.029524   -0.096330 -0.864109  0.525991 -0.250611     Under -0.555524   \n",
       "2 -0.552992   -0.445163 -1.363793 -1.216855 -0.536736     Under -0.555524   \n",
       "3 -0.901970   -0.968413  0.569765 -1.216855  0.436091      Grad -0.555524   \n",
       "4 -0.901970   -1.055621 -0.625130  1.397414 -0.536736      Grad -0.555524   \n",
       "\n",
       "   SecuritiesAccount  CDAccount  Online  CreditCard  \n",
       "0                  1          0       0           0  \n",
       "1                  1          0       0           0  \n",
       "2                  0          0       0           0  \n",
       "3                  0          0       0           0  \n",
       "4                  0          0       0           1  "
      ]
     },
     "execution_count": 10,
     "metadata": {},
     "output_type": "execute_result"
    }
   ],
   "source": [
    "X.head()"
   ]
  },
  {
   "cell_type": "code",
   "execution_count": 11,
   "metadata": {},
   "outputs": [
    {
     "data": {
      "text/plain": [
       "Index(['Age', 'Experience', 'Income', 'Family', 'CCAvg', 'Education',\n",
       "       'Mortgage', 'SecuritiesAccount', 'CDAccount', 'Online', 'CreditCard'],\n",
       "      dtype='object')"
      ]
     },
     "execution_count": 11,
     "metadata": {},
     "output_type": "execute_result"
    }
   ],
   "source": [
    "X.keys()"
   ]
  },
  {
   "cell_type": "code",
   "execution_count": 12,
   "metadata": {},
   "outputs": [],
   "source": [
    "X = pd.get_dummies(X[['Age', 'Experience', 'Income', 'Family', 'CCAvg', 'Education', \n",
    "                      'Mortgage', 'SecuritiesAccount', 'CDAccount', 'Online', 'CreditCard']],\n",
    "                   columns=['Education'],\n",
    "                   drop_first = True)"
   ]
  },
  {
   "cell_type": "code",
   "execution_count": 13,
   "metadata": {},
   "outputs": [
    {
     "data": {
      "text/html": [
       "<div>\n",
       "<style scoped>\n",
       "    .dataframe tbody tr th:only-of-type {\n",
       "        vertical-align: middle;\n",
       "    }\n",
       "\n",
       "    .dataframe tbody tr th {\n",
       "        vertical-align: top;\n",
       "    }\n",
       "\n",
       "    .dataframe thead th {\n",
       "        text-align: right;\n",
       "    }\n",
       "</style>\n",
       "<table border=\"1\" class=\"dataframe\">\n",
       "  <thead>\n",
       "    <tr style=\"text-align: right;\">\n",
       "      <th></th>\n",
       "      <th>Age</th>\n",
       "      <th>Experience</th>\n",
       "      <th>Income</th>\n",
       "      <th>Family</th>\n",
       "      <th>CCAvg</th>\n",
       "      <th>Mortgage</th>\n",
       "      <th>SecuritiesAccount</th>\n",
       "      <th>CDAccount</th>\n",
       "      <th>Online</th>\n",
       "      <th>CreditCard</th>\n",
       "      <th>Education_Prof</th>\n",
       "      <th>Education_Under</th>\n",
       "    </tr>\n",
       "  </thead>\n",
       "  <tbody>\n",
       "    <tr>\n",
       "      <td>0</td>\n",
       "      <td>-1.774417</td>\n",
       "      <td>-1.666078</td>\n",
       "      <td>-0.538229</td>\n",
       "      <td>1.397414</td>\n",
       "      <td>-0.193385</td>\n",
       "      <td>-0.555524</td>\n",
       "      <td>1</td>\n",
       "      <td>0</td>\n",
       "      <td>0</td>\n",
       "      <td>0</td>\n",
       "      <td>0</td>\n",
       "      <td>1</td>\n",
       "    </tr>\n",
       "    <tr>\n",
       "      <td>1</td>\n",
       "      <td>-0.029524</td>\n",
       "      <td>-0.096330</td>\n",
       "      <td>-0.864109</td>\n",
       "      <td>0.525991</td>\n",
       "      <td>-0.250611</td>\n",
       "      <td>-0.555524</td>\n",
       "      <td>1</td>\n",
       "      <td>0</td>\n",
       "      <td>0</td>\n",
       "      <td>0</td>\n",
       "      <td>0</td>\n",
       "      <td>1</td>\n",
       "    </tr>\n",
       "    <tr>\n",
       "      <td>2</td>\n",
       "      <td>-0.552992</td>\n",
       "      <td>-0.445163</td>\n",
       "      <td>-1.363793</td>\n",
       "      <td>-1.216855</td>\n",
       "      <td>-0.536736</td>\n",
       "      <td>-0.555524</td>\n",
       "      <td>0</td>\n",
       "      <td>0</td>\n",
       "      <td>0</td>\n",
       "      <td>0</td>\n",
       "      <td>0</td>\n",
       "      <td>1</td>\n",
       "    </tr>\n",
       "    <tr>\n",
       "      <td>3</td>\n",
       "      <td>-0.901970</td>\n",
       "      <td>-0.968413</td>\n",
       "      <td>0.569765</td>\n",
       "      <td>-1.216855</td>\n",
       "      <td>0.436091</td>\n",
       "      <td>-0.555524</td>\n",
       "      <td>0</td>\n",
       "      <td>0</td>\n",
       "      <td>0</td>\n",
       "      <td>0</td>\n",
       "      <td>0</td>\n",
       "      <td>0</td>\n",
       "    </tr>\n",
       "    <tr>\n",
       "      <td>4</td>\n",
       "      <td>-0.901970</td>\n",
       "      <td>-1.055621</td>\n",
       "      <td>-0.625130</td>\n",
       "      <td>1.397414</td>\n",
       "      <td>-0.536736</td>\n",
       "      <td>-0.555524</td>\n",
       "      <td>0</td>\n",
       "      <td>0</td>\n",
       "      <td>0</td>\n",
       "      <td>1</td>\n",
       "      <td>0</td>\n",
       "      <td>0</td>\n",
       "    </tr>\n",
       "  </tbody>\n",
       "</table>\n",
       "</div>"
      ],
      "text/plain": [
       "        Age  Experience    Income    Family     CCAvg  Mortgage  \\\n",
       "0 -1.774417   -1.666078 -0.538229  1.397414 -0.193385 -0.555524   \n",
       "1 -0.029524   -0.096330 -0.864109  0.525991 -0.250611 -0.555524   \n",
       "2 -0.552992   -0.445163 -1.363793 -1.216855 -0.536736 -0.555524   \n",
       "3 -0.901970   -0.968413  0.569765 -1.216855  0.436091 -0.555524   \n",
       "4 -0.901970   -1.055621 -0.625130  1.397414 -0.536736 -0.555524   \n",
       "\n",
       "   SecuritiesAccount  CDAccount  Online  CreditCard  Education_Prof  \\\n",
       "0                  1          0       0           0               0   \n",
       "1                  1          0       0           0               0   \n",
       "2                  0          0       0           0               0   \n",
       "3                  0          0       0           0               0   \n",
       "4                  0          0       0           1               0   \n",
       "\n",
       "   Education_Under  \n",
       "0                1  \n",
       "1                1  \n",
       "2                1  \n",
       "3                0  \n",
       "4                0  "
      ]
     },
     "execution_count": 13,
     "metadata": {},
     "output_type": "execute_result"
    }
   ],
   "source": [
    "X.head()"
   ]
  },
  {
   "cell_type": "markdown",
   "metadata": {},
   "source": [
    "### 3.2 Class(target) 레이블 인코딩\n",
    "- class(y)가 숫자형으로 되어 있기 때문에 변환 없음"
   ]
  },
  {
   "cell_type": "code",
   "execution_count": 14,
   "metadata": {},
   "outputs": [
    {
     "data": {
      "text/plain": [
       "0       0\n",
       "1       0\n",
       "2       0\n",
       "3       0\n",
       "4       0\n",
       "       ..\n",
       "4995    0\n",
       "4996    0\n",
       "4997    0\n",
       "4998    0\n",
       "4999    0\n",
       "Name: PersonalLoan, Length: 5000, dtype: int64"
      ]
     },
     "execution_count": 14,
     "metadata": {},
     "output_type": "execute_result"
    }
   ],
   "source": [
    "y"
   ]
  },
  {
   "cell_type": "markdown",
   "metadata": {},
   "source": [
    "## 4.훈련/검증용 데이터 분할\n",
    "- test_size: 검증데이터 30%\n",
    "- random_state : random seed 번호 = 1\n",
    "- stratify : y(클래스)의 비율에 따라 분할"
   ]
  },
  {
   "cell_type": "code",
   "execution_count": 15,
   "metadata": {},
   "outputs": [],
   "source": [
    "# \\ 이후에 space 없어야 함\n",
    "X_train, X_test, y_train, y_test = \\\n",
    "        train_test_split(X, y, \n",
    "                         test_size=0.3, \n",
    "                         random_state=1, \n",
    "                         stratify=y)"
   ]
  },
  {
   "cell_type": "markdown",
   "metadata": {},
   "source": [
    "## 5.모델구축"
   ]
  },
  {
   "cell_type": "code",
   "execution_count": 16,
   "metadata": {},
   "outputs": [
    {
     "data": {
      "text/plain": [
       "LogisticRegression(C=0.001, class_weight=None, dual=False, fit_intercept=True,\n",
       "                   intercept_scaling=1, l1_ratio=None, max_iter=100,\n",
       "                   multi_class='warn', n_jobs=None, penalty='l2',\n",
       "                   random_state=1, solver='liblinear', tol=0.0001, verbose=0,\n",
       "                   warm_start=False)"
      ]
     },
     "execution_count": 16,
     "metadata": {},
     "output_type": "execute_result"
    }
   ],
   "source": [
    "logistic = LogisticRegression(solver='liblinear',\n",
    "                              penalty='l2',\n",
    "                              C=0.001,\n",
    "                              random_state=1)\n",
    "\n",
    "logistic.fit(X_train, y_train)"
   ]
  },
  {
   "cell_type": "markdown",
   "metadata": {},
   "source": [
    "## 6. 모델검정"
   ]
  },
  {
   "cell_type": "markdown",
   "metadata": {},
   "source": [
    "### 6.1 검증용 데이터로 예측\n",
    "- predict (class로 표시)\n",
    "- predict_proba (확률값으로 표시)"
   ]
  },
  {
   "cell_type": "code",
   "execution_count": 17,
   "metadata": {},
   "outputs": [],
   "source": [
    "y_pred = logistic.predict(X_test)"
   ]
  },
  {
   "cell_type": "markdown",
   "metadata": {},
   "source": [
    "### 6.2 정오분류표로 검정"
   ]
  },
  {
   "cell_type": "code",
   "execution_count": 18,
   "metadata": {},
   "outputs": [
    {
     "data": {
      "text/html": [
       "<div>\n",
       "<style scoped>\n",
       "    .dataframe tbody tr th:only-of-type {\n",
       "        vertical-align: middle;\n",
       "    }\n",
       "\n",
       "    .dataframe tbody tr th {\n",
       "        vertical-align: top;\n",
       "    }\n",
       "\n",
       "    .dataframe thead th {\n",
       "        text-align: right;\n",
       "    }\n",
       "</style>\n",
       "<table border=\"1\" class=\"dataframe\">\n",
       "  <thead>\n",
       "    <tr style=\"text-align: right;\">\n",
       "      <th></th>\n",
       "      <th>Predict[0]</th>\n",
       "      <th>Predict[1]</th>\n",
       "    </tr>\n",
       "  </thead>\n",
       "  <tbody>\n",
       "    <tr>\n",
       "      <td>True[0]</td>\n",
       "      <td>1349</td>\n",
       "      <td>7</td>\n",
       "    </tr>\n",
       "    <tr>\n",
       "      <td>True[1]</td>\n",
       "      <td>117</td>\n",
       "      <td>27</td>\n",
       "    </tr>\n",
       "  </tbody>\n",
       "</table>\n",
       "</div>"
      ],
      "text/plain": [
       "         Predict[0]  Predict[1]\n",
       "True[0]        1349           7\n",
       "True[1]         117          27"
      ]
     },
     "execution_count": 18,
     "metadata": {},
     "output_type": "execute_result"
    }
   ],
   "source": [
    "confmat = pd.DataFrame(confusion_matrix(y_test, y_pred),\n",
    "                      index=['True[0]','True[1]'],\n",
    "                      columns=['Predict[0]', 'Predict[1]'])\n",
    "confmat"
   ]
  },
  {
   "cell_type": "code",
   "execution_count": 19,
   "metadata": {},
   "outputs": [
    {
     "name": "stdout",
     "output_type": "stream",
     "text": [
      "Classification Report\n",
      "              precision    recall  f1-score   support\n",
      "\n",
      "           0       0.92      0.99      0.96      1356\n",
      "           1       0.79      0.19      0.30       144\n",
      "\n",
      "    accuracy                           0.92      1500\n",
      "   macro avg       0.86      0.59      0.63      1500\n",
      "weighted avg       0.91      0.92      0.89      1500\n",
      "\n"
     ]
    }
   ],
   "source": [
    "print('Classification Report')\n",
    "print(classification_report(y_test, y_pred))"
   ]
  },
  {
   "cell_type": "markdown",
   "metadata": {},
   "source": [
    "### 6.3 정확도, 민감도 확인\n",
    "- 클래스가 2개일 경우에만 실행"
   ]
  },
  {
   "cell_type": "code",
   "execution_count": 20,
   "metadata": {},
   "outputs": [
    {
     "name": "stdout",
     "output_type": "stream",
     "text": [
      "잘못 분류된 샘플 개수: 124\n",
      "정확도: 0.917\n",
      "정밀도: 0.794\n",
      "재현율: 0.188\n",
      "F1: 0.303\n"
     ]
    }
   ],
   "source": [
    "print('잘못 분류된 샘플 개수: %d' % (y_test != y_pred).sum())\n",
    "print('정확도: %.3f' % accuracy_score(y_test, y_pred))\n",
    "print('정밀도: %.3f' % precision_score(y_true=y_test, y_pred=y_pred))\n",
    "print('재현율: %.3f' % recall_score(y_true=y_test, y_pred=y_pred))\n",
    "print('F1: %.3f' % f1_score(y_true=y_test, y_pred=y_pred))"
   ]
  },
  {
   "cell_type": "markdown",
   "metadata": {},
   "source": [
    "### 6.4 ROC 곡선 그리기\n",
    "- decision_function 사용가능한 모델일 경우: tree.decision_function(X_test)\n",
    "- decision_function 사용이 안되는 모델일 경우:tree.predict_proba(X_test)[:, 1]"
   ]
  },
  {
   "cell_type": "code",
   "execution_count": 21,
   "metadata": {},
   "outputs": [],
   "source": [
    "# fpr, tpr, thresholds = roc_curve(y_test, tree.decision_function(X_test))\n",
    "fpr, tpr, thresholds = roc_curve(y_test, logistic.predict_proba(X_test)[:, 1])"
   ]
  },
  {
   "cell_type": "code",
   "execution_count": 22,
   "metadata": {},
   "outputs": [
    {
     "data": {
      "text/plain": [
       "(array([0.00000000e+00, 0.00000000e+00, 0.00000000e+00, 7.37463127e-04,\n",
       "        7.37463127e-04, 2.21238938e-03, 2.21238938e-03, 2.94985251e-03,\n",
       "        2.94985251e-03, 3.68731563e-03, 3.68731563e-03, 4.42477876e-03,\n",
       "        4.42477876e-03, 5.16224189e-03, 5.16224189e-03, 5.89970501e-03,\n",
       "        5.89970501e-03, 6.63716814e-03, 6.63716814e-03, 8.84955752e-03,\n",
       "        8.84955752e-03, 9.58702065e-03, 9.58702065e-03, 1.03244838e-02,\n",
       "        1.03244838e-02, 1.17994100e-02, 1.17994100e-02, 1.40117994e-02,\n",
       "        1.40117994e-02, 1.54867257e-02, 1.54867257e-02, 1.69616519e-02,\n",
       "        1.69616519e-02, 1.76991150e-02, 1.76991150e-02, 1.99115044e-02,\n",
       "        1.99115044e-02, 2.21238938e-02, 2.21238938e-02, 2.28613569e-02,\n",
       "        2.28613569e-02, 2.43362832e-02, 2.43362832e-02, 2.50737463e-02,\n",
       "        2.50737463e-02, 2.65486726e-02, 2.65486726e-02, 2.87610619e-02,\n",
       "        2.87610619e-02, 3.17109145e-02, 3.17109145e-02, 3.24483776e-02,\n",
       "        3.24483776e-02, 3.31858407e-02, 3.31858407e-02, 3.39233038e-02,\n",
       "        3.39233038e-02, 3.53982301e-02, 3.53982301e-02, 3.76106195e-02,\n",
       "        3.76106195e-02, 4.12979351e-02, 4.12979351e-02, 4.27728614e-02,\n",
       "        4.27728614e-02, 4.35103245e-02, 4.35103245e-02, 4.49852507e-02,\n",
       "        4.49852507e-02, 4.94100295e-02, 4.94100295e-02, 5.45722714e-02,\n",
       "        5.45722714e-02, 5.60471976e-02, 5.60471976e-02, 5.67846608e-02,\n",
       "        5.67846608e-02, 6.04719764e-02, 6.04719764e-02, 6.19469027e-02,\n",
       "        6.19469027e-02, 6.48967552e-02, 6.48967552e-02, 6.56342183e-02,\n",
       "        6.56342183e-02, 7.00589971e-02, 7.00589971e-02, 7.30088496e-02,\n",
       "        7.30088496e-02, 7.37463127e-02, 7.37463127e-02, 7.96460177e-02,\n",
       "        7.96460177e-02, 8.11209440e-02, 8.11209440e-02, 8.70206490e-02,\n",
       "        8.70206490e-02, 8.84955752e-02, 8.84955752e-02, 9.51327434e-02,\n",
       "        9.51327434e-02, 1.02507375e-01, 1.02507375e-01, 1.09882006e-01,\n",
       "        1.09882006e-01, 1.15044248e-01, 1.15044248e-01, 1.16519174e-01,\n",
       "        1.16519174e-01, 1.18731563e-01, 1.18731563e-01, 1.20206490e-01,\n",
       "        1.20206490e-01, 1.23156342e-01, 1.23156342e-01, 1.25368732e-01,\n",
       "        1.25368732e-01, 1.28318584e-01, 1.28318584e-01, 1.29056047e-01,\n",
       "        1.29056047e-01, 1.32005900e-01, 1.32005900e-01, 1.33480826e-01,\n",
       "        1.33480826e-01, 1.54129794e-01, 1.54129794e-01, 1.57817109e-01,\n",
       "        1.57817109e-01, 1.68141593e-01, 1.68141593e-01, 1.73303835e-01,\n",
       "        1.73303835e-01, 1.74041298e-01, 1.74041298e-01, 1.76253687e-01,\n",
       "        1.76253687e-01, 1.83628319e-01, 1.83628319e-01, 2.10176991e-01,\n",
       "        2.10176991e-01, 2.22713864e-01, 2.22713864e-01, 2.29351032e-01,\n",
       "        2.29351032e-01, 2.30088496e-01, 2.30088496e-01, 2.30825959e-01,\n",
       "        2.30825959e-01, 2.32300885e-01, 2.32300885e-01, 2.64749263e-01,\n",
       "        2.64749263e-01, 2.76548673e-01, 2.76548673e-01, 2.78761062e-01,\n",
       "        2.78761062e-01, 2.91297935e-01, 2.91297935e-01, 3.67256637e-01,\n",
       "        3.67256637e-01, 4.99262537e-01, 4.99262537e-01, 5.53834808e-01,\n",
       "        5.53834808e-01, 5.74483776e-01, 5.74483776e-01, 5.90707965e-01,\n",
       "        5.90707965e-01, 6.47492625e-01, 6.47492625e-01, 6.93215339e-01,\n",
       "        6.93215339e-01, 1.00000000e+00]),\n",
       " array([0.        , 0.00694444, 0.09722222, 0.09722222, 0.11805556,\n",
       "        0.11805556, 0.125     , 0.125     , 0.13194444, 0.13194444,\n",
       "        0.15277778, 0.15277778, 0.18055556, 0.18055556, 0.19444444,\n",
       "        0.19444444, 0.21527778, 0.21527778, 0.24305556, 0.24305556,\n",
       "        0.25694444, 0.25694444, 0.26388889, 0.26388889, 0.29166667,\n",
       "        0.29166667, 0.29861111, 0.29861111, 0.31944444, 0.31944444,\n",
       "        0.33333333, 0.33333333, 0.34027778, 0.34027778, 0.36111111,\n",
       "        0.36111111, 0.375     , 0.375     , 0.38194444, 0.38194444,\n",
       "        0.38888889, 0.38888889, 0.39583333, 0.39583333, 0.40277778,\n",
       "        0.40277778, 0.41666667, 0.41666667, 0.4375    , 0.4375    ,\n",
       "        0.45138889, 0.45138889, 0.47222222, 0.47222222, 0.50694444,\n",
       "        0.50694444, 0.51388889, 0.51388889, 0.52083333, 0.52083333,\n",
       "        0.52777778, 0.52777778, 0.54166667, 0.54166667, 0.54861111,\n",
       "        0.54861111, 0.55555556, 0.55555556, 0.5625    , 0.5625    ,\n",
       "        0.58333333, 0.58333333, 0.61111111, 0.61111111, 0.61805556,\n",
       "        0.61805556, 0.625     , 0.625     , 0.63194444, 0.63194444,\n",
       "        0.63888889, 0.63888889, 0.64583333, 0.64583333, 0.65277778,\n",
       "        0.65277778, 0.65972222, 0.65972222, 0.66666667, 0.66666667,\n",
       "        0.67361111, 0.67361111, 0.68055556, 0.68055556, 0.69444444,\n",
       "        0.69444444, 0.70138889, 0.70138889, 0.70833333, 0.70833333,\n",
       "        0.71527778, 0.71527778, 0.72222222, 0.72222222, 0.72916667,\n",
       "        0.72916667, 0.74305556, 0.74305556, 0.75694444, 0.75694444,\n",
       "        0.76388889, 0.76388889, 0.77083333, 0.77083333, 0.77777778,\n",
       "        0.77777778, 0.78472222, 0.78472222, 0.79166667, 0.79166667,\n",
       "        0.79861111, 0.79861111, 0.80555556, 0.80555556, 0.8125    ,\n",
       "        0.8125    , 0.81944444, 0.81944444, 0.82638889, 0.82638889,\n",
       "        0.83333333, 0.83333333, 0.84027778, 0.84027778, 0.86111111,\n",
       "        0.86111111, 0.86805556, 0.86805556, 0.875     , 0.875     ,\n",
       "        0.88194444, 0.88194444, 0.89583333, 0.89583333, 0.90277778,\n",
       "        0.90277778, 0.90972222, 0.90972222, 0.91666667, 0.91666667,\n",
       "        0.92361111, 0.92361111, 0.93055556, 0.93055556, 0.9375    ,\n",
       "        0.9375    , 0.94444444, 0.94444444, 0.95138889, 0.95138889,\n",
       "        0.95833333, 0.95833333, 0.96527778, 0.96527778, 0.97222222,\n",
       "        0.97222222, 0.97916667, 0.97916667, 0.98611111, 0.98611111,\n",
       "        0.99305556, 0.99305556, 1.        , 1.        ]),\n",
       " array([1.6401118 , 0.6401118 , 0.55736449, 0.55694383, 0.53567693,\n",
       "        0.52749295, 0.5261214 , 0.52536793, 0.52161656, 0.51802212,\n",
       "        0.51335396, 0.51332882, 0.51053769, 0.50318166, 0.4993671 ,\n",
       "        0.49922558, 0.49335383, 0.49168167, 0.48430889, 0.47674566,\n",
       "        0.47023045, 0.46864604, 0.4681856 , 0.46750081, 0.46077581,\n",
       "        0.45833154, 0.45613116, 0.45396236, 0.44727653, 0.44611071,\n",
       "        0.44549558, 0.44047955, 0.43845609, 0.43797951, 0.4364889 ,\n",
       "        0.43520555, 0.43399412, 0.43222027, 0.43206214, 0.43038745,\n",
       "        0.43023648, 0.42712355, 0.42622177, 0.42572423, 0.42540954,\n",
       "        0.42457407, 0.42275932, 0.42057306, 0.41861943, 0.4163001 ,\n",
       "        0.41533773, 0.415004  , 0.41191937, 0.41060248, 0.40686205,\n",
       "        0.4037048 , 0.40352743, 0.40311017, 0.40218214, 0.39959823,\n",
       "        0.39920512, 0.39642044, 0.39514254, 0.39382734, 0.39354592,\n",
       "        0.39353725, 0.39271381, 0.39026942, 0.39017539, 0.38684335,\n",
       "        0.38605803, 0.38104701, 0.37913098, 0.37805806, 0.37721832,\n",
       "        0.37672488, 0.37670563, 0.37531151, 0.37500297, 0.37371337,\n",
       "        0.37360068, 0.37173864, 0.37159658, 0.37129502, 0.37069681,\n",
       "        0.36748926, 0.36679111, 0.36282823, 0.36190381, 0.3618029 ,\n",
       "        0.36140957, 0.3582295 , 0.35809818, 0.35667618, 0.35659357,\n",
       "        0.35334652, 0.35253068, 0.35132765, 0.35126871, 0.34717253,\n",
       "        0.34694395, 0.34472258, 0.34436691, 0.34132774, 0.34117347,\n",
       "        0.3397782 , 0.33933263, 0.33920133, 0.33899492, 0.33863132,\n",
       "        0.33856353, 0.33831786, 0.33822518, 0.33746256, 0.33723394,\n",
       "        0.33674429, 0.33635757, 0.33482794, 0.33448811, 0.33412908,\n",
       "        0.33360942, 0.33266823, 0.3320141 , 0.33145944, 0.33137783,\n",
       "        0.32155613, 0.32152911, 0.31987933, 0.3197844 , 0.31738454,\n",
       "        0.31736717, 0.31567931, 0.31564829, 0.31560707, 0.31503928,\n",
       "        0.31425672, 0.31416058, 0.31224871, 0.31198791, 0.30511373,\n",
       "        0.30474976, 0.29920314, 0.29899311, 0.29720002, 0.29693921,\n",
       "        0.29681407, 0.29665201, 0.29637944, 0.29603646, 0.29528014,\n",
       "        0.29519792, 0.28798137, 0.28782565, 0.28589982, 0.28563272,\n",
       "        0.28478812, 0.28471636, 0.28149497, 0.28093013, 0.26802664,\n",
       "        0.26780916, 0.2443849 , 0.2443581 , 0.23561104, 0.23525895,\n",
       "        0.23108706, 0.23108674, 0.22858279, 0.22853879, 0.22063388,\n",
       "        0.2205978 , 0.21392051, 0.21347269, 0.12034195]))"
      ]
     },
     "execution_count": 22,
     "metadata": {},
     "output_type": "execute_result"
    }
   ],
   "source": [
    "fpr, tpr, thresholds"
   ]
  },
  {
   "cell_type": "code",
   "execution_count": 23,
   "metadata": {},
   "outputs": [
    {
     "data": {
      "image/png": "[encoded data removed]",
      "text/plain": [
       "<Figure size 432x288 with 1 Axes>"
      ]
     },
     "metadata": {
      "needs_background": "light"
     },
     "output_type": "display_data"
    }
   ],
   "source": [
    "plt.plot(fpr, tpr, '--', label=\"Decision Tree\")\n",
    "plt.plot([0, 1], [0, 1], 'k--', label=\"random guess\")\n",
    "plt.plot([fpr], [tpr], 'r-', ms=10)\n",
    "plt.xlabel('FPR')\n",
    "plt.ylabel('TPR')\n",
    "plt.title('ROC')\n",
    "plt.show()"
   ]
  },
  {
   "cell_type": "markdown",
   "metadata": {},
   "source": [
    "## 부록. Logistic Regress 회귀계수\n"
   ]
  },
  {
   "cell_type": "markdown",
   "metadata": {},
   "source": [
    "- 전체변수 투입: sm.Logit(y, X)\n",
    "- 특정변수만 넣고 싶을 때\n",
    "- Logistic_ml = sm.Logit.from_formula(\"PersonalLoan ~  Age + Experience + Income + Family + CCAvg\", bank_df)"
   ]
  },
  {
   "cell_type": "code",
   "execution_count": 24,
   "metadata": {},
   "outputs": [
    {
     "name": "stdout",
     "output_type": "stream",
     "text": [
      "Optimization terminated successfully.\n",
      "         Current function value: 0.149214\n",
      "         Iterations 9\n"
     ]
    },
    {
     "data": {
      "text/html": [
       "<table class=\"simpletable\">\n",
       "<tr>\n",
       "        <td>Model:</td>              <td>Logit</td>      <td>Pseudo R-squared:</td>   <td>0.528</td>  \n",
       "</tr>\n",
       "<tr>\n",
       "  <td>Dependent Variable:</td>   <td>PersonalLoan</td>         <td>AIC:</td>        <td>1516.1369</td>\n",
       "</tr>\n",
       "<tr>\n",
       "         <td>Date:</td>        <td>2019-11-04 14:19</td>       <td>BIC:</td>        <td>1594.3432</td>\n",
       "</tr>\n",
       "<tr>\n",
       "   <td>No. Observations:</td>        <td>5000</td>        <td>Log-Likelihood:</td>   <td>-746.07</td> \n",
       "</tr>\n",
       "<tr>\n",
       "       <td>Df Model:</td>             <td>11</td>            <td>LL-Null:</td>       <td>-1581.0</td> \n",
       "</tr>\n",
       "<tr>\n",
       "     <td>Df Residuals:</td>          <td>4988</td>         <td>LLR p-value:</td>     <td>0.0000</td>  \n",
       "</tr>\n",
       "<tr>\n",
       "      <td>Converged:</td>           <td>1.0000</td>           <td>Scale:</td>        <td>1.0000</td>  \n",
       "</tr>\n",
       "<tr>\n",
       "    <td>No. Iterations:</td>        <td>9.0000</td>              <td></td>              <td></td>     \n",
       "</tr>\n",
       "</table>\n",
       "<table class=\"simpletable\">\n",
       "<tr>\n",
       "          <td></td>           <th>Coef.</th>  <th>Std.Err.</th>     <th>z</th>     <th>P>|z|</th> <th>[0.025</th>  <th>0.975]</th> \n",
       "</tr>\n",
       "<tr>\n",
       "  <th>Age</th>               <td>-0.7512</td>  <td>0.6853</td>   <td>-1.0960</td> <td>0.2731</td> <td>-2.0944</td> <td>0.5921</td> \n",
       "</tr>\n",
       "<tr>\n",
       "  <th>Experience</th>        <td>0.8612</td>   <td>0.6827</td>   <td>1.2615</td>  <td>0.2071</td> <td>-0.4768</td> <td>2.1992</td> \n",
       "</tr>\n",
       "<tr>\n",
       "  <th>Income</th>            <td>2.4375</td>   <td>0.1145</td>   <td>21.2843</td> <td>0.0000</td> <td>2.2130</td>  <td>2.6620</td> \n",
       "</tr>\n",
       "<tr>\n",
       "  <th>Family</th>            <td>0.3616</td>   <td>0.0714</td>   <td>5.0629</td>  <td>0.0000</td> <td>0.2216</td>  <td>0.5016</td> \n",
       "</tr>\n",
       "<tr>\n",
       "  <th>CCAvg</th>             <td>0.3730</td>   <td>0.0748</td>   <td>4.9860</td>  <td>0.0000</td> <td>0.2264</td>  <td>0.5196</td> \n",
       "</tr>\n",
       "<tr>\n",
       "  <th>Mortgage</th>          <td>0.0915</td>   <td>0.0576</td>   <td>1.5881</td>  <td>0.1123</td> <td>-0.0214</td> <td>0.2045</td> \n",
       "</tr>\n",
       "<tr>\n",
       "  <th>SecuritiesAccount</th> <td>-1.7463</td>  <td>0.2888</td>   <td>-6.0472</td> <td>0.0000</td> <td>-2.3123</td> <td>-1.1803</td>\n",
       "</tr>\n",
       "<tr>\n",
       "  <th>CDAccount</th>         <td>4.9464</td>   <td>0.3341</td>   <td>14.8030</td> <td>0.0000</td> <td>4.2915</td>  <td>5.6013</td> \n",
       "</tr>\n",
       "<tr>\n",
       "  <th>Online</th>            <td>-2.1804</td>  <td>0.1350</td>  <td>-16.1499</td> <td>0.0000</td> <td>-2.4450</td> <td>-1.9158</td>\n",
       "</tr>\n",
       "<tr>\n",
       "  <th>CreditCard</th>        <td>-2.1050</td>  <td>0.2029</td>  <td>-10.3758</td> <td>0.0000</td> <td>-2.5026</td> <td>-1.7074</td>\n",
       "</tr>\n",
       "<tr>\n",
       "  <th>Education_Prof</th>    <td>-1.6077</td>  <td>0.1422</td>  <td>-11.3079</td> <td>0.0000</td> <td>-1.8864</td> <td>-1.3290</td>\n",
       "</tr>\n",
       "<tr>\n",
       "  <th>Education_Under</th>   <td>-5.5799</td>  <td>0.2466</td>  <td>-22.6258</td> <td>0.0000</td> <td>-6.0633</td> <td>-5.0965</td>\n",
       "</tr>\n",
       "</table>"
      ],
      "text/plain": [
       "<class 'statsmodels.iolib.summary2.Summary'>\n",
       "\"\"\"\n",
       "                          Results: Logit\n",
       "==================================================================\n",
       "Model:                Logit            Pseudo R-squared: 0.528    \n",
       "Dependent Variable:   PersonalLoan     AIC:              1516.1369\n",
       "Date:                 2019-11-04 14:19 BIC:              1594.3432\n",
       "No. Observations:     5000             Log-Likelihood:   -746.07  \n",
       "Df Model:             11               LL-Null:          -1581.0  \n",
       "Df Residuals:         4988             LLR p-value:      0.0000   \n",
       "Converged:            1.0000           Scale:            1.0000   \n",
       "No. Iterations:       9.0000                                      \n",
       "------------------------------------------------------------------\n",
       "                   Coef.  Std.Err.    z     P>|z|   [0.025  0.975]\n",
       "------------------------------------------------------------------\n",
       "Age               -0.7512   0.6853  -1.0960 0.2731 -2.0944  0.5921\n",
       "Experience         0.8612   0.6827   1.2615 0.2071 -0.4768  2.1992\n",
       "Income             2.4375   0.1145  21.2843 0.0000  2.2130  2.6620\n",
       "Family             0.3616   0.0714   5.0629 0.0000  0.2216  0.5016\n",
       "CCAvg              0.3730   0.0748   4.9860 0.0000  0.2264  0.5196\n",
       "Mortgage           0.0915   0.0576   1.5881 0.1123 -0.0214  0.2045\n",
       "SecuritiesAccount -1.7463   0.2888  -6.0472 0.0000 -2.3123 -1.1803\n",
       "CDAccount          4.9464   0.3341  14.8030 0.0000  4.2915  5.6013\n",
       "Online            -2.1804   0.1350 -16.1499 0.0000 -2.4450 -1.9158\n",
       "CreditCard        -2.1050   0.2029 -10.3758 0.0000 -2.5026 -1.7074\n",
       "Education_Prof    -1.6077   0.1422 -11.3079 0.0000 -1.8864 -1.3290\n",
       "Education_Under   -5.5799   0.2466 -22.6258 0.0000 -6.0633 -5.0965\n",
       "==================================================================\n",
       "\n",
       "\"\"\""
      ]
     },
     "execution_count": 24,
     "metadata": {},
     "output_type": "execute_result"
    }
   ],
   "source": [
    "import statsmodels.api as sm\n",
    "logistic_ml = sm.Logit(y, X) #로지스틱 회귀분석 시행\n",
    "logistic_coef = logistic_ml.fit()\n",
    "logistic_coef.summary2()"
   ]
  },
  {
   "cell_type": "code",
   "execution_count": 25,
   "metadata": {},
   "outputs": [
    {
     "data": {
      "text/plain": [
       "Age                    0.471820\n",
       "Experience             2.366013\n",
       "Income                11.444403\n",
       "Family                 1.435643\n",
       "CCAvg                  1.452095\n",
       "Mortgage               1.095844\n",
       "SecuritiesAccount      0.174414\n",
       "CDAccount            140.667639\n",
       "Online                 0.112999\n",
       "CreditCard             0.121845\n",
       "Education_Prof         0.200348\n",
       "Education_Under        0.003773\n",
       "dtype: float64"
      ]
     },
     "execution_count": 25,
     "metadata": {},
     "output_type": "execute_result"
    }
   ],
   "source": [
    "np.exp(logistic_coef.params)"
   ]
  },
  {
   "cell_type": "markdown",
   "metadata": {},
   "source": [
    "## 7.최적화\n",
    "- 교재 6장 (pp.218~250)"
   ]
  },
  {
   "cell_type": "markdown",
   "metadata": {},
   "source": [
    "### 7.1 파이프라인 모델 만들기\n",
    "- 파이프라인을 이용하여 최적 모델 만들기\n",
    "- 기본모형은 아무 옵션이 없는 모델로 부터 시작\n",
    "- 파라미터 옵션 확인: pipe_tree.get_params().keys()"
   ]
  },
  {
   "cell_type": "code",
   "execution_count": 26,
   "metadata": {},
   "outputs": [],
   "source": [
    "pipe_logistic = make_pipeline(LogisticRegression(random_state=1))"
   ]
  },
  {
   "cell_type": "code",
   "execution_count": 27,
   "metadata": {},
   "outputs": [
    {
     "data": {
      "text/plain": [
       "dict_keys(['memory', 'steps', 'verbose', 'logisticregression', 'logisticregression__C', 'logisticregression__class_weight', 'logisticregression__dual', 'logisticregression__fit_intercept', 'logisticregression__intercept_scaling', 'logisticregression__l1_ratio', 'logisticregression__max_iter', 'logisticregression__multi_class', 'logisticregression__n_jobs', 'logisticregression__penalty', 'logisticregression__random_state', 'logisticregression__solver', 'logisticregression__tol', 'logisticregression__verbose', 'logisticregression__warm_start'])"
      ]
     },
     "execution_count": 27,
     "metadata": {},
     "output_type": "execute_result"
    }
   ],
   "source": [
    "pipe_logistic.get_params().keys()"
   ]
  },
  {
   "cell_type": "markdown",
   "metadata": {},
   "source": [
    "### 7.2 학습 곡선으로 편향과 분산 문제 분석하기\n",
    "- 훈렴 샘플링 수를 이용하여 편향과 분산 검정\n",
    "- 편향: 정확도가 높은지 검정\n",
    "- 분산: 훈련/검정 데이터의 정확도의 차이가 적은지"
   ]
  },
  {
   "cell_type": "code",
   "execution_count": 28,
   "metadata": {},
   "outputs": [
    {
     "name": "stderr",
     "output_type": "stream",
     "text": [
      "C:\\Users\\leecho\\Anaconda3\\lib\\site-packages\\sklearn\\linear_model\\logistic.py:432: FutureWarning: Default solver will be changed to 'lbfgs' in 0.22. Specify a solver to silence this warning.\n",
      "  FutureWarning)\n",
      "C:\\Users\\leecho\\Anaconda3\\lib\\site-packages\\sklearn\\linear_model\\logistic.py:432: FutureWarning: Default solver will be changed to 'lbfgs' in 0.22. Specify a solver to silence this warning.\n",
      "  FutureWarning)\n",
      "C:\\Users\\leecho\\Anaconda3\\lib\\site-packages\\sklearn\\linear_model\\logistic.py:432: FutureWarning: Default solver will be changed to 'lbfgs' in 0.22. Specify a solver to silence this warning.\n",
      "  FutureWarning)\n",
      "C:\\Users\\leecho\\Anaconda3\\lib\\site-packages\\sklearn\\linear_model\\logistic.py:432: FutureWarning: Default solver will be changed to 'lbfgs' in 0.22. Specify a solver to silence this warning.\n",
      "  FutureWarning)\n",
      "C:\\Users\\leecho\\Anaconda3\\lib\\site-packages\\sklearn\\linear_model\\logistic.py:432: FutureWarning: Default solver will be changed to 'lbfgs' in 0.22. Specify a solver to silence this warning.\n",
      "  FutureWarning)\n",
      "C:\\Users\\leecho\\Anaconda3\\lib\\site-packages\\sklearn\\linear_model\\logistic.py:432: FutureWarning: Default solver will be changed to 'lbfgs' in 0.22. Specify a solver to silence this warning.\n",
      "  FutureWarning)\n",
      "C:\\Users\\leecho\\Anaconda3\\lib\\site-packages\\sklearn\\linear_model\\logistic.py:432: FutureWarning: Default solver will be changed to 'lbfgs' in 0.22. Specify a solver to silence this warning.\n",
      "  FutureWarning)\n",
      "C:\\Users\\leecho\\Anaconda3\\lib\\site-packages\\sklearn\\linear_model\\logistic.py:432: FutureWarning: Default solver will be changed to 'lbfgs' in 0.22. Specify a solver to silence this warning.\n",
      "  FutureWarning)\n",
      "C:\\Users\\leecho\\Anaconda3\\lib\\site-packages\\sklearn\\linear_model\\logistic.py:432: FutureWarning: Default solver will be changed to 'lbfgs' in 0.22. Specify a solver to silence this warning.\n",
      "  FutureWarning)\n",
      "C:\\Users\\leecho\\Anaconda3\\lib\\site-packages\\sklearn\\linear_model\\logistic.py:432: FutureWarning: Default solver will be changed to 'lbfgs' in 0.22. Specify a solver to silence this warning.\n",
      "  FutureWarning)\n",
      "C:\\Users\\leecho\\Anaconda3\\lib\\site-packages\\sklearn\\linear_model\\logistic.py:432: FutureWarning: Default solver will be changed to 'lbfgs' in 0.22. Specify a solver to silence this warning.\n",
      "  FutureWarning)\n",
      "C:\\Users\\leecho\\Anaconda3\\lib\\site-packages\\sklearn\\linear_model\\logistic.py:432: FutureWarning: Default solver will be changed to 'lbfgs' in 0.22. Specify a solver to silence this warning.\n",
      "  FutureWarning)\n",
      "C:\\Users\\leecho\\Anaconda3\\lib\\site-packages\\sklearn\\linear_model\\logistic.py:432: FutureWarning: Default solver will be changed to 'lbfgs' in 0.22. Specify a solver to silence this warning.\n",
      "  FutureWarning)\n",
      "C:\\Users\\leecho\\Anaconda3\\lib\\site-packages\\sklearn\\linear_model\\logistic.py:432: FutureWarning: Default solver will be changed to 'lbfgs' in 0.22. Specify a solver to silence this warning.\n",
      "  FutureWarning)\n",
      "C:\\Users\\leecho\\Anaconda3\\lib\\site-packages\\sklearn\\linear_model\\logistic.py:432: FutureWarning: Default solver will be changed to 'lbfgs' in 0.22. Specify a solver to silence this warning.\n",
      "  FutureWarning)\n",
      "C:\\Users\\leecho\\Anaconda3\\lib\\site-packages\\sklearn\\linear_model\\logistic.py:432: FutureWarning: Default solver will be changed to 'lbfgs' in 0.22. Specify a solver to silence this warning.\n",
      "  FutureWarning)\n",
      "C:\\Users\\leecho\\Anaconda3\\lib\\site-packages\\sklearn\\linear_model\\logistic.py:432: FutureWarning: Default solver will be changed to 'lbfgs' in 0.22. Specify a solver to silence this warning.\n",
      "  FutureWarning)\n",
      "C:\\Users\\leecho\\Anaconda3\\lib\\site-packages\\sklearn\\linear_model\\logistic.py:432: FutureWarning: Default solver will be changed to 'lbfgs' in 0.22. Specify a solver to silence this warning.\n",
      "  FutureWarning)\n",
      "C:\\Users\\leecho\\Anaconda3\\lib\\site-packages\\sklearn\\linear_model\\logistic.py:432: FutureWarning: Default solver will be changed to 'lbfgs' in 0.22. Specify a solver to silence this warning.\n",
      "  FutureWarning)\n",
      "C:\\Users\\leecho\\Anaconda3\\lib\\site-packages\\sklearn\\linear_model\\logistic.py:432: FutureWarning: Default solver will be changed to 'lbfgs' in 0.22. Specify a solver to silence this warning.\n",
      "  FutureWarning)\n",
      "C:\\Users\\leecho\\Anaconda3\\lib\\site-packages\\sklearn\\linear_model\\logistic.py:432: FutureWarning: Default solver will be changed to 'lbfgs' in 0.22. Specify a solver to silence this warning.\n",
      "  FutureWarning)\n",
      "C:\\Users\\leecho\\Anaconda3\\lib\\site-packages\\sklearn\\linear_model\\logistic.py:432: FutureWarning: Default solver will be changed to 'lbfgs' in 0.22. Specify a solver to silence this warning.\n",
      "  FutureWarning)\n",
      "C:\\Users\\leecho\\Anaconda3\\lib\\site-packages\\sklearn\\linear_model\\logistic.py:432: FutureWarning: Default solver will be changed to 'lbfgs' in 0.22. Specify a solver to silence this warning.\n",
      "  FutureWarning)\n",
      "C:\\Users\\leecho\\Anaconda3\\lib\\site-packages\\sklearn\\linear_model\\logistic.py:432: FutureWarning: Default solver will be changed to 'lbfgs' in 0.22. Specify a solver to silence this warning.\n",
      "  FutureWarning)\n",
      "C:\\Users\\leecho\\Anaconda3\\lib\\site-packages\\sklearn\\linear_model\\logistic.py:432: FutureWarning: Default solver will be changed to 'lbfgs' in 0.22. Specify a solver to silence this warning.\n",
      "  FutureWarning)\n",
      "C:\\Users\\leecho\\Anaconda3\\lib\\site-packages\\sklearn\\linear_model\\logistic.py:432: FutureWarning: Default solver will be changed to 'lbfgs' in 0.22. Specify a solver to silence this warning.\n",
      "  FutureWarning)\n",
      "C:\\Users\\leecho\\Anaconda3\\lib\\site-packages\\sklearn\\linear_model\\logistic.py:432: FutureWarning: Default solver will be changed to 'lbfgs' in 0.22. Specify a solver to silence this warning.\n",
      "  FutureWarning)\n",
      "C:\\Users\\leecho\\Anaconda3\\lib\\site-packages\\sklearn\\linear_model\\logistic.py:432: FutureWarning: Default solver will be changed to 'lbfgs' in 0.22. Specify a solver to silence this warning.\n",
      "  FutureWarning)\n",
      "C:\\Users\\leecho\\Anaconda3\\lib\\site-packages\\sklearn\\linear_model\\logistic.py:432: FutureWarning: Default solver will be changed to 'lbfgs' in 0.22. Specify a solver to silence this warning.\n",
      "  FutureWarning)\n",
      "C:\\Users\\leecho\\Anaconda3\\lib\\site-packages\\sklearn\\linear_model\\logistic.py:432: FutureWarning: Default solver will be changed to 'lbfgs' in 0.22. Specify a solver to silence this warning.\n",
      "  FutureWarning)\n",
      "C:\\Users\\leecho\\Anaconda3\\lib\\site-packages\\sklearn\\linear_model\\logistic.py:432: FutureWarning: Default solver will be changed to 'lbfgs' in 0.22. Specify a solver to silence this warning.\n",
      "  FutureWarning)\n",
      "C:\\Users\\leecho\\Anaconda3\\lib\\site-packages\\sklearn\\linear_model\\logistic.py:432: FutureWarning: Default solver will be changed to 'lbfgs' in 0.22. Specify a solver to silence this warning.\n",
      "  FutureWarning)\n",
      "C:\\Users\\leecho\\Anaconda3\\lib\\site-packages\\sklearn\\linear_model\\logistic.py:432: FutureWarning: Default solver will be changed to 'lbfgs' in 0.22. Specify a solver to silence this warning.\n",
      "  FutureWarning)\n",
      "C:\\Users\\leecho\\Anaconda3\\lib\\site-packages\\sklearn\\linear_model\\logistic.py:432: FutureWarning: Default solver will be changed to 'lbfgs' in 0.22. Specify a solver to silence this warning.\n",
      "  FutureWarning)\n",
      "C:\\Users\\leecho\\Anaconda3\\lib\\site-packages\\sklearn\\linear_model\\logistic.py:432: FutureWarning: Default solver will be changed to 'lbfgs' in 0.22. Specify a solver to silence this warning.\n",
      "  FutureWarning)\n",
      "C:\\Users\\leecho\\Anaconda3\\lib\\site-packages\\sklearn\\linear_model\\logistic.py:432: FutureWarning: Default solver will be changed to 'lbfgs' in 0.22. Specify a solver to silence this warning.\n",
      "  FutureWarning)\n",
      "C:\\Users\\leecho\\Anaconda3\\lib\\site-packages\\sklearn\\linear_model\\logistic.py:432: FutureWarning: Default solver will be changed to 'lbfgs' in 0.22. Specify a solver to silence this warning.\n",
      "  FutureWarning)\n",
      "C:\\Users\\leecho\\Anaconda3\\lib\\site-packages\\sklearn\\linear_model\\logistic.py:432: FutureWarning: Default solver will be changed to 'lbfgs' in 0.22. Specify a solver to silence this warning.\n",
      "  FutureWarning)\n",
      "C:\\Users\\leecho\\Anaconda3\\lib\\site-packages\\sklearn\\linear_model\\logistic.py:432: FutureWarning: Default solver will be changed to 'lbfgs' in 0.22. Specify a solver to silence this warning.\n",
      "  FutureWarning)\n",
      "C:\\Users\\leecho\\Anaconda3\\lib\\site-packages\\sklearn\\linear_model\\logistic.py:432: FutureWarning: Default solver will be changed to 'lbfgs' in 0.22. Specify a solver to silence this warning.\n",
      "  FutureWarning)\n",
      "C:\\Users\\leecho\\Anaconda3\\lib\\site-packages\\sklearn\\linear_model\\logistic.py:432: FutureWarning: Default solver will be changed to 'lbfgs' in 0.22. Specify a solver to silence this warning.\n",
      "  FutureWarning)\n",
      "C:\\Users\\leecho\\Anaconda3\\lib\\site-packages\\sklearn\\linear_model\\logistic.py:432: FutureWarning: Default solver will be changed to 'lbfgs' in 0.22. Specify a solver to silence this warning.\n",
      "  FutureWarning)\n",
      "C:\\Users\\leecho\\Anaconda3\\lib\\site-packages\\sklearn\\linear_model\\logistic.py:432: FutureWarning: Default solver will be changed to 'lbfgs' in 0.22. Specify a solver to silence this warning.\n",
      "  FutureWarning)\n",
      "C:\\Users\\leecho\\Anaconda3\\lib\\site-packages\\sklearn\\linear_model\\logistic.py:432: FutureWarning: Default solver will be changed to 'lbfgs' in 0.22. Specify a solver to silence this warning.\n",
      "  FutureWarning)\n",
      "C:\\Users\\leecho\\Anaconda3\\lib\\site-packages\\sklearn\\linear_model\\logistic.py:432: FutureWarning: Default solver will be changed to 'lbfgs' in 0.22. Specify a solver to silence this warning.\n",
      "  FutureWarning)\n",
      "C:\\Users\\leecho\\Anaconda3\\lib\\site-packages\\sklearn\\linear_model\\logistic.py:432: FutureWarning: Default solver will be changed to 'lbfgs' in 0.22. Specify a solver to silence this warning.\n",
      "  FutureWarning)\n"
     ]
    },
    {
     "name": "stderr",
     "output_type": "stream",
     "text": [
      "C:\\Users\\leecho\\Anaconda3\\lib\\site-packages\\sklearn\\linear_model\\logistic.py:432: FutureWarning: Default solver will be changed to 'lbfgs' in 0.22. Specify a solver to silence this warning.\n",
      "  FutureWarning)\n",
      "C:\\Users\\leecho\\Anaconda3\\lib\\site-packages\\sklearn\\linear_model\\logistic.py:432: FutureWarning: Default solver will be changed to 'lbfgs' in 0.22. Specify a solver to silence this warning.\n",
      "  FutureWarning)\n",
      "C:\\Users\\leecho\\Anaconda3\\lib\\site-packages\\sklearn\\linear_model\\logistic.py:432: FutureWarning: Default solver will be changed to 'lbfgs' in 0.22. Specify a solver to silence this warning.\n",
      "  FutureWarning)\n",
      "C:\\Users\\leecho\\Anaconda3\\lib\\site-packages\\sklearn\\linear_model\\logistic.py:432: FutureWarning: Default solver will be changed to 'lbfgs' in 0.22. Specify a solver to silence this warning.\n",
      "  FutureWarning)\n",
      "C:\\Users\\leecho\\Anaconda3\\lib\\site-packages\\sklearn\\linear_model\\logistic.py:432: FutureWarning: Default solver will be changed to 'lbfgs' in 0.22. Specify a solver to silence this warning.\n",
      "  FutureWarning)\n",
      "C:\\Users\\leecho\\Anaconda3\\lib\\site-packages\\sklearn\\linear_model\\logistic.py:432: FutureWarning: Default solver will be changed to 'lbfgs' in 0.22. Specify a solver to silence this warning.\n",
      "  FutureWarning)\n",
      "C:\\Users\\leecho\\Anaconda3\\lib\\site-packages\\sklearn\\linear_model\\logistic.py:432: FutureWarning: Default solver will be changed to 'lbfgs' in 0.22. Specify a solver to silence this warning.\n",
      "  FutureWarning)\n",
      "C:\\Users\\leecho\\Anaconda3\\lib\\site-packages\\sklearn\\linear_model\\logistic.py:432: FutureWarning: Default solver will be changed to 'lbfgs' in 0.22. Specify a solver to silence this warning.\n",
      "  FutureWarning)\n",
      "C:\\Users\\leecho\\Anaconda3\\lib\\site-packages\\sklearn\\linear_model\\logistic.py:432: FutureWarning: Default solver will be changed to 'lbfgs' in 0.22. Specify a solver to silence this warning.\n",
      "  FutureWarning)\n",
      "C:\\Users\\leecho\\Anaconda3\\lib\\site-packages\\sklearn\\linear_model\\logistic.py:432: FutureWarning: Default solver will be changed to 'lbfgs' in 0.22. Specify a solver to silence this warning.\n",
      "  FutureWarning)\n",
      "C:\\Users\\leecho\\Anaconda3\\lib\\site-packages\\sklearn\\linear_model\\logistic.py:432: FutureWarning: Default solver will be changed to 'lbfgs' in 0.22. Specify a solver to silence this warning.\n",
      "  FutureWarning)\n",
      "C:\\Users\\leecho\\Anaconda3\\lib\\site-packages\\sklearn\\linear_model\\logistic.py:432: FutureWarning: Default solver will be changed to 'lbfgs' in 0.22. Specify a solver to silence this warning.\n",
      "  FutureWarning)\n",
      "C:\\Users\\leecho\\Anaconda3\\lib\\site-packages\\sklearn\\linear_model\\logistic.py:432: FutureWarning: Default solver will be changed to 'lbfgs' in 0.22. Specify a solver to silence this warning.\n",
      "  FutureWarning)\n",
      "C:\\Users\\leecho\\Anaconda3\\lib\\site-packages\\sklearn\\linear_model\\logistic.py:432: FutureWarning: Default solver will be changed to 'lbfgs' in 0.22. Specify a solver to silence this warning.\n",
      "  FutureWarning)\n",
      "C:\\Users\\leecho\\Anaconda3\\lib\\site-packages\\sklearn\\linear_model\\logistic.py:432: FutureWarning: Default solver will be changed to 'lbfgs' in 0.22. Specify a solver to silence this warning.\n",
      "  FutureWarning)\n",
      "C:\\Users\\leecho\\Anaconda3\\lib\\site-packages\\sklearn\\linear_model\\logistic.py:432: FutureWarning: Default solver will be changed to 'lbfgs' in 0.22. Specify a solver to silence this warning.\n",
      "  FutureWarning)\n",
      "C:\\Users\\leecho\\Anaconda3\\lib\\site-packages\\sklearn\\linear_model\\logistic.py:432: FutureWarning: Default solver will be changed to 'lbfgs' in 0.22. Specify a solver to silence this warning.\n",
      "  FutureWarning)\n",
      "C:\\Users\\leecho\\Anaconda3\\lib\\site-packages\\sklearn\\linear_model\\logistic.py:432: FutureWarning: Default solver will be changed to 'lbfgs' in 0.22. Specify a solver to silence this warning.\n",
      "  FutureWarning)\n",
      "C:\\Users\\leecho\\Anaconda3\\lib\\site-packages\\sklearn\\linear_model\\logistic.py:432: FutureWarning: Default solver will be changed to 'lbfgs' in 0.22. Specify a solver to silence this warning.\n",
      "  FutureWarning)\n",
      "C:\\Users\\leecho\\Anaconda3\\lib\\site-packages\\sklearn\\linear_model\\logistic.py:432: FutureWarning: Default solver will be changed to 'lbfgs' in 0.22. Specify a solver to silence this warning.\n",
      "  FutureWarning)\n",
      "C:\\Users\\leecho\\Anaconda3\\lib\\site-packages\\sklearn\\linear_model\\logistic.py:432: FutureWarning: Default solver will be changed to 'lbfgs' in 0.22. Specify a solver to silence this warning.\n",
      "  FutureWarning)\n",
      "C:\\Users\\leecho\\Anaconda3\\lib\\site-packages\\sklearn\\linear_model\\logistic.py:432: FutureWarning: Default solver will be changed to 'lbfgs' in 0.22. Specify a solver to silence this warning.\n",
      "  FutureWarning)\n",
      "C:\\Users\\leecho\\Anaconda3\\lib\\site-packages\\sklearn\\linear_model\\logistic.py:432: FutureWarning: Default solver will be changed to 'lbfgs' in 0.22. Specify a solver to silence this warning.\n",
      "  FutureWarning)\n",
      "C:\\Users\\leecho\\Anaconda3\\lib\\site-packages\\sklearn\\linear_model\\logistic.py:432: FutureWarning: Default solver will be changed to 'lbfgs' in 0.22. Specify a solver to silence this warning.\n",
      "  FutureWarning)\n",
      "C:\\Users\\leecho\\Anaconda3\\lib\\site-packages\\sklearn\\linear_model\\logistic.py:432: FutureWarning: Default solver will be changed to 'lbfgs' in 0.22. Specify a solver to silence this warning.\n",
      "  FutureWarning)\n",
      "C:\\Users\\leecho\\Anaconda3\\lib\\site-packages\\sklearn\\linear_model\\logistic.py:432: FutureWarning: Default solver will be changed to 'lbfgs' in 0.22. Specify a solver to silence this warning.\n",
      "  FutureWarning)\n",
      "C:\\Users\\leecho\\Anaconda3\\lib\\site-packages\\sklearn\\linear_model\\logistic.py:432: FutureWarning: Default solver will be changed to 'lbfgs' in 0.22. Specify a solver to silence this warning.\n",
      "  FutureWarning)\n",
      "C:\\Users\\leecho\\Anaconda3\\lib\\site-packages\\sklearn\\linear_model\\logistic.py:432: FutureWarning: Default solver will be changed to 'lbfgs' in 0.22. Specify a solver to silence this warning.\n",
      "  FutureWarning)\n",
      "C:\\Users\\leecho\\Anaconda3\\lib\\site-packages\\sklearn\\linear_model\\logistic.py:432: FutureWarning: Default solver will be changed to 'lbfgs' in 0.22. Specify a solver to silence this warning.\n",
      "  FutureWarning)\n",
      "C:\\Users\\leecho\\Anaconda3\\lib\\site-packages\\sklearn\\linear_model\\logistic.py:432: FutureWarning: Default solver will be changed to 'lbfgs' in 0.22. Specify a solver to silence this warning.\n",
      "  FutureWarning)\n",
      "C:\\Users\\leecho\\Anaconda3\\lib\\site-packages\\sklearn\\linear_model\\logistic.py:432: FutureWarning: Default solver will be changed to 'lbfgs' in 0.22. Specify a solver to silence this warning.\n",
      "  FutureWarning)\n",
      "C:\\Users\\leecho\\Anaconda3\\lib\\site-packages\\sklearn\\linear_model\\logistic.py:432: FutureWarning: Default solver will be changed to 'lbfgs' in 0.22. Specify a solver to silence this warning.\n",
      "  FutureWarning)\n",
      "C:\\Users\\leecho\\Anaconda3\\lib\\site-packages\\sklearn\\linear_model\\logistic.py:432: FutureWarning: Default solver will be changed to 'lbfgs' in 0.22. Specify a solver to silence this warning.\n",
      "  FutureWarning)\n",
      "C:\\Users\\leecho\\Anaconda3\\lib\\site-packages\\sklearn\\linear_model\\logistic.py:432: FutureWarning: Default solver will be changed to 'lbfgs' in 0.22. Specify a solver to silence this warning.\n",
      "  FutureWarning)\n",
      "C:\\Users\\leecho\\Anaconda3\\lib\\site-packages\\sklearn\\linear_model\\logistic.py:432: FutureWarning: Default solver will be changed to 'lbfgs' in 0.22. Specify a solver to silence this warning.\n",
      "  FutureWarning)\n",
      "C:\\Users\\leecho\\Anaconda3\\lib\\site-packages\\sklearn\\linear_model\\logistic.py:432: FutureWarning: Default solver will be changed to 'lbfgs' in 0.22. Specify a solver to silence this warning.\n",
      "  FutureWarning)\n",
      "C:\\Users\\leecho\\Anaconda3\\lib\\site-packages\\sklearn\\linear_model\\logistic.py:432: FutureWarning: Default solver will be changed to 'lbfgs' in 0.22. Specify a solver to silence this warning.\n",
      "  FutureWarning)\n",
      "C:\\Users\\leecho\\Anaconda3\\lib\\site-packages\\sklearn\\linear_model\\logistic.py:432: FutureWarning: Default solver will be changed to 'lbfgs' in 0.22. Specify a solver to silence this warning.\n",
      "  FutureWarning)\n",
      "C:\\Users\\leecho\\Anaconda3\\lib\\site-packages\\sklearn\\linear_model\\logistic.py:432: FutureWarning: Default solver will be changed to 'lbfgs' in 0.22. Specify a solver to silence this warning.\n",
      "  FutureWarning)\n",
      "C:\\Users\\leecho\\Anaconda3\\lib\\site-packages\\sklearn\\linear_model\\logistic.py:432: FutureWarning: Default solver will be changed to 'lbfgs' in 0.22. Specify a solver to silence this warning.\n",
      "  FutureWarning)\n",
      "C:\\Users\\leecho\\Anaconda3\\lib\\site-packages\\sklearn\\linear_model\\logistic.py:432: FutureWarning: Default solver will be changed to 'lbfgs' in 0.22. Specify a solver to silence this warning.\n",
      "  FutureWarning)\n",
      "C:\\Users\\leecho\\Anaconda3\\lib\\site-packages\\sklearn\\linear_model\\logistic.py:432: FutureWarning: Default solver will be changed to 'lbfgs' in 0.22. Specify a solver to silence this warning.\n",
      "  FutureWarning)\n",
      "C:\\Users\\leecho\\Anaconda3\\lib\\site-packages\\sklearn\\linear_model\\logistic.py:432: FutureWarning: Default solver will be changed to 'lbfgs' in 0.22. Specify a solver to silence this warning.\n",
      "  FutureWarning)\n",
      "C:\\Users\\leecho\\Anaconda3\\lib\\site-packages\\sklearn\\linear_model\\logistic.py:432: FutureWarning: Default solver will be changed to 'lbfgs' in 0.22. Specify a solver to silence this warning.\n",
      "  FutureWarning)\n",
      "C:\\Users\\leecho\\Anaconda3\\lib\\site-packages\\sklearn\\linear_model\\logistic.py:432: FutureWarning: Default solver will be changed to 'lbfgs' in 0.22. Specify a solver to silence this warning.\n",
      "  FutureWarning)\n"
     ]
    },
    {
     "name": "stderr",
     "output_type": "stream",
     "text": [
      "C:\\Users\\leecho\\Anaconda3\\lib\\site-packages\\sklearn\\linear_model\\logistic.py:432: FutureWarning: Default solver will be changed to 'lbfgs' in 0.22. Specify a solver to silence this warning.\n",
      "  FutureWarning)\n",
      "C:\\Users\\leecho\\Anaconda3\\lib\\site-packages\\sklearn\\linear_model\\logistic.py:432: FutureWarning: Default solver will be changed to 'lbfgs' in 0.22. Specify a solver to silence this warning.\n",
      "  FutureWarning)\n",
      "C:\\Users\\leecho\\Anaconda3\\lib\\site-packages\\sklearn\\linear_model\\logistic.py:432: FutureWarning: Default solver will be changed to 'lbfgs' in 0.22. Specify a solver to silence this warning.\n",
      "  FutureWarning)\n",
      "C:\\Users\\leecho\\Anaconda3\\lib\\site-packages\\sklearn\\linear_model\\logistic.py:432: FutureWarning: Default solver will be changed to 'lbfgs' in 0.22. Specify a solver to silence this warning.\n",
      "  FutureWarning)\n",
      "C:\\Users\\leecho\\Anaconda3\\lib\\site-packages\\sklearn\\linear_model\\logistic.py:432: FutureWarning: Default solver will be changed to 'lbfgs' in 0.22. Specify a solver to silence this warning.\n",
      "  FutureWarning)\n",
      "C:\\Users\\leecho\\Anaconda3\\lib\\site-packages\\sklearn\\linear_model\\logistic.py:432: FutureWarning: Default solver will be changed to 'lbfgs' in 0.22. Specify a solver to silence this warning.\n",
      "  FutureWarning)\n",
      "C:\\Users\\leecho\\Anaconda3\\lib\\site-packages\\sklearn\\linear_model\\logistic.py:432: FutureWarning: Default solver will be changed to 'lbfgs' in 0.22. Specify a solver to silence this warning.\n",
      "  FutureWarning)\n",
      "C:\\Users\\leecho\\Anaconda3\\lib\\site-packages\\sklearn\\linear_model\\logistic.py:432: FutureWarning: Default solver will be changed to 'lbfgs' in 0.22. Specify a solver to silence this warning.\n",
      "  FutureWarning)\n",
      "C:\\Users\\leecho\\Anaconda3\\lib\\site-packages\\sklearn\\linear_model\\logistic.py:432: FutureWarning: Default solver will be changed to 'lbfgs' in 0.22. Specify a solver to silence this warning.\n",
      "  FutureWarning)\n"
     ]
    },
    {
     "data": {
      "image/png": "[encoded data removed]",
      "text/plain": [
       "<Figure size 432x288 with 1 Axes>"
      ]
     },
     "metadata": {
      "needs_background": "light"
     },
     "output_type": "display_data"
    }
   ],
   "source": [
    "train_sizes, train_scores, test_scores =\\\n",
    "                learning_curve(estimator=pipe_logistic, # 수정\n",
    "                               X=X_train,\n",
    "                               y=y_train,\n",
    "                               train_sizes=np.linspace(0.1, 1.0, 10),\n",
    "                               cv=10,\n",
    "                               n_jobs=1)\n",
    "\n",
    "train_mean = np.mean(train_scores, axis=1)\n",
    "train_std = np.std(train_scores, axis=1)\n",
    "test_mean = np.mean(test_scores, axis=1)\n",
    "test_std = np.std(test_scores, axis=1)\n",
    "\n",
    "plt.plot(train_sizes, train_mean,\n",
    "         color='blue', marker='o',\n",
    "         markersize=5, label='training accuracy')\n",
    "\n",
    "plt.fill_between(train_sizes,\n",
    "                 train_mean + train_std,\n",
    "                 train_mean - train_std,\n",
    "                 alpha=0.15, color='blue')\n",
    "\n",
    "plt.plot(train_sizes, test_mean,\n",
    "         color='green', linestyle='--',\n",
    "         marker='s', markersize=5,\n",
    "         label='validation accuracy')\n",
    "\n",
    "plt.fill_between(train_sizes,\n",
    "                 test_mean + test_std,\n",
    "                 test_mean - test_std,\n",
    "                 alpha=0.15, color='green')\n",
    "\n",
    "plt.grid()\n",
    "plt.xlabel('Number of training samples')\n",
    "plt.ylabel('Accuracy')\n",
    "plt.legend(loc='lower right')\n",
    "plt.ylim([0.9, 1.03])  # 수정\n",
    "plt.tight_layout()\n",
    "plt.show()"
   ]
  },
  {
   "cell_type": "markdown",
   "metadata": {},
   "source": [
    "### 7.3 검증 곡선으로 과대적합과 과소적합 조사하기\n",
    "- 과대적합 : 파라미터가 많음 -> 파라미터 축소\n",
    "- 과소적합 : 파라미터가 적음 -> 파라미터 추가"
   ]
  },
  {
   "cell_type": "code",
   "execution_count": 29,
   "metadata": {},
   "outputs": [
    {
     "name": "stderr",
     "output_type": "stream",
     "text": [
      "C:\\Users\\leecho\\Anaconda3\\lib\\site-packages\\sklearn\\linear_model\\logistic.py:432: FutureWarning: Default solver will be changed to 'lbfgs' in 0.22. Specify a solver to silence this warning.\n",
      "  FutureWarning)\n",
      "C:\\Users\\leecho\\Anaconda3\\lib\\site-packages\\sklearn\\linear_model\\logistic.py:432: FutureWarning: Default solver will be changed to 'lbfgs' in 0.22. Specify a solver to silence this warning.\n",
      "  FutureWarning)\n",
      "C:\\Users\\leecho\\Anaconda3\\lib\\site-packages\\sklearn\\linear_model\\logistic.py:432: FutureWarning: Default solver will be changed to 'lbfgs' in 0.22. Specify a solver to silence this warning.\n",
      "  FutureWarning)\n",
      "C:\\Users\\leecho\\Anaconda3\\lib\\site-packages\\sklearn\\linear_model\\logistic.py:432: FutureWarning: Default solver will be changed to 'lbfgs' in 0.22. Specify a solver to silence this warning.\n",
      "  FutureWarning)\n",
      "C:\\Users\\leecho\\Anaconda3\\lib\\site-packages\\sklearn\\linear_model\\logistic.py:432: FutureWarning: Default solver will be changed to 'lbfgs' in 0.22. Specify a solver to silence this warning.\n",
      "  FutureWarning)\n",
      "C:\\Users\\leecho\\Anaconda3\\lib\\site-packages\\sklearn\\linear_model\\logistic.py:432: FutureWarning: Default solver will be changed to 'lbfgs' in 0.22. Specify a solver to silence this warning.\n",
      "  FutureWarning)\n",
      "C:\\Users\\leecho\\Anaconda3\\lib\\site-packages\\sklearn\\linear_model\\logistic.py:432: FutureWarning: Default solver will be changed to 'lbfgs' in 0.22. Specify a solver to silence this warning.\n",
      "  FutureWarning)\n",
      "C:\\Users\\leecho\\Anaconda3\\lib\\site-packages\\sklearn\\linear_model\\logistic.py:432: FutureWarning: Default solver will be changed to 'lbfgs' in 0.22. Specify a solver to silence this warning.\n",
      "  FutureWarning)\n",
      "C:\\Users\\leecho\\Anaconda3\\lib\\site-packages\\sklearn\\linear_model\\logistic.py:432: FutureWarning: Default solver will be changed to 'lbfgs' in 0.22. Specify a solver to silence this warning.\n",
      "  FutureWarning)\n",
      "C:\\Users\\leecho\\Anaconda3\\lib\\site-packages\\sklearn\\linear_model\\logistic.py:432: FutureWarning: Default solver will be changed to 'lbfgs' in 0.22. Specify a solver to silence this warning.\n",
      "  FutureWarning)\n",
      "C:\\Users\\leecho\\Anaconda3\\lib\\site-packages\\sklearn\\linear_model\\logistic.py:432: FutureWarning: Default solver will be changed to 'lbfgs' in 0.22. Specify a solver to silence this warning.\n",
      "  FutureWarning)\n",
      "C:\\Users\\leecho\\Anaconda3\\lib\\site-packages\\sklearn\\linear_model\\logistic.py:432: FutureWarning: Default solver will be changed to 'lbfgs' in 0.22. Specify a solver to silence this warning.\n",
      "  FutureWarning)\n",
      "C:\\Users\\leecho\\Anaconda3\\lib\\site-packages\\sklearn\\linear_model\\logistic.py:432: FutureWarning: Default solver will be changed to 'lbfgs' in 0.22. Specify a solver to silence this warning.\n",
      "  FutureWarning)\n",
      "C:\\Users\\leecho\\Anaconda3\\lib\\site-packages\\sklearn\\linear_model\\logistic.py:432: FutureWarning: Default solver will be changed to 'lbfgs' in 0.22. Specify a solver to silence this warning.\n",
      "  FutureWarning)\n",
      "C:\\Users\\leecho\\Anaconda3\\lib\\site-packages\\sklearn\\linear_model\\logistic.py:432: FutureWarning: Default solver will be changed to 'lbfgs' in 0.22. Specify a solver to silence this warning.\n",
      "  FutureWarning)\n",
      "C:\\Users\\leecho\\Anaconda3\\lib\\site-packages\\sklearn\\linear_model\\logistic.py:432: FutureWarning: Default solver will be changed to 'lbfgs' in 0.22. Specify a solver to silence this warning.\n",
      "  FutureWarning)\n",
      "C:\\Users\\leecho\\Anaconda3\\lib\\site-packages\\sklearn\\linear_model\\logistic.py:432: FutureWarning: Default solver will be changed to 'lbfgs' in 0.22. Specify a solver to silence this warning.\n",
      "  FutureWarning)\n",
      "C:\\Users\\leecho\\Anaconda3\\lib\\site-packages\\sklearn\\linear_model\\logistic.py:432: FutureWarning: Default solver will be changed to 'lbfgs' in 0.22. Specify a solver to silence this warning.\n",
      "  FutureWarning)\n",
      "C:\\Users\\leecho\\Anaconda3\\lib\\site-packages\\sklearn\\linear_model\\logistic.py:432: FutureWarning: Default solver will be changed to 'lbfgs' in 0.22. Specify a solver to silence this warning.\n",
      "  FutureWarning)\n",
      "C:\\Users\\leecho\\Anaconda3\\lib\\site-packages\\sklearn\\linear_model\\logistic.py:432: FutureWarning: Default solver will be changed to 'lbfgs' in 0.22. Specify a solver to silence this warning.\n",
      "  FutureWarning)\n",
      "C:\\Users\\leecho\\Anaconda3\\lib\\site-packages\\sklearn\\linear_model\\logistic.py:432: FutureWarning: Default solver will be changed to 'lbfgs' in 0.22. Specify a solver to silence this warning.\n",
      "  FutureWarning)\n",
      "C:\\Users\\leecho\\Anaconda3\\lib\\site-packages\\sklearn\\linear_model\\logistic.py:432: FutureWarning: Default solver will be changed to 'lbfgs' in 0.22. Specify a solver to silence this warning.\n",
      "  FutureWarning)\n",
      "C:\\Users\\leecho\\Anaconda3\\lib\\site-packages\\sklearn\\linear_model\\logistic.py:432: FutureWarning: Default solver will be changed to 'lbfgs' in 0.22. Specify a solver to silence this warning.\n",
      "  FutureWarning)\n",
      "C:\\Users\\leecho\\Anaconda3\\lib\\site-packages\\sklearn\\linear_model\\logistic.py:432: FutureWarning: Default solver will be changed to 'lbfgs' in 0.22. Specify a solver to silence this warning.\n",
      "  FutureWarning)\n",
      "C:\\Users\\leecho\\Anaconda3\\lib\\site-packages\\sklearn\\linear_model\\logistic.py:432: FutureWarning: Default solver will be changed to 'lbfgs' in 0.22. Specify a solver to silence this warning.\n",
      "  FutureWarning)\n",
      "C:\\Users\\leecho\\Anaconda3\\lib\\site-packages\\sklearn\\linear_model\\logistic.py:432: FutureWarning: Default solver will be changed to 'lbfgs' in 0.22. Specify a solver to silence this warning.\n",
      "  FutureWarning)\n",
      "C:\\Users\\leecho\\Anaconda3\\lib\\site-packages\\sklearn\\linear_model\\logistic.py:432: FutureWarning: Default solver will be changed to 'lbfgs' in 0.22. Specify a solver to silence this warning.\n",
      "  FutureWarning)\n",
      "C:\\Users\\leecho\\Anaconda3\\lib\\site-packages\\sklearn\\linear_model\\logistic.py:432: FutureWarning: Default solver will be changed to 'lbfgs' in 0.22. Specify a solver to silence this warning.\n",
      "  FutureWarning)\n",
      "C:\\Users\\leecho\\Anaconda3\\lib\\site-packages\\sklearn\\linear_model\\logistic.py:432: FutureWarning: Default solver will be changed to 'lbfgs' in 0.22. Specify a solver to silence this warning.\n",
      "  FutureWarning)\n",
      "C:\\Users\\leecho\\Anaconda3\\lib\\site-packages\\sklearn\\linear_model\\logistic.py:432: FutureWarning: Default solver will be changed to 'lbfgs' in 0.22. Specify a solver to silence this warning.\n",
      "  FutureWarning)\n",
      "C:\\Users\\leecho\\Anaconda3\\lib\\site-packages\\sklearn\\linear_model\\logistic.py:432: FutureWarning: Default solver will be changed to 'lbfgs' in 0.22. Specify a solver to silence this warning.\n",
      "  FutureWarning)\n",
      "C:\\Users\\leecho\\Anaconda3\\lib\\site-packages\\sklearn\\linear_model\\logistic.py:432: FutureWarning: Default solver will be changed to 'lbfgs' in 0.22. Specify a solver to silence this warning.\n",
      "  FutureWarning)\n",
      "C:\\Users\\leecho\\Anaconda3\\lib\\site-packages\\sklearn\\linear_model\\logistic.py:432: FutureWarning: Default solver will be changed to 'lbfgs' in 0.22. Specify a solver to silence this warning.\n",
      "  FutureWarning)\n",
      "C:\\Users\\leecho\\Anaconda3\\lib\\site-packages\\sklearn\\linear_model\\logistic.py:432: FutureWarning: Default solver will be changed to 'lbfgs' in 0.22. Specify a solver to silence this warning.\n",
      "  FutureWarning)\n",
      "C:\\Users\\leecho\\Anaconda3\\lib\\site-packages\\sklearn\\linear_model\\logistic.py:432: FutureWarning: Default solver will be changed to 'lbfgs' in 0.22. Specify a solver to silence this warning.\n",
      "  FutureWarning)\n",
      "C:\\Users\\leecho\\Anaconda3\\lib\\site-packages\\sklearn\\linear_model\\logistic.py:432: FutureWarning: Default solver will be changed to 'lbfgs' in 0.22. Specify a solver to silence this warning.\n",
      "  FutureWarning)\n",
      "C:\\Users\\leecho\\Anaconda3\\lib\\site-packages\\sklearn\\linear_model\\logistic.py:432: FutureWarning: Default solver will be changed to 'lbfgs' in 0.22. Specify a solver to silence this warning.\n",
      "  FutureWarning)\n",
      "C:\\Users\\leecho\\Anaconda3\\lib\\site-packages\\sklearn\\linear_model\\logistic.py:432: FutureWarning: Default solver will be changed to 'lbfgs' in 0.22. Specify a solver to silence this warning.\n",
      "  FutureWarning)\n",
      "C:\\Users\\leecho\\Anaconda3\\lib\\site-packages\\sklearn\\linear_model\\logistic.py:432: FutureWarning: Default solver will be changed to 'lbfgs' in 0.22. Specify a solver to silence this warning.\n",
      "  FutureWarning)\n",
      "C:\\Users\\leecho\\Anaconda3\\lib\\site-packages\\sklearn\\linear_model\\logistic.py:432: FutureWarning: Default solver will be changed to 'lbfgs' in 0.22. Specify a solver to silence this warning.\n",
      "  FutureWarning)\n",
      "C:\\Users\\leecho\\Anaconda3\\lib\\site-packages\\sklearn\\linear_model\\logistic.py:432: FutureWarning: Default solver will be changed to 'lbfgs' in 0.22. Specify a solver to silence this warning.\n",
      "  FutureWarning)\n",
      "C:\\Users\\leecho\\Anaconda3\\lib\\site-packages\\sklearn\\linear_model\\logistic.py:432: FutureWarning: Default solver will be changed to 'lbfgs' in 0.22. Specify a solver to silence this warning.\n",
      "  FutureWarning)\n",
      "C:\\Users\\leecho\\Anaconda3\\lib\\site-packages\\sklearn\\linear_model\\logistic.py:432: FutureWarning: Default solver will be changed to 'lbfgs' in 0.22. Specify a solver to silence this warning.\n",
      "  FutureWarning)\n",
      "C:\\Users\\leecho\\Anaconda3\\lib\\site-packages\\sklearn\\linear_model\\logistic.py:432: FutureWarning: Default solver will be changed to 'lbfgs' in 0.22. Specify a solver to silence this warning.\n",
      "  FutureWarning)\n",
      "C:\\Users\\leecho\\Anaconda3\\lib\\site-packages\\sklearn\\linear_model\\logistic.py:432: FutureWarning: Default solver will be changed to 'lbfgs' in 0.22. Specify a solver to silence this warning.\n",
      "  FutureWarning)\n",
      "C:\\Users\\leecho\\Anaconda3\\lib\\site-packages\\sklearn\\linear_model\\logistic.py:432: FutureWarning: Default solver will be changed to 'lbfgs' in 0.22. Specify a solver to silence this warning.\n",
      "  FutureWarning)\n"
     ]
    },
    {
     "name": "stderr",
     "output_type": "stream",
     "text": [
      "C:\\Users\\leecho\\Anaconda3\\lib\\site-packages\\sklearn\\linear_model\\logistic.py:432: FutureWarning: Default solver will be changed to 'lbfgs' in 0.22. Specify a solver to silence this warning.\n",
      "  FutureWarning)\n",
      "C:\\Users\\leecho\\Anaconda3\\lib\\site-packages\\sklearn\\linear_model\\logistic.py:432: FutureWarning: Default solver will be changed to 'lbfgs' in 0.22. Specify a solver to silence this warning.\n",
      "  FutureWarning)\n",
      "C:\\Users\\leecho\\Anaconda3\\lib\\site-packages\\sklearn\\linear_model\\logistic.py:432: FutureWarning: Default solver will be changed to 'lbfgs' in 0.22. Specify a solver to silence this warning.\n",
      "  FutureWarning)\n",
      "C:\\Users\\leecho\\Anaconda3\\lib\\site-packages\\sklearn\\linear_model\\logistic.py:432: FutureWarning: Default solver will be changed to 'lbfgs' in 0.22. Specify a solver to silence this warning.\n",
      "  FutureWarning)\n",
      "C:\\Users\\leecho\\Anaconda3\\lib\\site-packages\\sklearn\\linear_model\\logistic.py:432: FutureWarning: Default solver will be changed to 'lbfgs' in 0.22. Specify a solver to silence this warning.\n",
      "  FutureWarning)\n",
      "C:\\Users\\leecho\\Anaconda3\\lib\\site-packages\\sklearn\\linear_model\\logistic.py:432: FutureWarning: Default solver will be changed to 'lbfgs' in 0.22. Specify a solver to silence this warning.\n",
      "  FutureWarning)\n",
      "C:\\Users\\leecho\\Anaconda3\\lib\\site-packages\\sklearn\\linear_model\\logistic.py:432: FutureWarning: Default solver will be changed to 'lbfgs' in 0.22. Specify a solver to silence this warning.\n",
      "  FutureWarning)\n",
      "C:\\Users\\leecho\\Anaconda3\\lib\\site-packages\\sklearn\\linear_model\\logistic.py:432: FutureWarning: Default solver will be changed to 'lbfgs' in 0.22. Specify a solver to silence this warning.\n",
      "  FutureWarning)\n",
      "C:\\Users\\leecho\\Anaconda3\\lib\\site-packages\\sklearn\\linear_model\\logistic.py:432: FutureWarning: Default solver will be changed to 'lbfgs' in 0.22. Specify a solver to silence this warning.\n",
      "  FutureWarning)\n",
      "C:\\Users\\leecho\\Anaconda3\\lib\\site-packages\\sklearn\\linear_model\\logistic.py:432: FutureWarning: Default solver will be changed to 'lbfgs' in 0.22. Specify a solver to silence this warning.\n",
      "  FutureWarning)\n",
      "C:\\Users\\leecho\\Anaconda3\\lib\\site-packages\\sklearn\\linear_model\\logistic.py:432: FutureWarning: Default solver will be changed to 'lbfgs' in 0.22. Specify a solver to silence this warning.\n",
      "  FutureWarning)\n",
      "C:\\Users\\leecho\\Anaconda3\\lib\\site-packages\\sklearn\\linear_model\\logistic.py:432: FutureWarning: Default solver will be changed to 'lbfgs' in 0.22. Specify a solver to silence this warning.\n",
      "  FutureWarning)\n",
      "C:\\Users\\leecho\\Anaconda3\\lib\\site-packages\\sklearn\\linear_model\\logistic.py:432: FutureWarning: Default solver will be changed to 'lbfgs' in 0.22. Specify a solver to silence this warning.\n",
      "  FutureWarning)\n",
      "C:\\Users\\leecho\\Anaconda3\\lib\\site-packages\\sklearn\\linear_model\\logistic.py:432: FutureWarning: Default solver will be changed to 'lbfgs' in 0.22. Specify a solver to silence this warning.\n",
      "  FutureWarning)\n"
     ]
    },
    {
     "data": {
      "image/png": "[encoded data removed]",
      "text/plain": [
       "<Figure size 432x288 with 1 Axes>"
      ]
     },
     "metadata": {
      "needs_background": "light"
     },
     "output_type": "display_data"
    }
   ],
   "source": [
    "param_range = [0.01, 0.1, 1.0, 10, 100, 200]  # 수정\n",
    "\n",
    "train_scores, test_scores = validation_curve(\n",
    "                estimator=pipe_logistic, # 수정\n",
    "                X=X_train, \n",
    "                y=y_train, \n",
    "                param_name='logisticregression__C', ## 수정\n",
    "                param_range=param_range,\n",
    "                cv=10)\n",
    "\n",
    "train_mean = np.mean(train_scores, axis=1)\n",
    "train_std = np.std(train_scores, axis=1)\n",
    "test_mean = np.mean(test_scores, axis=1)\n",
    "test_std = np.std(test_scores, axis=1)\n",
    "\n",
    "plt.plot(param_range, train_mean, \n",
    "         color='blue', marker='o', \n",
    "         markersize=5, label='training accuracy')\n",
    "\n",
    "plt.fill_between(param_range, train_mean + train_std,\n",
    "                 train_mean - train_std, alpha=0.15,\n",
    "                 color='blue')\n",
    "\n",
    "plt.plot(param_range, test_mean, \n",
    "         color='green', linestyle='--', \n",
    "         marker='s', markersize=5, \n",
    "         label='validation accuracy')\n",
    "\n",
    "plt.fill_between(param_range, \n",
    "                 test_mean + test_std,\n",
    "                 test_mean - test_std, \n",
    "                 alpha=0.15, color='green')\n",
    "\n",
    "plt.grid()\n",
    "plt.xlabel('Number of C') # 수정\n",
    "plt.legend(loc='lower right')\n",
    "plt.xlabel('Parameter C') # 수정\n",
    "plt.ylabel('Accuracy')\n",
    "plt.ylim([0.9, 1.00])  # 수정\n",
    "plt.tight_layout()\n",
    "plt.show()"
   ]
  },
  {
   "cell_type": "markdown",
   "metadata": {},
   "source": [
    "### 7.4 하이퍼파라미터 튜닝\n",
    "- 그리드 서치를 사용한 머신 러닝 모델 세부 튜닝\n",
    "- 기계학습 모델의 성능을 결정하는 하이퍼 파라미터 튜닝"
   ]
  },
  {
   "cell_type": "code",
   "execution_count": 30,
   "metadata": {},
   "outputs": [
    {
     "name": "stdout",
     "output_type": "stream",
     "text": [
      "0.9605714285714285\n",
      "{'logisticregression__C': 100}\n"
     ]
    },
    {
     "name": "stderr",
     "output_type": "stream",
     "text": [
      "C:\\Users\\leecho\\Anaconda3\\lib\\site-packages\\sklearn\\linear_model\\logistic.py:432: FutureWarning: Default solver will be changed to 'lbfgs' in 0.22. Specify a solver to silence this warning.\n",
      "  FutureWarning)\n"
     ]
    }
   ],
   "source": [
    "param_range = [0.01, 0.1, 1.0, 10, 100, 200]  # 수정\n",
    "\n",
    "param_grid = [{'logisticregression__C': param_range}] # 수정\n",
    "\n",
    "gs = GridSearchCV(estimator=pipe_logistic, # 수정\n",
    "                  param_grid=param_grid, \n",
    "                  scoring='accuracy', \n",
    "                  cv=10,\n",
    "                  n_jobs=-1)\n",
    "\n",
    "gs = gs.fit(X_train, y_train)\n",
    "\n",
    "print(gs.best_score_)\n",
    "print(gs.best_params_)"
   ]
  },
  {
   "cell_type": "markdown",
   "metadata": {},
   "source": [
    "## 8.최적화 모델 검정\n",
    "- 최적모델을 이용해 검정 데이터(full data) 최종 확인\n",
    "- best_tree 로 모델명 변경\n"
   ]
  },
  {
   "cell_type": "code",
   "execution_count": 31,
   "metadata": {},
   "outputs": [
    {
     "name": "stderr",
     "output_type": "stream",
     "text": [
      "C:\\Users\\leecho\\Anaconda3\\lib\\site-packages\\sklearn\\linear_model\\logistic.py:432: FutureWarning: Default solver will be changed to 'lbfgs' in 0.22. Specify a solver to silence this warning.\n",
      "  FutureWarning)\n"
     ]
    },
    {
     "data": {
      "text/plain": [
       "Pipeline(memory=None,\n",
       "         steps=[('logisticregression',\n",
       "                 LogisticRegression(C=100, class_weight=None, dual=False,\n",
       "                                    fit_intercept=True, intercept_scaling=1,\n",
       "                                    l1_ratio=None, max_iter=100,\n",
       "                                    multi_class='warn', n_jobs=None,\n",
       "                                    penalty='l2', random_state=1, solver='warn',\n",
       "                                    tol=0.0001, verbose=0, warm_start=False))],\n",
       "         verbose=False)"
      ]
     },
     "execution_count": 31,
     "metadata": {},
     "output_type": "execute_result"
    }
   ],
   "source": [
    "best_logistic = gs.best_estimator_\n",
    "best_logistic.fit(X_train, y_train)"
   ]
  },
  {
   "cell_type": "markdown",
   "metadata": {},
   "source": [
    "- 검증용 데이터로 예측"
   ]
  },
  {
   "cell_type": "code",
   "execution_count": 32,
   "metadata": {},
   "outputs": [],
   "source": [
    "y_pred = best_logistic.predict(X_test) "
   ]
  },
  {
   "cell_type": "markdown",
   "metadata": {},
   "source": [
    "- 정오분류표로 검정"
   ]
  },
  {
   "cell_type": "code",
   "execution_count": 33,
   "metadata": {},
   "outputs": [
    {
     "data": {
      "text/html": [
       "<div>\n",
       "<style scoped>\n",
       "    .dataframe tbody tr th:only-of-type {\n",
       "        vertical-align: middle;\n",
       "    }\n",
       "\n",
       "    .dataframe tbody tr th {\n",
       "        vertical-align: top;\n",
       "    }\n",
       "\n",
       "    .dataframe thead th {\n",
       "        text-align: right;\n",
       "    }\n",
       "</style>\n",
       "<table border=\"1\" class=\"dataframe\">\n",
       "  <thead>\n",
       "    <tr style=\"text-align: right;\">\n",
       "      <th></th>\n",
       "      <th>Predict[0]</th>\n",
       "      <th>Predict[1]</th>\n",
       "    </tr>\n",
       "  </thead>\n",
       "  <tbody>\n",
       "    <tr>\n",
       "      <td>True[0]</td>\n",
       "      <td>1341</td>\n",
       "      <td>15</td>\n",
       "    </tr>\n",
       "    <tr>\n",
       "      <td>True[1]</td>\n",
       "      <td>50</td>\n",
       "      <td>94</td>\n",
       "    </tr>\n",
       "  </tbody>\n",
       "</table>\n",
       "</div>"
      ],
      "text/plain": [
       "         Predict[0]  Predict[1]\n",
       "True[0]        1341          15\n",
       "True[1]          50          94"
      ]
     },
     "execution_count": 33,
     "metadata": {},
     "output_type": "execute_result"
    }
   ],
   "source": [
    "confmat = pd.DataFrame(confusion_matrix(y_test, y_pred),\n",
    "                      index=['True[0]','True[1]'],\n",
    "                      columns=['Predict[0]', 'Predict[1]'])\n",
    "confmat"
   ]
  },
  {
   "cell_type": "code",
   "execution_count": 34,
   "metadata": {},
   "outputs": [
    {
     "name": "stdout",
     "output_type": "stream",
     "text": [
      "Classification Report\n",
      "              precision    recall  f1-score   support\n",
      "\n",
      "           0       0.96      0.99      0.98      1356\n",
      "           1       0.86      0.65      0.74       144\n",
      "\n",
      "    accuracy                           0.96      1500\n",
      "   macro avg       0.91      0.82      0.86      1500\n",
      "weighted avg       0.95      0.96      0.95      1500\n",
      "\n"
     ]
    }
   ],
   "source": [
    "print('Classification Report')\n",
    "print(classification_report(y_test, y_pred))"
   ]
  },
  {
   "cell_type": "markdown",
   "metadata": {},
   "source": [
    "- 정확도, 민감도 확인\n",
    "- 초기 모델\n",
    "- 정확도: 0.917\n",
    "- 정밀도: 0.794\n",
    "- 재현율: 0.188\n",
    "- F1: 0.303"
   ]
  },
  {
   "cell_type": "code",
   "execution_count": 35,
   "metadata": {},
   "outputs": [
    {
     "name": "stdout",
     "output_type": "stream",
     "text": [
      "잘못 분류된 샘플 개수: 65\n",
      "정확도: 0.957\n",
      "정밀도: 0.862\n",
      "재현율: 0.653\n",
      "F1: 0.743\n"
     ]
    }
   ],
   "source": [
    "print('잘못 분류된 샘플 개수: %d' % (y_test != y_pred).sum())\n",
    "print('정확도: %.3f' % accuracy_score(y_test, y_pred))\n",
    "print('정밀도: %.3f' % precision_score(y_true=y_test, y_pred=y_pred))\n",
    "print('재현율: %.3f' % recall_score(y_true=y_test, y_pred=y_pred))\n",
    "print('F1: %.3f' % f1_score(y_true=y_test, y_pred=y_pred))"
   ]
  },
  {
   "cell_type": "markdown",
   "metadata": {},
   "source": [
    "- ROC 곡선 그리기"
   ]
  },
  {
   "cell_type": "code",
   "execution_count": 36,
   "metadata": {},
   "outputs": [],
   "source": [
    "from sklearn.metrics import roc_curve\n",
    "\n",
    "# fpr, tpr, thresholds = roc_curve(y_test, best_tree.decision_function(X_test))\n",
    "fpr, tpr, thresholds = roc_curve(y_test, best_logistic.predict_proba(X_test)[:, 1])"
   ]
  },
  {
   "cell_type": "code",
   "execution_count": 37,
   "metadata": {},
   "outputs": [
    {
     "data": {
      "text/plain": [
       "(array([0.00000000e+00, 0.00000000e+00, 0.00000000e+00, 7.37463127e-04,\n",
       "        7.37463127e-04, 3.68731563e-03, 3.68731563e-03, 4.42477876e-03,\n",
       "        4.42477876e-03, 5.16224189e-03, 5.16224189e-03, 5.89970501e-03,\n",
       "        5.89970501e-03, 6.63716814e-03, 6.63716814e-03, 8.84955752e-03,\n",
       "        8.84955752e-03, 9.58702065e-03, 9.58702065e-03, 1.03244838e-02,\n",
       "        1.03244838e-02, 1.10619469e-02, 1.10619469e-02, 1.47492625e-02,\n",
       "        1.47492625e-02, 1.91740413e-02, 1.91740413e-02, 2.13864307e-02,\n",
       "        2.13864307e-02, 2.21238938e-02, 2.21238938e-02, 2.28613569e-02,\n",
       "        2.28613569e-02, 3.09734513e-02, 3.09734513e-02, 3.31858407e-02,\n",
       "        3.31858407e-02, 3.39233038e-02, 3.39233038e-02, 3.83480826e-02,\n",
       "        3.83480826e-02, 4.12979351e-02, 4.12979351e-02, 4.94100295e-02,\n",
       "        4.94100295e-02, 5.23598820e-02, 5.23598820e-02, 5.30973451e-02,\n",
       "        5.30973451e-02, 5.97345133e-02, 5.97345133e-02, 7.89085546e-02,\n",
       "        7.89085546e-02, 8.62831858e-02, 8.62831858e-02, 9.51327434e-02,\n",
       "        9.51327434e-02, 9.80825959e-02, 9.80825959e-02, 1.01032448e-01,\n",
       "        1.01032448e-01, 1.08407080e-01, 1.08407080e-01, 1.10619469e-01,\n",
       "        1.10619469e-01, 1.37905605e-01, 1.37905605e-01, 1.40117994e-01,\n",
       "        1.40117994e-01, 1.43067847e-01, 1.43067847e-01, 1.46017699e-01,\n",
       "        1.46017699e-01, 1.51179941e-01, 1.51179941e-01, 1.54129794e-01,\n",
       "        1.54129794e-01, 1.58554572e-01, 1.58554572e-01, 1.74041298e-01,\n",
       "        1.74041298e-01, 2.18289086e-01, 2.18289086e-01, 2.40412979e-01,\n",
       "        2.40412979e-01, 2.78761062e-01, 2.78761062e-01, 2.94985251e-01,\n",
       "        2.94985251e-01, 3.32595870e-01, 3.32595870e-01, 3.93067847e-01,\n",
       "        3.93067847e-01, 4.07079646e-01, 4.07079646e-01, 4.14454277e-01,\n",
       "        4.14454277e-01, 5.77433628e-01, 5.77433628e-01, 7.65486726e-01,\n",
       "        7.65486726e-01, 7.68436578e-01, 7.68436578e-01, 8.53982301e-01,\n",
       "        8.53982301e-01, 1.00000000e+00]),\n",
       " array([0.        , 0.00694444, 0.45138889, 0.45138889, 0.53472222,\n",
       "        0.53472222, 0.58333333, 0.58333333, 0.59722222, 0.59722222,\n",
       "        0.61111111, 0.61111111, 0.61805556, 0.61805556, 0.625     ,\n",
       "        0.625     , 0.63888889, 0.63888889, 0.64583333, 0.64583333,\n",
       "        0.65277778, 0.65277778, 0.65972222, 0.65972222, 0.66666667,\n",
       "        0.66666667, 0.6875    , 0.6875    , 0.70138889, 0.70138889,\n",
       "        0.70833333, 0.70833333, 0.71527778, 0.71527778, 0.72222222,\n",
       "        0.72222222, 0.72916667, 0.72916667, 0.74305556, 0.74305556,\n",
       "        0.75      , 0.75      , 0.76388889, 0.76388889, 0.77083333,\n",
       "        0.77083333, 0.77777778, 0.77777778, 0.79166667, 0.79166667,\n",
       "        0.79861111, 0.79861111, 0.80555556, 0.80555556, 0.81944444,\n",
       "        0.81944444, 0.82638889, 0.82638889, 0.83333333, 0.83333333,\n",
       "        0.84722222, 0.84722222, 0.85416667, 0.85416667, 0.86111111,\n",
       "        0.86111111, 0.86805556, 0.86805556, 0.875     , 0.875     ,\n",
       "        0.88194444, 0.88194444, 0.88888889, 0.88888889, 0.89583333,\n",
       "        0.89583333, 0.90277778, 0.90277778, 0.90972222, 0.90972222,\n",
       "        0.91666667, 0.91666667, 0.92361111, 0.92361111, 0.93055556,\n",
       "        0.93055556, 0.9375    , 0.9375    , 0.94444444, 0.94444444,\n",
       "        0.95138889, 0.95138889, 0.95833333, 0.95833333, 0.96527778,\n",
       "        0.96527778, 0.97222222, 0.97222222, 0.97916667, 0.97916667,\n",
       "        0.98611111, 0.98611111, 0.99305556, 0.99305556, 1.        ,\n",
       "        1.        ]),\n",
       " array([1.99969242e+00, 9.99692420e-01, 8.99419013e-01, 8.91134599e-01,\n",
       "        7.76712607e-01, 7.31015753e-01, 6.95980341e-01, 6.48508343e-01,\n",
       "        6.40980003e-01, 6.37793769e-01, 6.20685742e-01, 6.08042413e-01,\n",
       "        6.02204174e-01, 5.99554072e-01, 5.93621245e-01, 5.75557647e-01,\n",
       "        5.54281068e-01, 5.51487177e-01, 5.48486314e-01, 5.36260362e-01,\n",
       "        5.15954317e-01, 5.08888294e-01, 4.97061212e-01, 4.54740510e-01,\n",
       "        4.51573789e-01, 4.20718661e-01, 4.08840307e-01, 4.04579105e-01,\n",
       "        3.99617253e-01, 3.97625755e-01, 3.95315061e-01, 3.92096298e-01,\n",
       "        3.90302038e-01, 3.22549930e-01, 3.22507234e-01, 3.10457421e-01,\n",
       "        3.05739698e-01, 2.97664592e-01, 2.84361727e-01, 2.78841404e-01,\n",
       "        2.73706628e-01, 2.55528851e-01, 2.45207551e-01, 2.18148196e-01,\n",
       "        2.13686712e-01, 2.08819574e-01, 2.04790780e-01, 2.04203166e-01,\n",
       "        1.97997497e-01, 1.79934777e-01, 1.78997699e-01, 1.38037775e-01,\n",
       "        1.35803414e-01, 1.24978693e-01, 1.23497888e-01, 1.08789366e-01,\n",
       "        1.05626447e-01, 1.02923241e-01, 1.02588820e-01, 9.95321527e-02,\n",
       "        9.80555538e-02, 8.58520937e-02, 8.58069121e-02, 8.15634874e-02,\n",
       "        8.12158351e-02, 5.82186774e-02, 5.78683789e-02, 5.70416017e-02,\n",
       "        5.66986715e-02, 5.51778581e-02, 5.44233804e-02, 5.33801492e-02,\n",
       "        5.32800311e-02, 5.16142633e-02, 5.14570932e-02, 4.85960429e-02,\n",
       "        4.83256540e-02, 4.62170368e-02, 4.56730596e-02, 3.89961134e-02,\n",
       "        3.88458769e-02, 2.47399113e-02, 2.42908473e-02, 2.13092787e-02,\n",
       "        2.07599293e-02, 1.39242334e-02, 1.38053747e-02, 1.24233965e-02,\n",
       "        1.24209902e-02, 9.08063685e-03, 9.03384117e-03, 5.58756639e-03,\n",
       "        5.52770365e-03, 4.90905503e-03, 4.90386040e-03, 4.59150793e-03,\n",
       "        4.57692055e-03, 1.26044793e-03, 1.25942056e-03, 2.79208525e-04,\n",
       "        2.78944424e-04, 2.71561853e-04, 2.71476944e-04, 7.53709450e-05,\n",
       "        7.43217046e-05, 7.76441101e-07]))"
      ]
     },
     "execution_count": 37,
     "metadata": {},
     "output_type": "execute_result"
    }
   ],
   "source": [
    "fpr, tpr, thresholds"
   ]
  },
  {
   "cell_type": "code",
   "execution_count": 38,
   "metadata": {},
   "outputs": [
    {
     "data": {
      "image/png": "[encoded data removed]",
      "text/plain": [
       "<Figure size 432x288 with 1 Axes>"
      ]
     },
     "metadata": {
      "needs_background": "light"
     },
     "output_type": "display_data"
    }
   ],
   "source": [
    "plt.plot(fpr, tpr, '--', label=\"Decision Tree\")\n",
    "plt.plot([0, 1], [0, 1], 'k--', label=\"random guess\")\n",
    "plt.plot([fpr], [tpr], 'r-', ms=10)\n",
    "plt.xlabel('FPR')\n",
    "plt.ylabel('TPR')\n",
    "plt.title('ROC')\n",
    "plt.show()"
   ]
  },
  {
   "cell_type": "code",
   "execution_count": null,
   "metadata": {},
   "outputs": [],
   "source": []
  }
 ],
 "metadata": {
  "kernelspec": {
   "display_name": "Python 3",
   "language": "python",
   "name": "python3"
  },
  "language_info": {
   "codemirror_mode": {
    "name": "ipython",
    "version": 3
   },
   "file_extension": ".py",
   "mimetype": "text/x-python",
   "name": "python",
   "nbconvert_exporter": "python",
   "pygments_lexer": "ipython3",
   "version": "3.7.3"
  }
 },
 "nbformat": 4,
 "nbformat_minor": 2
}
