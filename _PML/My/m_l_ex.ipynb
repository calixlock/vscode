{
 "cells": [
  {
   "cell_type": "code",
   "execution_count": 135,
   "metadata": {},
   "outputs": [],
   "source": [
    "# basic\n",
    "import pandas as pd\n",
    "import numpy as np\n",
    "import seaborn as sns\n",
    "sns.set(font_scale = 1)\n",
    "import matplotlib.pyplot as plt # graph\n",
    "\n",
    "# importing sklearn datasets \n",
    "from sklearn import datasets \n",
    "\n",
    "# data pre-processing\n",
    "from sklearn.preprocessing import StandardScaler # 연속변수 표준화 // scaler standardization (평균0 표편1)\n",
    "from sklearn.preprocessing import LabelEncoder # 범주형(categorical) 변수 숫자형(Numerical)으로 변환해주는 package\n",
    "\n",
    "# split train/test data \n",
    "from sklearn.model_selection import train_test_split # data split (train/test)\n",
    "\n",
    "# classfication model \n",
    "from sklearn.naive_bayes import GaussianNB # 나이브 베이즈 분류\n",
    "from sklearn.tree import DecisionTreeClassifier # 의사결정나무\n",
    "from sklearn.ensemble import RandomForestClassifier # 랜덤 포레스트\n",
    "from sklearn.ensemble import BaggingClassifier # 앙상블\n",
    "from sklearn.linear_model import Perceptron # 퍼셉트론\n",
    "from sklearn.linear_model import LogisticRegression # 로지스틱 회귀분석\n",
    "from sklearn.svm import SVC # 서포트 벡터머신\n",
    "from sklearn.neural_network import MLPClassifier # 다층 인공신경망\n",
    "\n",
    "# model test\n",
    "from sklearn.metrics import confusion_matrix, classification_report # 정오분류\n",
    "from sklearn.metrics import accuracy_score, precision_score, recall_score, f1_score, make_scorer # 정확,예측,민감,f1스코어들\n",
    "from sklearn.metrics import roc_curve # drawing ROC curve \n",
    "\n",
    "# optimization\n",
    "from sklearn.model_selection import cross_validate # 교차타당성 \n",
    "from sklearn.pipeline import make_pipeline # 파이프라인 구축 (scaler/classfication 한번에)\n",
    "from sklearn.model_selection import learning_curve, validation_curve # (학습/검증 곡선)\n",
    "from sklearn.model_selection import GridSearchCV # hyperparameter optimization"
   ]
  },
  {
   "cell_type": "code",
   "execution_count": 136,
   "metadata": {},
   "outputs": [
    {
     "data": {
      "text/html": [
       "<div>\n",
       "<style scoped>\n",
       "    .dataframe tbody tr th:only-of-type {\n",
       "        vertical-align: middle;\n",
       "    }\n",
       "\n",
       "    .dataframe tbody tr th {\n",
       "        vertical-align: top;\n",
       "    }\n",
       "\n",
       "    .dataframe thead th {\n",
       "        text-align: right;\n",
       "    }\n",
       "</style>\n",
       "<table border=\"1\" class=\"dataframe\">\n",
       "  <thead>\n",
       "    <tr style=\"text-align: right;\">\n",
       "      <th></th>\n",
       "      <th>Income</th>\n",
       "      <th>Lot_Size</th>\n",
       "      <th>Ownership</th>\n",
       "    </tr>\n",
       "  </thead>\n",
       "  <tbody>\n",
       "    <tr>\n",
       "      <th>43</th>\n",
       "      <td>68.0</td>\n",
       "      <td>18.4</td>\n",
       "      <td>Nonowner</td>\n",
       "    </tr>\n",
       "    <tr>\n",
       "      <th>44</th>\n",
       "      <td>49.4</td>\n",
       "      <td>16.4</td>\n",
       "      <td>Nonowner</td>\n",
       "    </tr>\n",
       "    <tr>\n",
       "      <th>45</th>\n",
       "      <td>35.0</td>\n",
       "      <td>18.8</td>\n",
       "      <td>Nonowner</td>\n",
       "    </tr>\n",
       "    <tr>\n",
       "      <th>46</th>\n",
       "      <td>53.0</td>\n",
       "      <td>14.0</td>\n",
       "      <td>Nonowner</td>\n",
       "    </tr>\n",
       "    <tr>\n",
       "      <th>47</th>\n",
       "      <td>65.0</td>\n",
       "      <td>14.8</td>\n",
       "      <td>Nonowner</td>\n",
       "    </tr>\n",
       "  </tbody>\n",
       "</table>\n",
       "</div>"
      ],
      "text/plain": [
       "    Income  Lot_Size Ownership\n",
       "43    68.0      18.4  Nonowner\n",
       "44    49.4      16.4  Nonowner\n",
       "45    35.0      18.8  Nonowner\n",
       "46    53.0      14.0  Nonowner\n",
       "47    65.0      14.8  Nonowner"
      ]
     },
     "execution_count": 136,
     "metadata": {},
     "output_type": "execute_result"
    }
   ],
   "source": [
    "import glob\n",
    "df = glob.glob('*csv*')\n",
    "rm_df = pd.read_csv(df[0])\n",
    "rm_df.tail()\n"
   ]
  },
  {
   "cell_type": "code",
   "execution_count": 137,
   "metadata": {},
   "outputs": [
    {
     "data": {
      "text/html": [
       "<div>\n",
       "<style scoped>\n",
       "    .dataframe tbody tr th:only-of-type {\n",
       "        vertical-align: middle;\n",
       "    }\n",
       "\n",
       "    .dataframe tbody tr th {\n",
       "        vertical-align: top;\n",
       "    }\n",
       "\n",
       "    .dataframe thead th {\n",
       "        text-align: right;\n",
       "    }\n",
       "</style>\n",
       "<table border=\"1\" class=\"dataframe\">\n",
       "  <thead>\n",
       "    <tr style=\"text-align: right;\">\n",
       "      <th></th>\n",
       "      <th>Income</th>\n",
       "      <th>Lot_Size</th>\n",
       "    </tr>\n",
       "  </thead>\n",
       "  <tbody>\n",
       "    <tr>\n",
       "      <th>count</th>\n",
       "      <td>48.000000</td>\n",
       "      <td>48.000000</td>\n",
       "    </tr>\n",
       "    <tr>\n",
       "      <th>mean</th>\n",
       "      <td>68.604167</td>\n",
       "      <td>18.950000</td>\n",
       "    </tr>\n",
       "    <tr>\n",
       "      <th>std</th>\n",
       "      <td>19.657828</td>\n",
       "      <td>2.402304</td>\n",
       "    </tr>\n",
       "    <tr>\n",
       "      <th>min</th>\n",
       "      <td>33.000000</td>\n",
       "      <td>14.000000</td>\n",
       "    </tr>\n",
       "    <tr>\n",
       "      <th>25%</th>\n",
       "      <td>52.950000</td>\n",
       "      <td>17.500000</td>\n",
       "    </tr>\n",
       "    <tr>\n",
       "      <th>50%</th>\n",
       "      <td>64.800000</td>\n",
       "      <td>19.000000</td>\n",
       "    </tr>\n",
       "    <tr>\n",
       "      <th>75%</th>\n",
       "      <td>83.125000</td>\n",
       "      <td>20.800000</td>\n",
       "    </tr>\n",
       "    <tr>\n",
       "      <th>max</th>\n",
       "      <td>112.100000</td>\n",
       "      <td>23.600000</td>\n",
       "    </tr>\n",
       "  </tbody>\n",
       "</table>\n",
       "</div>"
      ],
      "text/plain": [
       "           Income   Lot_Size\n",
       "count   48.000000  48.000000\n",
       "mean    68.604167  18.950000\n",
       "std     19.657828   2.402304\n",
       "min     33.000000  14.000000\n",
       "25%     52.950000  17.500000\n",
       "50%     64.800000  19.000000\n",
       "75%     83.125000  20.800000\n",
       "max    112.100000  23.600000"
      ]
     },
     "execution_count": 137,
     "metadata": {},
     "output_type": "execute_result"
    }
   ],
   "source": [
    "rm_df.describe()"
   ]
  },
  {
   "cell_type": "code",
   "execution_count": 138,
   "metadata": {},
   "outputs": [
    {
     "data": {
      "text/plain": [
       "Index(['Income', 'Lot_Size', 'Ownership'], dtype='object')"
      ]
     },
     "execution_count": 138,
     "metadata": {},
     "output_type": "execute_result"
    }
   ],
   "source": [
    "rm_df.keys()"
   ]
  },
  {
   "cell_type": "code",
   "execution_count": 139,
   "metadata": {},
   "outputs": [
    {
     "data": {
      "text/plain": [
       "0    Owner\n",
       "1    Owner\n",
       "2    Owner\n",
       "3    Owner\n",
       "4    Owner\n",
       "Name: Ownership, dtype: object"
      ]
     },
     "execution_count": 139,
     "metadata": {},
     "output_type": "execute_result"
    }
   ],
   "source": [
    "X = rm_df.iloc[:,:2]\n",
    "# X = rm_df.drop(['Ownership'],axis=1)\n",
    "X.head()\n",
    "\n",
    "y = rm_df.iloc[:,2]\n",
    "y.head()"
   ]
  },
  {
   "cell_type": "code",
   "execution_count": 140,
   "metadata": {},
   "outputs": [
    {
     "name": "stdout",
     "output_type": "stream",
     "text": [
      "[1 1 1 1 1 1 1 1 1 1 1 1 1 1 1 1 1 1 1 1 1 1 1 1 0 0 0 0 0 0 0 0 0 0 0 0 0\n",
      " 0 0 0 0 0 0 0 0 0 0 0]\n",
      "['Nonowner' 'Owner']\n"
     ]
    }
   ],
   "source": [
    "LE = LabelEncoder()\n",
    "y_le = LE.fit_transform(y)\n",
    "print(y_le)\n",
    "# transform된 class 확인 방법\n",
    "print(LE.classes_) # Nonowner : 0 , Owner : 1 "
   ]
  },
  {
   "cell_type": "code",
   "execution_count": 141,
   "metadata": {},
   "outputs": [],
   "source": [
    "X_train, X_test, y_train, y_test = train_test_split(X, y, test_size=0.3, random_state=1, stratify=y)\n",
    "# split 옵션\n",
    "#  test_size비율 : 30%\n",
    "#  random_seed : 1로 지정\n",
    "#  stratify : y의 비율에 따라 분할"
   ]
  },
  {
   "cell_type": "code",
   "execution_count": 142,
   "metadata": {},
   "outputs": [
    {
     "data": {
      "text/plain": [
       "count           33\n",
       "unique           2\n",
       "top       Nonowner\n",
       "freq            17\n",
       "Name: Ownership, dtype: object"
      ]
     },
     "execution_count": 142,
     "metadata": {},
     "output_type": "execute_result"
    }
   ],
   "source": [
    "y_train.describe()"
   ]
  },
  {
   "cell_type": "code",
   "execution_count": 143,
   "metadata": {},
   "outputs": [
    {
     "data": {
      "text/plain": [
       "DecisionTreeClassifier(max_depth=1, random_state=1)"
      ]
     },
     "execution_count": 143,
     "metadata": {},
     "output_type": "execute_result"
    }
   ],
   "source": [
    "# model selection & construction\n",
    "tree = DecisionTreeClassifier(criterion='gini',max_depth=1,random_state=1)\n",
    "# criterion='gini',\n",
    "# max_depth=1,\n",
    "# random_state=1\n",
    "\n",
    "# Model train\n",
    "tree.fit(X_train, y_train)"
   ]
  },
  {
   "cell_type": "code",
   "execution_count": 144,
   "metadata": {},
   "outputs": [
    {
     "data": {
      "text/plain": [
       "array(['Owner', 'Owner', 'Nonowner', 'Owner', 'Owner', 'Nonowner',\n",
       "       'Owner', 'Nonowner', 'Nonowner', 'Owner', 'Nonowner', 'Owner',\n",
       "       'Nonowner', 'Nonowner', 'Nonowner'], dtype=object)"
      ]
     },
     "execution_count": 144,
     "metadata": {},
     "output_type": "execute_result"
    }
   ],
   "source": [
    "# model validation\n",
    "# model prediction value\n",
    "y_pred = tree.predict(X_test)\n",
    "y_pred"
   ]
  },
  {
   "cell_type": "code",
   "execution_count": 145,
   "metadata": {},
   "outputs": [
    {
     "data": {
      "text/plain": [
       "array(['Owner', 'Owner', 'Owner', 'Nonowner', 'Owner', 'Nonowner',\n",
       "       'Owner', 'Nonowner', 'Owner', 'Owner', 'Nonowner', 'Nonowner',\n",
       "       'Owner', 'Nonowner', 'Nonowner'], dtype=object)"
      ]
     },
     "execution_count": 145,
     "metadata": {},
     "output_type": "execute_result"
    }
   ],
   "source": [
    "# real value\n",
    "np.array(y_test)"
   ]
  },
  {
   "cell_type": "code",
   "execution_count": 146,
   "metadata": {},
   "outputs": [
    {
     "data": {
      "text/plain": [
       "array([[0.23529412, 0.76470588],\n",
       "       [0.23529412, 0.76470588],\n",
       "       [0.8125    , 0.1875    ],\n",
       "       [0.23529412, 0.76470588],\n",
       "       [0.23529412, 0.76470588],\n",
       "       [0.8125    , 0.1875    ],\n",
       "       [0.23529412, 0.76470588],\n",
       "       [0.8125    , 0.1875    ],\n",
       "       [0.8125    , 0.1875    ],\n",
       "       [0.23529412, 0.76470588],\n",
       "       [0.8125    , 0.1875    ],\n",
       "       [0.23529412, 0.76470588],\n",
       "       [0.8125    , 0.1875    ],\n",
       "       [0.8125    , 0.1875    ],\n",
       "       [0.8125    , 0.1875    ]])"
      ]
     },
     "execution_count": 146,
     "metadata": {},
     "output_type": "execute_result"
    }
   ],
   "source": [
    "\n",
    "# 예측 확률값\n",
    "y_pred_p = tree.predict_proba(X_test)\n",
    "y_pred_p"
   ]
  },
  {
   "cell_type": "code",
   "execution_count": 147,
   "metadata": {},
   "outputs": [
    {
     "name": "stdout",
     "output_type": "stream",
     "text": [
      "classification_report\n",
      "\n",
      "               precision    recall  f1-score   support\n",
      "\n",
      "    Nonowner       0.62      0.71      0.67         7\n",
      "       Owner       0.71      0.62      0.67         8\n",
      "\n",
      "    accuracy                           0.67        15\n",
      "   macro avg       0.67      0.67      0.67        15\n",
      "weighted avg       0.67      0.67      0.67        15\n",
      "\n"
     ]
    }
   ],
   "source": [
    "# confusion matrix : making dataframe\n",
    "c_m = pd.DataFrame(confusion_matrix(y_test,y_pred),index=['True[Nonowner]','True[Owner]'],columns=['Pred[Nonowner]','Pred[Owner]'])\n",
    "c_m\n",
    "\n",
    "# classfication Report\n",
    "print(\"classification_report\\n\\n\",classification_report(y_test,y_pred))"
   ]
  },
  {
   "cell_type": "code",
   "execution_count": 149,
   "metadata": {},
   "outputs": [
    {
     "name": "stdout",
     "output_type": "stream",
     "text": [
      "error : 5\n",
      "Accuracy_score : 0.667\n",
      "Owner precision_score : 0.714\n",
      "Owner recall_score : 0.625\n",
      "Owner f1_score : 0.667\n"
     ]
    }
   ],
   "source": [
    "print('error : %d' %(y_test != y_pred).sum())   \n",
    "print('Accuracy_score : %0.3f' %accuracy_score(y_test,y_pred))\n",
    "# the following three scores should be based on the label (target selection = positive)\n",
    "print('Owner precision_score : %0.3f'%precision_score(y_test,y_pred,pos_label='Owner'))\n",
    "print('Owner recall_score : %0.3f'%recall_score(y_test,y_pred,pos_label='Owner'))\n",
    "print('Owner f1_score : %.3f'% f1_score(y_test,y_pred,pos_label='Owner'))"
   ]
  },
  {
   "cell_type": "code",
   "execution_count": 150,
   "metadata": {},
   "outputs": [
    {
     "data": {
      "text/plain": [
       "<AxesSubplot:>"
      ]
     },
     "execution_count": 150,
     "metadata": {},
     "output_type": "execute_result"
    },
    {
     "data": {
      "image/png": "[encoded data removed]",
      "text/plain": [
       "<Figure size 432x288 with 2 Axes>"
      ]
     },
     "metadata": {},
     "output_type": "display_data"
    }
   ],
   "source": [
    "# Express heatmap with seaborn \n",
    "sns.set(font_scale = 1.5)\n",
    "sns.heatmap(c_m, annot=True, cmap='summer_r')"
   ]
  },
  {
   "cell_type": "code",
   "execution_count": 162,
   "metadata": {},
   "outputs": [
    {
     "name": "stdout",
     "output_type": "stream",
     "text": [
      "[0.         0.46666667 1.        ] \n",
      " [nan nan nan] \n",
      " [1.76470588 0.76470588 0.1875    ]\n"
     ]
    },
    {
     "name": "stderr",
     "output_type": "stream",
     "text": [
      "C:\\Users\\amj41\\AppData\\Local\\Programs\\Python\\Python39\\lib\\site-packages\\sklearn\\metrics\\_ranking.py:949: UndefinedMetricWarning: No positive samples in y_true, true positive value should be meaningless\n",
      "  warnings.warn(\"No positive samples in y_true, \"\n"
     ]
    }
   ],
   "source": [
    "# drawing the ROC Curve\n",
    "# if yo can available decision_function\n",
    "    # y_score = tree.decision_function(X_test)\n",
    "# when the decision_function is not available\n",
    "# owner에 대한\n",
    "\n",
    "fpr,tpr,thresholds = roc_curve(y_test,tree.predict_proba(X_test)[:,1], pos_label = {0,1})\n",
    "print(fpr,\"\\n\",tpr,\"\\n\",thresholds)\n"
   ]
  }
 ],
 "metadata": {
  "interpreter": {
   "hash": "5e6cf233532fef7a60818365bc09bf646f1631a7b8364b595673d05f90179487"
  },
  "kernelspec": {
   "display_name": "Python 3.9.6 64-bit",
   "name": "python3"
  },
  "language_info": {
   "codemirror_mode": {
    "name": "ipython",
    "version": 3
   },
   "file_extension": ".py",
   "mimetype": "text/x-python",
   "name": "python",
   "nbconvert_exporter": "python",
   "pygments_lexer": "ipython3",
   "version": "3.9.6"
  },
  "orig_nbformat": 4
 },
 "nbformat": 4,
 "nbformat_minor": 2
}
