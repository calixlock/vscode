{
 "cells": [
  {
   "cell_type": "code",
   "execution_count": null,
   "metadata": {},
   "outputs": [],
   "source": [
    "# https://www.youtube.com/watch?v=CeYYb5aVHhA 참고 사이트"
   ]
  },
  {
   "cell_type": "code",
   "execution_count": null,
   "metadata": {},
   "outputs": [],
   "source": [
    "# !pip install selenium"
   ]
  },
  {
   "cell_type": "code",
   "execution_count": 1,
   "metadata": {},
   "outputs": [],
   "source": [
    "from selenium import webdriver"
   ]
  },
  {
   "cell_type": "code",
   "execution_count": 15,
   "metadata": {},
   "outputs": [],
   "source": [
    "driver = webdriver.Chrome('chromedriver')"
   ]
  },
  {
   "cell_type": "code",
   "execution_count": 16,
   "metadata": {},
   "outputs": [],
   "source": [
    "# def chromquit(driver):\n",
    "#     return driver.quit()\n"
   ]
  },
  {
   "cell_type": "code",
   "execution_count": 18,
   "metadata": {},
   "outputs": [
    {
     "name": "stderr",
     "output_type": "stream",
     "text": [
      "<ipython-input-18-a30498501933>:3: DeprecationWarning: executable_path has been deprecated, please pass in a Service object\n",
      "  driver = webdriver.Chrome('chromedriver.exe') # 크롬 드라이버 실행\n",
      "<ipython-input-18-a30498501933>:5: DeprecationWarning: find_element_by_* commands are deprecated. Please use find_element() instead\n",
      "  driver.find_element_by_xpath('//*[@id=\"e_gnb\"]/div/div[1]/div[2]/ul[1]/li[9]/a').click()\n"
     ]
    }
   ],
   "source": [
    "# http://emart.ssg.com/\n",
    "\n",
    "driver = webdriver.Chrome('chromedriver.exe') # 크롬 드라이버 실행\n",
    "driver.get('http://emart.ssg.com/') # 특정 페이지 접속\n",
    "driver.find_element_by_xpath('//*[@id=\"e_gnb\"]/div/div[1]/div[2]/ul[1]/li[9]/a').click()"
   ]
  },
  {
   "cell_type": "code",
   "execution_count": 21,
   "metadata": {},
   "outputs": [
    {
     "name": "stderr",
     "output_type": "stream",
     "text": [
      "<ipython-input-21-606fb35604e7>:1: DeprecationWarning: find_element_by_* commands are deprecated. Please use find_element() instead\n",
      "  name = driver.find_element_by_xpath('//*[@id=\"ty_thmb_view\"]/ul/li[1]/div[2]/div[2]/div/a').text\n",
      "<ipython-input-21-606fb35604e7>:2: DeprecationWarning: find_element_by_* commands are deprecated. Please use find_element() instead\n",
      "  price = driver.find_element_by_xpath('//*[@id=\"ty_thmb_view\"]/ul/li[1]/div[2]/div[3]/div[1]/em').text\n"
     ]
    },
    {
     "data": {
      "text/plain": [
       "'780'"
      ]
     },
     "execution_count": 21,
     "metadata": {},
     "output_type": "execute_result"
    }
   ],
   "source": [
    "name = driver.find_element_by_xpath('//*[@id=\"ty_thmb_view\"]/ul/li[1]/div[2]/div[2]/div/a').text\n",
    "price = driver.find_element_by_xpath('//*[@id=\"ty_thmb_view\"]/ul/li[1]/div[2]/div[3]/div[1]/em').text\n",
    "price//*[@id=\"ty_thmb_view\"]/ul/li[79]/div[2]/div[3]/div/em"
   ]
  },
  {
   "cell_type": "code",
   "execution_count": 22,
   "metadata": {},
   "outputs": [
    {
     "name": "stderr",
     "output_type": "stream",
     "text": [
      "<ipython-input-22-71dd2cda8a3b>:4: DeprecationWarning: find_element_by_* commands are deprecated. Please use find_element() instead\n",
      "  name.append(driver.find_element_by_xpath('//*[@id=\"ty_thmb_view\"]/ul/li['+str(i)+']/div[2]/div[2]/div/a').text)\n",
      "<ipython-input-22-71dd2cda8a3b>:5: DeprecationWarning: find_element_by_* commands are deprecated. Please use find_element() instead\n",
      "  price.append(driver.find_element_by_xpath('//*[@id=\"ty_thmb_view\"]/ul/li['+str(i)+']/div[2]/div[3]/div/em').text)\n"
     ]
    }
   ],
   "source": [
    "# 상품이름과 가격 크롤링\n",
    "name = []\n",
    "price = []\n",
    "for i in range(1,81):\n",
    "    name.append(driver.find_element_by_xpath('//*[@id=\"ty_thmb_view\"]/ul/li['+str(i)+']/div[2]/div[2]/div/a').text)\n",
    "    price.append(driver.find_element_by_xpath('//*[@id=\"ty_thmb_view\"]/ul/li['+str(i)+']/div[2]/div[3]/div/em').text)    "
   ]
  },
  {
   "cell_type": "code",
   "execution_count": 28,
   "metadata": {},
   "outputs": [],
   "source": [
    "# 크롤링 데이터 프레임화\n",
    "import pandas as pd\n",
    "df1 = pd.DataFrame({'product' : name , 'price' : price})"
   ]
  },
  {
   "cell_type": "code",
   "execution_count": 30,
   "metadata": {},
   "outputs": [],
   "source": [
    "# 파일로 저장\n",
    "# df1.to_excel('result.xlsx', index= None)\n",
    "df1.to_csv('result.csv', index= None)"
   ]
  },
  {
   "cell_type": "code",
   "execution_count": 48,
   "metadata": {},
   "outputs": [
    {
     "name": "stderr",
     "output_type": "stream",
     "text": [
      "<ipython-input-48-9d9c0d531a65>:6: DeprecationWarning: find_element_by_* commands are deprecated. Please use find_element() instead\n",
      "  image1 = driver.find_element_by_xpath('//*[@id=\"ty_thmb_view\"]/ul/li['+str(i)+']/div[1]/div[2]/a/img[1]')\n"
     ]
    }
   ],
   "source": [
    "# 이미지 파일로 저장 \n",
    "import urllib.request\n",
    "\n",
    "# img_url =[]\n",
    "for i in range(1,81):\n",
    "    image1 = driver.find_element_by_xpath('//*[@id=\"ty_thmb_view\"]/ul/li['+str(i)+']/div[1]/div[2]/a/img[1]')\n",
    "    img_url = image1.get_attribute('src')\n",
    "    urllib.request.urlretrieve(img_url,'./image/image'+str(i)+'.png') \n"
   ]
  },
  {
   "cell_type": "code",
   "execution_count": 36,
   "metadata": {},
   "outputs": [],
   "source": [
    "# 폴더 생성\n",
    "import os\n",
    " \n",
    "def createFolder(directory):\n",
    "    try:\n",
    "        if not os.path.exists(directory):\n",
    "            os.makedirs(directory)\n",
    "    except OSError:\n",
    "        print ('Error: Creating directory. ' +  directory)\n",
    " \n",
    "createFolder('./image')"
   ]
  },
  {
   "cell_type": "code",
   "execution_count": 35,
   "metadata": {},
   "outputs": [
    {
     "data": {
      "text/plain": [
       "80"
      ]
     },
     "execution_count": 35,
     "metadata": {},
     "output_type": "execute_result"
    }
   ],
   "source": [
    "# 최종 모델 형태\n",
    "from selenium import webdriver\n",
    "driver = webdriver.Chrome('chromedriver')\n",
    "driver = webdriver.Chrome('chromedriver.exe') # 크롬 드라이버 실행\n",
    "driver.get('http://emart.ssg.com/') # 특정 페이지 접속\n",
    "driver.find_element_by_xpath('//*[@id=\"e_gnb\"]/div/div[1]/div[2]/ul[1]/li[9]/a').click() # 특정 항목 클릭\n",
    "driver.implicitly_wait(10) # 링크를 받아오는 시간이 걸림 \n",
    "                          # (explicitly wait 웹페이지 일부(JS 같은 늦게 반응하는 것들)가 나타날 때까지 기다리는 방식 // 필요한부분 디테일하게 적용가능  )  \n",
    "                          # (implicitly wait 웹페이지가 다 넘어올 때까지 최대 x초 기다리는 방식 ) //한계가 있다\n",
    "\n",
    "name = []\n",
    "price = []\n",
    "\n",
    "for i in range(1,81):\n",
    "    try :\n",
    "        name.append(driver.find_element_by_xpath('//*[@id=\"ty_thmb_view\"]/ul/li['+str(i)+']/div[2]/div[2]/div/a').text)\n",
    "        price.append(driver.find_element_by_xpath('//*[@id=\"ty_thmb_view\"]/ul/li['+str(i)+']/div[2]/div[3]/div/em').text)    \n",
    "        image1 = driver.find_element_by_xpath('//*[@id=\"ty_thmb_view\"]/ul/li['+str(i)+']/div[1]/div[2]/a/img[1]')\n",
    "        img_url = image1.get_attribute('src')\n",
    "        urllib.request.urlretrieve(img_url,'./image/image'+str(i)+'.png') \n",
    "    except Exception as e :\n",
    "        print(e)\n",
    "    finally :\n",
    "        pass\n",
    "print('crawling over')\n",
    "driver.quit()\n",
    "\n",
    "\n"
   ]
  },
  {
   "cell_type": "code",
   "execution_count": 49,
   "metadata": {},
   "outputs": [],
   "source": [
    "driver.quit()"
   ]
  }
 ],
 "metadata": {
  "interpreter": {
   "hash": "5e6cf233532fef7a60818365bc09bf646f1631a7b8364b595673d05f90179487"
  },
  "kernelspec": {
   "display_name": "Python 3.9.6 64-bit",
   "language": "python",
   "name": "python3"
  },
  "language_info": {
   "codemirror_mode": {
    "name": "ipython",
    "version": 3
   },
   "file_extension": ".py",
   "mimetype": "text/x-python",
   "name": "python",
   "nbconvert_exporter": "python",
   "pygments_lexer": "ipython3",
   "version": "3.9.6"
  },
  "orig_nbformat": 4
 },
 "nbformat": 4,
 "nbformat_minor": 2
}
